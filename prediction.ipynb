{
 "cells": [
  {
   "cell_type": "code",
   "execution_count": 1,
   "id": "6623d67c-5ce8-4d63-9df1-676de9787fb0",
   "metadata": {},
   "outputs": [],
   "source": [
    "import numpy as np\n",
    "import pandas as pd\n",
    "import matplotlib.pyplot as plt\n",
    "import seaborn as sns\n",
    "%matplotlib inline"
   ]
  },
  {
   "cell_type": "code",
   "execution_count": 2,
   "id": "794ecd95-adb4-4f6c-8389-f8a4691b3d37",
   "metadata": {},
   "outputs": [
    {
     "name": "stdout",
     "output_type": "stream",
     "text": [
      "<class 'pandas.core.frame.DataFrame'>\n",
      "RangeIndex: 268323 entries, 0 to 268322\n",
      "Data columns (total 7 columns):\n",
      " #   Column           Non-Null Count   Dtype \n",
      "---  ------           --------------   ----- \n",
      " 0   Date             268323 non-null  object\n",
      " 1   Receipt time     268323 non-null  object\n",
      " 2   Restaurant       268323 non-null  object\n",
      " 3   Food Category    268323 non-null  object\n",
      " 4   Dish             268323 non-null  object\n",
      " 5   pcs              268323 non-null  object\n",
      " 6   Hiilijalanjälki  268323 non-null  object\n",
      "dtypes: object(7)\n",
      "memory usage: 14.3+ MB\n"
     ]
    },
    {
     "name": "stderr",
     "output_type": "stream",
     "text": [
      "/var/folders/3r/cnp9j40j6r30cv4942b63wmm0000gn/T/ipykernel_59989/1813644824.py:1: DtypeWarning: Columns (5) have mixed types. Specify dtype option on import or set low_memory=False.\n",
      "  co2_df = pd.read_csv('sold_lunches.csv', delimiter=';', encoding='utf-8-sig')\n"
     ]
    }
   ],
   "source": [
    "co2_df = pd.read_csv('sold_lunches.csv', delimiter=';', encoding='utf-8-sig')\n",
    "co2_df.info()"
   ]
  },
  {
   "cell_type": "markdown",
   "id": "6a21f0e4-0bbf-4642-a7ce-e5eca4f1d861",
   "metadata": {},
   "source": [
    "### Data cleaning"
   ]
  },
  {
   "cell_type": "code",
   "execution_count": 3,
   "id": "b00505c7-9a46-4c3f-90b2-4f8e5d7a51d8",
   "metadata": {},
   "outputs": [],
   "source": [
    "co2_df['Hiilijalanjälki'] = co2_df['Hiilijalanjälki'].str.replace(',', '.', regex=True)\n",
    "\n",
    "co2_df['pcs'] = pd.to_numeric(co2_df.pcs, errors='coerce')\n",
    "co2_df['Hiilijalanjälki'] = pd.to_numeric(co2_df.Hiilijalanjälki, errors='coerce')\n",
    "co2_df['Date'] = pd.to_datetime(co2_df.Date, format='%d.%m.%Y', errors='coerce')\n",
    "\n",
    "co2_df = co2_df.dropna(subset=['Date','pcs','Hiilijalanjälki'])\n",
    "\n",
    "rows_to_drop = co2_df[(co2_df['pcs'] <= 0) | (co2_df['Hiilijalanjälki'] <= 0)].index\n",
    "co2_df.drop(rows_to_drop, inplace=True)"
   ]
  },
  {
   "cell_type": "code",
   "execution_count": 4,
   "id": "f8f4df47-7520-484d-9343-c7ae315edeb3",
   "metadata": {},
   "outputs": [
    {
     "name": "stdout",
     "output_type": "stream",
     "text": [
      "<class 'pandas.core.frame.DataFrame'>\n",
      "Index: 259016 entries, 0 to 268322\n",
      "Data columns (total 7 columns):\n",
      " #   Column           Non-Null Count   Dtype         \n",
      "---  ------           --------------   -----         \n",
      " 0   Date             259016 non-null  datetime64[ns]\n",
      " 1   Receipt time     259016 non-null  object        \n",
      " 2   Restaurant       259016 non-null  object        \n",
      " 3   Food Category    259016 non-null  object        \n",
      " 4   Dish             259016 non-null  object        \n",
      " 5   pcs              259016 non-null  float64       \n",
      " 6   Hiilijalanjälki  259016 non-null  float64       \n",
      "dtypes: datetime64[ns](1), float64(2), object(4)\n",
      "memory usage: 15.8+ MB\n"
     ]
    }
   ],
   "source": [
    "co2_df.info()"
   ]
  },
  {
   "cell_type": "code",
   "execution_count": 5,
   "id": "dafd13c5-5cf4-4304-ab7d-d56a08cfc013",
   "metadata": {},
   "outputs": [],
   "source": [
    "co2_df.to_csv('cleaned_co2_df.csv')"
   ]
  },
  {
   "cell_type": "code",
   "execution_count": 6,
   "id": "cad4e6d9-88a5-4116-a832-210d0e95ced4",
   "metadata": {},
   "outputs": [
    {
     "data": {
      "text/html": [
       "<div>\n",
       "<style scoped>\n",
       "    .dataframe tbody tr th:only-of-type {\n",
       "        vertical-align: middle;\n",
       "    }\n",
       "\n",
       "    .dataframe tbody tr th {\n",
       "        vertical-align: top;\n",
       "    }\n",
       "\n",
       "    .dataframe thead th {\n",
       "        text-align: right;\n",
       "    }\n",
       "</style>\n",
       "<table border=\"1\" class=\"dataframe\">\n",
       "  <thead>\n",
       "    <tr style=\"text-align: right;\">\n",
       "      <th></th>\n",
       "      <th>Date</th>\n",
       "      <th>Receipt time</th>\n",
       "      <th>Restaurant</th>\n",
       "      <th>Food Category</th>\n",
       "      <th>Dish</th>\n",
       "      <th>pcs</th>\n",
       "      <th>Hiilijalanjälki</th>\n",
       "    </tr>\n",
       "  </thead>\n",
       "  <tbody>\n",
       "    <tr>\n",
       "      <th>0</th>\n",
       "      <td>2023-01-02</td>\n",
       "      <td>10:31</td>\n",
       "      <td>600 Chemicum</td>\n",
       "      <td>Liha</td>\n",
       "      <td>Uunimakkaraa,sinappikastiketta</td>\n",
       "      <td>1.0</td>\n",
       "      <td>0.90</td>\n",
       "    </tr>\n",
       "    <tr>\n",
       "      <th>1</th>\n",
       "      <td>2023-01-02</td>\n",
       "      <td>10:32</td>\n",
       "      <td>600 Chemicum</td>\n",
       "      <td>Kala</td>\n",
       "      <td>Kalapuikot tillikermaviilikast</td>\n",
       "      <td>1.0</td>\n",
       "      <td>1.04</td>\n",
       "    </tr>\n",
       "    <tr>\n",
       "      <th>2</th>\n",
       "      <td>2023-01-02</td>\n",
       "      <td>10:32</td>\n",
       "      <td>600 Chemicum</td>\n",
       "      <td>Liha</td>\n",
       "      <td>Uunimakkaraa,sinappikastiketta</td>\n",
       "      <td>1.0</td>\n",
       "      <td>0.90</td>\n",
       "    </tr>\n",
       "    <tr>\n",
       "      <th>3</th>\n",
       "      <td>2023-01-02</td>\n",
       "      <td>10:35</td>\n",
       "      <td>600 Chemicum</td>\n",
       "      <td>Kala</td>\n",
       "      <td>Kalapuikot tillikermaviilikast</td>\n",
       "      <td>1.0</td>\n",
       "      <td>1.04</td>\n",
       "    </tr>\n",
       "    <tr>\n",
       "      <th>4</th>\n",
       "      <td>2023-01-02</td>\n",
       "      <td>10:36</td>\n",
       "      <td>600 Chemicum</td>\n",
       "      <td>Liha</td>\n",
       "      <td>Uunimakkaraa,sinappikastiketta</td>\n",
       "      <td>2.0</td>\n",
       "      <td>1.80</td>\n",
       "    </tr>\n",
       "  </tbody>\n",
       "</table>\n",
       "</div>"
      ],
      "text/plain": [
       "        Date Receipt time    Restaurant Food Category  \\\n",
       "0 2023-01-02        10:31  600 Chemicum          Liha   \n",
       "1 2023-01-02        10:32  600 Chemicum          Kala   \n",
       "2 2023-01-02        10:32  600 Chemicum          Liha   \n",
       "3 2023-01-02        10:35  600 Chemicum          Kala   \n",
       "4 2023-01-02        10:36  600 Chemicum          Liha   \n",
       "\n",
       "                             Dish  pcs  Hiilijalanjälki  \n",
       "0  Uunimakkaraa,sinappikastiketta  1.0             0.90  \n",
       "1  Kalapuikot tillikermaviilikast  1.0             1.04  \n",
       "2  Uunimakkaraa,sinappikastiketta  1.0             0.90  \n",
       "3  Kalapuikot tillikermaviilikast  1.0             1.04  \n",
       "4  Uunimakkaraa,sinappikastiketta  2.0             1.80  "
      ]
     },
     "execution_count": 6,
     "metadata": {},
     "output_type": "execute_result"
    }
   ],
   "source": [
    "co2_df.head()"
   ]
  },
  {
   "cell_type": "code",
   "execution_count": 7,
   "id": "cc6e9354-7c23-4ea8-b203-4a79c795e60e",
   "metadata": {},
   "outputs": [],
   "source": [
    "# Pivot the data to get the sum of each food category and carbon emissions by date and restaurant\n",
    "pivot_df = co2_df.pivot_table(\n",
    "    index=['Date', 'Restaurant'],\n",
    "    columns='Food Category',\n",
    "    values=['pcs', 'Hiilijalanjälki'],\n",
    "    aggfunc='sum',\n",
    "    fill_value=0\n",
    ").reset_index()\n",
    "\n",
    "# Flatten the multi-level column index\n",
    "pivot_df.columns = ['_'.join(col).strip() if col[1] else col[0] for col in pivot_df.columns]\n",
    "\n",
    "# Rename columns for clarity\n",
    "pivot_df = pivot_df.rename(columns={\n",
    "    'Date_': 'Date',\n",
    "    'Restaurant_': 'Restaurant',\n",
    "    'pcs_Liha': 'num_meat',\n",
    "    'pcs_Kala': 'num_fish',\n",
    "    'pcs_Kasvis': 'num_vegetarian',\n",
    "    'pcs_Vegaani': 'num_vegan',\n",
    "    'pcs_Kana': 'num_chicken',\n",
    "    'Hiilijalanjälki': 'carbon_emissions_sum'\n",
    "})\n",
    "\n",
    "# Calculate the total carbon emissions\n",
    "pivot_df['carbon_emissions_sum'] = pivot_df[[col for col in pivot_df.columns if 'Hiilijalanjälki' in col]].sum(axis=1)\n",
    "\n",
    "# Drop the intermediate carbon columns to keep the final carbon emissions sum\n",
    "pivot_df = pivot_df.drop(columns=[col for col in pivot_df.columns if 'Hiilijalanjälk' in col and col != 'carbon_emissions_sum'])\n",
    "pivot_df['carbon_emissions_sum'] = pivot_df['carbon_emissions_sum'].round(2)\n",
    "\n",
    "# Save the new dataset to a CSV file\n",
    "output_file_path = 'grouped_co2_df.csv'\n",
    "pivot_df.to_csv(output_file_path, index=False)"
   ]
  },
  {
   "cell_type": "code",
   "execution_count": 8,
   "id": "8a958172-0b3e-4aba-bc4f-82ae2d920922",
   "metadata": {},
   "outputs": [],
   "source": [
    "grouped_co2_df = pd.read_csv('grouped_co2_df.csv')"
   ]
  },
  {
   "cell_type": "code",
   "execution_count": 9,
   "id": "0f1a61af-459f-47db-a495-ea126f19ca88",
   "metadata": {},
   "outputs": [
    {
     "data": {
      "text/html": [
       "<div>\n",
       "<style scoped>\n",
       "    .dataframe tbody tr th:only-of-type {\n",
       "        vertical-align: middle;\n",
       "    }\n",
       "\n",
       "    .dataframe tbody tr th {\n",
       "        vertical-align: top;\n",
       "    }\n",
       "\n",
       "    .dataframe thead th {\n",
       "        text-align: right;\n",
       "    }\n",
       "</style>\n",
       "<table border=\"1\" class=\"dataframe\">\n",
       "  <thead>\n",
       "    <tr style=\"text-align: right;\">\n",
       "      <th></th>\n",
       "      <th>Date</th>\n",
       "      <th>Restaurant</th>\n",
       "      <th>num_fish</th>\n",
       "      <th>num_chicken</th>\n",
       "      <th>num_vegetarian</th>\n",
       "      <th>num_meat</th>\n",
       "      <th>pcs_Not Mapped</th>\n",
       "      <th>num_vegan</th>\n",
       "      <th>carbon_emissions_sum</th>\n",
       "    </tr>\n",
       "  </thead>\n",
       "  <tbody>\n",
       "    <tr>\n",
       "      <th>0</th>\n",
       "      <td>2023-01-02</td>\n",
       "      <td>600 Chemicum</td>\n",
       "      <td>85.0</td>\n",
       "      <td>0.0</td>\n",
       "      <td>0.0</td>\n",
       "      <td>171.0</td>\n",
       "      <td>0.0</td>\n",
       "      <td>91.0</td>\n",
       "      <td>273.82</td>\n",
       "    </tr>\n",
       "    <tr>\n",
       "      <th>1</th>\n",
       "      <td>2023-01-03</td>\n",
       "      <td>600 Chemicum</td>\n",
       "      <td>163.0</td>\n",
       "      <td>0.0</td>\n",
       "      <td>32.0</td>\n",
       "      <td>78.0</td>\n",
       "      <td>0.0</td>\n",
       "      <td>120.0</td>\n",
       "      <td>275.97</td>\n",
       "    </tr>\n",
       "    <tr>\n",
       "      <th>2</th>\n",
       "      <td>2023-01-04</td>\n",
       "      <td>600 Chemicum</td>\n",
       "      <td>70.0</td>\n",
       "      <td>0.0</td>\n",
       "      <td>0.0</td>\n",
       "      <td>218.0</td>\n",
       "      <td>0.0</td>\n",
       "      <td>137.0</td>\n",
       "      <td>246.55</td>\n",
       "    </tr>\n",
       "    <tr>\n",
       "      <th>3</th>\n",
       "      <td>2023-01-05</td>\n",
       "      <td>600 Chemicum</td>\n",
       "      <td>232.0</td>\n",
       "      <td>85.0</td>\n",
       "      <td>0.0</td>\n",
       "      <td>2.0</td>\n",
       "      <td>0.0</td>\n",
       "      <td>178.0</td>\n",
       "      <td>298.02</td>\n",
       "    </tr>\n",
       "    <tr>\n",
       "      <th>4</th>\n",
       "      <td>2023-01-09</td>\n",
       "      <td>600 Chemicum</td>\n",
       "      <td>107.0</td>\n",
       "      <td>0.0</td>\n",
       "      <td>0.0</td>\n",
       "      <td>283.0</td>\n",
       "      <td>0.0</td>\n",
       "      <td>216.0</td>\n",
       "      <td>402.71</td>\n",
       "    </tr>\n",
       "  </tbody>\n",
       "</table>\n",
       "</div>"
      ],
      "text/plain": [
       "         Date    Restaurant  num_fish  num_chicken  num_vegetarian  num_meat  \\\n",
       "0  2023-01-02  600 Chemicum      85.0          0.0             0.0     171.0   \n",
       "1  2023-01-03  600 Chemicum     163.0          0.0            32.0      78.0   \n",
       "2  2023-01-04  600 Chemicum      70.0          0.0             0.0     218.0   \n",
       "3  2023-01-05  600 Chemicum     232.0         85.0             0.0       2.0   \n",
       "4  2023-01-09  600 Chemicum     107.0          0.0             0.0     283.0   \n",
       "\n",
       "   pcs_Not Mapped  num_vegan  carbon_emissions_sum  \n",
       "0             0.0       91.0                273.82  \n",
       "1             0.0      120.0                275.97  \n",
       "2             0.0      137.0                246.55  \n",
       "3             0.0      178.0                298.02  \n",
       "4             0.0      216.0                402.71  "
      ]
     },
     "execution_count": 9,
     "metadata": {},
     "output_type": "execute_result"
    }
   ],
   "source": [
    "grouped_co2_df.head()"
   ]
  },
  {
   "cell_type": "markdown",
   "id": "cfbcdd23-fe42-4b3c-b271-be0339f2c478",
   "metadata": {},
   "source": [
    "### Linear regression"
   ]
  },
  {
   "cell_type": "code",
   "execution_count": 10,
   "id": "d952d5cf-af40-4d48-a4ad-d02cab123dc4",
   "metadata": {},
   "outputs": [],
   "source": [
    "from sklearn.model_selection import train_test_split\n",
    "from sklearn.linear_model import LinearRegression\n",
    "from sklearn.metrics import mean_squared_error, r2_score, mean_absolute_error\n",
    "from sklearn.linear_model import Ridge"
   ]
  },
  {
   "cell_type": "code",
   "execution_count": 11,
   "id": "f9147266-ece9-4b44-a69d-46291157ec9e",
   "metadata": {},
   "outputs": [
    {
     "name": "stdout",
     "output_type": "stream",
     "text": [
      "Mean Absolute Error (MAE): 30.074138530967172\n",
      "Mean Squared Error (MSE): 2193.7024905252774\n",
      "Root Mean Squared Error (RMSE): 46.83697781161032\n",
      "R² Score: 0.9442871884395658\n"
     ]
    },
    {
     "data": {
      "image/png": "[encoded data removed]",
      "text/plain": [
       "<Figure size 900x500 with 1 Axes>"
      ]
     },
     "metadata": {},
     "output_type": "display_data"
    }
   ],
   "source": [
    "co2_ml = grouped_co2_df.copy()\n",
    "\n",
    "# Prepare the features (X) and target (y)\n",
    "X = co2_ml[['num_fish', 'num_chicken', 'num_vegetarian', 'num_meat', 'num_vegan']]\n",
    "y = co2_ml['carbon_emissions_sum']\n",
    "\n",
    "# Split the data into training and testing sets (80% train, 20% test)\n",
    "X_train, X_test, y_train, y_test = train_test_split(X, y, test_size=0.2, random_state=42)\n",
    "\n",
    "# Create a linear regression model\n",
    "model = LinearRegression()\n",
    "\n",
    "# Train the model using the training data\n",
    "model.fit(X_train, y_train)\n",
    "\n",
    "# Predict the carbon emissions on the test set\n",
    "y_pred = model.predict(X_test)\n",
    "\n",
    "# Calculate evaluation metrics\n",
    "mae = mean_absolute_error(y_test, y_pred)\n",
    "mse = mean_squared_error(y_test, y_pred)\n",
    "rmse = np.sqrt(mse)\n",
    "r2 = r2_score(y_test, y_pred)\n",
    "\n",
    "print(f'Mean Absolute Error (MAE): {mae}')\n",
    "print(f'Mean Squared Error (MSE): {mse}')\n",
    "print(f'Root Mean Squared Error (RMSE): {rmse}')\n",
    "print(f'R² Score: {r2}')\n",
    "\n",
    "# Create a DataFrame for plotting\n",
    "plot_df = pd.DataFrame({'Actual': y_test, 'Predicted': y_pred})\n",
    "\n",
    "# Plot actual vs predicted values with a regression line\n",
    "plt.figure(figsize=(9, 5))\n",
    "sns.regplot(x='Actual', y='Predicted', data=plot_df, line_kws={'color': 'red'})\n",
    "plt.xlabel('Actual Hiilijalanjälki')\n",
    "plt.ylabel('Predicted Hiilijalanjälki')\n",
    "plt.title('Actual vs Predicted Carbon Emissions with Regression Line')\n",
    "plt.grid(True)\n",
    "plt.show()"
   ]
  }
 ],
 "metadata": {
  "kernelspec": {
   "display_name": "Python 3 (ipykernel)",
   "language": "python",
   "name": "python3"
  },
  "language_info": {
   "codemirror_mode": {
    "name": "ipython",
    "version": 3
   },
   "file_extension": ".py",
   "mimetype": "text/x-python",
   "name": "python",
   "nbconvert_exporter": "python",
   "pygments_lexer": "ipython3",
   "version": "3.11.7"
  }
 },
 "nbformat": 4,
 "nbformat_minor": 5
}
