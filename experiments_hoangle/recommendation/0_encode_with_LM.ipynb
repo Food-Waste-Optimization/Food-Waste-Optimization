{
 "cells": [
  {
   "cell_type": "code",
   "execution_count": 1,
   "metadata": {},
   "outputs": [
    {
     "name": "stdout",
     "output_type": "stream",
     "text": [
      "/home/hoanghu/projects/Food-Waste-Optimization/experiments_hoangle\n"
     ]
    }
   ],
   "source": [
    "%cd ../"
   ]
  },
  {
   "cell_type": "code",
   "execution_count": 2,
   "metadata": {},
   "outputs": [],
   "source": [
    "import matplotlib.pyplot as plt\n",
    "import numpy as np\n",
    "import pandas as pd\n",
    "import seaborn as sns\n",
    "from transformers import pipeline\n",
    "from sklearn.decomposition import PCA\n",
    "\n",
    "from utils import Paths"
   ]
  },
  {
   "cell_type": "code",
   "execution_count": 3,
   "metadata": {},
   "outputs": [],
   "source": [
    "plt.style.use('seaborn-v0_8')\n",
    "plt.rcParams.update({'font.size': 8})"
   ]
  },
  {
   "cell_type": "markdown",
   "metadata": {},
   "source": [
    "# Load data"
   ]
  },
  {
   "cell_type": "code",
   "execution_count": 4,
   "metadata": {},
   "outputs": [
    {
     "data": {
      "text/html": [
       "<div>\n",
       "<style scoped>\n",
       "    .dataframe tbody tr th:only-of-type {\n",
       "        vertical-align: middle;\n",
       "    }\n",
       "\n",
       "    .dataframe tbody tr th {\n",
       "        vertical-align: top;\n",
       "    }\n",
       "\n",
       "    .dataframe thead th {\n",
       "        text-align: right;\n",
       "    }\n",
       "</style>\n",
       "<table border=\"1\" class=\"dataframe\">\n",
       "  <thead>\n",
       "    <tr style=\"text-align: right;\">\n",
       "      <th></th>\n",
       "      <th>date</th>\n",
       "      <th>restaurant</th>\n",
       "      <th>category</th>\n",
       "      <th>meal</th>\n",
       "      <th>pcs</th>\n",
       "    </tr>\n",
       "  </thead>\n",
       "  <tbody>\n",
       "    <tr>\n",
       "      <th>0</th>\n",
       "      <td>2023-01-02</td>\n",
       "      <td>Chemicum</td>\n",
       "      <td>fish</td>\n",
       "      <td>Kalapuikot tillikermaviilikast</td>\n",
       "      <td>78</td>\n",
       "    </tr>\n",
       "    <tr>\n",
       "      <th>1</th>\n",
       "      <td>2023-01-02</td>\n",
       "      <td>Chemicum</td>\n",
       "      <td>meat</td>\n",
       "      <td>Uunimakkaraa</td>\n",
       "      <td>165</td>\n",
       "    </tr>\n",
       "    <tr>\n",
       "      <th>2</th>\n",
       "      <td>2023-01-02</td>\n",
       "      <td>Chemicum</td>\n",
       "      <td>vegan</td>\n",
       "      <td>Marokkolainen linssipata</td>\n",
       "      <td>84</td>\n",
       "    </tr>\n",
       "    <tr>\n",
       "      <th>3</th>\n",
       "      <td>2023-01-03</td>\n",
       "      <td>Chemicum</td>\n",
       "      <td>fish</td>\n",
       "      <td>Herkkulohipihvit</td>\n",
       "      <td>105</td>\n",
       "    </tr>\n",
       "    <tr>\n",
       "      <th>4</th>\n",
       "      <td>2023-01-03</td>\n",
       "      <td>Chemicum</td>\n",
       "      <td>fish</td>\n",
       "      <td>Kalapuikot tillikermaviilikast</td>\n",
       "      <td>52</td>\n",
       "    </tr>\n",
       "  </tbody>\n",
       "</table>\n",
       "</div>"
      ],
      "text/plain": [
       "        date restaurant category                            meal  pcs\n",
       "0 2023-01-02   Chemicum     fish  Kalapuikot tillikermaviilikast   78\n",
       "1 2023-01-02   Chemicum     meat                    Uunimakkaraa  165\n",
       "2 2023-01-02   Chemicum    vegan        Marokkolainen linssipata   84\n",
       "3 2023-01-03   Chemicum     fish                Herkkulohipihvit  105\n",
       "4 2023-01-03   Chemicum     fish  Kalapuikot tillikermaviilikast   52"
      ]
     },
     "execution_count": 4,
     "metadata": {},
     "output_type": "execute_result"
    }
   ],
   "source": [
    "dim_lunches = pd.read_excel(Paths.dim_lucnhes(), index_col=None, parse_dates=['date'])\n",
    "dim_lunches.head()"
   ]
  },
  {
   "cell_type": "markdown",
   "metadata": {},
   "source": [
    "# Use language model to extract dish name embedding"
   ]
  },
  {
   "cell_type": "markdown",
   "metadata": {},
   "source": [
    "## Load BERT and Finnish-GPT2"
   ]
  },
  {
   "cell_type": "code",
   "execution_count": 5,
   "metadata": {},
   "outputs": [
    {
     "name": "stderr",
     "output_type": "stream",
     "text": [
      "/home/hoanghu/miniforge3/envs/fw/lib/python3.9/site-packages/transformers/tokenization_utils_base.py:1601: FutureWarning: `clean_up_tokenization_spaces` was not set. It will be set to `True` by default. This behavior will be depracted in transformers v4.45, and will be then set to `False` by default. For more details check this issue: https://github.com/huggingface/transformers/issues/31884\n",
      "  warnings.warn(\n"
     ]
    }
   ],
   "source": [
    "pipeline_dishname = pipeline('feature-extraction', model='Finnish-NLP/gpt2-medium-finnish')\n",
    "pipeline_category = pipeline('feature-extraction', model='google-bert/bert-base-uncased')"
   ]
  },
  {
   "cell_type": "markdown",
   "metadata": {},
   "source": [
    "## Encode dish names and categories"
   ]
  },
  {
   "cell_type": "code",
   "execution_count": 6,
   "metadata": {},
   "outputs": [],
   "source": [
    "dishes = dim_lunches['meal'].unique()\n",
    "list_embds = pipeline_dishname(dishes.tolist())\n",
    "\n",
    "embds_dish = np.float32([np.squeeze(embd).mean(axis=0) for embd in list_embds])"
   ]
  },
  {
   "cell_type": "code",
   "execution_count": 7,
   "metadata": {},
   "outputs": [],
   "source": [
    "categories = dim_lunches['category'].unique()\n",
    "list_embds = pipeline_category(categories.tolist())\n",
    "\n",
    "embds_cat = np.float32([np.squeeze(embd).mean(axis=0) for embd in list_embds])"
   ]
  },
  {
   "cell_type": "markdown",
   "metadata": {},
   "source": [
    "## Use PCA to reduce dim"
   ]
  },
  {
   "cell_type": "markdown",
   "metadata": {},
   "source": [
    "### With embeddings of dish names"
   ]
  },
  {
   "cell_type": "code",
   "execution_count": 8,
   "metadata": {},
   "outputs": [],
   "source": [
    "pca_dish = PCA().fit(embds_dish)\n",
    "pca_cat = PCA().fit(embds_cat)"
   ]
  },
  {
   "cell_type": "code",
   "execution_count": 9,
   "metadata": {},
   "outputs": [
    {
     "data": {
      "text/plain": [
       "Text(0, 0.5, 'Cumulative explained variance')"
      ]
     },
     "execution_count": 9,
     "metadata": {},
     "output_type": "execute_result"
    },
    {
     "data": {
      "image/png": "[encoded data removed]",
      "text/plain": [
       "<Figure size 1200x600 with 2 Axes>"
      ]
     },
     "metadata": {},
     "output_type": "display_data"
    }
   ],
   "source": [
    "fig = plt.figure(figsize=(12, 6))\n",
    "fig.suptitle(\"Cum variance of PCA\", fontsize=14, fontweight='bold')\n",
    "\n",
    "# Plot for 'dish'\n",
    "xs = np.arange(embds_dish.shape[0])\n",
    "ys = np.cumsum(pca_dish.explained_variance_ratio_)\n",
    "\n",
    "ax = fig.add_subplot(121)\n",
    "ax.set_title(\"For 'dish name'\")\n",
    "\n",
    "sns.lineplot(x=xs, y=ys, ax=ax)\n",
    "ax.set_xlabel('No. dims')\n",
    "ax.set_ylabel('Cumulative explained variance')\n",
    "\n",
    "# Plot for 'category'\n",
    "xs = np.arange(embds_cat.shape[0])\n",
    "ys = np.cumsum(pca_cat.explained_variance_ratio_)\n",
    "\n",
    "ax = fig.add_subplot(122)\n",
    "ax.set_title(\"For 'category'\")\n",
    "\n",
    "sns.lineplot(x=xs, y=ys, ax=ax)\n",
    "ax.set_xlabel('No. dims')\n",
    "ax.set_ylabel('Cumulative explained variance')"
   ]
  },
  {
   "cell_type": "markdown",
   "metadata": {},
   "source": [
    "=> From above figures, optimal `n_components` for PCA of dish name and category are `100` and `3`"
   ]
  },
  {
   "cell_type": "code",
   "execution_count": 10,
   "metadata": {},
   "outputs": [],
   "source": [
    "embds_dish_reduced = PCA(100).fit_transform(embds_dish)\n",
    "embds_cat_reduced = PCA(3).fit_transform(embds_cat)"
   ]
  },
  {
   "cell_type": "markdown",
   "metadata": {},
   "source": [
    "# Save embeddings"
   ]
  },
  {
   "cell_type": "code",
   "execution_count": 18,
   "metadata": {},
   "outputs": [],
   "source": [
    "map_dish2embd = {\n",
    "    dish: embd\n",
    "    for dish, embd in zip(dishes, embds_dish_reduced)\n",
    "}\n",
    "\n",
    "np.save(Paths.res_dish2embd(), map_dish2embd)"
   ]
  },
  {
   "cell_type": "code",
   "execution_count": 19,
   "metadata": {},
   "outputs": [],
   "source": [
    "map_cat2embd = {\n",
    "    cat: embd\n",
    "    for cat, embd in zip(dishes, embds_cat_reduced)\n",
    "}\n",
    "\n",
    "np.save(Paths.res_cat2embd(), map_cat2embd)\n",
    "\n",
    "# Load embeddings from saved file\n",
    "# a = np.load(path_res_dish2embd, allow_pickle=True).item()"
   ]
  }
 ],
 "metadata": {
  "kernelspec": {
   "display_name": "fw",
   "language": "python",
   "name": "python3"
  },
  "language_info": {
   "codemirror_mode": {
    "name": "ipython",
    "version": 3
   },
   "file_extension": ".py",
   "mimetype": "text/x-python",
   "name": "python",
   "nbconvert_exporter": "python",
   "pygments_lexer": "ipython3",
   "version": "3.9.19"
  }
 },
 "nbformat": 4,
 "nbformat_minor": 2
}
