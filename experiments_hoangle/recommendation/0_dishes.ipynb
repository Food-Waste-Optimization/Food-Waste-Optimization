{
 "cells": [
  {
   "cell_type": "code",
   "execution_count": 1,
   "metadata": {},
   "outputs": [
    {
     "name": "stdout",
     "output_type": "stream",
     "text": [
      "/home/hoanghu/projects/Food-Waste-Optimization/experiments_hoangle\n"
     ]
    }
   ],
   "source": [
    "%cd ../"
   ]
  },
  {
   "cell_type": "code",
   "execution_count": 2,
   "metadata": {},
   "outputs": [],
   "source": [
    "import pandas as pd\n",
    "\n",
    "from utils import Paths"
   ]
  },
  {
   "cell_type": "markdown",
   "metadata": {},
   "source": [
    "# Load related dim tables"
   ]
  },
  {
   "cell_type": "code",
   "execution_count": 3,
   "metadata": {},
   "outputs": [
    {
     "data": {
      "text/html": [
       "<div>\n",
       "<style scoped>\n",
       "    .dataframe tbody tr th:only-of-type {\n",
       "        vertical-align: middle;\n",
       "    }\n",
       "\n",
       "    .dataframe tbody tr th {\n",
       "        vertical-align: top;\n",
       "    }\n",
       "\n",
       "    .dataframe thead th {\n",
       "        text-align: right;\n",
       "    }\n",
       "</style>\n",
       "<table border=\"1\" class=\"dataframe\">\n",
       "  <thead>\n",
       "    <tr style=\"text-align: right;\">\n",
       "      <th></th>\n",
       "      <th>date</th>\n",
       "      <th>restaurant</th>\n",
       "      <th>category</th>\n",
       "      <th>dish</th>\n",
       "      <th>pcs</th>\n",
       "    </tr>\n",
       "  </thead>\n",
       "  <tbody>\n",
       "    <tr>\n",
       "      <th>0</th>\n",
       "      <td>2023-01-02</td>\n",
       "      <td>Chemicum</td>\n",
       "      <td>fish</td>\n",
       "      <td>Kalapuikot tillikermaviilikast</td>\n",
       "      <td>78</td>\n",
       "    </tr>\n",
       "    <tr>\n",
       "      <th>1</th>\n",
       "      <td>2023-01-02</td>\n",
       "      <td>Chemicum</td>\n",
       "      <td>meat</td>\n",
       "      <td>Uunimakkaraa</td>\n",
       "      <td>165</td>\n",
       "    </tr>\n",
       "    <tr>\n",
       "      <th>2</th>\n",
       "      <td>2023-01-02</td>\n",
       "      <td>Chemicum</td>\n",
       "      <td>vegan</td>\n",
       "      <td>Marokkolainen linssipata</td>\n",
       "      <td>84</td>\n",
       "    </tr>\n",
       "    <tr>\n",
       "      <th>3</th>\n",
       "      <td>2023-01-03</td>\n",
       "      <td>Chemicum</td>\n",
       "      <td>fish</td>\n",
       "      <td>Herkkulohipihvit</td>\n",
       "      <td>105</td>\n",
       "    </tr>\n",
       "    <tr>\n",
       "      <th>4</th>\n",
       "      <td>2023-01-03</td>\n",
       "      <td>Chemicum</td>\n",
       "      <td>fish</td>\n",
       "      <td>Kalapuikot tillikermaviilikast</td>\n",
       "      <td>52</td>\n",
       "    </tr>\n",
       "  </tbody>\n",
       "</table>\n",
       "</div>"
      ],
      "text/plain": [
       "        date restaurant category                            dish  pcs\n",
       "0 2023-01-02   Chemicum     fish  Kalapuikot tillikermaviilikast   78\n",
       "1 2023-01-02   Chemicum     meat                    Uunimakkaraa  165\n",
       "2 2023-01-02   Chemicum    vegan        Marokkolainen linssipata   84\n",
       "3 2023-01-03   Chemicum     fish                Herkkulohipihvit  105\n",
       "4 2023-01-03   Chemicum     fish  Kalapuikot tillikermaviilikast   52"
      ]
     },
     "execution_count": 3,
     "metadata": {},
     "output_type": "execute_result"
    }
   ],
   "source": [
    "dim_lunches = pd.read_excel(Paths.dim_lucnhes(), index_col=None)\n",
    "dim_lunches.head()"
   ]
  },
  {
   "cell_type": "markdown",
   "metadata": {},
   "source": [
    "# Create dim 'dishes'"
   ]
  },
  {
   "cell_type": "code",
   "execution_count": 4,
   "metadata": {},
   "outputs": [
    {
     "data": {
      "text/html": [
       "<div>\n",
       "<style scoped>\n",
       "    .dataframe tbody tr th:only-of-type {\n",
       "        vertical-align: middle;\n",
       "    }\n",
       "\n",
       "    .dataframe tbody tr th {\n",
       "        vertical-align: top;\n",
       "    }\n",
       "\n",
       "    .dataframe thead th {\n",
       "        text-align: right;\n",
       "    }\n",
       "</style>\n",
       "<table border=\"1\" class=\"dataframe\">\n",
       "  <thead>\n",
       "    <tr style=\"text-align: right;\">\n",
       "      <th></th>\n",
       "      <th>meal_id</th>\n",
       "      <th>restaurant</th>\n",
       "      <th>category</th>\n",
       "      <th>dish</th>\n",
       "    </tr>\n",
       "  </thead>\n",
       "  <tbody>\n",
       "    <tr>\n",
       "      <th>0</th>\n",
       "      <td>1</td>\n",
       "      <td>Chemicum</td>\n",
       "      <td>chicken</td>\n",
       "      <td>BBQ-Broilerikastiketta</td>\n",
       "    </tr>\n",
       "    <tr>\n",
       "      <th>1</th>\n",
       "      <td>2</td>\n",
       "      <td>Chemicum</td>\n",
       "      <td>chicken</td>\n",
       "      <td>Broileria appelsiini-currykastikkeessa</td>\n",
       "    </tr>\n",
       "    <tr>\n",
       "      <th>2</th>\n",
       "      <td>3</td>\n",
       "      <td>Chemicum</td>\n",
       "      <td>chicken</td>\n",
       "      <td>Broileria pekonikastikkeessa</td>\n",
       "    </tr>\n",
       "    <tr>\n",
       "      <th>3</th>\n",
       "      <td>4</td>\n",
       "      <td>Chemicum</td>\n",
       "      <td>chicken</td>\n",
       "      <td>Broileria pestokastikkeessa</td>\n",
       "    </tr>\n",
       "    <tr>\n",
       "      <th>4</th>\n",
       "      <td>5</td>\n",
       "      <td>Chemicum</td>\n",
       "      <td>chicken</td>\n",
       "      <td>Broilerinkoipea</td>\n",
       "    </tr>\n",
       "  </tbody>\n",
       "</table>\n",
       "</div>"
      ],
      "text/plain": [
       "   meal_id restaurant category                                    dish\n",
       "0        1   Chemicum  chicken                  BBQ-Broilerikastiketta\n",
       "1        2   Chemicum  chicken  Broileria appelsiini-currykastikkeessa\n",
       "2        3   Chemicum  chicken            Broileria pekonikastikkeessa\n",
       "3        4   Chemicum  chicken             Broileria pestokastikkeessa\n",
       "4        5   Chemicum  chicken                         Broilerinkoipea"
      ]
     },
     "execution_count": 4,
     "metadata": {},
     "output_type": "execute_result"
    }
   ],
   "source": [
    "dishes = dim_lunches.groupby(['restaurant', 'category', 'dish'])['pcs'].count().reset_index().drop(columns='pcs')\n",
    "dishes['meal_id'] = range(1, len(dishes) + 1)\n",
    "\n",
    "dishes = dishes[['meal_id', 'restaurant', 'category', 'dish']]\n",
    "\n",
    "dishes.head()"
   ]
  },
  {
   "cell_type": "code",
   "execution_count": 5,
   "metadata": {},
   "outputs": [],
   "source": [
    "dishes.to_excel(Paths.dim_dishes(), index=False)"
   ]
  }
 ],
 "metadata": {
  "kernelspec": {
   "display_name": ".venv",
   "language": "python",
   "name": "python3"
  },
  "language_info": {
   "codemirror_mode": {
    "name": "ipython",
    "version": 3
   },
   "file_extension": ".py",
   "mimetype": "text/x-python",
   "name": "python",
   "nbconvert_exporter": "python",
   "pygments_lexer": "ipython3",
   "version": "3.10.12"
  }
 },
 "nbformat": 4,
 "nbformat_minor": 2
}
