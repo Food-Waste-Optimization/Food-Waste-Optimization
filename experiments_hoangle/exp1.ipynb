{
 "cells": [
  {
   "cell_type": "code",
   "execution_count": 1,
   "metadata": {},
   "outputs": [
    {
     "name": "stdout",
     "output_type": "stream",
     "text": [
      "/home/hoanghu/projects/Food-Waste-Optimization\n"
     ]
    }
   ],
   "source": [
    "%cd .."
   ]
  },
  {
   "cell_type": "code",
   "execution_count": 3,
   "metadata": {},
   "outputs": [],
   "source": [
    "import matplotlib.pyplot as plt\n",
    "import numpy as np\n",
    "import pandas as pd\n",
    "import scipy\n",
    "import seaborn as sns"
   ]
  },
  {
   "cell_type": "code",
   "execution_count": 4,
   "metadata": {},
   "outputs": [],
   "source": [
    "plt.style.use('seaborn-v0_8')\n",
    "plt.rcParams.update({'font.size': 8})"
   ]
  },
  {
   "cell_type": "markdown",
   "metadata": {},
   "source": [
    "## File: tuntidata.xlsx"
   ]
  },
  {
   "cell_type": "markdown",
   "metadata": {},
   "source": [
    "Store the quantity of something in all 3 restaurants in different datetimes"
   ]
  },
  {
   "cell_type": "code",
   "execution_count": null,
   "metadata": {},
   "outputs": [],
   "source": [
    "path = \"experiments_hoangle/tuntidata.xlsx\"\n",
    "\n",
    "df = pd.read_excel(path, header=0)\n",
    "\n",
    "df.head(30)"
   ]
  },
  {
   "cell_type": "markdown",
   "metadata": {},
   "source": [
    "## File: tuntidata2.xlsx"
   ]
  },
  {
   "cell_type": "markdown",
   "metadata": {},
   "source": [
    "Store the number of orders in hours from 8 to 14 in different restaurants in different dates"
   ]
  },
  {
   "cell_type": "code",
   "execution_count": null,
   "metadata": {},
   "outputs": [],
   "source": [
    "path = \"experiments_hoangle/tuntidata2.xlsx\"\n",
    "\n",
    "df2 = pd.read_excel(path, header=0)\n",
    "\n",
    "df2.head()"
   ]
  },
  {
   "cell_type": "markdown",
   "metadata": {},
   "source": [
    "## File: supersight-raw_data.csv"
   ]
  },
  {
   "cell_type": "markdown",
   "metadata": {},
   "source": [
    "Store the number of customers going in/out in different locations in different datetimes"
   ]
  },
  {
   "cell_type": "code",
   "execution_count": null,
   "metadata": {},
   "outputs": [],
   "source": [
    "path = \"experiments_hoangle/supersight-raw-data.csv\"\n",
    "\n",
    "df = pd.read_csv(path, header=0, index_col=0)\n",
    "\n",
    "df.head()"
   ]
  },
  {
   "cell_type": "code",
   "execution_count": null,
   "metadata": {},
   "outputs": [],
   "source": [
    "col_dt = pd.to_datetime(df['dateCreated'])\n",
    "\n",
    "df.loc[:, 'day'] = col_dt.dt.day\n",
    "df.loc[:, 'month'] = col_dt.dt.month\n",
    "df.loc[:, 'hour'] = col_dt.dt.hour\n",
    "df.loc[:, 'weekday'] = col_dt.dt.weekday\n",
    "\n",
    "df.head()"
   ]
  },
  {
   "cell_type": "code",
   "execution_count": null,
   "metadata": {},
   "outputs": [],
   "source": [
    "df_by_multiple = df.groupby(['day', 'month', 'hour', 'phoneName', 'weekday'])[['countIn', 'countOut']].sum().reset_index()\n",
    "df_by_multiple.head()"
   ]
  },
  {
   "cell_type": "code",
   "execution_count": null,
   "metadata": {},
   "outputs": [],
   "source": [
    "def view_by(df: pd.DataFrame, by: str):\n",
    "    assert by in df\n",
    "\n",
    "    cols = [by, 'countIn', 'countOut']\n",
    "    df_by = df_by_multiple[cols].groupby(by).sum().reset_index()\n",
    "\n",
    "    df_by = pd.melt(df_by, id_vars=[by], value_vars=['countIn', 'countOut'], var_name='type', value_name='count')\n",
    "\n",
    "    fig = plt.figure(figsize=(8, 5))\n",
    "    ax = fig.add_subplot(111)\n",
    "\n",
    "    sns.barplot(df_by, x=by, y='count', hue='type', ax=ax)\n"
   ]
  },
  {
   "cell_type": "code",
   "execution_count": null,
   "metadata": {},
   "outputs": [],
   "source": [
    "view_by(df_by_multiple, 'hour')"
   ]
  },
  {
   "cell_type": "code",
   "execution_count": null,
   "metadata": {},
   "outputs": [],
   "source": [
    "view_by(df_by_multiple, 'weekday')"
   ]
  },
  {
   "cell_type": "code",
   "execution_count": null,
   "metadata": {},
   "outputs": [],
   "source": [
    "view_by(df_by_multiple, 'day')"
   ]
  },
  {
   "cell_type": "code",
   "execution_count": null,
   "metadata": {},
   "outputs": [],
   "source": [
    "view_by(df_by_multiple, 'month')"
   ]
  },
  {
   "cell_type": "code",
   "execution_count": null,
   "metadata": {},
   "outputs": [],
   "source": [
    "view_by(df_by_multiple, 'phoneName')"
   ]
  },
  {
   "cell_type": "markdown",
   "metadata": {},
   "source": [
    "## File: kumpula_data.xlsx"
   ]
  },
  {
   "cell_type": "markdown",
   "metadata": {},
   "source": [
    "Store the quantity of something in 3 restaurants in different dates"
   ]
  },
  {
   "cell_type": "code",
   "execution_count": null,
   "metadata": {},
   "outputs": [],
   "source": [
    "path = \"experiments_hoangle/kumpula_data.xlsx\"\n",
    "\n",
    "df = pd.read_excel(path, header=0)\n",
    "\n",
    "df.head()"
   ]
  },
  {
   "cell_type": "markdown",
   "metadata": {},
   "source": [
    "## File: kumpula_data.xlsx"
   ]
  },
  {
   "cell_type": "code",
   "execution_count": 6,
   "metadata": {},
   "outputs": [
    {
     "name": "stderr",
     "output_type": "stream",
     "text": [
      "/tmp/ipykernel_27649/1730505476.py:3: DtypeWarning: Columns (5) have mixed types. Specify dtype option on import or set low_memory=False.\n",
      "  df = pd.read_csv(path, delimiter=';')\n"
     ]
    },
    {
     "data": {
      "text/html": [
       "<div>\n",
       "<style scoped>\n",
       "    .dataframe tbody tr th:only-of-type {\n",
       "        vertical-align: middle;\n",
       "    }\n",
       "\n",
       "    .dataframe tbody tr th {\n",
       "        vertical-align: top;\n",
       "    }\n",
       "\n",
       "    .dataframe thead th {\n",
       "        text-align: right;\n",
       "    }\n",
       "</style>\n",
       "<table border=\"1\" class=\"dataframe\">\n",
       "  <thead>\n",
       "    <tr style=\"text-align: right;\">\n",
       "      <th></th>\n",
       "      <th>Date</th>\n",
       "      <th>Receipt time</th>\n",
       "      <th>Restaurant</th>\n",
       "      <th>Food Category</th>\n",
       "      <th>Dish</th>\n",
       "      <th>pcs</th>\n",
       "      <th>Hiilijalanjälki</th>\n",
       "    </tr>\n",
       "  </thead>\n",
       "  <tbody>\n",
       "    <tr>\n",
       "      <th>0</th>\n",
       "      <td>2.1.2023</td>\n",
       "      <td>10:31</td>\n",
       "      <td>600 Chemicum</td>\n",
       "      <td>Liha</td>\n",
       "      <td>Uunimakkaraa,sinappikastiketta</td>\n",
       "      <td>1</td>\n",
       "      <td>0,9</td>\n",
       "    </tr>\n",
       "    <tr>\n",
       "      <th>1</th>\n",
       "      <td>2.1.2023</td>\n",
       "      <td>10:32</td>\n",
       "      <td>600 Chemicum</td>\n",
       "      <td>Kala</td>\n",
       "      <td>Kalapuikot tillikermaviilikast</td>\n",
       "      <td>1</td>\n",
       "      <td>1,04</td>\n",
       "    </tr>\n",
       "    <tr>\n",
       "      <th>2</th>\n",
       "      <td>2.1.2023</td>\n",
       "      <td>10:32</td>\n",
       "      <td>600 Chemicum</td>\n",
       "      <td>Liha</td>\n",
       "      <td>Uunimakkaraa,sinappikastiketta</td>\n",
       "      <td>1</td>\n",
       "      <td>0,9</td>\n",
       "    </tr>\n",
       "    <tr>\n",
       "      <th>3</th>\n",
       "      <td>2.1.2023</td>\n",
       "      <td>10:35</td>\n",
       "      <td>600 Chemicum</td>\n",
       "      <td>Kala</td>\n",
       "      <td>Kalapuikot tillikermaviilikast</td>\n",
       "      <td>1</td>\n",
       "      <td>1,04</td>\n",
       "    </tr>\n",
       "    <tr>\n",
       "      <th>4</th>\n",
       "      <td>2.1.2023</td>\n",
       "      <td>10:36</td>\n",
       "      <td>600 Chemicum</td>\n",
       "      <td>Liha</td>\n",
       "      <td>Uunimakkaraa,sinappikastiketta</td>\n",
       "      <td>2</td>\n",
       "      <td>1,8</td>\n",
       "    </tr>\n",
       "  </tbody>\n",
       "</table>\n",
       "</div>"
      ],
      "text/plain": [
       "       Date Receipt time    Restaurant Food Category  \\\n",
       "0  2.1.2023        10:31  600 Chemicum          Liha   \n",
       "1  2.1.2023        10:32  600 Chemicum          Kala   \n",
       "2  2.1.2023        10:32  600 Chemicum          Liha   \n",
       "3  2.1.2023        10:35  600 Chemicum          Kala   \n",
       "4  2.1.2023        10:36  600 Chemicum          Liha   \n",
       "\n",
       "                             Dish pcs Hiilijalanjälki  \n",
       "0  Uunimakkaraa,sinappikastiketta   1             0,9  \n",
       "1  Kalapuikot tillikermaviilikast   1            1,04  \n",
       "2  Uunimakkaraa,sinappikastiketta   1             0,9  \n",
       "3  Kalapuikot tillikermaviilikast   1            1,04  \n",
       "4  Uunimakkaraa,sinappikastiketta   2             1,8  "
      ]
     },
     "execution_count": 6,
     "metadata": {},
     "output_type": "execute_result"
    }
   ],
   "source": [
    "path = \"src/data/basic_mvp_data/Sold lunches.csv\"\n",
    "\n",
    "df = pd.read_csv(path, delimiter=';')\n",
    "\n",
    "df.head()"
   ]
  }
 ],
 "metadata": {
  "kernelspec": {
   "display_name": "Python 3",
   "language": "python",
   "name": "python3"
  },
  "language_info": {
   "codemirror_mode": {
    "name": "ipython",
    "version": 3
   },
   "file_extension": ".py",
   "mimetype": "text/x-python",
   "name": "python",
   "nbconvert_exporter": "python",
   "pygments_lexer": "ipython3",
   "version": "3.9.19"
  }
 },
 "nbformat": 4,
 "nbformat_minor": 2
}
