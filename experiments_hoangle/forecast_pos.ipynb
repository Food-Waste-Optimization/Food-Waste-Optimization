{
 "cells": [
  {
   "cell_type": "code",
   "execution_count": 1,
   "metadata": {},
   "outputs": [
    {
     "name": "stdout",
     "output_type": "stream",
     "text": [
      "/home/hoanghu/projects/Food-Waste-Optimization\n"
     ]
    }
   ],
   "source": [
    "%cd ../"
   ]
  },
  {
   "cell_type": "code",
   "execution_count": 2,
   "metadata": {},
   "outputs": [],
   "source": [
    "from pathlib import Path\n",
    "import json\n",
    "\n",
    "import matplotlib.pyplot as plt\n",
    "import numpy as np\n",
    "import pandas as pd\n",
    "import seaborn as sns\n",
    "from darts.models import LightGBMModel\n",
    "from darts import TimeSeries\n",
    "from darts import metrics"
   ]
  },
  {
   "cell_type": "code",
   "execution_count": 3,
   "metadata": {},
   "outputs": [],
   "source": [
    "plt.style.use('seaborn-v0_8')\n",
    "plt.rcParams.update({'font.size': 8})"
   ]
  },
  {
   "cell_type": "code",
   "execution_count": 4,
   "metadata": {},
   "outputs": [],
   "source": [
    "path_root_trained_model = Path(\"trained_models\")\n",
    "path_dir_processed = Path(\"experiments_hoangle/processed\")\n",
    "\n",
    "path_fact = path_dir_processed / \"fact.csv\"\n",
    "path_metrics = path_dir_processed / \"metrics.csv\""
   ]
  },
  {
   "cell_type": "markdown",
   "metadata": {},
   "source": [
    "# Read data"
   ]
  },
  {
   "cell_type": "code",
   "execution_count": 5,
   "metadata": {},
   "outputs": [
    {
     "data": {
      "text/html": [
       "<div>\n",
       "<style scoped>\n",
       "    .dataframe tbody tr th:only-of-type {\n",
       "        vertical-align: middle;\n",
       "    }\n",
       "\n",
       "    .dataframe tbody tr th {\n",
       "        vertical-align: top;\n",
       "    }\n",
       "\n",
       "    .dataframe thead th {\n",
       "        text-align: right;\n",
       "    }\n",
       "</style>\n",
       "<table border=\"1\" class=\"dataframe\">\n",
       "  <thead>\n",
       "    <tr style=\"text-align: right;\">\n",
       "      <th></th>\n",
       "      <th>date</th>\n",
       "      <th>restaurant</th>\n",
       "      <th>num_fish</th>\n",
       "      <th>num_chicken</th>\n",
       "      <th>num_vegetarian</th>\n",
       "      <th>num_meat</th>\n",
       "      <th>num_NotMapped</th>\n",
       "      <th>num_vegan</th>\n",
       "      <th>num_customer_in</th>\n",
       "      <th>num_customer_out</th>\n",
       "      <th>num_rcpts</th>\n",
       "      <th>amnt_waste_customer</th>\n",
       "      <th>amnt_waste_coffee</th>\n",
       "      <th>amnt_waste_kitchen</th>\n",
       "      <th>amnt_waste_hall</th>\n",
       "    </tr>\n",
       "  </thead>\n",
       "  <tbody>\n",
       "    <tr>\n",
       "      <th>0</th>\n",
       "      <td>2023-01-02</td>\n",
       "      <td>Chemicum</td>\n",
       "      <td>85.0</td>\n",
       "      <td>0.0</td>\n",
       "      <td>0.0</td>\n",
       "      <td>171.0</td>\n",
       "      <td>1.0</td>\n",
       "      <td>91.0</td>\n",
       "      <td>NaN</td>\n",
       "      <td>NaN</td>\n",
       "      <td>272.0</td>\n",
       "      <td>4.70</td>\n",
       "      <td>1.2</td>\n",
       "      <td>12.0</td>\n",
       "      <td>0.0</td>\n",
       "    </tr>\n",
       "    <tr>\n",
       "      <th>1</th>\n",
       "      <td>2023-01-03</td>\n",
       "      <td>Chemicum</td>\n",
       "      <td>163.0</td>\n",
       "      <td>0.0</td>\n",
       "      <td>32.0</td>\n",
       "      <td>78.0</td>\n",
       "      <td>1.0</td>\n",
       "      <td>120.0</td>\n",
       "      <td>NaN</td>\n",
       "      <td>NaN</td>\n",
       "      <td>327.0</td>\n",
       "      <td>5.00</td>\n",
       "      <td>1.4</td>\n",
       "      <td>14.8</td>\n",
       "      <td>0.0</td>\n",
       "    </tr>\n",
       "    <tr>\n",
       "      <th>2</th>\n",
       "      <td>2023-01-04</td>\n",
       "      <td>Chemicum</td>\n",
       "      <td>70.0</td>\n",
       "      <td>0.0</td>\n",
       "      <td>0.0</td>\n",
       "      <td>218.0</td>\n",
       "      <td>3.0</td>\n",
       "      <td>137.0</td>\n",
       "      <td>NaN</td>\n",
       "      <td>NaN</td>\n",
       "      <td>351.0</td>\n",
       "      <td>4.15</td>\n",
       "      <td>4.0</td>\n",
       "      <td>7.1</td>\n",
       "      <td>0.0</td>\n",
       "    </tr>\n",
       "    <tr>\n",
       "      <th>3</th>\n",
       "      <td>2023-01-05</td>\n",
       "      <td>Chemicum</td>\n",
       "      <td>232.0</td>\n",
       "      <td>85.0</td>\n",
       "      <td>0.0</td>\n",
       "      <td>2.0</td>\n",
       "      <td>4.0</td>\n",
       "      <td>178.0</td>\n",
       "      <td>NaN</td>\n",
       "      <td>NaN</td>\n",
       "      <td>437.0</td>\n",
       "      <td>10.00</td>\n",
       "      <td>3.3</td>\n",
       "      <td>8.5</td>\n",
       "      <td>0.0</td>\n",
       "    </tr>\n",
       "    <tr>\n",
       "      <th>4</th>\n",
       "      <td>2023-01-06</td>\n",
       "      <td>Chemicum</td>\n",
       "      <td>NaN</td>\n",
       "      <td>NaN</td>\n",
       "      <td>NaN</td>\n",
       "      <td>NaN</td>\n",
       "      <td>NaN</td>\n",
       "      <td>NaN</td>\n",
       "      <td>NaN</td>\n",
       "      <td>NaN</td>\n",
       "      <td>NaN</td>\n",
       "      <td>NaN</td>\n",
       "      <td>NaN</td>\n",
       "      <td>NaN</td>\n",
       "      <td>NaN</td>\n",
       "    </tr>\n",
       "  </tbody>\n",
       "</table>\n",
       "</div>"
      ],
      "text/plain": [
       "        date restaurant  num_fish  num_chicken  num_vegetarian  num_meat  \\\n",
       "0 2023-01-02   Chemicum      85.0          0.0             0.0     171.0   \n",
       "1 2023-01-03   Chemicum     163.0          0.0            32.0      78.0   \n",
       "2 2023-01-04   Chemicum      70.0          0.0             0.0     218.0   \n",
       "3 2023-01-05   Chemicum     232.0         85.0             0.0       2.0   \n",
       "4 2023-01-06   Chemicum       NaN          NaN             NaN       NaN   \n",
       "\n",
       "   num_NotMapped  num_vegan  num_customer_in  num_customer_out  num_rcpts  \\\n",
       "0            1.0       91.0              NaN               NaN      272.0   \n",
       "1            1.0      120.0              NaN               NaN      327.0   \n",
       "2            3.0      137.0              NaN               NaN      351.0   \n",
       "3            4.0      178.0              NaN               NaN      437.0   \n",
       "4            NaN        NaN              NaN               NaN        NaN   \n",
       "\n",
       "   amnt_waste_customer  amnt_waste_coffee  amnt_waste_kitchen  amnt_waste_hall  \n",
       "0                 4.70                1.2                12.0              0.0  \n",
       "1                 5.00                1.4                14.8              0.0  \n",
       "2                 4.15                4.0                 7.1              0.0  \n",
       "3                10.00                3.3                 8.5              0.0  \n",
       "4                  NaN                NaN                 NaN              NaN  "
      ]
     },
     "execution_count": 5,
     "metadata": {},
     "output_type": "execute_result"
    }
   ],
   "source": [
    "raw = pd.read_csv(path_fact, header=0, parse_dates=[0])\n",
    "\n",
    "raw.head(5)"
   ]
  },
  {
   "cell_type": "markdown",
   "metadata": {},
   "source": [
    "# Start building model"
   ]
  },
  {
   "cell_type": "code",
   "execution_count": 6,
   "metadata": {},
   "outputs": [],
   "source": [
    "RESTAURANTS = raw['restaurant'].unique()\n",
    "\n",
    "# This cutoff date is used for all 3 forecasting models of 3 corresponding restaurants\n",
    "# to ensure the datetime of predicted series among 3 restaurants are the same\n",
    "DATE_START = '2023-01-09'\n",
    "DATE_END = '2024-06-11'\n",
    "\n",
    "# This EPS is added to series to avoid 0s\n",
    "EPS = 1e-4\n",
    "\n",
    "# This is used for both training (output_chunk_length) and backtesting/predicting (forecast_horizon)\n",
    "FORECAST_HORIZON = 1"
   ]
  },
  {
   "cell_type": "code",
   "execution_count": 7,
   "metadata": {},
   "outputs": [],
   "source": [
    "col_tgt = 'num_rcpts'\n",
    "\n",
    "freq = pd.offsets.BusinessDay()\n",
    "date_range = pd.date_range(start=DATE_START, end=DATE_END, freq=freq)\n",
    "\n",
    "df_tgt = pd.DataFrame({'date': date_range})\n",
    "\n",
    "for restaurant in RESTAURANTS:\n",
    "    # Create target\n",
    "    tgt_raw = raw[raw['restaurant'] == restaurant][['date', col_tgt]]\n",
    "    tgt_raw = tgt_raw[~tgt_raw.isna().any(axis=1)]\n",
    "\n",
    "    # Create dataframe full dates with data from 'tgt_raw'\n",
    "    tgt = pd.DataFrame({'date': date_range})\n",
    "    tgt = tgt.merge(tgt_raw, on='date', how='left')\n",
    "\n",
    "    # Fill nan values by 0s: because they are holiday\n",
    "    tgt.fillna(0, inplace=True)\n",
    "\n",
    "    # rename \n",
    "    tgt.rename(\n",
    "        columns={\n",
    "            'num_rcpts': f\"{restaurant}_rcpts\",\n",
    "        },\n",
    "        inplace=True\n",
    "    )\n",
    "\n",
    "    # merge to main dataframe\n",
    "    df_tgt = df_tgt.merge(tgt, on='date', how='left')"
   ]
  },
  {
   "cell_type": "code",
   "execution_count": 8,
   "metadata": {},
   "outputs": [
    {
     "data": {
      "text/html": [
       "<div>\n",
       "<style scoped>\n",
       "    .dataframe tbody tr th:only-of-type {\n",
       "        vertical-align: middle;\n",
       "    }\n",
       "\n",
       "    .dataframe tbody tr th {\n",
       "        vertical-align: top;\n",
       "    }\n",
       "\n",
       "    .dataframe thead th {\n",
       "        text-align: right;\n",
       "    }\n",
       "</style>\n",
       "<table border=\"1\" class=\"dataframe\">\n",
       "  <thead>\n",
       "    <tr style=\"text-align: right;\">\n",
       "      <th></th>\n",
       "      <th>date</th>\n",
       "      <th>Chemicum_rcpts</th>\n",
       "      <th>Physicum_rcpts</th>\n",
       "      <th>Exactum_rcpts</th>\n",
       "    </tr>\n",
       "  </thead>\n",
       "  <tbody>\n",
       "    <tr>\n",
       "      <th>0</th>\n",
       "      <td>2023-01-09</td>\n",
       "      <td>529.0</td>\n",
       "      <td>125.0</td>\n",
       "      <td>100.0</td>\n",
       "    </tr>\n",
       "    <tr>\n",
       "      <th>1</th>\n",
       "      <td>2023-01-10</td>\n",
       "      <td>456.0</td>\n",
       "      <td>173.0</td>\n",
       "      <td>213.0</td>\n",
       "    </tr>\n",
       "    <tr>\n",
       "      <th>2</th>\n",
       "      <td>2023-01-11</td>\n",
       "      <td>561.0</td>\n",
       "      <td>201.0</td>\n",
       "      <td>217.0</td>\n",
       "    </tr>\n",
       "    <tr>\n",
       "      <th>3</th>\n",
       "      <td>2023-01-12</td>\n",
       "      <td>541.0</td>\n",
       "      <td>197.0</td>\n",
       "      <td>162.0</td>\n",
       "    </tr>\n",
       "    <tr>\n",
       "      <th>4</th>\n",
       "      <td>2023-01-13</td>\n",
       "      <td>540.0</td>\n",
       "      <td>185.0</td>\n",
       "      <td>138.0</td>\n",
       "    </tr>\n",
       "  </tbody>\n",
       "</table>\n",
       "</div>"
      ],
      "text/plain": [
       "        date  Chemicum_rcpts  Physicum_rcpts  Exactum_rcpts\n",
       "0 2023-01-09           529.0           125.0          100.0\n",
       "1 2023-01-10           456.0           173.0          213.0\n",
       "2 2023-01-11           561.0           201.0          217.0\n",
       "3 2023-01-12           541.0           197.0          162.0\n",
       "4 2023-01-13           540.0           185.0          138.0"
      ]
     },
     "execution_count": 8,
     "metadata": {},
     "output_type": "execute_result"
    }
   ],
   "source": [
    "df_tgt.head()"
   ]
  },
  {
   "cell_type": "code",
   "execution_count": 9,
   "metadata": {},
   "outputs": [],
   "source": [
    "cols_tgt = ['Chemicum_rcpts', 'Physicum_rcpts', 'Exactum_rcpts']\n",
    "\n",
    "series_tgt = TimeSeries.from_dataframe(\n",
    "    df=df_tgt,\n",
    "    time_col='date',\n",
    "    freq=freq,\n",
    "    fill_missing_dates=False,\n",
    "    value_cols=cols_tgt\n",
    ")\n",
    "series_tgt = series_tgt + EPS "
   ]
  },
  {
   "cell_type": "markdown",
   "metadata": {},
   "source": [
    "## 2. Build model"
   ]
  },
  {
   "cell_type": "code",
   "execution_count": 10,
   "metadata": {},
   "outputs": [],
   "source": [
    "add_encoders = {\n",
    "    'cyclic': {\n",
    "        'future': ['dayofweek', 'day', 'month']\n",
    "    },\n",
    "    'datetime_attribute': {'future': ['dayofweek', 'day', 'month']},\n",
    "}\n",
    "\n",
    "model = LightGBMModel(\n",
    "    lags=7,\n",
    "    lags_future_covariates=[0],\n",
    "    add_encoders=add_encoders,\n",
    "    output_chunk_length=FORECAST_HORIZON,\n",
    "    verbose=-1\n",
    ")"
   ]
  },
  {
   "cell_type": "markdown",
   "metadata": {},
   "source": [
    "## 3. Backtest"
   ]
  },
  {
   "cell_type": "code",
   "execution_count": 11,
   "metadata": {},
   "outputs": [
    {
     "name": "stderr",
     "output_type": "stream",
     "text": [
      "`enable_optimization=True` is ignored because `retrain` is not `False` or `0`. To hide this warning, set `show_warnings=False` or `enable_optimization=False`.\n"
     ]
    },
    {
     "data": {
      "application/vnd.jupyter.widget-view+json": {
       "model_id": "52f3f4bc98fc498c963398020aed998d",
       "version_major": 2,
       "version_minor": 0
      },
      "text/plain": [
       "  0%|          | 0/363 [00:00<?, ?it/s]"
      ]
     },
     "metadata": {},
     "output_type": "display_data"
    },
    {
     "name": "stdout",
     "output_type": "stream",
     "text": [
      "[95.23171546845552, 72.57559543942904, 59.270503248906834]\n",
      "[25679.17436626346, 11881.177996151722, 8848.064481903972]\n"
     ]
    }
   ],
   "source": [
    "rmse_bt, mse_bt = model.backtest(\n",
    "    series_tgt,\n",
    "    forecast_horizon=FORECAST_HORIZON,\n",
    "    metric=[metrics.rmse, metrics.mse],\n",
    "    metric_kwargs={'component_reduction': None},\n",
    "    verbose=True,\n",
    ").tolist()\n",
    "\n",
    "print(rmse_bt)\n",
    "print(mse_bt)"
   ]
  },
  {
   "cell_type": "markdown",
   "metadata": {},
   "source": [
    "## 4. Train and save"
   ]
  },
  {
   "cell_type": "code",
   "execution_count": 12,
   "metadata": {},
   "outputs": [
    {
     "data": {
      "text/plain": [
       "LightGBMModel(lags=7, lags_past_covariates=None, lags_future_covariates=[0], output_chunk_length=1, output_chunk_shift=0, add_encoders={'cyclic': {'future': ['dayofweek', 'day', 'month']}, 'datetime_attribute': {'future': ['dayofweek', 'day', 'month']}}, likelihood=None, quantiles=None, random_state=None, multi_models=True, use_static_covariates=True, categorical_past_covariates=None, categorical_future_covariates=None, categorical_static_covariates=None, verbose=-1)"
      ]
     },
     "execution_count": 12,
     "metadata": {},
     "output_type": "execute_result"
    }
   ],
   "source": [
    "model.fit(series_tgt)"
   ]
  },
  {
   "cell_type": "code",
   "execution_count": 16,
   "metadata": {},
   "outputs": [],
   "source": [
    "path_model = Path(\"trained_models/receipt/Jul_23_LightBGM.pt\")\n",
    "model.save(path_model)"
   ]
  },
  {
   "cell_type": "code",
   "execution_count": 14,
   "metadata": {},
   "outputs": [
    {
     "data": {
      "text/plain": [
       "DatetimeIndex(['2024-06-12'], dtype='datetime64[ns]', name='date', freq='B')"
      ]
     },
     "execution_count": 14,
     "metadata": {},
     "output_type": "execute_result"
    }
   ],
   "source": [
    "model.predict(1).time_index"
   ]
  }
 ],
 "metadata": {
  "kernelspec": {
   "display_name": "Python 3",
   "language": "python",
   "name": "python3"
  },
  "language_info": {
   "codemirror_mode": {
    "name": "ipython",
    "version": 3
   },
   "file_extension": ".py",
   "mimetype": "text/x-python",
   "name": "python",
   "nbconvert_exporter": "python",
   "pygments_lexer": "ipython3",
   "version": "3.9.19"
  }
 },
 "nbformat": 4,
 "nbformat_minor": 2
}
