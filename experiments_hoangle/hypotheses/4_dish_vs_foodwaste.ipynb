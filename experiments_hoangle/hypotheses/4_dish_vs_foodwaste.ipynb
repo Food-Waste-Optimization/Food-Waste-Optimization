{
 "cells": [
  {
   "cell_type": "code",
   "execution_count": 1,
   "metadata": {},
   "outputs": [
    {
     "name": "stdout",
     "output_type": "stream",
     "text": [
      "/home/hoanghu/projects/Food-Waste-Optimization\n"
     ]
    }
   ],
   "source": [
    "%cd ../../\n",
    "\n",
    "%load_ext autoreload\n",
    "%autoreload 2"
   ]
  },
  {
   "cell_type": "code",
   "execution_count": 2,
   "metadata": {},
   "outputs": [],
   "source": [
    "import itertools\n",
    "from pathlib import Path\n",
    "\n",
    "import numpy as np\n",
    "import pandas as pd\n",
    "import plotly.graph_objects as go\n",
    "from plotly.subplots import make_subplots\n",
    "from sklearn.multioutput import MultiOutputRegressor\n",
    "from sklearn.linear_model import LinearRegression, Ridge, Lasso\n",
    "from sklearn.ensemble import RandomForestRegressor, GradientBoostingRegressor\n",
    "from sklearn.metrics import root_mean_squared_error, r2_score\n",
    "from sklearn.svm import SVR\n",
    "from xgboost import XGBRegressor\n",
    "from lightgbm import LGBMRegressor\n",
    "from catboost import CatBoostRegressor"
   ]
  },
  {
   "cell_type": "code",
   "execution_count": 3,
   "metadata": {},
   "outputs": [],
   "source": [
    "import plotly.io as pio\n",
    "\n",
    "pio.templates.default = \"seaborn\""
   ]
  },
  {
   "cell_type": "markdown",
   "metadata": {},
   "source": [
    "# Load data"
   ]
  },
  {
   "cell_type": "code",
   "execution_count": 4,
   "metadata": {},
   "outputs": [],
   "source": [
    "path_dir_processed = Path(\"experiments_hoangle/processed\")\n",
    "\n",
    "path_lunches = Path(\"src/data/basic_mvp_data/Sold lunches.csv\")\n",
    "path_fact = path_dir_processed / \"fact.csv\"\n",
    "\n",
    "raw_lunch = pd.read_csv(path_lunches, delimiter=';', encoding='utf-8-sig', parse_dates=['Date'], low_memory=False)\n",
    "raw_fact = pd.read_csv(path_fact, header=0, parse_dates=['date'])"
   ]
  },
  {
   "cell_type": "markdown",
   "metadata": {},
   "source": [
    "# Process data"
   ]
  },
  {
   "cell_type": "markdown",
   "metadata": {},
   "source": [
    "## With 'lunches'"
   ]
  },
  {
   "cell_type": "code",
   "execution_count": 5,
   "metadata": {},
   "outputs": [
    {
     "data": {
      "text/html": [
       "<div>\n",
       "<style scoped>\n",
       "    .dataframe tbody tr th:only-of-type {\n",
       "        vertical-align: middle;\n",
       "    }\n",
       "\n",
       "    .dataframe tbody tr th {\n",
       "        vertical-align: top;\n",
       "    }\n",
       "\n",
       "    .dataframe thead th {\n",
       "        text-align: right;\n",
       "    }\n",
       "</style>\n",
       "<table border=\"1\" class=\"dataframe\">\n",
       "  <thead>\n",
       "    <tr style=\"text-align: right;\">\n",
       "      <th></th>\n",
       "      <th>date</th>\n",
       "      <th>restaurant</th>\n",
       "      <th>category</th>\n",
       "      <th>dish</th>\n",
       "      <th>pcs</th>\n",
       "    </tr>\n",
       "  </thead>\n",
       "  <tbody>\n",
       "    <tr>\n",
       "      <th>0</th>\n",
       "      <td>2023-01-02</td>\n",
       "      <td>Chemicum</td>\n",
       "      <td>fish</td>\n",
       "      <td>Kalapuikot tillikermaviilikast</td>\n",
       "      <td>78.0</td>\n",
       "    </tr>\n",
       "    <tr>\n",
       "      <th>1</th>\n",
       "      <td>2023-01-02</td>\n",
       "      <td>Chemicum</td>\n",
       "      <td>meat</td>\n",
       "      <td>Uunimakkaraa</td>\n",
       "      <td>165.0</td>\n",
       "    </tr>\n",
       "    <tr>\n",
       "      <th>2</th>\n",
       "      <td>2023-01-02</td>\n",
       "      <td>Chemicum</td>\n",
       "      <td>vegan</td>\n",
       "      <td>Marokkolainen linssipata</td>\n",
       "      <td>84.0</td>\n",
       "    </tr>\n",
       "    <tr>\n",
       "      <th>3</th>\n",
       "      <td>2023-01-03</td>\n",
       "      <td>Chemicum</td>\n",
       "      <td>fish</td>\n",
       "      <td>Herkkulohipihvit</td>\n",
       "      <td>105.0</td>\n",
       "    </tr>\n",
       "    <tr>\n",
       "      <th>4</th>\n",
       "      <td>2023-01-03</td>\n",
       "      <td>Chemicum</td>\n",
       "      <td>fish</td>\n",
       "      <td>Kalapuikot tillikermaviilikast</td>\n",
       "      <td>52.0</td>\n",
       "    </tr>\n",
       "    <tr>\n",
       "      <th>5</th>\n",
       "      <td>2023-01-03</td>\n",
       "      <td>Chemicum</td>\n",
       "      <td>meat</td>\n",
       "      <td>Pasta Carbonara</td>\n",
       "      <td>17.0</td>\n",
       "    </tr>\n",
       "    <tr>\n",
       "      <th>6</th>\n",
       "      <td>2023-01-03</td>\n",
       "      <td>Chemicum</td>\n",
       "      <td>meat</td>\n",
       "      <td>Uunimakkaraa</td>\n",
       "      <td>56.0</td>\n",
       "    </tr>\n",
       "    <tr>\n",
       "      <th>7</th>\n",
       "      <td>2023-01-03</td>\n",
       "      <td>Chemicum</td>\n",
       "      <td>vegan</td>\n",
       "      <td>Marokkolainen linssipata</td>\n",
       "      <td>62.0</td>\n",
       "    </tr>\n",
       "    <tr>\n",
       "      <th>8</th>\n",
       "      <td>2023-01-03</td>\n",
       "      <td>Chemicum</td>\n",
       "      <td>vegan</td>\n",
       "      <td>Vegaaninen buttertofu</td>\n",
       "      <td>51.0</td>\n",
       "    </tr>\n",
       "    <tr>\n",
       "      <th>9</th>\n",
       "      <td>2023-01-03</td>\n",
       "      <td>Chemicum</td>\n",
       "      <td>vegetarian</td>\n",
       "      <td>Feta-pinaattilasagnette</td>\n",
       "      <td>29.0</td>\n",
       "    </tr>\n",
       "  </tbody>\n",
       "</table>\n",
       "</div>"
      ],
      "text/plain": [
       "        date restaurant    category                            dish    pcs\n",
       "0 2023-01-02   Chemicum        fish  Kalapuikot tillikermaviilikast   78.0\n",
       "1 2023-01-02   Chemicum        meat                    Uunimakkaraa  165.0\n",
       "2 2023-01-02   Chemicum       vegan        Marokkolainen linssipata   84.0\n",
       "3 2023-01-03   Chemicum        fish                Herkkulohipihvit  105.0\n",
       "4 2023-01-03   Chemicum        fish  Kalapuikot tillikermaviilikast   52.0\n",
       "5 2023-01-03   Chemicum        meat                 Pasta Carbonara   17.0\n",
       "6 2023-01-03   Chemicum        meat                    Uunimakkaraa   56.0\n",
       "7 2023-01-03   Chemicum       vegan        Marokkolainen linssipata   62.0\n",
       "8 2023-01-03   Chemicum       vegan           Vegaaninen buttertofu   51.0\n",
       "9 2023-01-03   Chemicum  vegetarian         Feta-pinaattilasagnette   29.0"
      ]
     },
     "execution_count": 5,
     "metadata": {},
     "output_type": "execute_result"
    }
   ],
   "source": [
    "lunches = (\n",
    "    raw_lunch\n",
    "    .replace(\n",
    "        {\n",
    "            '600 Chemicum': 'Chemicum',\n",
    "            '610 Physicum': 'Physicum',\n",
    "            '620 Exactum': 'Exactum',\n",
    "            'Kala': 'fish',\n",
    "            'Liha': 'meat',\n",
    "            'Vegaani': 'vegan',\n",
    "            'Kasvis': 'vegetarian',\n",
    "            'Kana': 'chicken'\n",
    "        },\n",
    "    )\n",
    "    .rename(columns={\n",
    "        'Date': 'date',\n",
    "        'Restaurant': 'restaurant',\n",
    "        'Food Category': 'category',\n",
    "        'Dish': 'dish'\n",
    "    })\n",
    "    \n",
    ")\n",
    "\n",
    "lunches['pcs'] = pd.to_numeric(lunches.pcs, errors='coerce')\n",
    "lunches['date'] = pd.to_datetime(lunches.date, format='%d.%m.%Y', errors='coerce')\n",
    "\n",
    "lunches = (\n",
    "    lunches\n",
    "    .groupby(['date', 'restaurant', 'category', 'dish'])['pcs']\n",
    "    .sum()\n",
    "    .reset_index()\n",
    ")\n",
    "\n",
    "# Remove 'Not Napped'\n",
    "lunches = lunches[lunches['category'] != 'Not Mapped']\n",
    "\n",
    "# Remove 'takeaway'\n",
    "def is_takeaway(s: str):\n",
    "    return s.lower().count('take away') > 0\n",
    "\n",
    "lunches['is_takeaway'] = lunches['dish'].map(is_takeaway)\n",
    "lunches = lunches[~lunches['is_takeaway']].drop(columns='is_takeaway')\n",
    "\n",
    "# Add dish name processing\n",
    "def _f(s: str):\n",
    "    s = s.split(',')[0]\n",
    "    s = s.split('&')[0]\n",
    "    s = s.strip()\n",
    "\n",
    "    return s\n",
    "\n",
    "lunches['dish'] = lunches['dish'].apply(_f)\n",
    "\n",
    "# Sum pieces again since on some dates, same dish appears twice\n",
    "lunches = lunches.groupby(['date', 'restaurant', 'category', 'dish'])['pcs'].sum().reset_index()\n",
    "\n",
    "\n",
    "lunches.head(10)"
   ]
  },
  {
   "cell_type": "markdown",
   "metadata": {},
   "source": [
    "### Create table containing dishes' name and dish quantity by date and restaurant"
   ]
  },
  {
   "cell_type": "code",
   "execution_count": 6,
   "metadata": {},
   "outputs": [
    {
     "data": {
      "text/html": [
       "<div>\n",
       "<style scoped>\n",
       "    .dataframe tbody tr th:only-of-type {\n",
       "        vertical-align: middle;\n",
       "    }\n",
       "\n",
       "    .dataframe tbody tr th {\n",
       "        vertical-align: top;\n",
       "    }\n",
       "\n",
       "    .dataframe thead th {\n",
       "        text-align: right;\n",
       "    }\n",
       "</style>\n",
       "<table border=\"1\" class=\"dataframe\">\n",
       "  <thead>\n",
       "    <tr style=\"text-align: right;\">\n",
       "      <th></th>\n",
       "      <th>category</th>\n",
       "      <th>dishes_chicken</th>\n",
       "      <th>dishes_fish</th>\n",
       "      <th>dishes_meat</th>\n",
       "      <th>dishes_vegan</th>\n",
       "      <th>dishes_vegetarian</th>\n",
       "    </tr>\n",
       "    <tr>\n",
       "      <th>date</th>\n",
       "      <th>restaurant</th>\n",
       "      <th></th>\n",
       "      <th></th>\n",
       "      <th></th>\n",
       "      <th></th>\n",
       "      <th></th>\n",
       "    </tr>\n",
       "  </thead>\n",
       "  <tbody>\n",
       "    <tr>\n",
       "      <th>2023-01-02</th>\n",
       "      <th>Chemicum</th>\n",
       "      <td>NaN</td>\n",
       "      <td>[Kalapuikot tillikermaviilikast]</td>\n",
       "      <td>[Uunimakkaraa]</td>\n",
       "      <td>[Marokkolainen linssipata]</td>\n",
       "      <td>NaN</td>\n",
       "    </tr>\n",
       "    <tr>\n",
       "      <th>2023-01-03</th>\n",
       "      <th>Chemicum</th>\n",
       "      <td>NaN</td>\n",
       "      <td>[Herkkulohipihvit, Kalapuikot tillikermaviilik...</td>\n",
       "      <td>[Pasta Carbonara, Uunimakkaraa]</td>\n",
       "      <td>[Marokkolainen linssipata, Vegaaninen buttertofu]</td>\n",
       "      <td>[Feta-pinaattilasagnette]</td>\n",
       "    </tr>\n",
       "    <tr>\n",
       "      <th>2023-01-04</th>\n",
       "      <th>Chemicum</th>\n",
       "      <td>NaN</td>\n",
       "      <td>[Herkkulohipihvit, Rapea kalaleike]</td>\n",
       "      <td>[Lihapullat]</td>\n",
       "      <td>[Punajuuripyörykät]</td>\n",
       "      <td>NaN</td>\n",
       "    </tr>\n",
       "    <tr>\n",
       "      <th>2023-01-05</th>\n",
       "      <th>Chemicum</th>\n",
       "      <td>[Kievin kana]</td>\n",
       "      <td>[Rapea kalaleike, Sitruunaiset kalapalat]</td>\n",
       "      <td>NaN</td>\n",
       "      <td>[Meksikon Beanit Chilipata]</td>\n",
       "      <td>NaN</td>\n",
       "    </tr>\n",
       "    <tr>\n",
       "      <th>2023-01-09</th>\n",
       "      <th>Chemicum</th>\n",
       "      <td>NaN</td>\n",
       "      <td>[Kalapuikot tillikermaviilikast, Sitruunaiset ...</td>\n",
       "      <td>[Chorizo lihap ja ruskkastike]</td>\n",
       "      <td>[Kasvis-jalapnuget ja tomatsals, Kasvisjauhisp...</td>\n",
       "      <td>NaN</td>\n",
       "    </tr>\n",
       "  </tbody>\n",
       "</table>\n",
       "</div>"
      ],
      "text/plain": [
       "category              dishes_chicken  \\\n",
       "date       restaurant                  \n",
       "2023-01-02 Chemicum              NaN   \n",
       "2023-01-03 Chemicum              NaN   \n",
       "2023-01-04 Chemicum              NaN   \n",
       "2023-01-05 Chemicum    [Kievin kana]   \n",
       "2023-01-09 Chemicum              NaN   \n",
       "\n",
       "category                                                     dishes_fish  \\\n",
       "date       restaurant                                                      \n",
       "2023-01-02 Chemicum                     [Kalapuikot tillikermaviilikast]   \n",
       "2023-01-03 Chemicum    [Herkkulohipihvit, Kalapuikot tillikermaviilik...   \n",
       "2023-01-04 Chemicum                  [Herkkulohipihvit, Rapea kalaleike]   \n",
       "2023-01-05 Chemicum            [Rapea kalaleike, Sitruunaiset kalapalat]   \n",
       "2023-01-09 Chemicum    [Kalapuikot tillikermaviilikast, Sitruunaiset ...   \n",
       "\n",
       "category                                   dishes_meat  \\\n",
       "date       restaurant                                    \n",
       "2023-01-02 Chemicum                     [Uunimakkaraa]   \n",
       "2023-01-03 Chemicum    [Pasta Carbonara, Uunimakkaraa]   \n",
       "2023-01-04 Chemicum                       [Lihapullat]   \n",
       "2023-01-05 Chemicum                                NaN   \n",
       "2023-01-09 Chemicum     [Chorizo lihap ja ruskkastike]   \n",
       "\n",
       "category                                                    dishes_vegan  \\\n",
       "date       restaurant                                                      \n",
       "2023-01-02 Chemicum                           [Marokkolainen linssipata]   \n",
       "2023-01-03 Chemicum    [Marokkolainen linssipata, Vegaaninen buttertofu]   \n",
       "2023-01-04 Chemicum                                  [Punajuuripyörykät]   \n",
       "2023-01-05 Chemicum                          [Meksikon Beanit Chilipata]   \n",
       "2023-01-09 Chemicum    [Kasvis-jalapnuget ja tomatsals, Kasvisjauhisp...   \n",
       "\n",
       "category                       dishes_vegetarian  \n",
       "date       restaurant                             \n",
       "2023-01-02 Chemicum                          NaN  \n",
       "2023-01-03 Chemicum    [Feta-pinaattilasagnette]  \n",
       "2023-01-04 Chemicum                          NaN  \n",
       "2023-01-05 Chemicum                          NaN  \n",
       "2023-01-09 Chemicum                          NaN  "
      ]
     },
     "execution_count": 6,
     "metadata": {},
     "output_type": "execute_result"
    }
   ],
   "source": [
    "tmp1 = (\n",
    "    lunches\n",
    "    .groupby(['date', 'restaurant', 'category'])\n",
    "    .agg({\n",
    "        'dish': lambda x: [x] if isinstance(x, str) else x,\n",
    "    })\n",
    "    .reset_index()\n",
    ")\n",
    "\n",
    "tmp1['category'] = tmp1['category'].map(lambda x: f\"dishes_{x}\")\n",
    "tmp1['dish'] = tmp1['dish'].map(lambda x: np.array([x]) if isinstance(x, str) else x)\n",
    "\n",
    "tmp1 = tmp1.pivot(index=['date', 'restaurant'], columns='category', values='dish')\n",
    "\n",
    "tmp1.head()"
   ]
  },
  {
   "cell_type": "code",
   "execution_count": 7,
   "metadata": {},
   "outputs": [
    {
     "data": {
      "text/html": [
       "<div>\n",
       "<style scoped>\n",
       "    .dataframe tbody tr th:only-of-type {\n",
       "        vertical-align: middle;\n",
       "    }\n",
       "\n",
       "    .dataframe tbody tr th {\n",
       "        vertical-align: top;\n",
       "    }\n",
       "\n",
       "    .dataframe thead th {\n",
       "        text-align: right;\n",
       "    }\n",
       "</style>\n",
       "<table border=\"1\" class=\"dataframe\">\n",
       "  <thead>\n",
       "    <tr style=\"text-align: right;\">\n",
       "      <th></th>\n",
       "      <th>category</th>\n",
       "      <th>no_chicken</th>\n",
       "      <th>no_fish</th>\n",
       "      <th>no_meat</th>\n",
       "      <th>no_vegan</th>\n",
       "      <th>no_vegetarian</th>\n",
       "    </tr>\n",
       "    <tr>\n",
       "      <th>date</th>\n",
       "      <th>restaurant</th>\n",
       "      <th></th>\n",
       "      <th></th>\n",
       "      <th></th>\n",
       "      <th></th>\n",
       "      <th></th>\n",
       "    </tr>\n",
       "  </thead>\n",
       "  <tbody>\n",
       "    <tr>\n",
       "      <th>2023-01-02</th>\n",
       "      <th>Chemicum</th>\n",
       "      <td>0.0</td>\n",
       "      <td>1.0</td>\n",
       "      <td>1.0</td>\n",
       "      <td>1.0</td>\n",
       "      <td>0.0</td>\n",
       "    </tr>\n",
       "    <tr>\n",
       "      <th>2023-01-03</th>\n",
       "      <th>Chemicum</th>\n",
       "      <td>0.0</td>\n",
       "      <td>2.0</td>\n",
       "      <td>2.0</td>\n",
       "      <td>2.0</td>\n",
       "      <td>1.0</td>\n",
       "    </tr>\n",
       "    <tr>\n",
       "      <th>2023-01-04</th>\n",
       "      <th>Chemicum</th>\n",
       "      <td>0.0</td>\n",
       "      <td>2.0</td>\n",
       "      <td>1.0</td>\n",
       "      <td>1.0</td>\n",
       "      <td>0.0</td>\n",
       "    </tr>\n",
       "    <tr>\n",
       "      <th>2023-01-05</th>\n",
       "      <th>Chemicum</th>\n",
       "      <td>1.0</td>\n",
       "      <td>2.0</td>\n",
       "      <td>0.0</td>\n",
       "      <td>1.0</td>\n",
       "      <td>0.0</td>\n",
       "    </tr>\n",
       "    <tr>\n",
       "      <th>2023-01-09</th>\n",
       "      <th>Chemicum</th>\n",
       "      <td>0.0</td>\n",
       "      <td>2.0</td>\n",
       "      <td>1.0</td>\n",
       "      <td>2.0</td>\n",
       "      <td>0.0</td>\n",
       "    </tr>\n",
       "  </tbody>\n",
       "</table>\n",
       "</div>"
      ],
      "text/plain": [
       "category               no_chicken  no_fish  no_meat  no_vegan  no_vegetarian\n",
       "date       restaurant                                                       \n",
       "2023-01-02 Chemicum           0.0      1.0      1.0       1.0            0.0\n",
       "2023-01-03 Chemicum           0.0      2.0      2.0       2.0            1.0\n",
       "2023-01-04 Chemicum           0.0      2.0      1.0       1.0            0.0\n",
       "2023-01-05 Chemicum           1.0      2.0      0.0       1.0            0.0\n",
       "2023-01-09 Chemicum           0.0      2.0      1.0       2.0            0.0"
      ]
     },
     "execution_count": 7,
     "metadata": {},
     "output_type": "execute_result"
    }
   ],
   "source": [
    "tmp2 = (\n",
    "    lunches\n",
    "    .groupby(['date', 'restaurant', 'category'])['dish']\n",
    "    .count()\n",
    "    .reset_index()\n",
    ")\n",
    "\n",
    "tmp2['category'] = tmp2['category'].map(lambda x: f\"no_{x}\")\n",
    "\n",
    "tmp2 = tmp2.pivot(index=['date', 'restaurant'], columns='category', values='dish')\n",
    "\n",
    "tmp2.fillna(0.0, inplace=True)\n",
    "\n",
    "tmp2.head()"
   ]
  },
  {
   "cell_type": "code",
   "execution_count": 8,
   "metadata": {},
   "outputs": [
    {
     "data": {
      "text/html": [
       "<div>\n",
       "<style scoped>\n",
       "    .dataframe tbody tr th:only-of-type {\n",
       "        vertical-align: middle;\n",
       "    }\n",
       "\n",
       "    .dataframe tbody tr th {\n",
       "        vertical-align: top;\n",
       "    }\n",
       "\n",
       "    .dataframe thead th {\n",
       "        text-align: right;\n",
       "    }\n",
       "</style>\n",
       "<table border=\"1\" class=\"dataframe\">\n",
       "  <thead>\n",
       "    <tr style=\"text-align: right;\">\n",
       "      <th></th>\n",
       "      <th>category</th>\n",
       "      <th>dishes_chicken</th>\n",
       "      <th>dishes_fish</th>\n",
       "      <th>dishes_meat</th>\n",
       "      <th>dishes_vegan</th>\n",
       "      <th>dishes_vegetarian</th>\n",
       "      <th>no_chicken</th>\n",
       "      <th>no_fish</th>\n",
       "      <th>no_meat</th>\n",
       "      <th>no_vegan</th>\n",
       "      <th>no_vegetarian</th>\n",
       "    </tr>\n",
       "    <tr>\n",
       "      <th>date</th>\n",
       "      <th>restaurant</th>\n",
       "      <th></th>\n",
       "      <th></th>\n",
       "      <th></th>\n",
       "      <th></th>\n",
       "      <th></th>\n",
       "      <th></th>\n",
       "      <th></th>\n",
       "      <th></th>\n",
       "      <th></th>\n",
       "      <th></th>\n",
       "    </tr>\n",
       "  </thead>\n",
       "  <tbody>\n",
       "    <tr>\n",
       "      <th>2023-01-02</th>\n",
       "      <th>Chemicum</th>\n",
       "      <td>NaN</td>\n",
       "      <td>[Kalapuikot tillikermaviilikast]</td>\n",
       "      <td>[Uunimakkaraa]</td>\n",
       "      <td>[Marokkolainen linssipata]</td>\n",
       "      <td>NaN</td>\n",
       "      <td>0.0</td>\n",
       "      <td>1.0</td>\n",
       "      <td>1.0</td>\n",
       "      <td>1.0</td>\n",
       "      <td>0.0</td>\n",
       "    </tr>\n",
       "    <tr>\n",
       "      <th>2023-01-03</th>\n",
       "      <th>Chemicum</th>\n",
       "      <td>NaN</td>\n",
       "      <td>[Herkkulohipihvit, Kalapuikot tillikermaviilik...</td>\n",
       "      <td>[Pasta Carbonara, Uunimakkaraa]</td>\n",
       "      <td>[Marokkolainen linssipata, Vegaaninen buttertofu]</td>\n",
       "      <td>[Feta-pinaattilasagnette]</td>\n",
       "      <td>0.0</td>\n",
       "      <td>2.0</td>\n",
       "      <td>2.0</td>\n",
       "      <td>2.0</td>\n",
       "      <td>1.0</td>\n",
       "    </tr>\n",
       "    <tr>\n",
       "      <th>2023-01-04</th>\n",
       "      <th>Chemicum</th>\n",
       "      <td>NaN</td>\n",
       "      <td>[Herkkulohipihvit, Rapea kalaleike]</td>\n",
       "      <td>[Lihapullat]</td>\n",
       "      <td>[Punajuuripyörykät]</td>\n",
       "      <td>NaN</td>\n",
       "      <td>0.0</td>\n",
       "      <td>2.0</td>\n",
       "      <td>1.0</td>\n",
       "      <td>1.0</td>\n",
       "      <td>0.0</td>\n",
       "    </tr>\n",
       "    <tr>\n",
       "      <th>2023-01-05</th>\n",
       "      <th>Chemicum</th>\n",
       "      <td>[Kievin kana]</td>\n",
       "      <td>[Rapea kalaleike, Sitruunaiset kalapalat]</td>\n",
       "      <td>NaN</td>\n",
       "      <td>[Meksikon Beanit Chilipata]</td>\n",
       "      <td>NaN</td>\n",
       "      <td>1.0</td>\n",
       "      <td>2.0</td>\n",
       "      <td>0.0</td>\n",
       "      <td>1.0</td>\n",
       "      <td>0.0</td>\n",
       "    </tr>\n",
       "    <tr>\n",
       "      <th>2023-01-09</th>\n",
       "      <th>Chemicum</th>\n",
       "      <td>NaN</td>\n",
       "      <td>[Kalapuikot tillikermaviilikast, Sitruunaiset ...</td>\n",
       "      <td>[Chorizo lihap ja ruskkastike]</td>\n",
       "      <td>[Kasvis-jalapnuget ja tomatsals, Kasvisjauhisp...</td>\n",
       "      <td>NaN</td>\n",
       "      <td>0.0</td>\n",
       "      <td>2.0</td>\n",
       "      <td>1.0</td>\n",
       "      <td>2.0</td>\n",
       "      <td>0.0</td>\n",
       "    </tr>\n",
       "  </tbody>\n",
       "</table>\n",
       "</div>"
      ],
      "text/plain": [
       "category              dishes_chicken  \\\n",
       "date       restaurant                  \n",
       "2023-01-02 Chemicum              NaN   \n",
       "2023-01-03 Chemicum              NaN   \n",
       "2023-01-04 Chemicum              NaN   \n",
       "2023-01-05 Chemicum    [Kievin kana]   \n",
       "2023-01-09 Chemicum              NaN   \n",
       "\n",
       "category                                                     dishes_fish  \\\n",
       "date       restaurant                                                      \n",
       "2023-01-02 Chemicum                     [Kalapuikot tillikermaviilikast]   \n",
       "2023-01-03 Chemicum    [Herkkulohipihvit, Kalapuikot tillikermaviilik...   \n",
       "2023-01-04 Chemicum                  [Herkkulohipihvit, Rapea kalaleike]   \n",
       "2023-01-05 Chemicum            [Rapea kalaleike, Sitruunaiset kalapalat]   \n",
       "2023-01-09 Chemicum    [Kalapuikot tillikermaviilikast, Sitruunaiset ...   \n",
       "\n",
       "category                                   dishes_meat  \\\n",
       "date       restaurant                                    \n",
       "2023-01-02 Chemicum                     [Uunimakkaraa]   \n",
       "2023-01-03 Chemicum    [Pasta Carbonara, Uunimakkaraa]   \n",
       "2023-01-04 Chemicum                       [Lihapullat]   \n",
       "2023-01-05 Chemicum                                NaN   \n",
       "2023-01-09 Chemicum     [Chorizo lihap ja ruskkastike]   \n",
       "\n",
       "category                                                    dishes_vegan  \\\n",
       "date       restaurant                                                      \n",
       "2023-01-02 Chemicum                           [Marokkolainen linssipata]   \n",
       "2023-01-03 Chemicum    [Marokkolainen linssipata, Vegaaninen buttertofu]   \n",
       "2023-01-04 Chemicum                                  [Punajuuripyörykät]   \n",
       "2023-01-05 Chemicum                          [Meksikon Beanit Chilipata]   \n",
       "2023-01-09 Chemicum    [Kasvis-jalapnuget ja tomatsals, Kasvisjauhisp...   \n",
       "\n",
       "category                       dishes_vegetarian  no_chicken  no_fish  \\\n",
       "date       restaurant                                                   \n",
       "2023-01-02 Chemicum                          NaN         0.0      1.0   \n",
       "2023-01-03 Chemicum    [Feta-pinaattilasagnette]         0.0      2.0   \n",
       "2023-01-04 Chemicum                          NaN         0.0      2.0   \n",
       "2023-01-05 Chemicum                          NaN         1.0      2.0   \n",
       "2023-01-09 Chemicum                          NaN         0.0      2.0   \n",
       "\n",
       "category               no_meat  no_vegan  no_vegetarian  \n",
       "date       restaurant                                    \n",
       "2023-01-02 Chemicum        1.0       1.0            0.0  \n",
       "2023-01-03 Chemicum        2.0       2.0            1.0  \n",
       "2023-01-04 Chemicum        1.0       1.0            0.0  \n",
       "2023-01-05 Chemicum        0.0       1.0            0.0  \n",
       "2023-01-09 Chemicum        1.0       2.0            0.0  "
      ]
     },
     "execution_count": 8,
     "metadata": {},
     "output_type": "execute_result"
    }
   ],
   "source": [
    "lunches = tmp1.merge(tmp2, on=['date', 'restaurant'], how='inner')\n",
    "\n",
    "lunches.head()"
   ]
  },
  {
   "cell_type": "markdown",
   "metadata": {},
   "source": [
    "## With 'fact'"
   ]
  },
  {
   "cell_type": "code",
   "execution_count": 9,
   "metadata": {},
   "outputs": [
    {
     "data": {
      "text/html": [
       "<div>\n",
       "<style scoped>\n",
       "    .dataframe tbody tr th:only-of-type {\n",
       "        vertical-align: middle;\n",
       "    }\n",
       "\n",
       "    .dataframe tbody tr th {\n",
       "        vertical-align: top;\n",
       "    }\n",
       "\n",
       "    .dataframe thead th {\n",
       "        text-align: right;\n",
       "    }\n",
       "</style>\n",
       "<table border=\"1\" class=\"dataframe\">\n",
       "  <thead>\n",
       "    <tr style=\"text-align: right;\">\n",
       "      <th></th>\n",
       "      <th>date</th>\n",
       "      <th>restaurant</th>\n",
       "      <th>amnt_waste_customer</th>\n",
       "      <th>amnt_waste_coffee</th>\n",
       "      <th>amnt_waste_kitchen</th>\n",
       "      <th>amnt_waste_hall</th>\n",
       "    </tr>\n",
       "  </thead>\n",
       "  <tbody>\n",
       "    <tr>\n",
       "      <th>0</th>\n",
       "      <td>2023-01-02</td>\n",
       "      <td>Chemicum</td>\n",
       "      <td>4.70</td>\n",
       "      <td>1.2</td>\n",
       "      <td>12.0</td>\n",
       "      <td>0.0</td>\n",
       "    </tr>\n",
       "    <tr>\n",
       "      <th>1</th>\n",
       "      <td>2023-01-03</td>\n",
       "      <td>Chemicum</td>\n",
       "      <td>5.00</td>\n",
       "      <td>1.4</td>\n",
       "      <td>14.8</td>\n",
       "      <td>0.0</td>\n",
       "    </tr>\n",
       "    <tr>\n",
       "      <th>2</th>\n",
       "      <td>2023-01-04</td>\n",
       "      <td>Chemicum</td>\n",
       "      <td>4.15</td>\n",
       "      <td>4.0</td>\n",
       "      <td>7.1</td>\n",
       "      <td>0.0</td>\n",
       "    </tr>\n",
       "    <tr>\n",
       "      <th>3</th>\n",
       "      <td>2023-01-05</td>\n",
       "      <td>Chemicum</td>\n",
       "      <td>10.00</td>\n",
       "      <td>3.3</td>\n",
       "      <td>8.5</td>\n",
       "      <td>0.0</td>\n",
       "    </tr>\n",
       "    <tr>\n",
       "      <th>5</th>\n",
       "      <td>2023-01-09</td>\n",
       "      <td>Chemicum</td>\n",
       "      <td>7.65</td>\n",
       "      <td>2.1</td>\n",
       "      <td>4.9</td>\n",
       "      <td>0.0</td>\n",
       "    </tr>\n",
       "  </tbody>\n",
       "</table>\n",
       "</div>"
      ],
      "text/plain": [
       "        date restaurant  amnt_waste_customer  amnt_waste_coffee  \\\n",
       "0 2023-01-02   Chemicum                 4.70                1.2   \n",
       "1 2023-01-03   Chemicum                 5.00                1.4   \n",
       "2 2023-01-04   Chemicum                 4.15                4.0   \n",
       "3 2023-01-05   Chemicum                10.00                3.3   \n",
       "5 2023-01-09   Chemicum                 7.65                2.1   \n",
       "\n",
       "   amnt_waste_kitchen  amnt_waste_hall  \n",
       "0                12.0              0.0  \n",
       "1                14.8              0.0  \n",
       "2                 7.1              0.0  \n",
       "3                 8.5              0.0  \n",
       "5                 4.9              0.0  "
      ]
     },
     "execution_count": 9,
     "metadata": {},
     "output_type": "execute_result"
    }
   ],
   "source": [
    "cols = [\n",
    "    'date',\n",
    "    'restaurant',\n",
    "    'amnt_waste_customer',\n",
    "    'amnt_waste_coffee',\n",
    "    'amnt_waste_kitchen',\n",
    "    'amnt_waste_hall'\n",
    "]\n",
    "\n",
    "wastes = raw_fact[cols].dropna(axis=0)\n",
    "wastes.head()"
   ]
  },
  {
   "cell_type": "markdown",
   "metadata": {},
   "source": [
    "## Create final fact table containing waste amount in different types, dishes by date and restaurant"
   ]
  },
  {
   "cell_type": "code",
   "execution_count": 10,
   "metadata": {},
   "outputs": [
    {
     "data": {
      "text/html": [
       "<div>\n",
       "<style scoped>\n",
       "    .dataframe tbody tr th:only-of-type {\n",
       "        vertical-align: middle;\n",
       "    }\n",
       "\n",
       "    .dataframe tbody tr th {\n",
       "        vertical-align: top;\n",
       "    }\n",
       "\n",
       "    .dataframe thead th {\n",
       "        text-align: right;\n",
       "    }\n",
       "</style>\n",
       "<table border=\"1\" class=\"dataframe\">\n",
       "  <thead>\n",
       "    <tr style=\"text-align: right;\">\n",
       "      <th></th>\n",
       "      <th>date</th>\n",
       "      <th>restaurant</th>\n",
       "      <th>dishes_chicken</th>\n",
       "      <th>dishes_fish</th>\n",
       "      <th>dishes_meat</th>\n",
       "      <th>dishes_vegan</th>\n",
       "      <th>dishes_vegetarian</th>\n",
       "      <th>no_chicken</th>\n",
       "      <th>no_fish</th>\n",
       "      <th>no_meat</th>\n",
       "      <th>no_vegan</th>\n",
       "      <th>no_vegetarian</th>\n",
       "      <th>amnt_waste_customer</th>\n",
       "      <th>amnt_waste_coffee</th>\n",
       "      <th>amnt_waste_kitchen</th>\n",
       "      <th>amnt_waste_hall</th>\n",
       "    </tr>\n",
       "  </thead>\n",
       "  <tbody>\n",
       "    <tr>\n",
       "      <th>0</th>\n",
       "      <td>2023-01-02</td>\n",
       "      <td>Chemicum</td>\n",
       "      <td>NaN</td>\n",
       "      <td>[Kalapuikot tillikermaviilikast]</td>\n",
       "      <td>[Uunimakkaraa]</td>\n",
       "      <td>[Marokkolainen linssipata]</td>\n",
       "      <td>NaN</td>\n",
       "      <td>0.0</td>\n",
       "      <td>1.0</td>\n",
       "      <td>1.0</td>\n",
       "      <td>1.0</td>\n",
       "      <td>0.0</td>\n",
       "      <td>4.70</td>\n",
       "      <td>1.2</td>\n",
       "      <td>12.0</td>\n",
       "      <td>0.0</td>\n",
       "    </tr>\n",
       "    <tr>\n",
       "      <th>1</th>\n",
       "      <td>2023-01-03</td>\n",
       "      <td>Chemicum</td>\n",
       "      <td>NaN</td>\n",
       "      <td>[Herkkulohipihvit, Kalapuikot tillikermaviilik...</td>\n",
       "      <td>[Pasta Carbonara, Uunimakkaraa]</td>\n",
       "      <td>[Marokkolainen linssipata, Vegaaninen buttertofu]</td>\n",
       "      <td>[Feta-pinaattilasagnette]</td>\n",
       "      <td>0.0</td>\n",
       "      <td>2.0</td>\n",
       "      <td>2.0</td>\n",
       "      <td>2.0</td>\n",
       "      <td>1.0</td>\n",
       "      <td>5.00</td>\n",
       "      <td>1.4</td>\n",
       "      <td>14.8</td>\n",
       "      <td>0.0</td>\n",
       "    </tr>\n",
       "    <tr>\n",
       "      <th>2</th>\n",
       "      <td>2023-01-04</td>\n",
       "      <td>Chemicum</td>\n",
       "      <td>NaN</td>\n",
       "      <td>[Herkkulohipihvit, Rapea kalaleike]</td>\n",
       "      <td>[Lihapullat]</td>\n",
       "      <td>[Punajuuripyörykät]</td>\n",
       "      <td>NaN</td>\n",
       "      <td>0.0</td>\n",
       "      <td>2.0</td>\n",
       "      <td>1.0</td>\n",
       "      <td>1.0</td>\n",
       "      <td>0.0</td>\n",
       "      <td>4.15</td>\n",
       "      <td>4.0</td>\n",
       "      <td>7.1</td>\n",
       "      <td>0.0</td>\n",
       "    </tr>\n",
       "    <tr>\n",
       "      <th>3</th>\n",
       "      <td>2023-01-05</td>\n",
       "      <td>Chemicum</td>\n",
       "      <td>[Kievin kana]</td>\n",
       "      <td>[Rapea kalaleike, Sitruunaiset kalapalat]</td>\n",
       "      <td>NaN</td>\n",
       "      <td>[Meksikon Beanit Chilipata]</td>\n",
       "      <td>NaN</td>\n",
       "      <td>1.0</td>\n",
       "      <td>2.0</td>\n",
       "      <td>0.0</td>\n",
       "      <td>1.0</td>\n",
       "      <td>0.0</td>\n",
       "      <td>10.00</td>\n",
       "      <td>3.3</td>\n",
       "      <td>8.5</td>\n",
       "      <td>0.0</td>\n",
       "    </tr>\n",
       "    <tr>\n",
       "      <th>4</th>\n",
       "      <td>2023-01-09</td>\n",
       "      <td>Chemicum</td>\n",
       "      <td>NaN</td>\n",
       "      <td>[Kalapuikot tillikermaviilikast, Sitruunaiset ...</td>\n",
       "      <td>[Chorizo lihap ja ruskkastike]</td>\n",
       "      <td>[Kasvis-jalapnuget ja tomatsals, Kasvisjauhisp...</td>\n",
       "      <td>NaN</td>\n",
       "      <td>0.0</td>\n",
       "      <td>2.0</td>\n",
       "      <td>1.0</td>\n",
       "      <td>2.0</td>\n",
       "      <td>0.0</td>\n",
       "      <td>7.65</td>\n",
       "      <td>2.1</td>\n",
       "      <td>4.9</td>\n",
       "      <td>0.0</td>\n",
       "    </tr>\n",
       "  </tbody>\n",
       "</table>\n",
       "</div>"
      ],
      "text/plain": [
       "        date restaurant dishes_chicken  \\\n",
       "0 2023-01-02   Chemicum            NaN   \n",
       "1 2023-01-03   Chemicum            NaN   \n",
       "2 2023-01-04   Chemicum            NaN   \n",
       "3 2023-01-05   Chemicum  [Kievin kana]   \n",
       "4 2023-01-09   Chemicum            NaN   \n",
       "\n",
       "                                         dishes_fish  \\\n",
       "0                   [Kalapuikot tillikermaviilikast]   \n",
       "1  [Herkkulohipihvit, Kalapuikot tillikermaviilik...   \n",
       "2                [Herkkulohipihvit, Rapea kalaleike]   \n",
       "3          [Rapea kalaleike, Sitruunaiset kalapalat]   \n",
       "4  [Kalapuikot tillikermaviilikast, Sitruunaiset ...   \n",
       "\n",
       "                       dishes_meat  \\\n",
       "0                   [Uunimakkaraa]   \n",
       "1  [Pasta Carbonara, Uunimakkaraa]   \n",
       "2                     [Lihapullat]   \n",
       "3                              NaN   \n",
       "4   [Chorizo lihap ja ruskkastike]   \n",
       "\n",
       "                                        dishes_vegan  \\\n",
       "0                         [Marokkolainen linssipata]   \n",
       "1  [Marokkolainen linssipata, Vegaaninen buttertofu]   \n",
       "2                                [Punajuuripyörykät]   \n",
       "3                        [Meksikon Beanit Chilipata]   \n",
       "4  [Kasvis-jalapnuget ja tomatsals, Kasvisjauhisp...   \n",
       "\n",
       "           dishes_vegetarian  no_chicken  no_fish  no_meat  no_vegan  \\\n",
       "0                        NaN         0.0      1.0      1.0       1.0   \n",
       "1  [Feta-pinaattilasagnette]         0.0      2.0      2.0       2.0   \n",
       "2                        NaN         0.0      2.0      1.0       1.0   \n",
       "3                        NaN         1.0      2.0      0.0       1.0   \n",
       "4                        NaN         0.0      2.0      1.0       2.0   \n",
       "\n",
       "   no_vegetarian  amnt_waste_customer  amnt_waste_coffee  amnt_waste_kitchen  \\\n",
       "0            0.0                 4.70                1.2                12.0   \n",
       "1            1.0                 5.00                1.4                14.8   \n",
       "2            0.0                 4.15                4.0                 7.1   \n",
       "3            0.0                10.00                3.3                 8.5   \n",
       "4            0.0                 7.65                2.1                 4.9   \n",
       "\n",
       "   amnt_waste_hall  \n",
       "0              0.0  \n",
       "1              0.0  \n",
       "2              0.0  \n",
       "3              0.0  \n",
       "4              0.0  "
      ]
     },
     "execution_count": 10,
     "metadata": {},
     "output_type": "execute_result"
    }
   ],
   "source": [
    "fact = lunches.merge(wastes, on=['date', 'restaurant'], how='inner')\n",
    "\n",
    "fact.head()"
   ]
  },
  {
   "cell_type": "markdown",
   "metadata": {},
   "source": [
    "# Explore\n",
    "\n",
    "Check how the dishes affect the waste amount"
   ]
  },
  {
   "cell_type": "code",
   "execution_count": 11,
   "metadata": {},
   "outputs": [],
   "source": [
    "restaurant = \"Chemicum\""
   ]
  },
  {
   "cell_type": "markdown",
   "metadata": {},
   "source": [
    "## Check: no. dishes per type -> waste amount per type"
   ]
  },
  {
   "cell_type": "code",
   "execution_count": 34,
   "metadata": {},
   "outputs": [],
   "source": [
    "cols_X = ['no_chicken', 'no_fish', 'no_meat', 'no_vegan', 'no_vegetarian']\n",
    "cols_y = ['amnt_waste_customer', 'amnt_waste_coffee', 'amnt_waste_kitchen', 'amnt_waste_hall']\n",
    "\n",
    "X = fact[fact['restau rant'] == restaurant][cols_X]\n",
    "y = fact[fact['restaurant'] == restaurant][cols_y]"
   ]
  },
  {
   "cell_type": "code",
   "execution_count": 13,
   "metadata": {},
   "outputs": [],
   "source": [
    "is_multi = True\n",
    "\n",
    "def _get_reg(model, is_multi: bool):\n",
    "    if is_multi is True:\n",
    "        return MultiOutputRegressor(model)\n",
    "    else:\n",
    "        return model\n",
    "\n",
    "models = {\n",
    "    'Linear': {'model': LinearRegression(), 'rmse': 0., 'r2': 0.},\n",
    "    'Ridge': {'model': Ridge(), 'rmse': 0., 'r2': 0.},\n",
    "    'Lasso': {'model': Lasso(), 'rmse': 0., 'r2': 0.},\n",
    "    'SVM': {'model': _get_reg(SVR(), is_multi), 'rmse': 0., 'r2': 0.},\n",
    "    'RF': {'model': _get_reg(RandomForestRegressor(), is_multi), 'rmse': 0., 'r2': 0.},\n",
    "    'GB': {'model': _get_reg(GradientBoostingRegressor(), is_multi), 'rmse': 0., 'r2': 0.},\n",
    "    'XGB': {'model': _get_reg(XGBRegressor(), is_multi), 'rmse': 0., 'r2': 0.},\n",
    "    'CatBoost': {'model': _get_reg(CatBoostRegressor(verbose=False), is_multi), 'rmse': 0., 'r2': 0.},\n",
    "    'LightBGM': {'model': _get_reg(LGBMRegressor(verbose=-1), is_multi), 'rmse': 0., 'r2': 0.},\n",
    "}\n",
    "\n",
    "for v in models.values():\n",
    "    model = v['model']\n",
    "    model.fit(X, y)\n",
    "\n",
    "    y_pred = model.predict(X)\n",
    "\n",
    "    v['rmse'] = root_mean_squared_error(y, y_pred)\n",
    "    v['r2'] = r2_score(y, y_pred)"
   ]
  },
  {
   "cell_type": "markdown",
   "metadata": {},
   "source": [
    "### Plot results"
   ]
  },
  {
   "cell_type": "code",
   "execution_count": 14,
   "metadata": {},
   "outputs": [
    {
     "data": {
      "text/html": [
       "<div>\n",
       "<style scoped>\n",
       "    .dataframe tbody tr th:only-of-type {\n",
       "        vertical-align: middle;\n",
       "    }\n",
       "\n",
       "    .dataframe tbody tr th {\n",
       "        vertical-align: top;\n",
       "    }\n",
       "\n",
       "    .dataframe thead th {\n",
       "        text-align: right;\n",
       "    }\n",
       "</style>\n",
       "<table border=\"1\" class=\"dataframe\">\n",
       "  <thead>\n",
       "    <tr style=\"text-align: right;\">\n",
       "      <th></th>\n",
       "      <th>model</th>\n",
       "      <th>rmse</th>\n",
       "    </tr>\n",
       "  </thead>\n",
       "  <tbody>\n",
       "    <tr>\n",
       "      <th>0</th>\n",
       "      <td>Linear</td>\n",
       "      <td>5.483743</td>\n",
       "    </tr>\n",
       "    <tr>\n",
       "      <th>1</th>\n",
       "      <td>Ridge</td>\n",
       "      <td>5.483751</td>\n",
       "    </tr>\n",
       "    <tr>\n",
       "      <th>2</th>\n",
       "      <td>Lasso</td>\n",
       "      <td>5.540983</td>\n",
       "    </tr>\n",
       "    <tr>\n",
       "      <th>3</th>\n",
       "      <td>SVM</td>\n",
       "      <td>5.629358</td>\n",
       "    </tr>\n",
       "    <tr>\n",
       "      <th>4</th>\n",
       "      <td>RF</td>\n",
       "      <td>4.946256</td>\n",
       "    </tr>\n",
       "  </tbody>\n",
       "</table>\n",
       "</div>"
      ],
      "text/plain": [
       "    model      rmse\n",
       "0  Linear  5.483743\n",
       "1   Ridge  5.483751\n",
       "2   Lasso  5.540983\n",
       "3     SVM  5.629358\n",
       "4      RF  4.946256"
      ]
     },
     "execution_count": 14,
     "metadata": {},
     "output_type": "execute_result"
    }
   ],
   "source": [
    "rmse_vals = pd.DataFrame.from_records([\n",
    "    {'model': name, 'rmse': v['rmse']}\n",
    "    for name, v in models.items()\n",
    "])\n",
    "\n",
    "r2_vals = pd.DataFrame.from_records([\n",
    "    {'model': name, 'r2': v['r2']}\n",
    "    for name, v in models.items()\n",
    "])\n",
    "\n",
    "rmse_vals.head()"
   ]
  },
  {
   "cell_type": "code",
   "execution_count": 15,
   "metadata": {},
   "outputs": [
    {
     "data": {
      "application/vnd.plotly.v1+json": {
       "config": {
        "plotlyServerURL": "https://plot.ly"
       },
       "data": [
        {
         "name": "RMSE",
         "type": "bar",
         "x": [
          "Linear",
          "Ridge",
          "Lasso",
          "SVM",
          "RF",
          "GB",
          "XGB",
          "CatBoost",
          "LightBGM"
         ],
         "xaxis": "x",
         "y": [
          5.483742674804448,
          5.4837509514011575,
          5.5409831059489765,
          5.629358418591375,
          4.946255943450644,
          5.1933744024825605,
          4.887421893456008,
          4.893570052864603,
          5.289835959412803
         ],
         "yaxis": "y"
        },
        {
         "name": "R2",
         "type": "bar",
         "x": [
          "Linear",
          "Ridge",
          "Lasso",
          "SVM",
          "RF",
          "GB",
          "XGB",
          "CatBoost",
          "LightBGM"
         ],
         "xaxis": "x2",
         "y": [
          0.019045815659005344,
          0.01904316703721226,
          -3.885780586188048e-16,
          -0.03807841243288507,
          0.20420375930431628,
          0.1213459651880962,
          0.22337549924850464,
          0.22138795516405013,
          0.08749010575436975
         ],
         "yaxis": "y2"
        }
       ],
       "layout": {
        "height": 600,
        "template": {
         "data": {
          "bar": [
           {
            "error_x": {
             "color": "rgb(36,36,36)"
            },
            "error_y": {
             "color": "rgb(36,36,36)"
            },
            "marker": {
             "line": {
              "color": "rgb(234,234,242)",
              "width": 0.5
             },
             "pattern": {
              "fillmode": "overlay",
              "size": 10,
              "solidity": 0.2
             }
            },
            "type": "bar"
           }
          ],
          "barpolar": [
           {
            "marker": {
             "line": {
              "color": "rgb(234,234,242)",
              "width": 0.5
             },
             "pattern": {
              "fillmode": "overlay",
              "size": 10,
              "solidity": 0.2
             }
            },
            "type": "barpolar"
           }
          ],
          "carpet": [
           {
            "aaxis": {
             "endlinecolor": "rgb(36,36,36)",
             "gridcolor": "white",
             "linecolor": "white",
             "minorgridcolor": "white",
             "startlinecolor": "rgb(36,36,36)"
            },
            "baxis": {
             "endlinecolor": "rgb(36,36,36)",
             "gridcolor": "white",
             "linecolor": "white",
             "minorgridcolor": "white",
             "startlinecolor": "rgb(36,36,36)"
            },
            "type": "carpet"
           }
          ],
          "choropleth": [
           {
            "colorbar": {
             "outlinewidth": 0,
             "tickcolor": "rgb(36,36,36)",
             "ticklen": 8,
             "ticks": "outside",
             "tickwidth": 2
            },
            "type": "choropleth"
           }
          ],
          "contour": [
           {
            "colorbar": {
             "outlinewidth": 0,
             "tickcolor": "rgb(36,36,36)",
             "ticklen": 8,
             "ticks": "outside",
             "tickwidth": 2
            },
            "colorscale": [
             [
              0,
              "rgb(2,4,25)"
             ],
             [
              0.06274509803921569,
              "rgb(24,15,41)"
             ],
             [
              0.12549019607843137,
              "rgb(47,23,57)"
             ],
             [
              0.18823529411764706,
              "rgb(71,28,72)"
             ],
             [
              0.25098039215686274,
              "rgb(97,30,82)"
             ],
             [
              0.3137254901960784,
              "rgb(123,30,89)"
             ],
             [
              0.3764705882352941,
              "rgb(150,27,91)"
             ],
             [
              0.4392156862745098,
              "rgb(177,22,88)"
             ],
             [
              0.5019607843137255,
              "rgb(203,26,79)"
             ],
             [
              0.5647058823529412,
              "rgb(223,47,67)"
             ],
             [
              0.6274509803921569,
              "rgb(236,76,61)"
             ],
             [
              0.6901960784313725,
              "rgb(242,107,73)"
             ],
             [
              0.7529411764705882,
              "rgb(244,135,95)"
             ],
             [
              0.8156862745098039,
              "rgb(245,162,122)"
             ],
             [
              0.8784313725490196,
              "rgb(246,188,153)"
             ],
             [
              0.9411764705882353,
              "rgb(247,212,187)"
             ],
             [
              1,
              "rgb(250,234,220)"
             ]
            ],
            "type": "contour"
           }
          ],
          "contourcarpet": [
           {
            "colorbar": {
             "outlinewidth": 0,
             "tickcolor": "rgb(36,36,36)",
             "ticklen": 8,
             "ticks": "outside",
             "tickwidth": 2
            },
            "type": "contourcarpet"
           }
          ],
          "heatmap": [
           {
            "colorbar": {
             "outlinewidth": 0,
             "tickcolor": "rgb(36,36,36)",
             "ticklen": 8,
             "ticks": "outside",
             "tickwidth": 2
            },
            "colorscale": [
             [
              0,
              "rgb(2,4,25)"
             ],
             [
              0.06274509803921569,
              "rgb(24,15,41)"
             ],
             [
              0.12549019607843137,
              "rgb(47,23,57)"
             ],
             [
              0.18823529411764706,
              "rgb(71,28,72)"
             ],
             [
              0.25098039215686274,
              "rgb(97,30,82)"
             ],
             [
              0.3137254901960784,
              "rgb(123,30,89)"
             ],
             [
              0.3764705882352941,
              "rgb(150,27,91)"
             ],
             [
              0.4392156862745098,
              "rgb(177,22,88)"
             ],
             [
              0.5019607843137255,
              "rgb(203,26,79)"
             ],
             [
              0.5647058823529412,
              "rgb(223,47,67)"
             ],
             [
              0.6274509803921569,
              "rgb(236,76,61)"
             ],
             [
              0.6901960784313725,
              "rgb(242,107,73)"
             ],
             [
              0.7529411764705882,
              "rgb(244,135,95)"
             ],
             [
              0.8156862745098039,
              "rgb(245,162,122)"
             ],
             [
              0.8784313725490196,
              "rgb(246,188,153)"
             ],
             [
              0.9411764705882353,
              "rgb(247,212,187)"
             ],
             [
              1,
              "rgb(250,234,220)"
             ]
            ],
            "type": "heatmap"
           }
          ],
          "heatmapgl": [
           {
            "colorbar": {
             "outlinewidth": 0,
             "tickcolor": "rgb(36,36,36)",
             "ticklen": 8,
             "ticks": "outside",
             "tickwidth": 2
            },
            "colorscale": [
             [
              0,
              "rgb(2,4,25)"
             ],
             [
              0.06274509803921569,
              "rgb(24,15,41)"
             ],
             [
              0.12549019607843137,
              "rgb(47,23,57)"
             ],
             [
              0.18823529411764706,
              "rgb(71,28,72)"
             ],
             [
              0.25098039215686274,
              "rgb(97,30,82)"
             ],
             [
              0.3137254901960784,
              "rgb(123,30,89)"
             ],
             [
              0.3764705882352941,
              "rgb(150,27,91)"
             ],
             [
              0.4392156862745098,
              "rgb(177,22,88)"
             ],
             [
              0.5019607843137255,
              "rgb(203,26,79)"
             ],
             [
              0.5647058823529412,
              "rgb(223,47,67)"
             ],
             [
              0.6274509803921569,
              "rgb(236,76,61)"
             ],
             [
              0.6901960784313725,
              "rgb(242,107,73)"
             ],
             [
              0.7529411764705882,
              "rgb(244,135,95)"
             ],
             [
              0.8156862745098039,
              "rgb(245,162,122)"
             ],
             [
              0.8784313725490196,
              "rgb(246,188,153)"
             ],
             [
              0.9411764705882353,
              "rgb(247,212,187)"
             ],
             [
              1,
              "rgb(250,234,220)"
             ]
            ],
            "type": "heatmapgl"
           }
          ],
          "histogram": [
           {
            "marker": {
             "pattern": {
              "fillmode": "overlay",
              "size": 10,
              "solidity": 0.2
             }
            },
            "type": "histogram"
           }
          ],
          "histogram2d": [
           {
            "colorbar": {
             "outlinewidth": 0,
             "tickcolor": "rgb(36,36,36)",
             "ticklen": 8,
             "ticks": "outside",
             "tickwidth": 2
            },
            "colorscale": [
             [
              0,
              "rgb(2,4,25)"
             ],
             [
              0.06274509803921569,
              "rgb(24,15,41)"
             ],
             [
              0.12549019607843137,
              "rgb(47,23,57)"
             ],
             [
              0.18823529411764706,
              "rgb(71,28,72)"
             ],
             [
              0.25098039215686274,
              "rgb(97,30,82)"
             ],
             [
              0.3137254901960784,
              "rgb(123,30,89)"
             ],
             [
              0.3764705882352941,
              "rgb(150,27,91)"
             ],
             [
              0.4392156862745098,
              "rgb(177,22,88)"
             ],
             [
              0.5019607843137255,
              "rgb(203,26,79)"
             ],
             [
              0.5647058823529412,
              "rgb(223,47,67)"
             ],
             [
              0.6274509803921569,
              "rgb(236,76,61)"
             ],
             [
              0.6901960784313725,
              "rgb(242,107,73)"
             ],
             [
              0.7529411764705882,
              "rgb(244,135,95)"
             ],
             [
              0.8156862745098039,
              "rgb(245,162,122)"
             ],
             [
              0.8784313725490196,
              "rgb(246,188,153)"
             ],
             [
              0.9411764705882353,
              "rgb(247,212,187)"
             ],
             [
              1,
              "rgb(250,234,220)"
             ]
            ],
            "type": "histogram2d"
           }
          ],
          "histogram2dcontour": [
           {
            "colorbar": {
             "outlinewidth": 0,
             "tickcolor": "rgb(36,36,36)",
             "ticklen": 8,
             "ticks": "outside",
             "tickwidth": 2
            },
            "colorscale": [
             [
              0,
              "rgb(2,4,25)"
             ],
             [
              0.06274509803921569,
              "rgb(24,15,41)"
             ],
             [
              0.12549019607843137,
              "rgb(47,23,57)"
             ],
             [
              0.18823529411764706,
              "rgb(71,28,72)"
             ],
             [
              0.25098039215686274,
              "rgb(97,30,82)"
             ],
             [
              0.3137254901960784,
              "rgb(123,30,89)"
             ],
             [
              0.3764705882352941,
              "rgb(150,27,91)"
             ],
             [
              0.4392156862745098,
              "rgb(177,22,88)"
             ],
             [
              0.5019607843137255,
              "rgb(203,26,79)"
             ],
             [
              0.5647058823529412,
              "rgb(223,47,67)"
             ],
             [
              0.6274509803921569,
              "rgb(236,76,61)"
             ],
             [
              0.6901960784313725,
              "rgb(242,107,73)"
             ],
             [
              0.7529411764705882,
              "rgb(244,135,95)"
             ],
             [
              0.8156862745098039,
              "rgb(245,162,122)"
             ],
             [
              0.8784313725490196,
              "rgb(246,188,153)"
             ],
             [
              0.9411764705882353,
              "rgb(247,212,187)"
             ],
             [
              1,
              "rgb(250,234,220)"
             ]
            ],
            "type": "histogram2dcontour"
           }
          ],
          "mesh3d": [
           {
            "colorbar": {
             "outlinewidth": 0,
             "tickcolor": "rgb(36,36,36)",
             "ticklen": 8,
             "ticks": "outside",
             "tickwidth": 2
            },
            "type": "mesh3d"
           }
          ],
          "parcoords": [
           {
            "line": {
             "colorbar": {
              "outlinewidth": 0,
              "tickcolor": "rgb(36,36,36)",
              "ticklen": 8,
              "ticks": "outside",
              "tickwidth": 2
             }
            },
            "type": "parcoords"
           }
          ],
          "pie": [
           {
            "automargin": true,
            "type": "pie"
           }
          ],
          "scatter": [
           {
            "fillpattern": {
             "fillmode": "overlay",
             "size": 10,
             "solidity": 0.2
            },
            "type": "scatter"
           }
          ],
          "scatter3d": [
           {
            "line": {
             "colorbar": {
              "outlinewidth": 0,
              "tickcolor": "rgb(36,36,36)",
              "ticklen": 8,
              "ticks": "outside",
              "tickwidth": 2
             }
            },
            "marker": {
             "colorbar": {
              "outlinewidth": 0,
              "tickcolor": "rgb(36,36,36)",
              "ticklen": 8,
              "ticks": "outside",
              "tickwidth": 2
             }
            },
            "type": "scatter3d"
           }
          ],
          "scattercarpet": [
           {
            "marker": {
             "colorbar": {
              "outlinewidth": 0,
              "tickcolor": "rgb(36,36,36)",
              "ticklen": 8,
              "ticks": "outside",
              "tickwidth": 2
             }
            },
            "type": "scattercarpet"
           }
          ],
          "scattergeo": [
           {
            "marker": {
             "colorbar": {
              "outlinewidth": 0,
              "tickcolor": "rgb(36,36,36)",
              "ticklen": 8,
              "ticks": "outside",
              "tickwidth": 2
             }
            },
            "type": "scattergeo"
           }
          ],
          "scattergl": [
           {
            "marker": {
             "colorbar": {
              "outlinewidth": 0,
              "tickcolor": "rgb(36,36,36)",
              "ticklen": 8,
              "ticks": "outside",
              "tickwidth": 2
             }
            },
            "type": "scattergl"
           }
          ],
          "scattermapbox": [
           {
            "marker": {
             "colorbar": {
              "outlinewidth": 0,
              "tickcolor": "rgb(36,36,36)",
              "ticklen": 8,
              "ticks": "outside",
              "tickwidth": 2
             }
            },
            "type": "scattermapbox"
           }
          ],
          "scatterpolar": [
           {
            "marker": {
             "colorbar": {
              "outlinewidth": 0,
              "tickcolor": "rgb(36,36,36)",
              "ticklen": 8,
              "ticks": "outside",
              "tickwidth": 2
             }
            },
            "type": "scatterpolar"
           }
          ],
          "scatterpolargl": [
           {
            "marker": {
             "colorbar": {
              "outlinewidth": 0,
              "tickcolor": "rgb(36,36,36)",
              "ticklen": 8,
              "ticks": "outside",
              "tickwidth": 2
             }
            },
            "type": "scatterpolargl"
           }
          ],
          "scatterternary": [
           {
            "marker": {
             "colorbar": {
              "outlinewidth": 0,
              "tickcolor": "rgb(36,36,36)",
              "ticklen": 8,
              "ticks": "outside",
              "tickwidth": 2
             }
            },
            "type": "scatterternary"
           }
          ],
          "surface": [
           {
            "colorbar": {
             "outlinewidth": 0,
             "tickcolor": "rgb(36,36,36)",
             "ticklen": 8,
             "ticks": "outside",
             "tickwidth": 2
            },
            "colorscale": [
             [
              0,
              "rgb(2,4,25)"
             ],
             [
              0.06274509803921569,
              "rgb(24,15,41)"
             ],
             [
              0.12549019607843137,
              "rgb(47,23,57)"
             ],
             [
              0.18823529411764706,
              "rgb(71,28,72)"
             ],
             [
              0.25098039215686274,
              "rgb(97,30,82)"
             ],
             [
              0.3137254901960784,
              "rgb(123,30,89)"
             ],
             [
              0.3764705882352941,
              "rgb(150,27,91)"
             ],
             [
              0.4392156862745098,
              "rgb(177,22,88)"
             ],
             [
              0.5019607843137255,
              "rgb(203,26,79)"
             ],
             [
              0.5647058823529412,
              "rgb(223,47,67)"
             ],
             [
              0.6274509803921569,
              "rgb(236,76,61)"
             ],
             [
              0.6901960784313725,
              "rgb(242,107,73)"
             ],
             [
              0.7529411764705882,
              "rgb(244,135,95)"
             ],
             [
              0.8156862745098039,
              "rgb(245,162,122)"
             ],
             [
              0.8784313725490196,
              "rgb(246,188,153)"
             ],
             [
              0.9411764705882353,
              "rgb(247,212,187)"
             ],
             [
              1,
              "rgb(250,234,220)"
             ]
            ],
            "type": "surface"
           }
          ],
          "table": [
           {
            "cells": {
             "fill": {
              "color": "rgb(231,231,240)"
             },
             "line": {
              "color": "white"
             }
            },
            "header": {
             "fill": {
              "color": "rgb(183,183,191)"
             },
             "line": {
              "color": "white"
             }
            },
            "type": "table"
           }
          ]
         },
         "layout": {
          "annotationdefaults": {
           "arrowcolor": "rgb(67,103,167)"
          },
          "autotypenumbers": "strict",
          "coloraxis": {
           "colorbar": {
            "outlinewidth": 0,
            "tickcolor": "rgb(36,36,36)",
            "ticklen": 8,
            "ticks": "outside",
            "tickwidth": 2
           }
          },
          "colorscale": {
           "sequential": [
            [
             0,
             "rgb(2,4,25)"
            ],
            [
             0.06274509803921569,
             "rgb(24,15,41)"
            ],
            [
             0.12549019607843137,
             "rgb(47,23,57)"
            ],
            [
             0.18823529411764706,
             "rgb(71,28,72)"
            ],
            [
             0.25098039215686274,
             "rgb(97,30,82)"
            ],
            [
             0.3137254901960784,
             "rgb(123,30,89)"
            ],
            [
             0.3764705882352941,
             "rgb(150,27,91)"
            ],
            [
             0.4392156862745098,
             "rgb(177,22,88)"
            ],
            [
             0.5019607843137255,
             "rgb(203,26,79)"
            ],
            [
             0.5647058823529412,
             "rgb(223,47,67)"
            ],
            [
             0.6274509803921569,
             "rgb(236,76,61)"
            ],
            [
             0.6901960784313725,
             "rgb(242,107,73)"
            ],
            [
             0.7529411764705882,
             "rgb(244,135,95)"
            ],
            [
             0.8156862745098039,
             "rgb(245,162,122)"
            ],
            [
             0.8784313725490196,
             "rgb(246,188,153)"
            ],
            [
             0.9411764705882353,
             "rgb(247,212,187)"
            ],
            [
             1,
             "rgb(250,234,220)"
            ]
           ],
           "sequentialminus": [
            [
             0,
             "rgb(2,4,25)"
            ],
            [
             0.06274509803921569,
             "rgb(24,15,41)"
            ],
            [
             0.12549019607843137,
             "rgb(47,23,57)"
            ],
            [
             0.18823529411764706,
             "rgb(71,28,72)"
            ],
            [
             0.25098039215686274,
             "rgb(97,30,82)"
            ],
            [
             0.3137254901960784,
             "rgb(123,30,89)"
            ],
            [
             0.3764705882352941,
             "rgb(150,27,91)"
            ],
            [
             0.4392156862745098,
             "rgb(177,22,88)"
            ],
            [
             0.5019607843137255,
             "rgb(203,26,79)"
            ],
            [
             0.5647058823529412,
             "rgb(223,47,67)"
            ],
            [
             0.6274509803921569,
             "rgb(236,76,61)"
            ],
            [
             0.6901960784313725,
             "rgb(242,107,73)"
            ],
            [
             0.7529411764705882,
             "rgb(244,135,95)"
            ],
            [
             0.8156862745098039,
             "rgb(245,162,122)"
            ],
            [
             0.8784313725490196,
             "rgb(246,188,153)"
            ],
            [
             0.9411764705882353,
             "rgb(247,212,187)"
            ],
            [
             1,
             "rgb(250,234,220)"
            ]
           ]
          },
          "colorway": [
           "rgb(76,114,176)",
           "rgb(221,132,82)",
           "rgb(85,168,104)",
           "rgb(196,78,82)",
           "rgb(129,114,179)",
           "rgb(147,120,96)",
           "rgb(218,139,195)",
           "rgb(140,140,140)",
           "rgb(204,185,116)",
           "rgb(100,181,205)"
          ],
          "font": {
           "color": "rgb(36,36,36)"
          },
          "geo": {
           "bgcolor": "white",
           "lakecolor": "white",
           "landcolor": "rgb(234,234,242)",
           "showlakes": true,
           "showland": true,
           "subunitcolor": "white"
          },
          "hoverlabel": {
           "align": "left"
          },
          "hovermode": "closest",
          "paper_bgcolor": "white",
          "plot_bgcolor": "rgb(234,234,242)",
          "polar": {
           "angularaxis": {
            "gridcolor": "white",
            "linecolor": "white",
            "showgrid": true,
            "ticks": ""
           },
           "bgcolor": "rgb(234,234,242)",
           "radialaxis": {
            "gridcolor": "white",
            "linecolor": "white",
            "showgrid": true,
            "ticks": ""
           }
          },
          "scene": {
           "xaxis": {
            "backgroundcolor": "rgb(234,234,242)",
            "gridcolor": "white",
            "gridwidth": 2,
            "linecolor": "white",
            "showbackground": true,
            "showgrid": true,
            "ticks": "",
            "zerolinecolor": "white"
           },
           "yaxis": {
            "backgroundcolor": "rgb(234,234,242)",
            "gridcolor": "white",
            "gridwidth": 2,
            "linecolor": "white",
            "showbackground": true,
            "showgrid": true,
            "ticks": "",
            "zerolinecolor": "white"
           },
           "zaxis": {
            "backgroundcolor": "rgb(234,234,242)",
            "gridcolor": "white",
            "gridwidth": 2,
            "linecolor": "white",
            "showbackground": true,
            "showgrid": true,
            "ticks": "",
            "zerolinecolor": "white"
           }
          },
          "shapedefaults": {
           "fillcolor": "rgb(67,103,167)",
           "line": {
            "width": 0
           },
           "opacity": 0.5
          },
          "ternary": {
           "aaxis": {
            "gridcolor": "white",
            "linecolor": "white",
            "showgrid": true,
            "ticks": ""
           },
           "baxis": {
            "gridcolor": "white",
            "linecolor": "white",
            "showgrid": true,
            "ticks": ""
           },
           "bgcolor": "rgb(234,234,242)",
           "caxis": {
            "gridcolor": "white",
            "linecolor": "white",
            "showgrid": true,
            "ticks": ""
           }
          },
          "xaxis": {
           "automargin": true,
           "gridcolor": "white",
           "linecolor": "white",
           "showgrid": true,
           "ticks": "",
           "title": {
            "standoff": 15
           },
           "zerolinecolor": "white"
          },
          "yaxis": {
           "automargin": true,
           "gridcolor": "white",
           "linecolor": "white",
           "showgrid": true,
           "ticks": "",
           "title": {
            "standoff": 15
           },
           "zerolinecolor": "white"
          }
         }
        },
        "title": {
         "font": {
          "size": 20
         },
         "text": "<b>Metrics of regressors predicting waste amnt per type from<br> no. dishes per type for Chemicum</b>",
         "x": 0.5
        },
        "width": 800,
        "xaxis": {
         "anchor": "y",
         "domain": [
          0,
          1
         ],
         "tickangle": -90
        },
        "xaxis2": {
         "anchor": "y2",
         "domain": [
          0,
          1
         ]
        },
        "yaxis": {
         "anchor": "x",
         "domain": [
          0.575,
          1
         ]
        },
        "yaxis2": {
         "anchor": "x2",
         "domain": [
          0,
          0.425
         ]
        }
       }
      }
     },
     "metadata": {},
     "output_type": "display_data"
    }
   ],
   "source": [
    "fig = make_subplots(\n",
    "    rows=2, cols=1,\n",
    "    specs=[\n",
    "        [{'type': 'bar'}],\n",
    "        [{'type': 'bar'}]\n",
    "    ]\n",
    ")\n",
    "\n",
    "fig.add_trace(\n",
    "    go.Bar(x=rmse_vals['model'], y=rmse_vals['rmse'], name='RMSE'),\n",
    "    row=1, col=1\n",
    ")\n",
    "fig.add_trace(\n",
    "    go.Bar(x=r2_vals['model'], y=r2_vals['r2'], name='R2'),\n",
    "    row=2, col=1\n",
    ")\n",
    "\n",
    "fig.update_layout(\n",
    "    height=600, \n",
    "    width=800,\n",
    "    title_text=f\"<b>Metrics of regressors predicting waste amnt per type from<br> no. dishes per type for {restaurant}</b>\",\n",
    "    title_font_size=20,\n",
    "    xaxis_tickangle=-90,\n",
    "    title_x=0.5,\n",
    ")\n",
    "fig.show()"
   ]
  },
  {
   "cell_type": "markdown",
   "metadata": {},
   "source": [
    "## Check: dishes' name -> waste amount per type"
   ]
  },
  {
   "cell_type": "code",
   "execution_count": 16,
   "metadata": {},
   "outputs": [],
   "source": [
    "cols = ['dishes_chicken', 'dishes_fish', 'dishes_meat', 'dishes_vegan', 'dishes_vegetarian']\n",
    "\n",
    "names = set()\n",
    "\n",
    "for col in cols:\n",
    "    dish_names = fact[col].dropna()\n",
    "    dish_names = set(np.hstack(dish_names.to_list()))\n",
    "\n",
    "    names = names.union(dish_names)\n",
    "\n",
    "name2id = {\n",
    "    name: idx+1\n",
    "    for idx, name in enumerate(names) \n",
    "}\n",
    "id2name = {\n",
    "    idx+1: name\n",
    "    for idx, name in enumerate(names) \n",
    "}"
   ]
  },
  {
   "cell_type": "markdown",
   "metadata": {},
   "source": [
    "### Using dish names with Ordinal Encoding"
   ]
  },
  {
   "cell_type": "code",
   "execution_count": 39,
   "metadata": {},
   "outputs": [],
   "source": [
    "MAX_LEN_X = 16\n",
    "\n",
    "X, y = [], []\n",
    "\n",
    "cols_X = ['dishes_chicken', 'dishes_fish', 'dishes_meat', 'dishes_vegan', 'dishes_vegetarian']\n",
    "cols_y = ['amnt_waste_customer', 'amnt_waste_coffee', 'amnt_waste_kitchen', 'amnt_waste_hall']\n",
    "\n",
    "for r in fact[fact['restaurant'] == restaurant].itertuples():\n",
    "    # Create X\n",
    "    dishes = []\n",
    "\n",
    "    for col in cols_X:\n",
    "        val = r.__getattribute__(col)\n",
    "\n",
    "        if val is np.nan:\n",
    "            continue\n",
    "\n",
    "        dishes.extend([name2id[name] for name in val])\n",
    "\n",
    "    # Pad 0s\n",
    "    if len(dishes) < MAX_LEN_X:\n",
    "        dishes.extend([0]*(MAX_LEN_X - len(dishes)))\n",
    "\n",
    "    X.append(dishes)\n",
    "\n",
    "    # Create y\n",
    "    y.append([r.__getattribute__(col) for col in cols_y])\n",
    "\n",
    "X, y = np.float32(X), np.float32(y)\n",
    "    "
   ]
  },
  {
   "cell_type": "code",
   "execution_count": 18,
   "metadata": {},
   "outputs": [],
   "source": [
    "is_multi = True\n",
    "\n",
    "def _get_reg(model, is_multi: bool):\n",
    "    if is_multi is True:\n",
    "        return MultiOutputRegressor(model)\n",
    "    else:\n",
    "        return model\n",
    "\n",
    "models = {\n",
    "    'Linear': {'model': LinearRegression(), 'rmse': 0., 'r2': 0.},\n",
    "    'Ridge': {'model': Ridge(), 'rmse': 0., 'r2': 0.},\n",
    "    'Lasso': {'model': Lasso(), 'rmse': 0., 'r2': 0.},\n",
    "    'SVM': {'model': _get_reg(SVR(), is_multi), 'rmse': 0., 'r2': 0.},\n",
    "    'RF': {'model': _get_reg(RandomForestRegressor(), is_multi), 'rmse': 0., 'r2': 0.},\n",
    "    'GB': {'model': _get_reg(GradientBoostingRegressor(), is_multi), 'rmse': 0., 'r2': 0.},\n",
    "    'XGB': {'model': _get_reg(XGBRegressor(), is_multi), 'rmse': 0., 'r2': 0.},\n",
    "    'CatBoost': {'model': _get_reg(CatBoostRegressor(verbose=False), is_multi), 'rmse': 0., 'r2': 0.},\n",
    "    'LightBGM': {'model': _get_reg(LGBMRegressor(verbose=-1), is_multi), 'rmse': 0., 'r2': 0.},\n",
    "}\n",
    "\n",
    "for v in models.values():\n",
    "    model = v['model']\n",
    "    model.fit(X, y)\n",
    "\n",
    "    y_pred = np.clip(model.predict(X), a_min=0, a_max=None)\n",
    "\n",
    "    v['rmse'] = root_mean_squared_error(y, y_pred)\n",
    "    v['r2'] = r2_score(y, y_pred)"
   ]
  },
  {
   "cell_type": "markdown",
   "metadata": {},
   "source": [
    "### Plot results"
   ]
  },
  {
   "cell_type": "code",
   "execution_count": 19,
   "metadata": {},
   "outputs": [
    {
     "data": {
      "text/html": [
       "<div>\n",
       "<style scoped>\n",
       "    .dataframe tbody tr th:only-of-type {\n",
       "        vertical-align: middle;\n",
       "    }\n",
       "\n",
       "    .dataframe tbody tr th {\n",
       "        vertical-align: top;\n",
       "    }\n",
       "\n",
       "    .dataframe thead th {\n",
       "        text-align: right;\n",
       "    }\n",
       "</style>\n",
       "<table border=\"1\" class=\"dataframe\">\n",
       "  <thead>\n",
       "    <tr style=\"text-align: right;\">\n",
       "      <th></th>\n",
       "      <th>model</th>\n",
       "      <th>rmse</th>\n",
       "    </tr>\n",
       "  </thead>\n",
       "  <tbody>\n",
       "    <tr>\n",
       "      <th>0</th>\n",
       "      <td>Linear</td>\n",
       "      <td>5.432481</td>\n",
       "    </tr>\n",
       "    <tr>\n",
       "      <th>1</th>\n",
       "      <td>Ridge</td>\n",
       "      <td>5.432481</td>\n",
       "    </tr>\n",
       "    <tr>\n",
       "      <th>2</th>\n",
       "      <td>Lasso</td>\n",
       "      <td>5.434919</td>\n",
       "    </tr>\n",
       "    <tr>\n",
       "      <th>3</th>\n",
       "      <td>SVM</td>\n",
       "      <td>5.570986</td>\n",
       "    </tr>\n",
       "    <tr>\n",
       "      <th>4</th>\n",
       "      <td>RF</td>\n",
       "      <td>2.218575</td>\n",
       "    </tr>\n",
       "  </tbody>\n",
       "</table>\n",
       "</div>"
      ],
      "text/plain": [
       "    model      rmse\n",
       "0  Linear  5.432481\n",
       "1   Ridge  5.432481\n",
       "2   Lasso  5.434919\n",
       "3     SVM  5.570986\n",
       "4      RF  2.218575"
      ]
     },
     "execution_count": 19,
     "metadata": {},
     "output_type": "execute_result"
    }
   ],
   "source": [
    "rmse_vals = pd.DataFrame.from_records([\n",
    "    {'model': name, 'rmse': v['rmse']}\n",
    "    for name, v in models.items()\n",
    "])\n",
    "\n",
    "r2_vals = pd.DataFrame.from_records([\n",
    "    {'model': name, 'r2': v['r2']}\n",
    "    for name, v in models.items()\n",
    "])\n",
    "\n",
    "rmse_vals.head()"
   ]
  },
  {
   "cell_type": "code",
   "execution_count": 20,
   "metadata": {},
   "outputs": [
    {
     "data": {
      "application/vnd.plotly.v1+json": {
       "config": {
        "plotlyServerURL": "https://plot.ly"
       },
       "data": [
        {
         "name": "RMSE",
         "type": "bar",
         "x": [
          "Linear",
          "Ridge",
          "Lasso",
          "SVM",
          "RF",
          "GB",
          "XGB",
          "CatBoost",
          "LightBGM"
         ],
         "xaxis": "x",
         "y": [
          5.432480812072754,
          5.432480812072754,
          5.434919357299805,
          5.570986021021794,
          2.2185748424641485,
          3.319182989091739,
          0.8096230030059814,
          1.460709921474219,
          2.892573247300059
         ],
         "yaxis": "y"
        },
        {
         "name": "R2",
         "type": "bar",
         "x": [
          "Linear",
          "Ridge",
          "Lasso",
          "SVM",
          "RF",
          "GB",
          "XGB",
          "CatBoost",
          "LightBGM"
         ],
         "xaxis": "x2",
         "y": [
          0.0391053706407547,
          0.03910526633262634,
          0.037982016801834106,
          -0.013032966781422739,
          0.8381180504190895,
          0.6403000766634552,
          0.9786083698272705,
          0.9313928430629989,
          0.7242272042461203
         ],
         "yaxis": "y2"
        }
       ],
       "layout": {
        "height": 600,
        "template": {
         "data": {
          "bar": [
           {
            "error_x": {
             "color": "rgb(36,36,36)"
            },
            "error_y": {
             "color": "rgb(36,36,36)"
            },
            "marker": {
             "line": {
              "color": "rgb(234,234,242)",
              "width": 0.5
             },
             "pattern": {
              "fillmode": "overlay",
              "size": 10,
              "solidity": 0.2
             }
            },
            "type": "bar"
           }
          ],
          "barpolar": [
           {
            "marker": {
             "line": {
              "color": "rgb(234,234,242)",
              "width": 0.5
             },
             "pattern": {
              "fillmode": "overlay",
              "size": 10,
              "solidity": 0.2
             }
            },
            "type": "barpolar"
           }
          ],
          "carpet": [
           {
            "aaxis": {
             "endlinecolor": "rgb(36,36,36)",
             "gridcolor": "white",
             "linecolor": "white",
             "minorgridcolor": "white",
             "startlinecolor": "rgb(36,36,36)"
            },
            "baxis": {
             "endlinecolor": "rgb(36,36,36)",
             "gridcolor": "white",
             "linecolor": "white",
             "minorgridcolor": "white",
             "startlinecolor": "rgb(36,36,36)"
            },
            "type": "carpet"
           }
          ],
          "choropleth": [
           {
            "colorbar": {
             "outlinewidth": 0,
             "tickcolor": "rgb(36,36,36)",
             "ticklen": 8,
             "ticks": "outside",
             "tickwidth": 2
            },
            "type": "choropleth"
           }
          ],
          "contour": [
           {
            "colorbar": {
             "outlinewidth": 0,
             "tickcolor": "rgb(36,36,36)",
             "ticklen": 8,
             "ticks": "outside",
             "tickwidth": 2
            },
            "colorscale": [
             [
              0,
              "rgb(2,4,25)"
             ],
             [
              0.06274509803921569,
              "rgb(24,15,41)"
             ],
             [
              0.12549019607843137,
              "rgb(47,23,57)"
             ],
             [
              0.18823529411764706,
              "rgb(71,28,72)"
             ],
             [
              0.25098039215686274,
              "rgb(97,30,82)"
             ],
             [
              0.3137254901960784,
              "rgb(123,30,89)"
             ],
             [
              0.3764705882352941,
              "rgb(150,27,91)"
             ],
             [
              0.4392156862745098,
              "rgb(177,22,88)"
             ],
             [
              0.5019607843137255,
              "rgb(203,26,79)"
             ],
             [
              0.5647058823529412,
              "rgb(223,47,67)"
             ],
             [
              0.6274509803921569,
              "rgb(236,76,61)"
             ],
             [
              0.6901960784313725,
              "rgb(242,107,73)"
             ],
             [
              0.7529411764705882,
              "rgb(244,135,95)"
             ],
             [
              0.8156862745098039,
              "rgb(245,162,122)"
             ],
             [
              0.8784313725490196,
              "rgb(246,188,153)"
             ],
             [
              0.9411764705882353,
              "rgb(247,212,187)"
             ],
             [
              1,
              "rgb(250,234,220)"
             ]
            ],
            "type": "contour"
           }
          ],
          "contourcarpet": [
           {
            "colorbar": {
             "outlinewidth": 0,
             "tickcolor": "rgb(36,36,36)",
             "ticklen": 8,
             "ticks": "outside",
             "tickwidth": 2
            },
            "type": "contourcarpet"
           }
          ],
          "heatmap": [
           {
            "colorbar": {
             "outlinewidth": 0,
             "tickcolor": "rgb(36,36,36)",
             "ticklen": 8,
             "ticks": "outside",
             "tickwidth": 2
            },
            "colorscale": [
             [
              0,
              "rgb(2,4,25)"
             ],
             [
              0.06274509803921569,
              "rgb(24,15,41)"
             ],
             [
              0.12549019607843137,
              "rgb(47,23,57)"
             ],
             [
              0.18823529411764706,
              "rgb(71,28,72)"
             ],
             [
              0.25098039215686274,
              "rgb(97,30,82)"
             ],
             [
              0.3137254901960784,
              "rgb(123,30,89)"
             ],
             [
              0.3764705882352941,
              "rgb(150,27,91)"
             ],
             [
              0.4392156862745098,
              "rgb(177,22,88)"
             ],
             [
              0.5019607843137255,
              "rgb(203,26,79)"
             ],
             [
              0.5647058823529412,
              "rgb(223,47,67)"
             ],
             [
              0.6274509803921569,
              "rgb(236,76,61)"
             ],
             [
              0.6901960784313725,
              "rgb(242,107,73)"
             ],
             [
              0.7529411764705882,
              "rgb(244,135,95)"
             ],
             [
              0.8156862745098039,
              "rgb(245,162,122)"
             ],
             [
              0.8784313725490196,
              "rgb(246,188,153)"
             ],
             [
              0.9411764705882353,
              "rgb(247,212,187)"
             ],
             [
              1,
              "rgb(250,234,220)"
             ]
            ],
            "type": "heatmap"
           }
          ],
          "heatmapgl": [
           {
            "colorbar": {
             "outlinewidth": 0,
             "tickcolor": "rgb(36,36,36)",
             "ticklen": 8,
             "ticks": "outside",
             "tickwidth": 2
            },
            "colorscale": [
             [
              0,
              "rgb(2,4,25)"
             ],
             [
              0.06274509803921569,
              "rgb(24,15,41)"
             ],
             [
              0.12549019607843137,
              "rgb(47,23,57)"
             ],
             [
              0.18823529411764706,
              "rgb(71,28,72)"
             ],
             [
              0.25098039215686274,
              "rgb(97,30,82)"
             ],
             [
              0.3137254901960784,
              "rgb(123,30,89)"
             ],
             [
              0.3764705882352941,
              "rgb(150,27,91)"
             ],
             [
              0.4392156862745098,
              "rgb(177,22,88)"
             ],
             [
              0.5019607843137255,
              "rgb(203,26,79)"
             ],
             [
              0.5647058823529412,
              "rgb(223,47,67)"
             ],
             [
              0.6274509803921569,
              "rgb(236,76,61)"
             ],
             [
              0.6901960784313725,
              "rgb(242,107,73)"
             ],
             [
              0.7529411764705882,
              "rgb(244,135,95)"
             ],
             [
              0.8156862745098039,
              "rgb(245,162,122)"
             ],
             [
              0.8784313725490196,
              "rgb(246,188,153)"
             ],
             [
              0.9411764705882353,
              "rgb(247,212,187)"
             ],
             [
              1,
              "rgb(250,234,220)"
             ]
            ],
            "type": "heatmapgl"
           }
          ],
          "histogram": [
           {
            "marker": {
             "pattern": {
              "fillmode": "overlay",
              "size": 10,
              "solidity": 0.2
             }
            },
            "type": "histogram"
           }
          ],
          "histogram2d": [
           {
            "colorbar": {
             "outlinewidth": 0,
             "tickcolor": "rgb(36,36,36)",
             "ticklen": 8,
             "ticks": "outside",
             "tickwidth": 2
            },
            "colorscale": [
             [
              0,
              "rgb(2,4,25)"
             ],
             [
              0.06274509803921569,
              "rgb(24,15,41)"
             ],
             [
              0.12549019607843137,
              "rgb(47,23,57)"
             ],
             [
              0.18823529411764706,
              "rgb(71,28,72)"
             ],
             [
              0.25098039215686274,
              "rgb(97,30,82)"
             ],
             [
              0.3137254901960784,
              "rgb(123,30,89)"
             ],
             [
              0.3764705882352941,
              "rgb(150,27,91)"
             ],
             [
              0.4392156862745098,
              "rgb(177,22,88)"
             ],
             [
              0.5019607843137255,
              "rgb(203,26,79)"
             ],
             [
              0.5647058823529412,
              "rgb(223,47,67)"
             ],
             [
              0.6274509803921569,
              "rgb(236,76,61)"
             ],
             [
              0.6901960784313725,
              "rgb(242,107,73)"
             ],
             [
              0.7529411764705882,
              "rgb(244,135,95)"
             ],
             [
              0.8156862745098039,
              "rgb(245,162,122)"
             ],
             [
              0.8784313725490196,
              "rgb(246,188,153)"
             ],
             [
              0.9411764705882353,
              "rgb(247,212,187)"
             ],
             [
              1,
              "rgb(250,234,220)"
             ]
            ],
            "type": "histogram2d"
           }
          ],
          "histogram2dcontour": [
           {
            "colorbar": {
             "outlinewidth": 0,
             "tickcolor": "rgb(36,36,36)",
             "ticklen": 8,
             "ticks": "outside",
             "tickwidth": 2
            },
            "colorscale": [
             [
              0,
              "rgb(2,4,25)"
             ],
             [
              0.06274509803921569,
              "rgb(24,15,41)"
             ],
             [
              0.12549019607843137,
              "rgb(47,23,57)"
             ],
             [
              0.18823529411764706,
              "rgb(71,28,72)"
             ],
             [
              0.25098039215686274,
              "rgb(97,30,82)"
             ],
             [
              0.3137254901960784,
              "rgb(123,30,89)"
             ],
             [
              0.3764705882352941,
              "rgb(150,27,91)"
             ],
             [
              0.4392156862745098,
              "rgb(177,22,88)"
             ],
             [
              0.5019607843137255,
              "rgb(203,26,79)"
             ],
             [
              0.5647058823529412,
              "rgb(223,47,67)"
             ],
             [
              0.6274509803921569,
              "rgb(236,76,61)"
             ],
             [
              0.6901960784313725,
              "rgb(242,107,73)"
             ],
             [
              0.7529411764705882,
              "rgb(244,135,95)"
             ],
             [
              0.8156862745098039,
              "rgb(245,162,122)"
             ],
             [
              0.8784313725490196,
              "rgb(246,188,153)"
             ],
             [
              0.9411764705882353,
              "rgb(247,212,187)"
             ],
             [
              1,
              "rgb(250,234,220)"
             ]
            ],
            "type": "histogram2dcontour"
           }
          ],
          "mesh3d": [
           {
            "colorbar": {
             "outlinewidth": 0,
             "tickcolor": "rgb(36,36,36)",
             "ticklen": 8,
             "ticks": "outside",
             "tickwidth": 2
            },
            "type": "mesh3d"
           }
          ],
          "parcoords": [
           {
            "line": {
             "colorbar": {
              "outlinewidth": 0,
              "tickcolor": "rgb(36,36,36)",
              "ticklen": 8,
              "ticks": "outside",
              "tickwidth": 2
             }
            },
            "type": "parcoords"
           }
          ],
          "pie": [
           {
            "automargin": true,
            "type": "pie"
           }
          ],
          "scatter": [
           {
            "fillpattern": {
             "fillmode": "overlay",
             "size": 10,
             "solidity": 0.2
            },
            "type": "scatter"
           }
          ],
          "scatter3d": [
           {
            "line": {
             "colorbar": {
              "outlinewidth": 0,
              "tickcolor": "rgb(36,36,36)",
              "ticklen": 8,
              "ticks": "outside",
              "tickwidth": 2
             }
            },
            "marker": {
             "colorbar": {
              "outlinewidth": 0,
              "tickcolor": "rgb(36,36,36)",
              "ticklen": 8,
              "ticks": "outside",
              "tickwidth": 2
             }
            },
            "type": "scatter3d"
           }
          ],
          "scattercarpet": [
           {
            "marker": {
             "colorbar": {
              "outlinewidth": 0,
              "tickcolor": "rgb(36,36,36)",
              "ticklen": 8,
              "ticks": "outside",
              "tickwidth": 2
             }
            },
            "type": "scattercarpet"
           }
          ],
          "scattergeo": [
           {
            "marker": {
             "colorbar": {
              "outlinewidth": 0,
              "tickcolor": "rgb(36,36,36)",
              "ticklen": 8,
              "ticks": "outside",
              "tickwidth": 2
             }
            },
            "type": "scattergeo"
           }
          ],
          "scattergl": [
           {
            "marker": {
             "colorbar": {
              "outlinewidth": 0,
              "tickcolor": "rgb(36,36,36)",
              "ticklen": 8,
              "ticks": "outside",
              "tickwidth": 2
             }
            },
            "type": "scattergl"
           }
          ],
          "scattermapbox": [
           {
            "marker": {
             "colorbar": {
              "outlinewidth": 0,
              "tickcolor": "rgb(36,36,36)",
              "ticklen": 8,
              "ticks": "outside",
              "tickwidth": 2
             }
            },
            "type": "scattermapbox"
           }
          ],
          "scatterpolar": [
           {
            "marker": {
             "colorbar": {
              "outlinewidth": 0,
              "tickcolor": "rgb(36,36,36)",
              "ticklen": 8,
              "ticks": "outside",
              "tickwidth": 2
             }
            },
            "type": "scatterpolar"
           }
          ],
          "scatterpolargl": [
           {
            "marker": {
             "colorbar": {
              "outlinewidth": 0,
              "tickcolor": "rgb(36,36,36)",
              "ticklen": 8,
              "ticks": "outside",
              "tickwidth": 2
             }
            },
            "type": "scatterpolargl"
           }
          ],
          "scatterternary": [
           {
            "marker": {
             "colorbar": {
              "outlinewidth": 0,
              "tickcolor": "rgb(36,36,36)",
              "ticklen": 8,
              "ticks": "outside",
              "tickwidth": 2
             }
            },
            "type": "scatterternary"
           }
          ],
          "surface": [
           {
            "colorbar": {
             "outlinewidth": 0,
             "tickcolor": "rgb(36,36,36)",
             "ticklen": 8,
             "ticks": "outside",
             "tickwidth": 2
            },
            "colorscale": [
             [
              0,
              "rgb(2,4,25)"
             ],
             [
              0.06274509803921569,
              "rgb(24,15,41)"
             ],
             [
              0.12549019607843137,
              "rgb(47,23,57)"
             ],
             [
              0.18823529411764706,
              "rgb(71,28,72)"
             ],
             [
              0.25098039215686274,
              "rgb(97,30,82)"
             ],
             [
              0.3137254901960784,
              "rgb(123,30,89)"
             ],
             [
              0.3764705882352941,
              "rgb(150,27,91)"
             ],
             [
              0.4392156862745098,
              "rgb(177,22,88)"
             ],
             [
              0.5019607843137255,
              "rgb(203,26,79)"
             ],
             [
              0.5647058823529412,
              "rgb(223,47,67)"
             ],
             [
              0.6274509803921569,
              "rgb(236,76,61)"
             ],
             [
              0.6901960784313725,
              "rgb(242,107,73)"
             ],
             [
              0.7529411764705882,
              "rgb(244,135,95)"
             ],
             [
              0.8156862745098039,
              "rgb(245,162,122)"
             ],
             [
              0.8784313725490196,
              "rgb(246,188,153)"
             ],
             [
              0.9411764705882353,
              "rgb(247,212,187)"
             ],
             [
              1,
              "rgb(250,234,220)"
             ]
            ],
            "type": "surface"
           }
          ],
          "table": [
           {
            "cells": {
             "fill": {
              "color": "rgb(231,231,240)"
             },
             "line": {
              "color": "white"
             }
            },
            "header": {
             "fill": {
              "color": "rgb(183,183,191)"
             },
             "line": {
              "color": "white"
             }
            },
            "type": "table"
           }
          ]
         },
         "layout": {
          "annotationdefaults": {
           "arrowcolor": "rgb(67,103,167)"
          },
          "autotypenumbers": "strict",
          "coloraxis": {
           "colorbar": {
            "outlinewidth": 0,
            "tickcolor": "rgb(36,36,36)",
            "ticklen": 8,
            "ticks": "outside",
            "tickwidth": 2
           }
          },
          "colorscale": {
           "sequential": [
            [
             0,
             "rgb(2,4,25)"
            ],
            [
             0.06274509803921569,
             "rgb(24,15,41)"
            ],
            [
             0.12549019607843137,
             "rgb(47,23,57)"
            ],
            [
             0.18823529411764706,
             "rgb(71,28,72)"
            ],
            [
             0.25098039215686274,
             "rgb(97,30,82)"
            ],
            [
             0.3137254901960784,
             "rgb(123,30,89)"
            ],
            [
             0.3764705882352941,
             "rgb(150,27,91)"
            ],
            [
             0.4392156862745098,
             "rgb(177,22,88)"
            ],
            [
             0.5019607843137255,
             "rgb(203,26,79)"
            ],
            [
             0.5647058823529412,
             "rgb(223,47,67)"
            ],
            [
             0.6274509803921569,
             "rgb(236,76,61)"
            ],
            [
             0.6901960784313725,
             "rgb(242,107,73)"
            ],
            [
             0.7529411764705882,
             "rgb(244,135,95)"
            ],
            [
             0.8156862745098039,
             "rgb(245,162,122)"
            ],
            [
             0.8784313725490196,
             "rgb(246,188,153)"
            ],
            [
             0.9411764705882353,
             "rgb(247,212,187)"
            ],
            [
             1,
             "rgb(250,234,220)"
            ]
           ],
           "sequentialminus": [
            [
             0,
             "rgb(2,4,25)"
            ],
            [
             0.06274509803921569,
             "rgb(24,15,41)"
            ],
            [
             0.12549019607843137,
             "rgb(47,23,57)"
            ],
            [
             0.18823529411764706,
             "rgb(71,28,72)"
            ],
            [
             0.25098039215686274,
             "rgb(97,30,82)"
            ],
            [
             0.3137254901960784,
             "rgb(123,30,89)"
            ],
            [
             0.3764705882352941,
             "rgb(150,27,91)"
            ],
            [
             0.4392156862745098,
             "rgb(177,22,88)"
            ],
            [
             0.5019607843137255,
             "rgb(203,26,79)"
            ],
            [
             0.5647058823529412,
             "rgb(223,47,67)"
            ],
            [
             0.6274509803921569,
             "rgb(236,76,61)"
            ],
            [
             0.6901960784313725,
             "rgb(242,107,73)"
            ],
            [
             0.7529411764705882,
             "rgb(244,135,95)"
            ],
            [
             0.8156862745098039,
             "rgb(245,162,122)"
            ],
            [
             0.8784313725490196,
             "rgb(246,188,153)"
            ],
            [
             0.9411764705882353,
             "rgb(247,212,187)"
            ],
            [
             1,
             "rgb(250,234,220)"
            ]
           ]
          },
          "colorway": [
           "rgb(76,114,176)",
           "rgb(221,132,82)",
           "rgb(85,168,104)",
           "rgb(196,78,82)",
           "rgb(129,114,179)",
           "rgb(147,120,96)",
           "rgb(218,139,195)",
           "rgb(140,140,140)",
           "rgb(204,185,116)",
           "rgb(100,181,205)"
          ],
          "font": {
           "color": "rgb(36,36,36)"
          },
          "geo": {
           "bgcolor": "white",
           "lakecolor": "white",
           "landcolor": "rgb(234,234,242)",
           "showlakes": true,
           "showland": true,
           "subunitcolor": "white"
          },
          "hoverlabel": {
           "align": "left"
          },
          "hovermode": "closest",
          "paper_bgcolor": "white",
          "plot_bgcolor": "rgb(234,234,242)",
          "polar": {
           "angularaxis": {
            "gridcolor": "white",
            "linecolor": "white",
            "showgrid": true,
            "ticks": ""
           },
           "bgcolor": "rgb(234,234,242)",
           "radialaxis": {
            "gridcolor": "white",
            "linecolor": "white",
            "showgrid": true,
            "ticks": ""
           }
          },
          "scene": {
           "xaxis": {
            "backgroundcolor": "rgb(234,234,242)",
            "gridcolor": "white",
            "gridwidth": 2,
            "linecolor": "white",
            "showbackground": true,
            "showgrid": true,
            "ticks": "",
            "zerolinecolor": "white"
           },
           "yaxis": {
            "backgroundcolor": "rgb(234,234,242)",
            "gridcolor": "white",
            "gridwidth": 2,
            "linecolor": "white",
            "showbackground": true,
            "showgrid": true,
            "ticks": "",
            "zerolinecolor": "white"
           },
           "zaxis": {
            "backgroundcolor": "rgb(234,234,242)",
            "gridcolor": "white",
            "gridwidth": 2,
            "linecolor": "white",
            "showbackground": true,
            "showgrid": true,
            "ticks": "",
            "zerolinecolor": "white"
           }
          },
          "shapedefaults": {
           "fillcolor": "rgb(67,103,167)",
           "line": {
            "width": 0
           },
           "opacity": 0.5
          },
          "ternary": {
           "aaxis": {
            "gridcolor": "white",
            "linecolor": "white",
            "showgrid": true,
            "ticks": ""
           },
           "baxis": {
            "gridcolor": "white",
            "linecolor": "white",
            "showgrid": true,
            "ticks": ""
           },
           "bgcolor": "rgb(234,234,242)",
           "caxis": {
            "gridcolor": "white",
            "linecolor": "white",
            "showgrid": true,
            "ticks": ""
           }
          },
          "xaxis": {
           "automargin": true,
           "gridcolor": "white",
           "linecolor": "white",
           "showgrid": true,
           "ticks": "",
           "title": {
            "standoff": 15
           },
           "zerolinecolor": "white"
          },
          "yaxis": {
           "automargin": true,
           "gridcolor": "white",
           "linecolor": "white",
           "showgrid": true,
           "ticks": "",
           "title": {
            "standoff": 15
           },
           "zerolinecolor": "white"
          }
         }
        },
        "title": {
         "font": {
          "size": 20
         },
         "text": "<b>Metrics of regressors predicting waste amnt per type <br>from dish names for Chemicum</b>",
         "x": 0.5
        },
        "width": 800,
        "xaxis": {
         "anchor": "y",
         "domain": [
          0,
          1
         ],
         "tickangle": -90
        },
        "xaxis2": {
         "anchor": "y2",
         "domain": [
          0,
          1
         ]
        },
        "yaxis": {
         "anchor": "x",
         "domain": [
          0.575,
          1
         ]
        },
        "yaxis2": {
         "anchor": "x2",
         "domain": [
          0,
          0.425
         ]
        }
       }
      }
     },
     "metadata": {},
     "output_type": "display_data"
    }
   ],
   "source": [
    "fig = make_subplots(\n",
    "    rows=2, cols=1,\n",
    "    specs=[\n",
    "        [{'type': 'bar'}],\n",
    "        [{'type': 'bar'}]\n",
    "    ]\n",
    ")\n",
    "\n",
    "fig.add_trace(\n",
    "    go.Bar(x=rmse_vals['model'], y=rmse_vals['rmse'], name='RMSE'),\n",
    "    row=1, col=1\n",
    ")\n",
    "fig.add_trace(\n",
    "    go.Bar(x=r2_vals['model'], y=r2_vals['r2'], name='R2'),\n",
    "    row=2, col=1\n",
    ")\n",
    "\n",
    "fig.update_layout(\n",
    "    height=600, \n",
    "    width=800,\n",
    "    title_text=f\"<b>Metrics of regressors predicting waste amnt per type <br>from dish names for {restaurant}</b>\",\n",
    "    title_font_size=20,\n",
    "    xaxis_tickangle=-90,\n",
    "    title_x=0.5,\n",
    ")\n",
    "fig.show()"
   ]
  },
  {
   "cell_type": "markdown",
   "metadata": {},
   "source": [
    "### Get indices in input matrix X affecting the most to the waste of customer/kitchen"
   ]
  },
  {
   "cell_type": "code",
   "execution_count": 21,
   "metadata": {},
   "outputs": [],
   "source": [
    "model = models['XGB']['model']"
   ]
  },
  {
   "cell_type": "code",
   "execution_count": 35,
   "metadata": {},
   "outputs": [],
   "source": [
    "waste_type = \"kitchen\"\n",
    "K = 5"
   ]
  },
  {
   "cell_type": "code",
   "execution_count": 36,
   "metadata": {},
   "outputs": [
    {
     "data": {
      "text/plain": [
       "array([6, 4, 3, 2, 8])"
      ]
     },
     "execution_count": 36,
     "metadata": {},
     "output_type": "execute_result"
    }
   ],
   "source": [
    "if waste_type == \"customer\":\n",
    "    nth = 0\n",
    "elif waste_type == \"kitchen\":\n",
    "    nth = 2\n",
    "else:\n",
    "    raise NotImplementedError()\n",
    "\n",
    "indices = np.argpartition(model.estimators_[nth].feature_importances_, -K)[-K:]\n",
    "\n",
    "indices"
   ]
  },
  {
   "cell_type": "code",
   "execution_count": 40,
   "metadata": {},
   "outputs": [
    {
     "data": {
      "text/html": [
       "<div>\n",
       "<style scoped>\n",
       "    .dataframe tbody tr th:only-of-type {\n",
       "        vertical-align: middle;\n",
       "    }\n",
       "\n",
       "    .dataframe tbody tr th {\n",
       "        vertical-align: top;\n",
       "    }\n",
       "\n",
       "    .dataframe thead th {\n",
       "        text-align: right;\n",
       "    }\n",
       "</style>\n",
       "<table border=\"1\" class=\"dataframe\">\n",
       "  <thead>\n",
       "    <tr style=\"text-align: right;\">\n",
       "      <th></th>\n",
       "      <th>ordinal</th>\n",
       "      <th>count</th>\n",
       "      <th>dish</th>\n",
       "    </tr>\n",
       "  </thead>\n",
       "  <tbody>\n",
       "    <tr>\n",
       "      <th>49</th>\n",
       "      <td>84</td>\n",
       "      <td>44</td>\n",
       "      <td>Härkisbolognese</td>\n",
       "    </tr>\n",
       "    <tr>\n",
       "      <th>137</th>\n",
       "      <td>231</td>\n",
       "      <td>40</td>\n",
       "      <td>Lihapullat</td>\n",
       "    </tr>\n",
       "    <tr>\n",
       "      <th>111</th>\n",
       "      <td>189</td>\n",
       "      <td>39</td>\n",
       "      <td>Pasta Carbonara</td>\n",
       "    </tr>\n",
       "    <tr>\n",
       "      <th>25</th>\n",
       "      <td>43</td>\n",
       "      <td>34</td>\n",
       "      <td>Linssibolognesea</td>\n",
       "    </tr>\n",
       "    <tr>\n",
       "      <th>89</th>\n",
       "      <td>152</td>\n",
       "      <td>31</td>\n",
       "      <td>Meksikolaista uunimakkaraa</td>\n",
       "    </tr>\n",
       "  </tbody>\n",
       "</table>\n",
       "</div>"
      ],
      "text/plain": [
       "     ordinal  count                        dish\n",
       "49        84     44             Härkisbolognese\n",
       "137      231     40                  Lihapullat\n",
       "111      189     39             Pasta Carbonara\n",
       "25        43     34            Linssibolognesea\n",
       "89       152     31  Meksikolaista uunimakkaraa"
      ]
     },
     "execution_count": 40,
     "metadata": {},
     "output_type": "execute_result"
    }
   ],
   "source": [
    "dishes = np.hstack([X[:, idx] for idx in indices])\n",
    "\n",
    "out = np.unique(dishes, return_counts=True)\n",
    "df_counts = pd.DataFrame({\n",
    "    'ordinal': out[0],\n",
    "    'count': out[1]\n",
    "})\n",
    "\n",
    "df_counts = df_counts[df_counts['ordinal'] != 0]\n",
    "\n",
    "counts_topK = df_counts.sort_values('count', ascending=False).head(K)\n",
    "counts_topK['ordinal'] = counts_topK['ordinal'].astype(np.int32)\n",
    "counts_topK['dish'] = [id2name[ordinal] for ordinal in counts_topK['ordinal']]\n",
    "\n",
    "counts_topK"
   ]
  }
 ],
 "metadata": {
  "kernelspec": {
   "display_name": "fw",
   "language": "python",
   "name": "python3"
  },
  "language_info": {
   "codemirror_mode": {
    "name": "ipython",
    "version": 3
   },
   "file_extension": ".py",
   "mimetype": "text/x-python",
   "name": "python",
   "nbconvert_exporter": "python",
   "pygments_lexer": "ipython3",
   "version": "3.9.19"
  }
 },
 "nbformat": 4,
 "nbformat_minor": 2
}
