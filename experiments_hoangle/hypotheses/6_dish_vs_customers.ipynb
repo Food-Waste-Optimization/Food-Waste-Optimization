{
 "cells": [
  {
   "cell_type": "code",
   "execution_count": 1,
   "metadata": {},
   "outputs": [
    {
     "name": "stdout",
     "output_type": "stream",
     "text": [
      "/home/hoanghu/projects/Food-Waste-Optimization\n"
     ]
    }
   ],
   "source": [
    "%cd ../../\n",
    "\n",
    "%load_ext autoreload\n",
    "%autoreload 2"
   ]
  },
  {
   "cell_type": "code",
   "execution_count": 2,
   "metadata": {},
   "outputs": [],
   "source": [
    "import numpy as np\n",
    "import pandas as pd\n",
    "import plotly.graph_objects as go\n",
    "import plotly.figure_factory as ff\n",
    "from plotly.subplots import make_subplots\n",
    "from sklearn.linear_model import Ridge, Lasso\n",
    "from sklearn.ensemble import RandomForestRegressor, GradientBoostingRegressor\n",
    "from sklearn.preprocessing import TargetEncoder, MinMaxScaler\n",
    "from sklearn.metrics import root_mean_squared_error\n",
    "from xgboost import XGBRegressor\n",
    "from lightgbm import LGBMRegressor\n",
    "from sklearn.decomposition import PCA"
   ]
  },
  {
   "cell_type": "markdown",
   "metadata": {},
   "source": [
    "# Load data"
   ]
  },
  {
   "cell_type": "code",
   "execution_count": 3,
   "metadata": {},
   "outputs": [
    {
     "data": {
      "text/html": [
       "<div>\n",
       "<style scoped>\n",
       "    .dataframe tbody tr th:only-of-type {\n",
       "        vertical-align: middle;\n",
       "    }\n",
       "\n",
       "    .dataframe tbody tr th {\n",
       "        vertical-align: top;\n",
       "    }\n",
       "\n",
       "    .dataframe thead th {\n",
       "        text-align: right;\n",
       "    }\n",
       "</style>\n",
       "<table border=\"1\" class=\"dataframe\">\n",
       "  <thead>\n",
       "    <tr style=\"text-align: right;\">\n",
       "      <th></th>\n",
       "      <th>Date</th>\n",
       "      <th>Receipt time</th>\n",
       "      <th>Restaurant</th>\n",
       "      <th>Food Category</th>\n",
       "      <th>Dish</th>\n",
       "      <th>pcs</th>\n",
       "      <th>Hiilijalanjälki</th>\n",
       "    </tr>\n",
       "  </thead>\n",
       "  <tbody>\n",
       "    <tr>\n",
       "      <th>0</th>\n",
       "      <td>2.1.2023</td>\n",
       "      <td>10:31</td>\n",
       "      <td>600 Chemicum</td>\n",
       "      <td>Liha</td>\n",
       "      <td>Uunimakkaraa,sinappikastiketta</td>\n",
       "      <td>1</td>\n",
       "      <td>0,9</td>\n",
       "    </tr>\n",
       "    <tr>\n",
       "      <th>1</th>\n",
       "      <td>2.1.2023</td>\n",
       "      <td>10:32</td>\n",
       "      <td>600 Chemicum</td>\n",
       "      <td>Kala</td>\n",
       "      <td>Kalapuikot tillikermaviilikast</td>\n",
       "      <td>1</td>\n",
       "      <td>1,04</td>\n",
       "    </tr>\n",
       "    <tr>\n",
       "      <th>2</th>\n",
       "      <td>2.1.2023</td>\n",
       "      <td>10:32</td>\n",
       "      <td>600 Chemicum</td>\n",
       "      <td>Liha</td>\n",
       "      <td>Uunimakkaraa,sinappikastiketta</td>\n",
       "      <td>1</td>\n",
       "      <td>0,9</td>\n",
       "    </tr>\n",
       "    <tr>\n",
       "      <th>3</th>\n",
       "      <td>2.1.2023</td>\n",
       "      <td>10:35</td>\n",
       "      <td>600 Chemicum</td>\n",
       "      <td>Kala</td>\n",
       "      <td>Kalapuikot tillikermaviilikast</td>\n",
       "      <td>1</td>\n",
       "      <td>1,04</td>\n",
       "    </tr>\n",
       "    <tr>\n",
       "      <th>4</th>\n",
       "      <td>2.1.2023</td>\n",
       "      <td>10:36</td>\n",
       "      <td>600 Chemicum</td>\n",
       "      <td>Liha</td>\n",
       "      <td>Uunimakkaraa,sinappikastiketta</td>\n",
       "      <td>2</td>\n",
       "      <td>1,8</td>\n",
       "    </tr>\n",
       "  </tbody>\n",
       "</table>\n",
       "</div>"
      ],
      "text/plain": [
       "       Date Receipt time    Restaurant Food Category  \\\n",
       "0  2.1.2023        10:31  600 Chemicum          Liha   \n",
       "1  2.1.2023        10:32  600 Chemicum          Kala   \n",
       "2  2.1.2023        10:32  600 Chemicum          Liha   \n",
       "3  2.1.2023        10:35  600 Chemicum          Kala   \n",
       "4  2.1.2023        10:36  600 Chemicum          Liha   \n",
       "\n",
       "                             Dish pcs Hiilijalanjälki  \n",
       "0  Uunimakkaraa,sinappikastiketta   1             0,9  \n",
       "1  Kalapuikot tillikermaviilikast   1            1,04  \n",
       "2  Uunimakkaraa,sinappikastiketta   1             0,9  \n",
       "3  Kalapuikot tillikermaviilikast   1            1,04  \n",
       "4  Uunimakkaraa,sinappikastiketta   2             1,8  "
      ]
     },
     "execution_count": 3,
     "metadata": {},
     "output_type": "execute_result"
    }
   ],
   "source": [
    "path = \"src/data/basic_mvp_data/Sold lunches.csv\"\n",
    "\n",
    "raw_lunch = pd.read_csv(path, delimiter=';', encoding='utf-8-sig', parse_dates=['Date'], low_memory=False)\n",
    "raw_lunch.head()"
   ]
  },
  {
   "cell_type": "markdown",
   "metadata": {},
   "source": [
    "# Extract menu per day for each restaurant"
   ]
  },
  {
   "cell_type": "code",
   "execution_count": 4,
   "metadata": {},
   "outputs": [
    {
     "data": {
      "text/html": [
       "<div>\n",
       "<style scoped>\n",
       "    .dataframe tbody tr th:only-of-type {\n",
       "        vertical-align: middle;\n",
       "    }\n",
       "\n",
       "    .dataframe tbody tr th {\n",
       "        vertical-align: top;\n",
       "    }\n",
       "\n",
       "    .dataframe thead th {\n",
       "        text-align: right;\n",
       "    }\n",
       "</style>\n",
       "<table border=\"1\" class=\"dataframe\">\n",
       "  <thead>\n",
       "    <tr style=\"text-align: right;\">\n",
       "      <th></th>\n",
       "      <th>date</th>\n",
       "      <th>restaurant</th>\n",
       "      <th>category</th>\n",
       "      <th>dish</th>\n",
       "      <th>pcs</th>\n",
       "    </tr>\n",
       "  </thead>\n",
       "  <tbody>\n",
       "    <tr>\n",
       "      <th>2</th>\n",
       "      <td>2023-01-02</td>\n",
       "      <td>Chemicum</td>\n",
       "      <td>fish</td>\n",
       "      <td>Kalapuikot tillikermaviilikast</td>\n",
       "      <td>78.0</td>\n",
       "    </tr>\n",
       "    <tr>\n",
       "      <th>4</th>\n",
       "      <td>2023-01-02</td>\n",
       "      <td>Chemicum</td>\n",
       "      <td>meat</td>\n",
       "      <td>Uunimakkaraa,sinappikastiketta</td>\n",
       "      <td>165.0</td>\n",
       "    </tr>\n",
       "    <tr>\n",
       "      <th>5</th>\n",
       "      <td>2023-01-02</td>\n",
       "      <td>Chemicum</td>\n",
       "      <td>vegan</td>\n",
       "      <td>Marokkolainen linssipata</td>\n",
       "      <td>84.0</td>\n",
       "    </tr>\n",
       "    <tr>\n",
       "      <th>8</th>\n",
       "      <td>2023-01-03</td>\n",
       "      <td>Chemicum</td>\n",
       "      <td>fish</td>\n",
       "      <td>Herkkulohipihvit, punajuurimaj</td>\n",
       "      <td>105.0</td>\n",
       "    </tr>\n",
       "    <tr>\n",
       "      <th>10</th>\n",
       "      <td>2023-01-03</td>\n",
       "      <td>Chemicum</td>\n",
       "      <td>fish</td>\n",
       "      <td>Kalapuikot tillikermaviilikast</td>\n",
       "      <td>52.0</td>\n",
       "    </tr>\n",
       "    <tr>\n",
       "      <th>12</th>\n",
       "      <td>2023-01-03</td>\n",
       "      <td>Chemicum</td>\n",
       "      <td>meat</td>\n",
       "      <td>Pasta Carbonara</td>\n",
       "      <td>17.0</td>\n",
       "    </tr>\n",
       "    <tr>\n",
       "      <th>13</th>\n",
       "      <td>2023-01-03</td>\n",
       "      <td>Chemicum</td>\n",
       "      <td>meat</td>\n",
       "      <td>Uunimakkaraa,sinappikastiketta</td>\n",
       "      <td>56.0</td>\n",
       "    </tr>\n",
       "    <tr>\n",
       "      <th>14</th>\n",
       "      <td>2023-01-03</td>\n",
       "      <td>Chemicum</td>\n",
       "      <td>vegan</td>\n",
       "      <td>Marokkolainen linssipata</td>\n",
       "      <td>62.0</td>\n",
       "    </tr>\n",
       "    <tr>\n",
       "      <th>16</th>\n",
       "      <td>2023-01-03</td>\n",
       "      <td>Chemicum</td>\n",
       "      <td>vegan</td>\n",
       "      <td>Vegaaninen buttertofu</td>\n",
       "      <td>51.0</td>\n",
       "    </tr>\n",
       "    <tr>\n",
       "      <th>17</th>\n",
       "      <td>2023-01-03</td>\n",
       "      <td>Chemicum</td>\n",
       "      <td>vegetarian</td>\n",
       "      <td>Feta-pinaattilasagnette</td>\n",
       "      <td>29.0</td>\n",
       "    </tr>\n",
       "  </tbody>\n",
       "</table>\n",
       "</div>"
      ],
      "text/plain": [
       "         date restaurant    category                            dish    pcs\n",
       "2  2023-01-02   Chemicum        fish  Kalapuikot tillikermaviilikast   78.0\n",
       "4  2023-01-02   Chemicum        meat  Uunimakkaraa,sinappikastiketta  165.0\n",
       "5  2023-01-02   Chemicum       vegan        Marokkolainen linssipata   84.0\n",
       "8  2023-01-03   Chemicum        fish  Herkkulohipihvit, punajuurimaj  105.0\n",
       "10 2023-01-03   Chemicum        fish  Kalapuikot tillikermaviilikast   52.0\n",
       "12 2023-01-03   Chemicum        meat                 Pasta Carbonara   17.0\n",
       "13 2023-01-03   Chemicum        meat  Uunimakkaraa,sinappikastiketta   56.0\n",
       "14 2023-01-03   Chemicum       vegan        Marokkolainen linssipata   62.0\n",
       "16 2023-01-03   Chemicum       vegan           Vegaaninen buttertofu   51.0\n",
       "17 2023-01-03   Chemicum  vegetarian         Feta-pinaattilasagnette   29.0"
      ]
     },
     "execution_count": 4,
     "metadata": {},
     "output_type": "execute_result"
    }
   ],
   "source": [
    "lunches = (\n",
    "    raw_lunch\n",
    "    .replace(\n",
    "        {\n",
    "            '600 Chemicum': 'Chemicum',\n",
    "            '610 Physicum': 'Physicum',\n",
    "            '620 Exactum': 'Exactum',\n",
    "            'Kala': 'fish',\n",
    "            'Liha': 'meat',\n",
    "            'Vegaani': 'vegan',\n",
    "            'Kasvis': 'vegetarian',\n",
    "            'Kana': 'chicken'\n",
    "        },\n",
    "    )\n",
    "    .rename(columns={\n",
    "        'Date': 'date',\n",
    "        'Restaurant': 'restaurant',\n",
    "        'Food Category': 'category',\n",
    "        'Dish': 'dish'\n",
    "    })\n",
    "    \n",
    ")\n",
    "\n",
    "lunches['pcs'] = pd.to_numeric(lunches.pcs, errors='coerce')\n",
    "lunches['date'] = pd.to_datetime(lunches.date, format='%d.%m.%Y', errors='coerce')\n",
    "\n",
    "lunches = (\n",
    "    lunches\n",
    "    .groupby(['date', 'restaurant', 'category', 'dish'])['pcs']\n",
    "    .sum()\n",
    "    .reset_index()\n",
    ")\n",
    "\n",
    "# Remove 'Not Napped'\n",
    "lunches = lunches[lunches['category'] != 'Not Mapped']\n",
    "\n",
    "# Remove 'takeaway'\n",
    "def is_takeaway(s: str):\n",
    "    return s.lower().count('take away') > 0\n",
    "\n",
    "lunches['is_takeaway'] = lunches['dish'].map(is_takeaway)\n",
    "lunches = lunches[~lunches['is_takeaway']].drop(columns='is_takeaway')\n",
    "\n",
    "lunches.head(10)"
   ]
  },
  {
   "cell_type": "code",
   "execution_count": 5,
   "metadata": {},
   "outputs": [
    {
     "data": {
      "text/html": [
       "<div>\n",
       "<style scoped>\n",
       "    .dataframe tbody tr th:only-of-type {\n",
       "        vertical-align: middle;\n",
       "    }\n",
       "\n",
       "    .dataframe tbody tr th {\n",
       "        vertical-align: top;\n",
       "    }\n",
       "\n",
       "    .dataframe thead th {\n",
       "        text-align: right;\n",
       "    }\n",
       "</style>\n",
       "<table border=\"1\" class=\"dataframe\">\n",
       "  <thead>\n",
       "    <tr style=\"text-align: right;\">\n",
       "      <th>category</th>\n",
       "      <th>date</th>\n",
       "      <th>restaurant</th>\n",
       "      <th>num_cat_chicken</th>\n",
       "      <th>num_cat_fish</th>\n",
       "      <th>num_cat_meat</th>\n",
       "      <th>num_cat_vegan</th>\n",
       "      <th>num_cat_vegetarian</th>\n",
       "    </tr>\n",
       "  </thead>\n",
       "  <tbody>\n",
       "    <tr>\n",
       "      <th>0</th>\n",
       "      <td>2023-01-02</td>\n",
       "      <td>Chemicum</td>\n",
       "      <td>0.0</td>\n",
       "      <td>1.0</td>\n",
       "      <td>1.0</td>\n",
       "      <td>1.0</td>\n",
       "      <td>0.0</td>\n",
       "    </tr>\n",
       "    <tr>\n",
       "      <th>1</th>\n",
       "      <td>2023-01-03</td>\n",
       "      <td>Chemicum</td>\n",
       "      <td>0.0</td>\n",
       "      <td>2.0</td>\n",
       "      <td>2.0</td>\n",
       "      <td>2.0</td>\n",
       "      <td>1.0</td>\n",
       "    </tr>\n",
       "    <tr>\n",
       "      <th>2</th>\n",
       "      <td>2023-01-04</td>\n",
       "      <td>Chemicum</td>\n",
       "      <td>0.0</td>\n",
       "      <td>2.0</td>\n",
       "      <td>1.0</td>\n",
       "      <td>1.0</td>\n",
       "      <td>0.0</td>\n",
       "    </tr>\n",
       "    <tr>\n",
       "      <th>3</th>\n",
       "      <td>2023-01-05</td>\n",
       "      <td>Chemicum</td>\n",
       "      <td>1.0</td>\n",
       "      <td>2.0</td>\n",
       "      <td>0.0</td>\n",
       "      <td>1.0</td>\n",
       "      <td>0.0</td>\n",
       "    </tr>\n",
       "    <tr>\n",
       "      <th>4</th>\n",
       "      <td>2023-01-09</td>\n",
       "      <td>Chemicum</td>\n",
       "      <td>0.0</td>\n",
       "      <td>2.0</td>\n",
       "      <td>1.0</td>\n",
       "      <td>2.0</td>\n",
       "      <td>0.0</td>\n",
       "    </tr>\n",
       "  </tbody>\n",
       "</table>\n",
       "</div>"
      ],
      "text/plain": [
       "category       date restaurant  num_cat_chicken  num_cat_fish  num_cat_meat  \\\n",
       "0        2023-01-02   Chemicum              0.0           1.0           1.0   \n",
       "1        2023-01-03   Chemicum              0.0           2.0           2.0   \n",
       "2        2023-01-04   Chemicum              0.0           2.0           1.0   \n",
       "3        2023-01-05   Chemicum              1.0           2.0           0.0   \n",
       "4        2023-01-09   Chemicum              0.0           2.0           1.0   \n",
       "\n",
       "category  num_cat_vegan  num_cat_vegetarian  \n",
       "0                   1.0                 0.0  \n",
       "1                   2.0                 1.0  \n",
       "2                   1.0                 0.0  \n",
       "3                   1.0                 0.0  \n",
       "4                   2.0                 0.0  "
      ]
     },
     "execution_count": 5,
     "metadata": {},
     "output_type": "execute_result"
    }
   ],
   "source": [
    "dish_count = (\n",
    "    lunches\n",
    "    .groupby(['date' ,'restaurant'])['category']\n",
    "    .value_counts()\n",
    "    .reset_index()\n",
    "    .pivot(index=['date', 'restaurant'], columns='category', values='count')\n",
    "    .fillna(0.0)\n",
    "    .rename(columns={\n",
    "        'chicken': 'num_cat_chicken',\n",
    "        'fish': 'num_cat_fish',\n",
    "        'meat': 'num_cat_meat',\n",
    "        'vegan': 'num_cat_vegan',\n",
    "        'vegetarian': 'num_cat_vegetarian',\n",
    "    })\n",
    "    .reset_index()\n",
    ")\n",
    "dish_count.head()"
   ]
  },
  {
   "cell_type": "code",
   "execution_count": 17,
   "metadata": {},
   "outputs": [
    {
     "data": {
      "text/html": [
       "<div>\n",
       "<style scoped>\n",
       "    .dataframe tbody tr th:only-of-type {\n",
       "        vertical-align: middle;\n",
       "    }\n",
       "\n",
       "    .dataframe tbody tr th {\n",
       "        vertical-align: top;\n",
       "    }\n",
       "\n",
       "    .dataframe thead th {\n",
       "        text-align: right;\n",
       "    }\n",
       "</style>\n",
       "<table border=\"1\" class=\"dataframe\">\n",
       "  <thead>\n",
       "    <tr style=\"text-align: right;\">\n",
       "      <th></th>\n",
       "      <th>date</th>\n",
       "      <th>restaurant</th>\n",
       "      <th>pcs</th>\n",
       "    </tr>\n",
       "  </thead>\n",
       "  <tbody>\n",
       "    <tr>\n",
       "      <th>0</th>\n",
       "      <td>2023-01-02</td>\n",
       "      <td>Chemicum</td>\n",
       "      <td>327.0</td>\n",
       "    </tr>\n",
       "    <tr>\n",
       "      <th>1</th>\n",
       "      <td>2023-01-03</td>\n",
       "      <td>Chemicum</td>\n",
       "      <td>372.0</td>\n",
       "    </tr>\n",
       "    <tr>\n",
       "      <th>2</th>\n",
       "      <td>2023-01-04</td>\n",
       "      <td>Chemicum</td>\n",
       "      <td>387.0</td>\n",
       "    </tr>\n",
       "    <tr>\n",
       "      <th>3</th>\n",
       "      <td>2023-01-05</td>\n",
       "      <td>Chemicum</td>\n",
       "      <td>471.0</td>\n",
       "    </tr>\n",
       "    <tr>\n",
       "      <th>4</th>\n",
       "      <td>2023-01-09</td>\n",
       "      <td>Chemicum</td>\n",
       "      <td>568.0</td>\n",
       "    </tr>\n",
       "  </tbody>\n",
       "</table>\n",
       "</div>"
      ],
      "text/plain": [
       "        date restaurant    pcs\n",
       "0 2023-01-02   Chemicum  327.0\n",
       "1 2023-01-03   Chemicum  372.0\n",
       "2 2023-01-04   Chemicum  387.0\n",
       "3 2023-01-05   Chemicum  471.0\n",
       "4 2023-01-09   Chemicum  568.0"
      ]
     },
     "execution_count": 17,
     "metadata": {},
     "output_type": "execute_result"
    }
   ],
   "source": [
    "num_pcs = lunches.groupby(['date', 'restaurant'])['pcs'].sum().reset_index()\n",
    "num_pcs.head()"
   ]
  },
  {
   "cell_type": "code",
   "execution_count": 18,
   "metadata": {},
   "outputs": [
    {
     "data": {
      "text/html": [
       "<div>\n",
       "<style scoped>\n",
       "    .dataframe tbody tr th:only-of-type {\n",
       "        vertical-align: middle;\n",
       "    }\n",
       "\n",
       "    .dataframe tbody tr th {\n",
       "        vertical-align: top;\n",
       "    }\n",
       "\n",
       "    .dataframe thead th {\n",
       "        text-align: right;\n",
       "    }\n",
       "</style>\n",
       "<table border=\"1\" class=\"dataframe\">\n",
       "  <thead>\n",
       "    <tr style=\"text-align: right;\">\n",
       "      <th></th>\n",
       "      <th>restaurant</th>\n",
       "      <th>num_cat_chicken</th>\n",
       "      <th>num_cat_fish</th>\n",
       "      <th>num_cat_meat</th>\n",
       "      <th>num_cat_vegan</th>\n",
       "      <th>num_cat_vegetarian</th>\n",
       "      <th>pcs</th>\n",
       "    </tr>\n",
       "  </thead>\n",
       "  <tbody>\n",
       "    <tr>\n",
       "      <th>0</th>\n",
       "      <td>Chemicum</td>\n",
       "      <td>0.0</td>\n",
       "      <td>1.0</td>\n",
       "      <td>1.0</td>\n",
       "      <td>1.0</td>\n",
       "      <td>0.0</td>\n",
       "      <td>327.0</td>\n",
       "    </tr>\n",
       "    <tr>\n",
       "      <th>1</th>\n",
       "      <td>Chemicum</td>\n",
       "      <td>0.0</td>\n",
       "      <td>2.0</td>\n",
       "      <td>2.0</td>\n",
       "      <td>2.0</td>\n",
       "      <td>1.0</td>\n",
       "      <td>372.0</td>\n",
       "    </tr>\n",
       "    <tr>\n",
       "      <th>2</th>\n",
       "      <td>Chemicum</td>\n",
       "      <td>0.0</td>\n",
       "      <td>2.0</td>\n",
       "      <td>1.0</td>\n",
       "      <td>1.0</td>\n",
       "      <td>0.0</td>\n",
       "      <td>387.0</td>\n",
       "    </tr>\n",
       "    <tr>\n",
       "      <th>3</th>\n",
       "      <td>Chemicum</td>\n",
       "      <td>1.0</td>\n",
       "      <td>2.0</td>\n",
       "      <td>0.0</td>\n",
       "      <td>1.0</td>\n",
       "      <td>0.0</td>\n",
       "      <td>471.0</td>\n",
       "    </tr>\n",
       "    <tr>\n",
       "      <th>4</th>\n",
       "      <td>Chemicum</td>\n",
       "      <td>0.0</td>\n",
       "      <td>2.0</td>\n",
       "      <td>1.0</td>\n",
       "      <td>2.0</td>\n",
       "      <td>0.0</td>\n",
       "      <td>568.0</td>\n",
       "    </tr>\n",
       "  </tbody>\n",
       "</table>\n",
       "</div>"
      ],
      "text/plain": [
       "  restaurant  num_cat_chicken  num_cat_fish  num_cat_meat  num_cat_vegan  \\\n",
       "0   Chemicum              0.0           1.0           1.0            1.0   \n",
       "1   Chemicum              0.0           2.0           2.0            2.0   \n",
       "2   Chemicum              0.0           2.0           1.0            1.0   \n",
       "3   Chemicum              1.0           2.0           0.0            1.0   \n",
       "4   Chemicum              0.0           2.0           1.0            2.0   \n",
       "\n",
       "   num_cat_vegetarian    pcs  \n",
       "0                 0.0  327.0  \n",
       "1                 1.0  372.0  \n",
       "2                 0.0  387.0  \n",
       "3                 0.0  471.0  \n",
       "4                 0.0  568.0  "
      ]
     },
     "execution_count": 18,
     "metadata": {},
     "output_type": "execute_result"
    }
   ],
   "source": [
    "dishes = (\n",
    "    dish_count\n",
    "    .merge(\n",
    "        num_pcs,\n",
    "        on=['date', 'restaurant'],\n",
    "        how='inner'\n",
    "    )\n",
    "    .drop(columns=['date'])\n",
    ")\n",
    "\n",
    "dishes.head()"
   ]
  },
  {
   "cell_type": "markdown",
   "metadata": {},
   "source": [
    "## Study the distribution of pcs each dish"
   ]
  },
  {
   "cell_type": "code",
   "execution_count": 47,
   "metadata": {},
   "outputs": [
    {
     "data": {
      "application/vnd.plotly.v1+json": {
       "config": {
        "plotlyServerURL": "https://plot.ly"
       },
       "data": [
        {
         "boxpoints": false,
         "name": "Lounaspatonki, kasvis",
         "showlegend": false,
         "type": "box",
         "x": [
          1,
          1,
          1,
          1,
          1,
          1,
          1,
          2,
          1
         ],
         "xaxis": "x",
         "yaxis": "y"
        },
        {
         "boxpoints": false,
         "name": "Tomaatti-mozzarellasalaatti",
         "showlegend": false,
         "type": "box",
         "x": [
          1,
          1,
          5,
          6,
          10,
          5,
          1,
          16,
          1,
          3,
          3,
          1,
          1,
          2,
          3,
          16,
          1,
          6,
          2,
          12,
          1,
          1,
          1,
          13,
          4,
          1,
          9,
          2,
          1,
          1,
          9,
          1,
          1,
          15,
          2,
          8,
          1,
          20,
          1,
          4,
          6,
          2,
          1,
          1,
          1,
          7,
          2,
          6,
          1,
          3,
          2,
          1,
          2,
          1,
          1,
          1,
          1,
          7,
          1,
          5
         ],
         "xaxis": "x",
         "yaxis": "y"
        },
        {
         "boxpoints": false,
         "name": "Kreikkalainen salaatti",
         "showlegend": false,
         "type": "box",
         "x": [
          2,
          8,
          2,
          11,
          7,
          13,
          1,
          2,
          2,
          7,
          2,
          6,
          11,
          4,
          1,
          10,
          1,
          7,
          6,
          2,
          1,
          2,
          5,
          14,
          7,
          1,
          9,
          12,
          8,
          1,
          1,
          5,
          2,
          1,
          12,
          1,
          5,
          1,
          8,
          2,
          5,
          1,
          1,
          3,
          9,
          2,
          7,
          1,
          1,
          1,
          4,
          2,
          1,
          12,
          8,
          14,
          4,
          6,
          1,
          12,
          3,
          3,
          21,
          1,
          4,
          8,
          8,
          5,
          3,
          14,
          2,
          4,
          15,
          6,
          5,
          6,
          5,
          1,
          7,
          12,
          2,
          11,
          6,
          13,
          1,
          4,
          2,
          7,
          7,
          4,
          12,
          7,
          1,
          10,
          9,
          1,
          2,
          12,
          4,
          7,
          1,
          1,
          13,
          2,
          13,
          1,
          3,
          4,
          15,
          11,
          12,
          12,
          4,
          11,
          8,
          3,
          1,
          1,
          8,
          5,
          7,
          5,
          13,
          13,
          1,
          3,
          7,
          1,
          2,
          12,
          9,
          8,
          10,
          4,
          10,
          10,
          6,
          2,
          7,
          2,
          1,
          1,
          5,
          3,
          5,
          1,
          3,
          2,
          3,
          2
         ],
         "xaxis": "x",
         "yaxis": "y"
        },
        {
         "boxpoints": false,
         "name": "Vuohenjuustosalaattia",
         "showlegend": false,
         "type": "box",
         "x": [
          1,
          10,
          7,
          3,
          4,
          7,
          3,
          6,
          9,
          3,
          2,
          7,
          9,
          9,
          10,
          4,
          4,
          12,
          12,
          5,
          10,
          4,
          1,
          6,
          7,
          5,
          6,
          2,
          3,
          3,
          14,
          12,
          4,
          4,
          13,
          12,
          8,
          6,
          14,
          2,
          1,
          11,
          13,
          3,
          1,
          1,
          4,
          9,
          10,
          3,
          1,
          1,
          3,
          9,
          2,
          1,
          1,
          1,
          10,
          2,
          10,
          5,
          7,
          1,
          1,
          9,
          2,
          12,
          5,
          1,
          7,
          5,
          6,
          2,
          1,
          8,
          1,
          4,
          1,
          6,
          1
         ],
         "xaxis": "x",
         "yaxis": "y"
        },
        {
         "boxpoints": false,
         "name": "Karibian kasvispihvejä & Ranch kastiketta",
         "showlegend": false,
         "type": "box",
         "x": [
          71,
          45,
          1,
          10,
          4,
          35,
          4,
          1
         ],
         "xaxis": "x",
         "yaxis": "y"
        },
        {
         "boxpoints": false,
         "name": "Kasvispizza",
         "showlegend": false,
         "type": "box",
         "x": [
          5,
          8,
          8,
          8,
          8
         ],
         "xaxis": "x",
         "yaxis": "y"
        },
        {
         "boxpoints": false,
         "name": "Lounaspatonki, kolme juustoa",
         "showlegend": false,
         "type": "box",
         "x": [
          12,
          13,
          14,
          9,
          5,
          15,
          20,
          11,
          1,
          9,
          4,
          1,
          7,
          15,
          7,
          12,
          11,
          1,
          21,
          2,
          10,
          11,
          11,
          3,
          6,
          4,
          10,
          2
         ],
         "xaxis": "x",
         "yaxis": "y"
        },
        {
         "boxpoints": false,
         "name": "Lounaspatonki, vuohenjuusto",
         "showlegend": false,
         "type": "box",
         "x": [
          17,
          17,
          1,
          17,
          6,
          12,
          18,
          12,
          9,
          8,
          9,
          1,
          9,
          7,
          4,
          2,
          4,
          9,
          7,
          14,
          16,
          15,
          12,
          18,
          18,
          10,
          21,
          24,
          16,
          10,
          21,
          12,
          15,
          19,
          23,
          1,
          3,
          2,
          21,
          1,
          2,
          10,
          2,
          5,
          7,
          1,
          1
         ],
         "xaxis": "x",
         "yaxis": "y"
        },
        {
         "boxpoints": false,
         "name": "Lounaspatonki, juusto",
         "showlegend": false,
         "type": "box",
         "x": [
          4,
          9,
          3,
          7,
          16,
          18,
          26,
          16,
          5,
          5,
          19,
          21,
          19,
          8,
          24,
          12,
          15,
          22,
          19,
          16,
          21,
          16,
          23,
          17,
          23,
          20,
          11,
          19,
          21,
          8,
          19,
          10,
          5,
          14,
          14,
          13,
          15,
          15,
          20,
          10,
          12,
          9,
          6,
          10,
          8,
          4,
          23,
          19,
          18,
          15,
          22,
          15,
          12,
          9,
          12,
          6,
          17,
          10,
          10,
          11,
          17,
          16,
          10,
          1,
          14,
          11,
          10,
          6,
          21,
          20,
          5,
          18,
          22,
          22,
          25,
          11,
          14,
          20,
          23,
          29,
          13,
          14,
          15,
          11,
          7,
          10,
          14,
          2,
          12,
          11,
          9,
          8,
          5,
          6,
          10,
          1,
          1,
          6,
          3,
          2,
          4,
          3,
          8,
          7,
          5,
          2,
          9,
          1,
          7,
          14,
          12,
          9,
          18,
          18,
          5,
          5,
          7,
          16,
          20,
          19,
          13,
          19,
          3,
          21,
          7,
          9,
          20,
          2,
          20,
          24,
          11,
          28,
          22,
          15,
          17,
          22,
          22,
          23,
          15,
          3,
          9,
          17,
          14,
          12,
          1,
          1,
          1,
          21,
          13,
          16,
          18,
          19,
          19,
          11,
          19,
          20,
          20,
          17,
          10,
          23,
          14,
          25,
          20,
          13,
          23,
          8,
          23,
          23,
          13,
          24,
          19,
          20,
          21,
          2,
          16,
          15,
          17,
          11,
          12,
          7,
          2,
          8,
          6,
          6,
          9,
          20,
          20,
          17,
          6,
          21,
          20,
          20,
          17,
          14,
          4,
          6,
          18,
          14,
          4,
          5,
          18,
          2,
          6,
          25,
          7,
          2,
          4,
          20,
          20,
          21,
          22,
          5,
          19,
          20,
          18,
          10,
          4,
          19,
          13,
          14,
          9,
          7,
          10,
          7,
          16,
          14,
          12,
          20,
          23,
          27,
          19,
          8,
          22,
          19,
          20,
          11,
          8,
          5,
          5,
          18,
          14,
          21,
          22,
          15,
          4,
          13,
          14,
          20,
          22,
          15,
          14,
          15,
          8,
          8,
          11,
          15,
          12,
          14,
          13,
          13,
          12,
          5,
          4,
          9,
          10,
          14,
          11,
          6,
          2,
          3,
          10,
          8,
          9,
          10,
          7,
          3,
          3,
          7,
          4,
          8,
          7,
          9,
          6
         ],
         "xaxis": "x",
         "yaxis": "y"
        },
        {
         "boxpoints": false,
         "name": "Kreikkalainen tomaattikeitto",
         "showlegend": false,
         "type": "box",
         "x": [
          3,
          21,
          16,
          36,
          25
         ],
         "xaxis": "x",
         "yaxis": "y"
        },
        {
         "boxpoints": false,
         "name": "Panini, Mozzarella",
         "showlegend": false,
         "type": "box",
         "x": [
          7,
          7,
          9,
          9,
          7,
          39,
          19,
          21,
          17,
          15,
          20,
          21,
          43,
          19,
          13,
          16,
          24,
          28,
          21,
          17,
          31,
          33,
          23,
          35,
          20,
          18,
          17,
          20,
          27,
          16,
          16,
          20,
          31,
          38,
          24,
          25,
          25,
          18,
          25,
          13,
          8,
          9,
          8,
          13,
          19,
          27,
          26,
          32,
          22,
          10,
          22,
          28,
          28,
          25,
          30,
          17,
          22,
          24,
          22,
          14,
          17,
          22,
          16,
          3,
          10,
          8,
          7,
          14,
          24,
          17,
          13,
          22,
          15,
          20,
          19,
          12,
          17,
          17,
          13,
          25,
          13,
          12,
          19,
          9,
          13,
          8,
          4,
          6,
          6,
          12,
          4,
          9,
          4,
          4,
          11,
          2,
          11,
          4,
          3,
          13,
          6,
          4,
          3,
          7,
          9,
          5,
          8,
          4,
          6,
          3,
          6,
          12,
          4,
          3,
          3,
          12,
          13,
          20,
          11,
          9,
          25,
          70,
          62,
          50,
          21,
          30,
          41,
          20,
          31,
          32,
          46,
          34,
          27,
          45,
          24,
          30,
          57,
          40,
          30,
          13,
          37,
          38,
          38,
          28,
          14,
          38,
          44,
          28,
          39,
          26,
          18,
          49,
          47,
          29,
          6,
          14,
          22,
          17,
          27,
          19,
          60,
          42,
          98,
          43,
          26,
          50,
          46,
          54,
          52,
          31,
          36,
          59,
          54,
          45,
          26,
          48,
          57,
          38,
          1,
          32,
          50,
          61,
          54,
          41,
          36,
          29,
          36,
          45,
          27,
          25,
          28,
          12,
          7,
          9,
          20,
          19,
          10,
          54,
          44,
          44,
          28,
          24,
          50,
          27,
          30,
          50,
          30,
          45,
          56,
          27,
          19,
          43,
          46,
          40,
          43,
          32,
          40,
          40,
          10,
          14,
          23,
          40,
          48,
          25,
          50,
          13,
          36,
          55,
          39,
          43,
          23,
          23,
          33,
          29,
          24,
          25,
          32,
          34,
          33,
          36,
          21,
          51,
          48,
          40,
          41,
          7,
          29,
          26,
          53,
          14,
          24,
          11,
          31,
          29,
          42,
          32,
          32,
          28,
          16,
          25,
          34,
          45,
          32,
          18,
          33,
          30,
          24,
          18,
          14,
          22,
          33,
          26,
          10,
          17,
          20,
          11,
          8,
          11,
          5,
          15,
          8,
          8,
          6,
          14,
          5,
          4,
          13,
          13,
          8,
          7,
          8,
          9,
          8,
          5,
          5,
          9,
          6,
          15,
          22,
          6
         ],
         "xaxis": "x",
         "yaxis": "y"
        },
        {
         "boxpoints": false,
         "name": "Porkkanasosekeittoa,pestokerma",
         "showlegend": false,
         "type": "box",
         "x": [
          11,
          12,
          15,
          27,
          36,
          21,
          28,
          34,
          20,
          26,
          23,
          23
         ],
         "xaxis": "x",
         "yaxis": "y"
        },
        {
         "boxpoints": false,
         "name": "Pinaattikeitto, 1/2 kananmuna",
         "showlegend": false,
         "type": "box",
         "x": [
          38,
          25,
          30,
          16,
          31,
          21,
          18,
          19,
          6,
          34,
          16,
          37,
          32,
          25,
          30,
          28,
          35,
          1,
          32,
          29
         ],
         "xaxis": "x",
         "yaxis": "y"
        },
        {
         "boxpoints": false,
         "name": "Vuohenjuusto-tomaattikeittoa",
         "showlegend": false,
         "type": "box",
         "x": [
          5,
          42,
          41,
          25,
          33
         ],
         "xaxis": "x",
         "yaxis": "y"
        },
        {
         "boxpoints": false,
         "name": "Aurajuusto-pinaattilasagnettea",
         "showlegend": false,
         "type": "box",
         "x": [
          142,
          73,
          19,
          82,
          14,
          38,
          1,
          52,
          38,
          114,
          12,
          62,
          126,
          54,
          1,
          94,
          18,
          69,
          19,
          74,
          38,
          38
         ],
         "xaxis": "x",
         "yaxis": "y"
        },
        {
         "boxpoints": false,
         "name": "Kasvis-vuohenjuustolasagne",
         "showlegend": false,
         "type": "box",
         "x": [
          68,
          14,
          110,
          89,
          106,
          16,
          54,
          30,
          43,
          112
         ],
         "xaxis": "x",
         "yaxis": "y"
        },
        {
         "boxpoints": false,
         "name": "Jambalayaa & paahdettua halloumia",
         "showlegend": false,
         "type": "box",
         "x": [
          216,
          82,
          171,
          43,
          52,
          4
         ],
         "xaxis": "x",
         "yaxis": "y"
        },
        {
         "boxpoints": false,
         "name": "Rapeita pinaattipuikkoja ja Ananas-salsaa",
         "showlegend": false,
         "type": "box",
         "x": [
          74,
          69,
          67,
          75,
          72,
          34,
          14
         ],
         "xaxis": "x",
         "yaxis": "y"
        }
       ],
       "layout": {
        "height": 1000,
        "template": {
         "data": {
          "bar": [
           {
            "error_x": {
             "color": "#2a3f5f"
            },
            "error_y": {
             "color": "#2a3f5f"
            },
            "marker": {
             "line": {
              "color": "#E5ECF6",
              "width": 0.5
             },
             "pattern": {
              "fillmode": "overlay",
              "size": 10,
              "solidity": 0.2
             }
            },
            "type": "bar"
           }
          ],
          "barpolar": [
           {
            "marker": {
             "line": {
              "color": "#E5ECF6",
              "width": 0.5
             },
             "pattern": {
              "fillmode": "overlay",
              "size": 10,
              "solidity": 0.2
             }
            },
            "type": "barpolar"
           }
          ],
          "carpet": [
           {
            "aaxis": {
             "endlinecolor": "#2a3f5f",
             "gridcolor": "white",
             "linecolor": "white",
             "minorgridcolor": "white",
             "startlinecolor": "#2a3f5f"
            },
            "baxis": {
             "endlinecolor": "#2a3f5f",
             "gridcolor": "white",
             "linecolor": "white",
             "minorgridcolor": "white",
             "startlinecolor": "#2a3f5f"
            },
            "type": "carpet"
           }
          ],
          "choropleth": [
           {
            "colorbar": {
             "outlinewidth": 0,
             "ticks": ""
            },
            "type": "choropleth"
           }
          ],
          "contour": [
           {
            "colorbar": {
             "outlinewidth": 0,
             "ticks": ""
            },
            "colorscale": [
             [
              0,
              "#0d0887"
             ],
             [
              0.1111111111111111,
              "#46039f"
             ],
             [
              0.2222222222222222,
              "#7201a8"
             ],
             [
              0.3333333333333333,
              "#9c179e"
             ],
             [
              0.4444444444444444,
              "#bd3786"
             ],
             [
              0.5555555555555556,
              "#d8576b"
             ],
             [
              0.6666666666666666,
              "#ed7953"
             ],
             [
              0.7777777777777778,
              "#fb9f3a"
             ],
             [
              0.8888888888888888,
              "#fdca26"
             ],
             [
              1,
              "#f0f921"
             ]
            ],
            "type": "contour"
           }
          ],
          "contourcarpet": [
           {
            "colorbar": {
             "outlinewidth": 0,
             "ticks": ""
            },
            "type": "contourcarpet"
           }
          ],
          "heatmap": [
           {
            "colorbar": {
             "outlinewidth": 0,
             "ticks": ""
            },
            "colorscale": [
             [
              0,
              "#0d0887"
             ],
             [
              0.1111111111111111,
              "#46039f"
             ],
             [
              0.2222222222222222,
              "#7201a8"
             ],
             [
              0.3333333333333333,
              "#9c179e"
             ],
             [
              0.4444444444444444,
              "#bd3786"
             ],
             [
              0.5555555555555556,
              "#d8576b"
             ],
             [
              0.6666666666666666,
              "#ed7953"
             ],
             [
              0.7777777777777778,
              "#fb9f3a"
             ],
             [
              0.8888888888888888,
              "#fdca26"
             ],
             [
              1,
              "#f0f921"
             ]
            ],
            "type": "heatmap"
           }
          ],
          "heatmapgl": [
           {
            "colorbar": {
             "outlinewidth": 0,
             "ticks": ""
            },
            "colorscale": [
             [
              0,
              "#0d0887"
             ],
             [
              0.1111111111111111,
              "#46039f"
             ],
             [
              0.2222222222222222,
              "#7201a8"
             ],
             [
              0.3333333333333333,
              "#9c179e"
             ],
             [
              0.4444444444444444,
              "#bd3786"
             ],
             [
              0.5555555555555556,
              "#d8576b"
             ],
             [
              0.6666666666666666,
              "#ed7953"
             ],
             [
              0.7777777777777778,
              "#fb9f3a"
             ],
             [
              0.8888888888888888,
              "#fdca26"
             ],
             [
              1,
              "#f0f921"
             ]
            ],
            "type": "heatmapgl"
           }
          ],
          "histogram": [
           {
            "marker": {
             "pattern": {
              "fillmode": "overlay",
              "size": 10,
              "solidity": 0.2
             }
            },
            "type": "histogram"
           }
          ],
          "histogram2d": [
           {
            "colorbar": {
             "outlinewidth": 0,
             "ticks": ""
            },
            "colorscale": [
             [
              0,
              "#0d0887"
             ],
             [
              0.1111111111111111,
              "#46039f"
             ],
             [
              0.2222222222222222,
              "#7201a8"
             ],
             [
              0.3333333333333333,
              "#9c179e"
             ],
             [
              0.4444444444444444,
              "#bd3786"
             ],
             [
              0.5555555555555556,
              "#d8576b"
             ],
             [
              0.6666666666666666,
              "#ed7953"
             ],
             [
              0.7777777777777778,
              "#fb9f3a"
             ],
             [
              0.8888888888888888,
              "#fdca26"
             ],
             [
              1,
              "#f0f921"
             ]
            ],
            "type": "histogram2d"
           }
          ],
          "histogram2dcontour": [
           {
            "colorbar": {
             "outlinewidth": 0,
             "ticks": ""
            },
            "colorscale": [
             [
              0,
              "#0d0887"
             ],
             [
              0.1111111111111111,
              "#46039f"
             ],
             [
              0.2222222222222222,
              "#7201a8"
             ],
             [
              0.3333333333333333,
              "#9c179e"
             ],
             [
              0.4444444444444444,
              "#bd3786"
             ],
             [
              0.5555555555555556,
              "#d8576b"
             ],
             [
              0.6666666666666666,
              "#ed7953"
             ],
             [
              0.7777777777777778,
              "#fb9f3a"
             ],
             [
              0.8888888888888888,
              "#fdca26"
             ],
             [
              1,
              "#f0f921"
             ]
            ],
            "type": "histogram2dcontour"
           }
          ],
          "mesh3d": [
           {
            "colorbar": {
             "outlinewidth": 0,
             "ticks": ""
            },
            "type": "mesh3d"
           }
          ],
          "parcoords": [
           {
            "line": {
             "colorbar": {
              "outlinewidth": 0,
              "ticks": ""
             }
            },
            "type": "parcoords"
           }
          ],
          "pie": [
           {
            "automargin": true,
            "type": "pie"
           }
          ],
          "scatter": [
           {
            "fillpattern": {
             "fillmode": "overlay",
             "size": 10,
             "solidity": 0.2
            },
            "type": "scatter"
           }
          ],
          "scatter3d": [
           {
            "line": {
             "colorbar": {
              "outlinewidth": 0,
              "ticks": ""
             }
            },
            "marker": {
             "colorbar": {
              "outlinewidth": 0,
              "ticks": ""
             }
            },
            "type": "scatter3d"
           }
          ],
          "scattercarpet": [
           {
            "marker": {
             "colorbar": {
              "outlinewidth": 0,
              "ticks": ""
             }
            },
            "type": "scattercarpet"
           }
          ],
          "scattergeo": [
           {
            "marker": {
             "colorbar": {
              "outlinewidth": 0,
              "ticks": ""
             }
            },
            "type": "scattergeo"
           }
          ],
          "scattergl": [
           {
            "marker": {
             "colorbar": {
              "outlinewidth": 0,
              "ticks": ""
             }
            },
            "type": "scattergl"
           }
          ],
          "scattermapbox": [
           {
            "marker": {
             "colorbar": {
              "outlinewidth": 0,
              "ticks": ""
             }
            },
            "type": "scattermapbox"
           }
          ],
          "scatterpolar": [
           {
            "marker": {
             "colorbar": {
              "outlinewidth": 0,
              "ticks": ""
             }
            },
            "type": "scatterpolar"
           }
          ],
          "scatterpolargl": [
           {
            "marker": {
             "colorbar": {
              "outlinewidth": 0,
              "ticks": ""
             }
            },
            "type": "scatterpolargl"
           }
          ],
          "scatterternary": [
           {
            "marker": {
             "colorbar": {
              "outlinewidth": 0,
              "ticks": ""
             }
            },
            "type": "scatterternary"
           }
          ],
          "surface": [
           {
            "colorbar": {
             "outlinewidth": 0,
             "ticks": ""
            },
            "colorscale": [
             [
              0,
              "#0d0887"
             ],
             [
              0.1111111111111111,
              "#46039f"
             ],
             [
              0.2222222222222222,
              "#7201a8"
             ],
             [
              0.3333333333333333,
              "#9c179e"
             ],
             [
              0.4444444444444444,
              "#bd3786"
             ],
             [
              0.5555555555555556,
              "#d8576b"
             ],
             [
              0.6666666666666666,
              "#ed7953"
             ],
             [
              0.7777777777777778,
              "#fb9f3a"
             ],
             [
              0.8888888888888888,
              "#fdca26"
             ],
             [
              1,
              "#f0f921"
             ]
            ],
            "type": "surface"
           }
          ],
          "table": [
           {
            "cells": {
             "fill": {
              "color": "#EBF0F8"
             },
             "line": {
              "color": "white"
             }
            },
            "header": {
             "fill": {
              "color": "#C8D4E3"
             },
             "line": {
              "color": "white"
             }
            },
            "type": "table"
           }
          ]
         },
         "layout": {
          "annotationdefaults": {
           "arrowcolor": "#2a3f5f",
           "arrowhead": 0,
           "arrowwidth": 1
          },
          "autotypenumbers": "strict",
          "coloraxis": {
           "colorbar": {
            "outlinewidth": 0,
            "ticks": ""
           }
          },
          "colorscale": {
           "diverging": [
            [
             0,
             "#8e0152"
            ],
            [
             0.1,
             "#c51b7d"
            ],
            [
             0.2,
             "#de77ae"
            ],
            [
             0.3,
             "#f1b6da"
            ],
            [
             0.4,
             "#fde0ef"
            ],
            [
             0.5,
             "#f7f7f7"
            ],
            [
             0.6,
             "#e6f5d0"
            ],
            [
             0.7,
             "#b8e186"
            ],
            [
             0.8,
             "#7fbc41"
            ],
            [
             0.9,
             "#4d9221"
            ],
            [
             1,
             "#276419"
            ]
           ],
           "sequential": [
            [
             0,
             "#0d0887"
            ],
            [
             0.1111111111111111,
             "#46039f"
            ],
            [
             0.2222222222222222,
             "#7201a8"
            ],
            [
             0.3333333333333333,
             "#9c179e"
            ],
            [
             0.4444444444444444,
             "#bd3786"
            ],
            [
             0.5555555555555556,
             "#d8576b"
            ],
            [
             0.6666666666666666,
             "#ed7953"
            ],
            [
             0.7777777777777778,
             "#fb9f3a"
            ],
            [
             0.8888888888888888,
             "#fdca26"
            ],
            [
             1,
             "#f0f921"
            ]
           ],
           "sequentialminus": [
            [
             0,
             "#0d0887"
            ],
            [
             0.1111111111111111,
             "#46039f"
            ],
            [
             0.2222222222222222,
             "#7201a8"
            ],
            [
             0.3333333333333333,
             "#9c179e"
            ],
            [
             0.4444444444444444,
             "#bd3786"
            ],
            [
             0.5555555555555556,
             "#d8576b"
            ],
            [
             0.6666666666666666,
             "#ed7953"
            ],
            [
             0.7777777777777778,
             "#fb9f3a"
            ],
            [
             0.8888888888888888,
             "#fdca26"
            ],
            [
             1,
             "#f0f921"
            ]
           ]
          },
          "colorway": [
           "#636efa",
           "#EF553B",
           "#00cc96",
           "#ab63fa",
           "#FFA15A",
           "#19d3f3",
           "#FF6692",
           "#B6E880",
           "#FF97FF",
           "#FECB52"
          ],
          "font": {
           "color": "#2a3f5f"
          },
          "geo": {
           "bgcolor": "white",
           "lakecolor": "white",
           "landcolor": "#E5ECF6",
           "showlakes": true,
           "showland": true,
           "subunitcolor": "white"
          },
          "hoverlabel": {
           "align": "left"
          },
          "hovermode": "closest",
          "mapbox": {
           "style": "light"
          },
          "paper_bgcolor": "white",
          "plot_bgcolor": "#E5ECF6",
          "polar": {
           "angularaxis": {
            "gridcolor": "white",
            "linecolor": "white",
            "ticks": ""
           },
           "bgcolor": "#E5ECF6",
           "radialaxis": {
            "gridcolor": "white",
            "linecolor": "white",
            "ticks": ""
           }
          },
          "scene": {
           "xaxis": {
            "backgroundcolor": "#E5ECF6",
            "gridcolor": "white",
            "gridwidth": 2,
            "linecolor": "white",
            "showbackground": true,
            "ticks": "",
            "zerolinecolor": "white"
           },
           "yaxis": {
            "backgroundcolor": "#E5ECF6",
            "gridcolor": "white",
            "gridwidth": 2,
            "linecolor": "white",
            "showbackground": true,
            "ticks": "",
            "zerolinecolor": "white"
           },
           "zaxis": {
            "backgroundcolor": "#E5ECF6",
            "gridcolor": "white",
            "gridwidth": 2,
            "linecolor": "white",
            "showbackground": true,
            "ticks": "",
            "zerolinecolor": "white"
           }
          },
          "shapedefaults": {
           "line": {
            "color": "#2a3f5f"
           }
          },
          "ternary": {
           "aaxis": {
            "gridcolor": "white",
            "linecolor": "white",
            "ticks": ""
           },
           "baxis": {
            "gridcolor": "white",
            "linecolor": "white",
            "ticks": ""
           },
           "bgcolor": "#E5ECF6",
           "caxis": {
            "gridcolor": "white",
            "linecolor": "white",
            "ticks": ""
           }
          },
          "title": {
           "x": 0.05
          },
          "xaxis": {
           "automargin": true,
           "gridcolor": "white",
           "linecolor": "white",
           "ticks": "",
           "title": {
            "standoff": 15
           },
           "zerolinecolor": "white",
           "zerolinewidth": 2
          },
          "yaxis": {
           "automargin": true,
           "gridcolor": "white",
           "linecolor": "white",
           "ticks": "",
           "title": {
            "standoff": 15
           },
           "zerolinecolor": "white",
           "zerolinewidth": 2
          }
         }
        },
        "title": {
         "font": {
          "size": 30
         },
         "text": "<b>Distribution of sold pieces of dishes in group 'vegetarian'</b>",
         "x": 0.5
        },
        "width": 1000,
        "xaxis": {
         "anchor": "y",
         "domain": [
          0,
          1
         ],
         "tickangle": -90
        },
        "yaxis": {
         "anchor": "x",
         "domain": [
          0,
          1
         ]
        }
       }
      }
     },
     "metadata": {},
     "output_type": "display_data"
    }
   ],
   "source": [
    "category = 'vegetarian'\n",
    "\n",
    "fig = make_subplots(\n",
    "    rows=1, cols=1,\n",
    "    specs=[\n",
    "        [{'type': 'box'}],\n",
    "    ],\n",
    ")\n",
    "\n",
    "df = lunches[lunches['category'] == category]\n",
    "\n",
    "# Sort dishes' name w.r.t the decreasing order of mean of pieces\n",
    "dish_names = []\n",
    "for dish in df['dish'].unique():\n",
    "    pcs = df[df['dish'] == dish]['pcs']\n",
    "    if len(pcs) < 5:\n",
    "        continue\n",
    "\n",
    "    dish_names.append((dish, pcs.median()))\n",
    "\n",
    "dish_names.sort(key=lambda x: x[1], reverse=False)\n",
    "\n",
    "\n",
    "for (dish, _) in dish_names:\n",
    "    pcs = df[df['dish'] == dish]['pcs']\n",
    "\n",
    "    fig.add_trace(\n",
    "        go.Box(x=pcs, name=dish, showlegend=False, boxpoints=False),\n",
    "        col=1, row=1\n",
    "    )\n",
    "\n",
    "fig.update_layout(\n",
    "    height=1000, \n",
    "    width=1000,\n",
    "    title_text=f\"<b>Distribution of sold pieces of dishes in group '{category}'</b>\",\n",
    "    title_font_size=30,\n",
    "    xaxis_tickangle=-90,\n",
    "    title_x=0.5,\n",
    "    # margin={t: top, b: bottom, autoexpand: False}\n",
    ")\n",
    "fig.show()"
   ]
  },
  {
   "cell_type": "markdown",
   "metadata": {},
   "source": [
    "## Employ ML models"
   ]
  },
  {
   "cell_type": "markdown",
   "metadata": {},
   "source": [
    "### Inputs are dish name's embeddings"
   ]
  },
  {
   "cell_type": "code",
   "execution_count": 8,
   "metadata": {},
   "outputs": [],
   "source": [
    "path_embds = \"experiments_hoangle/hypotheses/res/6_dish_vs_customers/names_embd.npy\"\n",
    "\n",
    "embds = np.load(path_embds, allow_pickle=True).item()"
   ]
  },
  {
   "cell_type": "code",
   "execution_count": 9,
   "metadata": {},
   "outputs": [
    {
     "data": {
      "text/html": [
       "<div>\n",
       "<style scoped>\n",
       "    .dataframe tbody tr th:only-of-type {\n",
       "        vertical-align: middle;\n",
       "    }\n",
       "\n",
       "    .dataframe tbody tr th {\n",
       "        vertical-align: top;\n",
       "    }\n",
       "\n",
       "    .dataframe thead th {\n",
       "        text-align: right;\n",
       "    }\n",
       "</style>\n",
       "<table border=\"1\" class=\"dataframe\">\n",
       "  <thead>\n",
       "    <tr style=\"text-align: right;\">\n",
       "      <th></th>\n",
       "      <th>date</th>\n",
       "      <th>restaurant</th>\n",
       "      <th>category</th>\n",
       "      <th>dish</th>\n",
       "      <th>pcs</th>\n",
       "      <th>embd</th>\n",
       "    </tr>\n",
       "  </thead>\n",
       "  <tbody>\n",
       "    <tr>\n",
       "      <th>2</th>\n",
       "      <td>2023-01-02</td>\n",
       "      <td>Chemicum</td>\n",
       "      <td>fish</td>\n",
       "      <td>Kalapuikot tillikermaviilikast</td>\n",
       "      <td>78.0</td>\n",
       "      <td>[0.64499474, -11.448155, 12.628082, -0.4857183...</td>\n",
       "    </tr>\n",
       "    <tr>\n",
       "      <th>4</th>\n",
       "      <td>2023-01-02</td>\n",
       "      <td>Chemicum</td>\n",
       "      <td>meat</td>\n",
       "      <td>Uunimakkaraa,sinappikastiketta</td>\n",
       "      <td>165.0</td>\n",
       "      <td>[15.018338, 4.3914127, -3.3570702, 3.8625162, ...</td>\n",
       "    </tr>\n",
       "    <tr>\n",
       "      <th>5</th>\n",
       "      <td>2023-01-02</td>\n",
       "      <td>Chemicum</td>\n",
       "      <td>vegan</td>\n",
       "      <td>Marokkolainen linssipata</td>\n",
       "      <td>84.0</td>\n",
       "      <td>[5.133725, -5.3080544, -2.7053263, 8.477409, 8...</td>\n",
       "    </tr>\n",
       "    <tr>\n",
       "      <th>8</th>\n",
       "      <td>2023-01-03</td>\n",
       "      <td>Chemicum</td>\n",
       "      <td>fish</td>\n",
       "      <td>Herkkulohipihvit, punajuurimaj</td>\n",
       "      <td>105.0</td>\n",
       "      <td>[10.697122, -0.18853807, -3.7573192, 8.4619465...</td>\n",
       "    </tr>\n",
       "    <tr>\n",
       "      <th>10</th>\n",
       "      <td>2023-01-03</td>\n",
       "      <td>Chemicum</td>\n",
       "      <td>fish</td>\n",
       "      <td>Kalapuikot tillikermaviilikast</td>\n",
       "      <td>52.0</td>\n",
       "      <td>[0.64499474, -11.448155, 12.628082, -0.4857183...</td>\n",
       "    </tr>\n",
       "  </tbody>\n",
       "</table>\n",
       "</div>"
      ],
      "text/plain": [
       "         date restaurant category                            dish    pcs  \\\n",
       "2  2023-01-02   Chemicum     fish  Kalapuikot tillikermaviilikast   78.0   \n",
       "4  2023-01-02   Chemicum     meat  Uunimakkaraa,sinappikastiketta  165.0   \n",
       "5  2023-01-02   Chemicum    vegan        Marokkolainen linssipata   84.0   \n",
       "8  2023-01-03   Chemicum     fish  Herkkulohipihvit, punajuurimaj  105.0   \n",
       "10 2023-01-03   Chemicum     fish  Kalapuikot tillikermaviilikast   52.0   \n",
       "\n",
       "                                                 embd  \n",
       "2   [0.64499474, -11.448155, 12.628082, -0.4857183...  \n",
       "4   [15.018338, 4.3914127, -3.3570702, 3.8625162, ...  \n",
       "5   [5.133725, -5.3080544, -2.7053263, 8.477409, 8...  \n",
       "8   [10.697122, -0.18853807, -3.7573192, 8.4619465...  \n",
       "10  [0.64499474, -11.448155, 12.628082, -0.4857183...  "
      ]
     },
     "execution_count": 9,
     "metadata": {},
     "output_type": "execute_result"
    }
   ],
   "source": [
    "lunches['embd'] = lunches['dish'].map(embds)\n",
    "\n",
    "lunches.head()"
   ]
  },
  {
   "cell_type": "code",
   "execution_count": 55,
   "metadata": {},
   "outputs": [],
   "source": [
    "# lunches.groupby(['date', 'restaurant']).agg({'dish': lambda x: ' + '.join(x), 'pcs': 'sum'}).reset_index()"
   ]
  },
  {
   "cell_type": "code",
   "execution_count": 56,
   "metadata": {},
   "outputs": [
    {
     "data": {
      "text/html": [
       "<div>\n",
       "<style scoped>\n",
       "    .dataframe tbody tr th:only-of-type {\n",
       "        vertical-align: middle;\n",
       "    }\n",
       "\n",
       "    .dataframe tbody tr th {\n",
       "        vertical-align: top;\n",
       "    }\n",
       "\n",
       "    .dataframe thead th {\n",
       "        text-align: right;\n",
       "    }\n",
       "</style>\n",
       "<table border=\"1\" class=\"dataframe\">\n",
       "  <thead>\n",
       "    <tr style=\"text-align: right;\">\n",
       "      <th></th>\n",
       "      <th>date</th>\n",
       "      <th>category</th>\n",
       "      <th>embd</th>\n",
       "      <th>pcs</th>\n",
       "    </tr>\n",
       "  </thead>\n",
       "  <tbody>\n",
       "    <tr>\n",
       "      <th>0</th>\n",
       "      <td>2023-01-02</td>\n",
       "      <td>fish</td>\n",
       "      <td>[0.64499474, -11.448155, 12.628082, -0.4857183...</td>\n",
       "      <td>78.0</td>\n",
       "    </tr>\n",
       "    <tr>\n",
       "      <th>1</th>\n",
       "      <td>2023-01-02</td>\n",
       "      <td>meat</td>\n",
       "      <td>[15.018338, 4.3914127, -3.3570702, 3.8625162, ...</td>\n",
       "      <td>165.0</td>\n",
       "    </tr>\n",
       "    <tr>\n",
       "      <th>2</th>\n",
       "      <td>2023-01-02</td>\n",
       "      <td>vegan</td>\n",
       "      <td>[5.133725, -5.3080544, -2.7053263, 8.477409, 8...</td>\n",
       "      <td>84.0</td>\n",
       "    </tr>\n",
       "    <tr>\n",
       "      <th>3</th>\n",
       "      <td>2023-01-03</td>\n",
       "      <td>fish</td>\n",
       "      <td>[5.671058, -5.818347, 4.4353814, 3.988114, 2.9...</td>\n",
       "      <td>157.0</td>\n",
       "    </tr>\n",
       "    <tr>\n",
       "      <th>4</th>\n",
       "      <td>2023-01-03</td>\n",
       "      <td>meat</td>\n",
       "      <td>[10.395273, 1.9188652, -3.4813218, 2.5981388, ...</td>\n",
       "      <td>73.0</td>\n",
       "    </tr>\n",
       "    <tr>\n",
       "      <th>...</th>\n",
       "      <td>...</td>\n",
       "      <td>...</td>\n",
       "      <td>...</td>\n",
       "      <td>...</td>\n",
       "    </tr>\n",
       "    <tr>\n",
       "      <th>1715</th>\n",
       "      <td>2024-06-14</td>\n",
       "      <td>vegan</td>\n",
       "      <td>[9.347745, 4.0702252, -5.3099523, 5.742154, 5....</td>\n",
       "      <td>180.0</td>\n",
       "    </tr>\n",
       "    <tr>\n",
       "      <th>1716</th>\n",
       "      <td>2024-06-14</td>\n",
       "      <td>vegetarian</td>\n",
       "      <td>[12.235868, 2.8195195, -1.0143621, -2.1413262,...</td>\n",
       "      <td>14.0</td>\n",
       "    </tr>\n",
       "    <tr>\n",
       "      <th>1717</th>\n",
       "      <td>2024-06-17</td>\n",
       "      <td>fish</td>\n",
       "      <td>[30.779861, -1.978827, -4.9003344, -1.2698876,...</td>\n",
       "      <td>114.0</td>\n",
       "    </tr>\n",
       "    <tr>\n",
       "      <th>1718</th>\n",
       "      <td>2024-06-17</td>\n",
       "      <td>meat</td>\n",
       "      <td>[15.018338, 4.3914127, -3.3570702, 3.8625162, ...</td>\n",
       "      <td>223.0</td>\n",
       "    </tr>\n",
       "    <tr>\n",
       "      <th>1719</th>\n",
       "      <td>2024-06-17</td>\n",
       "      <td>vegan</td>\n",
       "      <td>[9.518171, 10.100402, -15.053618, 2.231827, 2....</td>\n",
       "      <td>248.0</td>\n",
       "    </tr>\n",
       "  </tbody>\n",
       "</table>\n",
       "<p>1720 rows × 4 columns</p>\n",
       "</div>"
      ],
      "text/plain": [
       "           date    category  \\\n",
       "0    2023-01-02        fish   \n",
       "1    2023-01-02        meat   \n",
       "2    2023-01-02       vegan   \n",
       "3    2023-01-03        fish   \n",
       "4    2023-01-03        meat   \n",
       "...         ...         ...   \n",
       "1715 2024-06-14       vegan   \n",
       "1716 2024-06-14  vegetarian   \n",
       "1717 2024-06-17        fish   \n",
       "1718 2024-06-17        meat   \n",
       "1719 2024-06-17       vegan   \n",
       "\n",
       "                                                   embd    pcs  \n",
       "0     [0.64499474, -11.448155, 12.628082, -0.4857183...   78.0  \n",
       "1     [15.018338, 4.3914127, -3.3570702, 3.8625162, ...  165.0  \n",
       "2     [5.133725, -5.3080544, -2.7053263, 8.477409, 8...   84.0  \n",
       "3     [5.671058, -5.818347, 4.4353814, 3.988114, 2.9...  157.0  \n",
       "4     [10.395273, 1.9188652, -3.4813218, 2.5981388, ...   73.0  \n",
       "...                                                 ...    ...  \n",
       "1715  [9.347745, 4.0702252, -5.3099523, 5.742154, 5....  180.0  \n",
       "1716  [12.235868, 2.8195195, -1.0143621, -2.1413262,...   14.0  \n",
       "1717  [30.779861, -1.978827, -4.9003344, -1.2698876,...  114.0  \n",
       "1718  [15.018338, 4.3914127, -3.3570702, 3.8625162, ...  223.0  \n",
       "1719  [9.518171, 10.100402, -15.053618, 2.231827, 2....  248.0  \n",
       "\n",
       "[1720 rows x 4 columns]"
      ]
     },
     "execution_count": 56,
     "metadata": {},
     "output_type": "execute_result"
    }
   ],
   "source": [
    "tmp = lunches.groupby(['date', 'category']).agg({'embd': 'mean', 'pcs': 'sum'}).reset_index()\n",
    "\n",
    "X, y = np.float32(tmp['embd'].tolist()), tmp['pcs'].to_numpy()\n",
    "\n",
    "tmp"
   ]
  },
  {
   "cell_type": "code",
   "execution_count": 11,
   "metadata": {},
   "outputs": [
    {
     "name": "stderr",
     "output_type": "stream",
     "text": [
      "/home/hoanghu/miniforge3/envs/fw/lib/python3.9/site-packages/sklearn/linear_model/_coordinate_descent.py:697: ConvergenceWarning:\n",
      "\n",
      "Objective did not converge. You might want to increase the number of iterations, check the scale of the features or consider increasing regularisation. Duality gap: 4.882e+06, tolerance: 5.267e+03\n",
      "\n"
     ]
    },
    {
     "name": "stdout",
     "output_type": "stream",
     "text": [
      "[LightGBM] [Info] Auto-choosing col-wise multi-threading, the overhead of testing was 0.064906 seconds.\n",
      "You can set `force_col_wise=true` to remove the overhead.\n",
      "[LightGBM] [Info] Total Bins 261031\n",
      "[LightGBM] [Info] Number of data points in the train set: 1720, number of used features: 1024\n",
      "[LightGBM] [Info] Start training from score 223.995930\n"
     ]
    },
    {
     "data": {
      "text/plain": [
       "{'Ridge': {'rmse': 111.76282655228317},\n",
       " 'Lasso': {'rmse': 114.90574457604124},\n",
       " 'RandomForestRegressor': {'rmse': 51.29199734519531},\n",
       " 'XGBRegressor': {'rmse': 32.867793430608636},\n",
       " 'LGBMRegressor': {'rmse': 34.446530429658345},\n",
       " 'GradientBoostingRegressor': {'rmse': 73.0787377615688}}"
      ]
     },
     "execution_count": 11,
     "metadata": {},
     "output_type": "execute_result"
    }
   ],
   "source": [
    "models = {\n",
    "    'Ridge': {}, \n",
    "    'Lasso': {}, \n",
    "    'RandomForestRegressor': {},\n",
    "    'XGBRegressor': {},\n",
    "    'LGBMRegressor': {},\n",
    "    'GradientBoostingRegressor': {}\n",
    "}\n",
    "\n",
    "for name in models.keys():\n",
    "    model = eval(name)()\n",
    "    model.fit(X, y)\n",
    "\n",
    "\n",
    "    # rmse = root_mean_squared_error(\n",
    "    #     scaler_y.inverse_transform(y),\n",
    "    #     scaler_y.inverse_transform(model.predict(X).reshape(-1, 1))\n",
    "    # )\n",
    "    rmse = root_mean_squared_error(y, model.predict(X).reshape(-1, 1))\n",
    "    models[name]['rmse'] = rmse\n",
    "\n",
    "models"
   ]
  },
  {
   "cell_type": "code",
   "execution_count": 12,
   "metadata": {},
   "outputs": [
    {
     "data": {
      "text/plain": [
       "(1720, 150)"
      ]
     },
     "execution_count": 12,
     "metadata": {},
     "output_type": "execute_result"
    }
   ],
   "source": [
    "X_pca = PCA(n_components=150).fit_transform(X)\n",
    "\n",
    "X_pca.shape"
   ]
  },
  {
   "cell_type": "code",
   "execution_count": 13,
   "metadata": {},
   "outputs": [
    {
     "name": "stdout",
     "output_type": "stream",
     "text": [
      "[LightGBM] [Info] Auto-choosing col-wise multi-threading, the overhead of testing was 0.004948 seconds.\n",
      "You can set `force_col_wise=true` to remove the overhead.\n",
      "[LightGBM] [Info] Total Bins 38248\n",
      "[LightGBM] [Info] Number of data points in the train set: 1720, number of used features: 150\n",
      "[LightGBM] [Info] Start training from score 223.995930\n"
     ]
    },
    {
     "data": {
      "text/plain": [
       "{'Ridge': {'rmse': 119.95938412183764},\n",
       " 'Lasso': {'rmse': 120.00892872466535},\n",
       " 'RandomForestRegressor': {'rmse': 51.124217877058435},\n",
       " 'XGBRegressor': {'rmse': 28.40254835394544},\n",
       " 'LGBMRegressor': {'rmse': 35.04268165926529},\n",
       " 'GradientBoostingRegressor': {'rmse': 81.7226033861491}}"
      ]
     },
     "execution_count": 13,
     "metadata": {},
     "output_type": "execute_result"
    }
   ],
   "source": [
    "models = {\n",
    "    'Ridge': {}, \n",
    "    'Lasso': {}, \n",
    "    'RandomForestRegressor': {},\n",
    "    'XGBRegressor': {},\n",
    "    'LGBMRegressor': {},\n",
    "    'GradientBoostingRegressor': {}\n",
    "}\n",
    "\n",
    "for name in models.keys():\n",
    "    model = eval(name)()\n",
    "    model.fit(X_pca, y)\n",
    "\n",
    "\n",
    "    # rmse = root_mean_squared_error(\n",
    "    #     scaler_y.inverse_transform(y),\n",
    "    #     scaler_y.inverse_transform(model.predict(X).reshape(-1, 1))\n",
    "    # )\n",
    "    rmse = root_mean_squared_error(y, model.predict(X_pca ).reshape(-1, 1))\n",
    "    models[name]['rmse'] = rmse\n",
    "\n",
    "models"
   ]
  },
  {
   "cell_type": "code",
   "execution_count": 14,
   "metadata": {},
   "outputs": [
    {
     "data": {
      "application/vnd.plotly.v1+json": {
       "config": {
        "plotlyServerURL": "https://plot.ly"
       },
       "data": [
        {
         "name": "target",
         "type": "scatter",
         "x": [
          1,
          3.152,
          5.304,
          7.456,
          9.608,
          11.76,
          13.912,
          16.064,
          18.216,
          20.368,
          22.52,
          24.672,
          26.824,
          28.976,
          31.128,
          33.28,
          35.432,
          37.584,
          39.736,
          41.888,
          44.04,
          46.192,
          48.344,
          50.496,
          52.648,
          54.8,
          56.952,
          59.104,
          61.256,
          63.408,
          65.56,
          67.712,
          69.864,
          72.016,
          74.168,
          76.32,
          78.472,
          80.624,
          82.776,
          84.928,
          87.08,
          89.232,
          91.384,
          93.536,
          95.688,
          97.84,
          99.992,
          102.144,
          104.296,
          106.448,
          108.6,
          110.752,
          112.904,
          115.056,
          117.208,
          119.36,
          121.512,
          123.664,
          125.816,
          127.968,
          130.12,
          132.272,
          134.424,
          136.576,
          138.728,
          140.88,
          143.032,
          145.184,
          147.336,
          149.488,
          151.64,
          153.792,
          155.944,
          158.096,
          160.248,
          162.4,
          164.552,
          166.704,
          168.856,
          171.008,
          173.16,
          175.312,
          177.464,
          179.616,
          181.768,
          183.92,
          186.072,
          188.224,
          190.376,
          192.528,
          194.68,
          196.832,
          198.984,
          201.136,
          203.288,
          205.44,
          207.592,
          209.744,
          211.896,
          214.048,
          216.2,
          218.352,
          220.504,
          222.656,
          224.808,
          226.96,
          229.112,
          231.264,
          233.416,
          235.568,
          237.72,
          239.872,
          242.024,
          244.176,
          246.328,
          248.48,
          250.632,
          252.784,
          254.936,
          257.088,
          259.24,
          261.392,
          263.544,
          265.696,
          267.848,
          270,
          272.152,
          274.304,
          276.456,
          278.608,
          280.76,
          282.912,
          285.064,
          287.216,
          289.368,
          291.52,
          293.672,
          295.824,
          297.976,
          300.128,
          302.28,
          304.432,
          306.584,
          308.736,
          310.888,
          313.04,
          315.192,
          317.344,
          319.496,
          321.648,
          323.8,
          325.952,
          328.104,
          330.256,
          332.408,
          334.56,
          336.712,
          338.864,
          341.016,
          343.168,
          345.32,
          347.472,
          349.624,
          351.776,
          353.928,
          356.08,
          358.232,
          360.384,
          362.536,
          364.688,
          366.84,
          368.992,
          371.144,
          373.296,
          375.448,
          377.6,
          379.752,
          381.904,
          384.056,
          386.208,
          388.36,
          390.512,
          392.664,
          394.816,
          396.968,
          399.12,
          401.272,
          403.424,
          405.576,
          407.728,
          409.88,
          412.032,
          414.184,
          416.336,
          418.488,
          420.64,
          422.792,
          424.944,
          427.096,
          429.248,
          431.4,
          433.552,
          435.704,
          437.856,
          440.008,
          442.16,
          444.312,
          446.464,
          448.616,
          450.768,
          452.92,
          455.072,
          457.224,
          459.376,
          461.528,
          463.68,
          465.832,
          467.984,
          470.136,
          472.288,
          474.44,
          476.592,
          478.744,
          480.896,
          483.048,
          485.2,
          487.352,
          489.504,
          491.656,
          493.808,
          495.96,
          498.112,
          500.264,
          502.416,
          504.568,
          506.72,
          508.872,
          511.024,
          513.176,
          515.328,
          517.48,
          519.632,
          521.784,
          523.936,
          526.088,
          528.24,
          530.392,
          532.544,
          534.696,
          536.848,
          539,
          541.152,
          543.304,
          545.456,
          547.608,
          549.76,
          551.912,
          554.064,
          556.216,
          558.368,
          560.52,
          562.672,
          564.824,
          566.976,
          569.128,
          571.28,
          573.432,
          575.584,
          577.736,
          579.888,
          582.04,
          584.192,
          586.344,
          588.496,
          590.648,
          592.8,
          594.952,
          597.104,
          599.256,
          601.408,
          603.56,
          605.712,
          607.864,
          610.016,
          612.168,
          614.32,
          616.472,
          618.624,
          620.776,
          622.928,
          625.08,
          627.232,
          629.384,
          631.536,
          633.688,
          635.84,
          637.992,
          640.144,
          642.296,
          644.448,
          646.6,
          648.752,
          650.904,
          653.056,
          655.208,
          657.36,
          659.512,
          661.664,
          663.816,
          665.968,
          668.12,
          670.272,
          672.424,
          674.576,
          676.728,
          678.88,
          681.032,
          683.184,
          685.336,
          687.488,
          689.64,
          691.792,
          693.944,
          696.096,
          698.248,
          700.4,
          702.552,
          704.704,
          706.856,
          709.008,
          711.16,
          713.312,
          715.464,
          717.616,
          719.768,
          721.92,
          724.072,
          726.224,
          728.376,
          730.528,
          732.68,
          734.832,
          736.984,
          739.136,
          741.288,
          743.44,
          745.592,
          747.744,
          749.896,
          752.048,
          754.2,
          756.352,
          758.504,
          760.656,
          762.808,
          764.96,
          767.112,
          769.264,
          771.416,
          773.568,
          775.72,
          777.872,
          780.024,
          782.176,
          784.328,
          786.48,
          788.632,
          790.784,
          792.936,
          795.088,
          797.24,
          799.392,
          801.544,
          803.696,
          805.848,
          808,
          810.152,
          812.304,
          814.456,
          816.608,
          818.76,
          820.912,
          823.064,
          825.216,
          827.368,
          829.52,
          831.672,
          833.824,
          835.976,
          838.128,
          840.28,
          842.432,
          844.584,
          846.736,
          848.888,
          851.04,
          853.192,
          855.344,
          857.496,
          859.648,
          861.8,
          863.952,
          866.104,
          868.256,
          870.408,
          872.56,
          874.712,
          876.864,
          879.016,
          881.168,
          883.32,
          885.472,
          887.624,
          889.776,
          891.928,
          894.08,
          896.232,
          898.384,
          900.536,
          902.688,
          904.84,
          906.992,
          909.144,
          911.296,
          913.448,
          915.6,
          917.752,
          919.904,
          922.056,
          924.208,
          926.36,
          928.512,
          930.664,
          932.816,
          934.968,
          937.12,
          939.272,
          941.424,
          943.576,
          945.728,
          947.88,
          950.032,
          952.184,
          954.336,
          956.488,
          958.64,
          960.792,
          962.944,
          965.096,
          967.248,
          969.4,
          971.552,
          973.704,
          975.856,
          978.008,
          980.16,
          982.312,
          984.464,
          986.616,
          988.768,
          990.92,
          993.072,
          995.224,
          997.376,
          999.528,
          1001.68,
          1003.832,
          1005.984,
          1008.136,
          1010.288,
          1012.44,
          1014.592,
          1016.744,
          1018.896,
          1021.048,
          1023.2,
          1025.352,
          1027.504,
          1029.656,
          1031.808,
          1033.96,
          1036.112,
          1038.264,
          1040.416,
          1042.568,
          1044.72,
          1046.872,
          1049.024,
          1051.176,
          1053.328,
          1055.48,
          1057.632,
          1059.784,
          1061.936,
          1064.088,
          1066.24,
          1068.392,
          1070.544,
          1072.696,
          1074.848
         ],
         "xaxis": "x",
         "y": [
          0.0018851776634367678,
          0.001961230231548788,
          0.0020359889360421356,
          0.0021091344441503956,
          0.0021803539729168655,
          0.002249344243354927,
          0.002315814345570542,
          0.0023794884740042316,
          0.002440108494226331,
          0.0024974363057310082,
          0.0025512559688430575,
          0.00260137556808476,
          0.0026476287890430843,
          0.0026898761908153456,
          0.0027280061613753157,
          0.0027619355485685197,
          0.0027916099647964953,
          0.0028170037686684733,
          0.0028381197318794876,
          0.002854988404218963,
          0.00286766719384111,
          0.002876239183668253,
          0.002880811707998513,
          0.002881514716012912,
          0.0028784989509037595,
          0.0028719339747708223,
          0.0028620060702653173,
          0.002848916050225353,
          0.0028328770062767757,
          0.0028141120266119194,
          0.002792851911959125,
          0.002769332917172991,
          0.0027437945439689835,
          0.0027164774081582643,
          0.0026876212023674495,
          0.002657462772713671,
          0.0026262343253008213,
          0.0025941617757585973,
          0.0025614632524078394,
          0.002528347761041655,
          0.0024950140167971624,
          0.002461649446185091,
          0.002428429360066471,
          0.002395516296236748,
          0.002363059528310221,
          0.0023311947358035617,
          0.0023000438287015834,
          0.0022697149183580883,
          0.0022403024253399495,
          0.002211887313766377,
          0.002184537440825723,
          0.0021583080094689845,
          0.002133242111779563,
          0.0021093713501991723,
          0.0020867165236473795,
          0.002065288365599837,
          0.0020450883213830803,
          0.0020261093522931594,
          0.00200833675464177,
          0.0019917489824663984,
          0.0019763184633966573,
          0.001962012398033553,
          0.0019487935341550252,
          0.0019366209080917869,
          0.0019254505467039048,
          0.001915236124509497,
          0.0019059295716528602,
          0.0018974816295289772,
          0.0018898423519845854,
          0.0018829615510742345,
          0.0018767891873438154,
          0.0018712757055299554,
          0.0018663723173862991,
          0.0018620312340672592,
          0.0018582058511084532,
          0.001854850889535723,
          0.0018519224970105527,
          0.0018493783131800301,
          0.0018471775035494857,
          0.0018452807662424282,
          0.0018436503159655962,
          0.0018422498493681082,
          0.001841044495785858,
          0.001840000757109041,
          0.0018390864402168504,
          0.001838270585101037,
          0.0018375233914643457,
          0.0018368161462403603,
          0.001836121154150175,
          0.0018354116730949265,
          0.001834661855889349,
          0.0018338466995729739,
          0.0018329420032947906,
          0.0018319243355537273,
          0.0018307710113893492,
          0.0018294600799511026,
          0.0018279703227252414,
          0.0018262812625619038,
          0.0018243731835135824,
          0.001822227161366107,
          0.001819825104608227,
          0.0018171498054428787,
          0.0018141850002880056,
          0.0018109154390473824,
          0.00180732696225158,
          0.001803406584977958,
          0.001799142586260643,
          0.0017945246025009068,
          0.0017895437231926778,
          0.0017841925870938585,
          0.0017784654768098797,
          0.00177235840962044,
          0.0017658692222814103,
          0.0017589976474790075,
          0.00175174537961003,
          0.0017441161276144773,
          0.0017361156526998181,
          0.001727751788970159,
          0.0017190344452091284,
          0.001709975586358569,
          0.001700589193581991,
          0.0016908912021944627,
          0.0016808994171703098,
          0.0016706334063960953,
          0.0016601143723064561,
          0.0016493650030119426,
          0.0016384093044876575,
          0.0016272724158256798,
          0.0016159804099507666,
          0.0016045600825455035,
          0.001593038732217695,
          0.0015814439351610982,
          0.0015698033177036054,
          0.0015581443302009953,
          0.0015464940257170668,
          0.001534878846833483,
          0.0015233244237575576,
          0.0015118553866486472,
          0.0015004951947716109,
          0.0014892659847169463,
          0.0014781884395126525,
          0.0014672816800038475,
          0.001456563179404072,
          0.0014460487014400438,
          0.001435752262030775,
          0.001425686113973883,
          0.0014158607536684169,
          0.0014062849484928707,
          0.0013969657830889312,
          0.0013879087224827529,
          0.0013791176897113805,
          0.0013705951554172904,
          0.0013623422367312326,
          0.001354358802683672,
          0.0013466435833685221,
          0.0013391942801279722,
          0.0013320076741312912,
          0.0013250797308804838,
          0.0013184056983865365,
          0.0013119801970168095,
          0.0013057972993108134,
          0.0012998505983909717,
          0.0012941332639509336,
          0.0012886380851772098,
          0.0012833575003441987,
          0.0012782836132078019,
          0.0012734081967021422,
          0.001268722684807043,
          0.0012642181537940388,
          0.0012598852943665447,
          0.0012557143764781958,
          0.0012516952088350857,
          0.0012478170952569365,
          0.001244068790183351,
          0.00124043845566148,
          0.001236913622137968,
          0.0012334811553003783,
          0.001230127231073216,
          0.0012268373206738683,
          0.0012235961873793945,
          0.0012203878963531127,
          0.0012171958385382088,
          0.0012140027692544605,
          0.0012107908617440208,
          0.0012075417755149863,
          0.0012042367389388689,
          0.0012008566451822329,
          0.0011973821602049304,
          0.0011937938412480763,
          0.001190072263973148,
          0.0011861981562071159,
          0.0011821525361023588,
          0.0011779168524378824,
          0.0011734731247708076,
          0.0011688040811927971,
          0.0011638932915515473,
          0.0011587252941566027,
          0.0011532857141944202,
          0.0011475613723201344,
          0.0011415403821633213,
          0.0011352122357709041,
          0.001128567876301616,
          0.001121599757572204,
          0.0011143018903260328,
          0.0011066698753413795,
          0.0010987009237117715,
          0.0010903938648093895,
          0.0010817491425808025,
          0.0010727688009207312,
          0.001063456458925177,
          0.0010538172768415632,
          0.001043857913515906,
          0.00103358647608984,
          0.001023012462631328,
          0.0010121466982988536,
          0.0010010012655479864,
          0.0009895894287990602,
          0.0009779255539026659,
          0.000966025022672176,
          0.0009539041427050631,
          0.0009415800526914132,
          0.000929070623411049,
          0.0009163943546514578,
          0.0009035702683358927,
          0.0008906177982328853,
          0.0008775566767206943,
          0.0008644068191984054,
          0.0008511882068629367,
          0.0008379207687021384,
          0.0008246242636805936,
          0.0008113181642104508,
          0.0007980215420969981,
          0.0007847529582221049,
          0.0007715303572725212,
          0.0007583709688301634,
          0.0007452912161149643,
          0.0007323066336062073,
          0.0007194317946655481,
          0.0007066802501454326,
          0.0006940644787936718,
          0.0006815958500624737,
          0.0006692845997040363,
          0.0006571398182911256,
          0.0006451694525472594,
          0.0006333803191146562,
          0.0006217781301370256,
          0.0006103675297962915,
          0.0005991521407247104,
          0.0005881346190236256,
          0.0005773167164629234,
          0.000566699348316298,
          0.0005562826652100935,
          0.0005460661273303281,
          0.0005360485793443589,
          0.0005262283244500109,
          0.000516603196064075,
          0.0005071706258005937,
          0.000497927706562854,
          0.0004888712497760144,
          0.000479997836013389,
          0.00047130385851143887,
          0.0004627855593189933,
          0.000454439058077316,
          0.00044626037367154377,
          0.0004382454392233671,
          0.00043039011110241894,
          0.00042269017281360444,
          0.00041514133476394053,
          0.0004077392310212135,
          0.0004004794142447359,
          0.0003933573499938474,
          0.0003863684116020977,
          0.0003795078767452784,
          0.0003727709267316001,
          0.00036615264940626717,
          0.0003596480463946808,
          0.00035325204521462276,
          0.0003469595165742934,
          0.0003407652969472869,
          0.0003346642162851037,
          0.00032865113050034237,
          0.00032272095813704743,
          0.0003168687204462262,
          0.0003110895839110835,
          0.000305378904124276,
          0.000299732269813422,
          0.0002941455457453583,
          0.00028861491321676943,
          0.00028313690686025754,
          0.0002777084465604679,
          0.00027232686338304077,
          0.0002669899185668423,
          0.00026169581481296113,
          0.0002564431993166528,
          0.00025123115822430083,
          0.0002460592024491146,
          0.00024092724503857395,
          0.00023583557054530482,
          0.00023078479710250295,
          0.00022577583213700337,
          0.00022080982285975931,
          0.00021588810284775314,
          0.0002110121361670004,
          0.00020618346057854189,
          0.00020140363141433904,
          0.00019667416770593522,
          0.00019199650209499812,
          0.0001873719359525869,
          0.00018280160098599384,
          0.00017828642842253385,
          0.00017382712663442028,
          0.00016942416781482665,
          0.00016507778404030866,
          0.0001607879727676753,
          0.00015655451152335063,
          0.0001523769812594857,
          0.00014825479758289237,
          0.000144187248818785,
          0.00014017353965941587,
          0.0001362128389747434,
          0.00013230433023388744,
          0.0001284472629064137,
          0.00012464100318390324,
          0.0001208850823855266,
          0.00011717924148553357,
          0.00011352347032290885,
          0.00010991804021972203,
          0.00010636352893912671,
          0.00010286083714958822,
          0.00009941119582079219,
          0.00009601616425016262,
          0.0000926776186979682,
          0.00008939773188455812,
          0.00008617894386650492,
          0.0000830239250511156,
          0.00007993553232351923,
          0.00007691675944103884,
          0.00007397068299086905,
          0.00007110040530564402,
          0.00006830899578533575,
          0.00006559943208266691,
          0.00006297454257399655,
          0.00006043695146107143,
          0.000057989027735072875,
          0.00005563283908811016,
          0.000053370111684749975,
          0.00005120219651399399,
          0.00004913004283743516,
          0.00004715417903935093,
          0.00004527470097632984,
          0.00004349126772437851,
          0.00004180310443640792,
          0.00004020901185782839,
          0.00003870738190700469,
          0.00003729621861376469,
          0.00003597316362510293,
          0.00003473552543359273,
          0.00003358031146060462,
          0.00003250426213192719,
          0.00003150388611555837,
          0.000030575495947194294,
          0.000029715243344554247,
          0.000028919153602915237,
          0.000028183158566566023,
          0.000027503127779694148,
          0.000026874897530935435,
          0.000026294297614118214,
          0.000025757175729709847,
          0.000025259419543694517,
          0.000024796976500300516,
          0.00002436587155002818,
          0.00002396222300342525,
          0.000023582256753349825,
          0.000023222319124111233,
          0.000022878888605594587,
          0.000022548586715573557,
          0.00002222818820571738,
          0.000021914630788525577,
          0.000021605024516111008,
          0.000021296660890093845,
          0.000020987021727644743,
          0.00002067378775464669,
          0.00002035484684560748,
          0.000020028301783688285,
          0.000019692477375032272,
          0.000019345926721118916,
          0.000018987436432355075,
          0.000018616030556299142,
          0.000018230972995115278,
          0.00001783176819892769,
          0.000017418159944125837,
          0.000016990128037417116,
          0.000016547882826254946,
          0.00001609185744263775,
          0.000015622697758430882,
          0.000015141250084424187,
          0.000014648546700368711,
          0.000014145789357313548,
          0.000013634330944846794,
          0.000013115655562646625,
          0.000012591357276571125,
          0.000012063117873111516,
          0.000011532683951439229,
          0.000011001843708813845,
          0.000010472403782438694,
          0.000009946166508905293,
          0.000009424907951404604,
          0.000008910357025447652,
          0.000008404176026694576,
          0.00000790794283064382,
          0.000007423134994534189,
          0.000006951115948142738,
          0.000006493123413578335,
          0.000006050260146054613,
          0.0000056234870393303815,
          0.000005213618592338972,
          0.0000048213206886714544,
          0.000004447110599104317,
          0.000004091359080166254,
          0.0000037542944095419064,
          0.0000034360081724500606,
          0.00000313646259234305,
          0.000002855499184499515,
          0.000002592848502288523,
          0.0000023481407428572585,
          0.000002120916981384065,
          0.000001910640810354739,
          0.000001716710171971911,
          0.0000015384691871311458,
          0.000001375219802671344,
          0.000001226233099089952,
          0.0000010907601228604904,
          9.680421301790304e-7,
          8.573201517166485e-7,
          7.57843810143742e-7,
          6.688793432681662e-7,
          5.897168051221554e-7,
          5.196764348609907e-7,
          4.581141986083492e-7,
          4.0442652220035417e-7,
          3.5805424303325504e-7,
          3.18485816884734e-7,
          2.8525982071174906e-7,
          2.5796679515617275e-7,
          2.3625047100426958e-7,
          2.1980842239234738e-7,
          2.0839218641837519e-7,
          2.0180688433228439e-7,
          1.9991037398543855e-7,
          2.0261195708710036e-7,
          2.098706584135518e-7,
          2.2169308781186382e-7,
          2.3813088999168052e-7,
          2.592777820415265e-7,
          2.852661746499917e-7,
          3.162633704303312e-7,
          3.5246733177055724e-7,
          3.9410201144181244e-7,
          4.4141224192198076e-7,
          4.946581840945593e-7,
          5.541093426646903e-7,
          6.200381642259073e-7,
          6.927132442724074e-7,
          7.723921813706672e-7,
          8.593141298987065e-7,
          9.536921168818094e-7,
          0.0000010557052030891077,
          0.000001165490583241102,
          0.0000012831357344065429,
          0.0000014086707348978936,
          0.0000015420608876545251,
          0.0000016831997916765602,
          0.0000018319030120055808,
          0.000001987902502544495,
          0.0000021508419362294624,
          0.0000023202730933505685,
          0.0000024956534509013413,
          0.000002676345103565619,
          0.0000028616151303004492,
          0.0000030506374995538654,
          0.000003242496581222669,
          0.0000034361923049052074,
          0.0000036306469723782817,
          0.000003824713698199482,
          0.000004017186416696161,
          0.000004206811357242321,
          0.000004392299853608852,
          0.00000457234231831367,
          0.0000047456231803246116,
          0.000004910836555187128,
          0.00000506670239161913,
          0.000005211982818703969,
          0.0000053454984037705985,
          0.000005466144023475698,
          0.000005572904049922768,
          0.000005664866560097304,
          0.000005741236290489259,
          0.000005801346079321728,
          0.00000584466656590423,
          0.000005870813949671741
         ],
         "yaxis": "y"
        },
        {
         "name": "prediction",
         "type": "scatter",
         "x": [
          3.1785013675689697,
          5.322367753505707,
          7.466234139442443,
          9.610100525379181,
          11.753966911315917,
          13.897833297252655,
          16.041699683189393,
          18.18556606912613,
          20.329432455062864,
          22.473298840999604,
          24.61716522693634,
          26.761031612873076,
          28.904897998809815,
          31.04876438474655,
          33.19263077068329,
          35.33649715662003,
          37.48036354255676,
          39.6242299284935,
          41.76809631443024,
          43.91196270036697,
          46.05582908630371,
          48.19969547224045,
          50.34356185817718,
          52.48742824411392,
          54.63129463005066,
          56.77516101598739,
          58.91902740192413,
          61.06289378786087,
          63.206760173797605,
          65.35062655973434,
          67.49449294567108,
          69.63835933160782,
          71.78222571754455,
          73.9260921034813,
          76.06995848941803,
          78.21382487535476,
          80.3576912612915,
          82.50155764722824,
          84.64542403316497,
          86.78929041910172,
          88.93315680503845,
          91.07702319097518,
          93.22088957691193,
          95.36475596284866,
          97.5086223487854,
          99.65248873472214,
          101.79635512065887,
          103.9402215065956,
          106.08408789253235,
          108.22795427846908,
          110.37182066440582,
          112.51568705034256,
          114.6595534362793,
          116.80341982221603,
          118.94728620815278,
          121.09115259408951,
          123.23501898002624,
          125.37888536596299,
          127.52275175189972,
          129.66661813783645,
          131.8104845237732,
          133.95435090970994,
          136.09821729564666,
          138.2420836815834,
          140.38595006752013,
          142.52981645345687,
          144.67368283939362,
          146.81754922533034,
          148.96141561126709,
          151.10528199720383,
          153.24914838314055,
          155.3930147690773,
          157.53688115501404,
          159.68074754095076,
          161.8246139268875,
          163.96848031282425,
          166.11234669876097,
          168.25621308469772,
          170.40007947063447,
          172.54394585657118,
          174.68781224250793,
          176.83167862844468,
          178.9755450143814,
          181.11941140031814,
          183.2632777862549,
          185.4071441721916,
          187.55101055812835,
          189.6948769440651,
          191.83874333000182,
          193.98260971593857,
          196.1264761018753,
          198.27034248781203,
          200.41420887374878,
          202.55807525968552,
          204.70194164562224,
          206.845808031559,
          208.98967441749573,
          211.13354080343245,
          213.2774071893692,
          215.42127357530595,
          217.56513996124266,
          219.7090063471794,
          221.85287273311616,
          223.99673911905288,
          226.14060550498962,
          228.28447189092637,
          230.4283382768631,
          232.57220466279983,
          234.71607104873658,
          236.8599374346733,
          239.00380382061005,
          241.1476702065468,
          243.2915365924835,
          245.43540297842026,
          247.579269364357,
          249.72313575029372,
          251.86700213623047,
          254.01086852216721,
          256.15473490810393,
          258.2986012940407,
          260.4424676799774,
          262.5863340659142,
          264.7302004518509,
          266.8740668377876,
          269.01793322372436,
          271.1617996096611,
          273.30566599559785,
          275.4495323815346,
          277.5933987674713,
          279.73726515340803,
          281.8811315393448,
          284.0249979252815,
          286.1688643112183,
          288.312730697155,
          290.4565970830917,
          292.60046346902845,
          294.7443298549652,
          296.88819624090195,
          299.0320626268387,
          301.17592901277544,
          303.31979539871213,
          305.4636617846489,
          307.6075281705856,
          309.75139455652237,
          311.8952609424591,
          314.03912732839586,
          316.18299371433255,
          318.3268601002693,
          320.47072648620605,
          322.6145928721428,
          324.75845925807954,
          326.9023256440163,
          329.046192029953,
          331.1900584158897,
          333.33392480182647,
          335.4777911877632,
          337.62165757369996,
          339.7655239596367,
          341.9093903455734,
          344.05325673151015,
          346.1971231174469,
          348.34098950338364,
          350.4848558893204,
          352.62872227525713,
          354.7725886611938,
          356.91645504713057,
          359.0603214330673,
          361.20418781900406,
          363.3480542049408,
          365.49192059087756,
          367.63578697681425,
          369.779653362751,
          371.92351974868774,
          374.0673861346245,
          376.21125252056123,
          378.355118906498,
          380.49898529243467,
          382.6428516783714,
          384.78671806430816,
          386.9305844502449,
          389.07445083618165,
          391.2183172221184,
          393.3621836080551,
          395.50604999399184,
          397.6499163799286,
          399.79378276586533,
          401.9376491518021,
          404.0815155377388,
          406.2253819236755,
          408.36924830961226,
          410.513114695549,
          412.65698108148575,
          414.8008474674225,
          416.94471385335925,
          419.08858023929594,
          421.2324466252327,
          423.37631301116943,
          425.5201793971062,
          427.6640457830429,
          429.80791216897967,
          431.95177855491636,
          434.0956449408531,
          436.23951132678985,
          438.3833777127266,
          440.52724409866335,
          442.6711104846001,
          444.8149768705368,
          446.95884325647353,
          449.1027096424103,
          451.246576028347,
          453.39044241428377,
          455.5343088002205,
          457.6781751861572,
          459.82204157209395,
          461.9659079580307,
          464.10977434396744,
          466.2536407299042,
          468.39750711584094,
          470.5413735017776,
          472.6852398877144,
          474.8291062736511,
          476.97297265958787,
          479.1168390455246,
          481.26070543146136,
          483.40457181739805,
          485.5484382033348,
          487.69230458927154,
          489.8361709752083,
          491.98003736114504,
          494.1239037470818,
          496.2677701330185,
          498.4116365189552,
          500.55550290489197,
          502.6993692908287,
          504.84323567676546,
          506.9871020627022,
          509.1309684486389,
          511.27483483457564,
          513.4187012205124,
          515.5625676064491,
          517.7064339923859,
          519.8503003783226,
          521.9941667642594,
          524.1380331501961,
          526.2818995361329,
          528.4257659220696,
          530.5696323080062,
          532.713498693943,
          534.8573650798797,
          537.0012314658165,
          539.1450978517532,
          541.2889642376899,
          543.4328306236267,
          545.5766970095634,
          547.7205633955002,
          549.8644297814369,
          552.0082961673736,
          554.1521625533104,
          556.2960289392471,
          558.4398953251839,
          560.5837617111206,
          562.7276280970574,
          564.8714944829941,
          567.0153608689308,
          569.1592272548676,
          571.3030936408043,
          573.4469600267411,
          575.5908264126778,
          577.7346927986144,
          579.8785591845512,
          582.0224255704879,
          584.1662919564247,
          586.3101583423614,
          588.4540247282982,
          590.5978911142349,
          592.7417575001716,
          594.8856238861084,
          597.0294902720451,
          599.1733566579819,
          601.3172230439186,
          603.4610894298553,
          605.6049558157921,
          607.7488222017288,
          609.8926885876656,
          612.0365549736023,
          614.1804213595391,
          616.3242877454758,
          618.4681541314125,
          620.6120205173493,
          622.755886903286,
          624.8997532892228,
          627.0436196751594,
          629.1874860610961,
          631.3313524470329,
          633.4752188329696,
          635.6190852189064,
          637.7629516048431,
          639.9068179907799,
          642.0506843767166,
          644.1945507626533,
          646.3384171485901,
          648.4822835345268,
          650.6261499204636,
          652.7700163064003,
          654.913882692337,
          657.0577490782738,
          659.2016154642105,
          661.3454818501473,
          663.489348236084,
          665.6332146220208,
          667.7770810079575,
          669.9209473938942,
          672.064813779831,
          674.2086801657676,
          676.3525465517044,
          678.4964129376411,
          680.6402793235778,
          682.7841457095146,
          684.9280120954513,
          687.0718784813881,
          689.2157448673248,
          691.3596112532616,
          693.5034776391983,
          695.647344025135,
          697.7912104110718,
          699.9350767970085,
          702.0789431829453,
          704.222809568882,
          706.3666759548187,
          708.5105423407555,
          710.6544087266922,
          712.798275112629,
          714.9421414985657,
          717.0860078845025,
          719.2298742704392,
          721.3737406563758,
          723.5176070423126,
          725.6614734282493,
          727.8053398141861,
          729.9492062001228,
          732.0930725860595,
          734.2369389719963,
          736.380805357933,
          738.5246717438698,
          740.6685381298065,
          742.8124045157433,
          744.95627090168,
          747.1001372876167,
          749.2440036735535,
          751.3878700594902,
          753.531736445427,
          755.6756028313637,
          757.8194692173004,
          759.9633356032372,
          762.1072019891739,
          764.2510683751107,
          766.3949347610474,
          768.5388011469842,
          770.6826675329208,
          772.8265339188575,
          774.9704003047943,
          777.114266690731,
          779.2581330766678,
          781.4019994626045,
          783.5458658485412,
          785.689732234478,
          787.8335986204147,
          789.9774650063515,
          792.1213313922882,
          794.265197778225,
          796.4090641641617,
          798.5529305500984,
          800.6967969360352,
          802.8406633219719,
          804.9845297079087,
          807.1283960938454,
          809.2722624797821,
          811.4161288657189,
          813.5599952516556,
          815.7038616375924,
          817.847728023529,
          819.9915944094657,
          822.1354607954025,
          824.2793271813392,
          826.423193567276,
          828.5670599532127,
          830.7109263391495,
          832.8547927250862,
          834.9986591110229,
          837.1425254969597,
          839.2863918828964,
          841.4302582688332,
          843.5741246547699,
          845.7179910407066,
          847.8618574266434,
          850.0057238125801,
          852.1495901985169,
          854.2934565844536,
          856.4373229703904,
          858.5811893563271,
          860.7250557422637,
          862.8689221282006,
          865.0127885141372,
          867.156654900074,
          869.3005212860107,
          871.4443876719474,
          873.5882540578842,
          875.7321204438209,
          877.8759868297577,
          880.0198532156944,
          882.1637196016312,
          884.3075859875679,
          886.4514523735046,
          888.5953187594414,
          890.7391851453781,
          892.8830515313149,
          895.0269179172516,
          897.1707843031883,
          899.3146506891251,
          901.4585170750618,
          903.6023834609986,
          905.7462498469353,
          907.8901162328721,
          910.0339826188087,
          912.1778490047454,
          914.3217153906822,
          916.4655817766189,
          918.6094481625557,
          920.7533145484924,
          922.8971809344291,
          925.0410473203659,
          927.1849137063026,
          929.3287800922394,
          931.4726464781761,
          933.6165128641129,
          935.7603792500496,
          937.9042456359863,
          940.0481120219231,
          942.1919784078598,
          944.3358447937966,
          946.4797111797333,
          948.62357756567,
          950.7674439516068,
          952.9113103375435,
          955.0551767234803,
          957.199043109417,
          959.3429094953538,
          961.4867758812904,
          963.6306422672271,
          965.7745086531639,
          967.9183750391006,
          970.0622414250374,
          972.2061078109741,
          974.3499741969108,
          976.4938405828476,
          978.6377069687843,
          980.7815733547211,
          982.9254397406578,
          985.0693061265946,
          987.2131725125313,
          989.357038898468,
          991.5009052844048,
          993.6447716703415,
          995.7886380562783,
          997.932504442215,
          1000.0763708281517,
          1002.2202372140885,
          1004.3641036000251,
          1006.507969985962,
          1008.6518363718986,
          1010.7957027578354,
          1012.9395691437721,
          1015.0834355297088,
          1017.2273019156456,
          1019.3711683015823,
          1021.5150346875191,
          1023.6589010734558,
          1025.8027674593925,
          1027.9466338453292,
          1030.090500231266,
          1032.2343666172028,
          1034.3782330031395,
          1036.5220993890762,
          1038.6659657750129,
          1040.8098321609498,
          1042.9536985468865,
          1045.0975649328232,
          1047.2414313187599,
          1049.3852977046968,
          1051.5291640906335,
          1053.6730304765701,
          1055.8168968625068,
          1057.9607632484435,
          1060.1046296343804,
          1062.2484960203171,
          1064.3923624062538,
          1066.5362287921905,
          1068.6800951781272,
          1070.8239615640641,
          1072.9678279500008
         ],
         "xaxis": "x",
         "y": [
          0.0018432464994399967,
          0.0019246611748677137,
          0.002005098307748347,
          0.0020841816466310994,
          0.002161535564148052,
          0.002236788825380117,
          0.002309578401585839,
          0.002379553273728778,
          0.0024463781690562013,
          0.0025097371738818427,
          0.0025693371667348057,
          0.0026249110181538506,
          0.0026762205066046345,
          0.0027230589042211858,
          0.0027652531912452996,
          0.0028026658640519226,
          0.0028351963083847282,
          0.002862781716737691,
          0.002885397536552432,
          0.0029030574438877344,
          0.0029158128452856165,
          0.002923751918532881,
          0.00292699821072668,
          0.002925708819334066,
          0.0029200721886370965,
          0.0029103055599400316,
          0.002896652119067024,
          0.002879377888901395,
          0.002858768417938891,
          0.002835125318002614,
          0.002808762705372272,
          0.002780003599623726,
          0.002749176333483672,
          0.0027166110250324187,
          0.0026826361607105945,
          0.002647575333895108,
          0.002611744179415571,
          0.0025754475394056367,
          0.0025389768904540005,
          0.0025026080562729285,
          0.002466599224173485,
          0.002431189277662067,
          0.0023965964515797454,
          0.002363017310516867,
          0.002330626045858252,
          0.0022995740818470534,
          0.0022699899765789653,
          0.0022419795999184494,
          0.0022156265670136743,
          0.0021909929034088023,
          0.0021681199157245934,
          0.0021470292405007243,
          0.0021277240430479277,
          0.002110190338013741,
          0.0020943984037808112,
          0.0020803042637360853,
          0.0020678512088127296,
          0.002056971337444473,
          0.0020475870911142394,
          0.0020396127659494333,
          0.0020329559832424947,
          0.0020275191042845274,
          0.0020232005774246504,
          0.0020198962077441025,
          0.002017500342107275,
          0.002015906964572107,
          0.002015010699170128,
          0.002014707718871403,
          0.00201489656110872,
          0.002015478851538241,
          0.0020163599387548917,
          0.002017449443467228,
          0.0020186617261801296,
          0.002019916277753832,
          0.0020211380373316968,
          0.0020222576420847256,
          0.002023211613042881,
          0.0020239424810060214,
          0.0020243988561874293,
          0.002024535444873756,
          0.002024313016021946,
          0.0020236983203836822,
          0.00202266396447898,
          0.0020211882415517427,
          0.0020192549215477065,
          0.002016853002167896,
          0.002013976423171471,
          0.002010623746327967,
          0.0020067978037413225,
          0.002002505317671881,
          0.0019977564954499144,
          0.0019925646035812445,
          0.001986945525666575,
          0.001980917309264657,
          0.0019744997072954603,
          0.0019677137199775726,
          0.001960581143595841,
          0.0019531241325797311,
          0.0019453647814192928,
          0.0019373247328393864,
          0.0019290248183853162,
          0.0019204847371392239,
          0.0019117227776906446,
          0.0019027555877333697,
          0.001893597994770064,
          0.0018842628803955536,
          0.001874761109523649,
          0.0018651015147513855,
          0.0018552909348487257,
          0.0018453343051576243,
          0.001835234796514703,
          0.0018249939982130624,
          0.0018146121395228728,
          0.0018040883434280325,
          0.001793420905534137,
          0.0017826075905821215,
          0.0017716459386791365,
          0.0017605335732428437,
          0.0017492685027513679,
          0.001737849408695206,
          0.001726275912629765,
          0.001714548815912458,
          0.0017026703065550289,
          0.0016906441286031876,
          0.0016784757105426926,
          0.0016661722503893562,
          0.0016537427563164636,
          0.0016411980428703724,
          0.0016285506839894364,
          0.001615814925139172,
          0.0016030065578778003,
          0.0015901427610438598,
          0.001577241913489453,
          0.0015643233838513477,
          0.0015514073032466677,
          0.0015385143269929088,
          0.0015256653914849148,
          0.0015128814722180947,
          0.001500183348639084,
          0.0014875913810465564,
          0.001475125304176145,
          0.0014628040414059738,
          0.0014506455427386654,
          0.0014386666488781286,
          0.0014268829828518285,
          0.0014153088697593937,
          0.0014039572843806366,
          0.0013928398255766644,
          0.0013819667156863731,
          0.0013713468224777327,
          0.001360987700673512,
          0.001350895649646494,
          0.001341075783578149,
          0.001331532110200875,
          0.0013222676141983751,
          0.001313284341417351,
          0.0013045834802413027,
          0.0012961654367823774,
          0.001288029900949519,
          0.0012801759009345567,
          0.001272601844206855,
          0.0012653055437037942,
          0.0012582842285299481,
          0.0012515345391140482,
          0.0012450525073999259,
          0.0012388335232485328,
          0.0012328722887843331,
          0.0012271627629160027,
          0.0012216980986836184,
          0.0012164705764205694,
          0.0012114715359588498,
          0.0012066913112437046,
          0.0012021191707542603,
          0.001197743267049224,
          0.0011935505985730987,
          0.0011895269865737268,
          0.0011856570696042786,
          0.0011819243176226747,
          0.0011783110671728155,
          0.0011747985785498225,
          0.0011713671152337815,
          0.001167996045241565,
          0.00116466396341381,
          0.0011613488330437655,
          0.0011580281446852965,
          0.0011546790894671922,
          0.001151278743805977,
          0.0011478042620638427,
          0.0011442330734528438,
          0.0011405430793492409,
          0.001136712847156774,
          0.0011327217969452654,
          0.0011285503772880334,
          0.001124180227020713,
          0.0011195943200352245,
          0.001114777090691684,
          0.0011097145379620138,
          0.001104394306993721,
          0.0010988057473810028,
          0.0010929399480331693,
          0.0010867897491171497,
          0.001080349732102784,
          0.0010736161894390921,
          0.0010665870758217728,
          0.0010592619433643685,
          0.0010516418632487664,
          0.001043729336599178,
          0.0010355281973957015,
          0.0010270435102202032,
          0.0010182814655140158,
          0.0010092492748316022,
          0.0009999550683083703,
          0.0009904077962367543,
          0.0009806171362781735,
          0.0009705934074446943,
          0.0009603474915799087,
          0.0009498907626695781,
          0.0009392350239338551,
          0.0009283924523084583,
          0.0009173755496232355,
          0.0009061970995431184,
          0.0008948701291546524,
          0.0008834078739658485,
          0.0008718237450387304,
          0.0008601312969915018,
          0.0008483441956864027,
          0.000836476184553991,
          0.0008245410486861244,
          0.0008125525760486291,
          0.0008005245154094726,
          0.0007884705308376087,
          0.0007764041528895712,
          0.0007643387268542393,
          0.0007522873586598253,
          0.0007402628592518191,
          0.0007282776884181051,
          0.0007163438991613005,
          0.0007044730837942494,
          0.0006926763229600828,
          0.0006809641387527851,
          0.0006693464530397962,
          0.0006578325519680857,
          0.0006464310574745802,
          0.0006351499064280001,
          0.0006239963378092567,
          0.0006129768881009458,
          0.0006020973948121138,
          0.0005913630078217486,
          0.0005807782079928355,
          0.0005703468322966976,
          0.0005600721045028471,
          0.0005499566703392922,
          0.0005400026359176328,
          0.0005302116081503562,
          0.0005205847358665212,
          0.0005111227503574511,
          0.0005018260041547132,
          0.0004926945069559568,
          0.0004837279577658363,
          0.0004749257725035822,
          0.00046628710653906323,
          0.0004578108718476542,
          0.00044949574871261605,
          0.00044134019214330856,
          0.0004333424334096499,
          0.0004255004773094141,
          0.0004178120959773048,
          0.00041027482020615714,
          0.0004028859293751764,
          0.0003956424411630269,
          0.00038854110226163233,
          0.00038157838129792833,
          0.0003747504651155526,
          0.00036805325946791544,
          0.0003614823950315619,
          0.00035503323946864575,
          0.0003487009160557551,
          0.00034248032916020396,
          0.00033636619659235464,
          0.0003303530886020645,
          0.0003244354730280914,
          0.0003186077658601656,
          0.000312864386243393,
          0.00030719981475187526,
          0.0003016086535904434,
          0.0002960856872565184,
          0.0002906259421134773,
          0.000285224743296021,
          0.0002798777673889424,
          0.0002745810893935809,
          0.00026933122261963886,
          0.00026412515031075737,
          0.00025896034802543955,
          0.000253834796044292,
          0.0002487469813524934,
          0.00024369588904427905,
          0.00023868098330454747,
          0.0002337021784315711,
          0.00022875980066413225,
          0.00022385454185628724,
          0.000218987406294035,
          0.00021415965216184455,
          0.00020937272933586139,
          0.0002046282152986779,
          0.00019992775103331667,
          0.0001952729787590379,
          0.00019066548331789546,
          0.00018610673890993103,
          0.00018159806270960554,
          0.00017714057668152323,
          0.00017273517865637196,
          0.00016838252343640095,
          0.0001640830143830969,
          0.00015983680560817184,
          0.00015564381455343063,
          0.00015150374441645552,
          0.0001474161155681616,
          0.0001433803048253247,
          0.00013939559119545392,
          0.00013546120651086076,
          0.00013157638921996496,
          0.00012774043951142378,
          0.00012395277391337515,
          0.00012021297753659016,
          0.00011652085221538305,
          0.00011287645894031516,
          0.00010928015316687843,
          0.00010573261181759883,
          0.00010223485106302788,
          0.00009878823426055832,
          0.00009539446973874888,
          0.00009205559842839233,
          0.00008877397164939664,
          0.00008555221965462298,
          0.00008239321179872694,
          0.00007930000943359879,
          0.00007627581282520452,
          0.00007332390353424422,
          0.00007044758380142066,
          0.000067650114525523,
          0.0000649346534190371,
          0.00006230419487347226,
          0.00005976151296855581,
          0.00005730910892090391,
          0.0000549491640949849,
          0.00005268349949934694,
          0.0000505135424720924,
          0.000048440301029653004,
          0.00004646434612032513,
          0.00004458580179672213,
          0.00004280434310669604,
          0.000041119201306967546,
          0.00003952917583320635,
          0.00003803265231902402,
          0.000036627625847313745,
          0.00003531172854234189,
          0.000034082260570346756,
          0.000032936223609222844,
          0.00003187035587210503,
          0.00003088116782218843,
          0.000029964977792974877,
          0.00002911794682469062,
          0.000028336112138812868,
          0.00002761541879319314,
          0.00002695174918486998,
          0.000026340950191246416,
          0.00002577885785814153,
          0.000025261319651149372,
          0.000024784214381241914,
          0.000024343469993890368,
          0.00002393507947122702,
          0.000023555115137838066,
          0.000023199741682421804,
          0.000022865228210294814,
          0.000022547959626851296,
          0.00002224444762145755,
          0.000021951341477313718,
          0.000021665438878334238,
          0.00002138369682216924,
          0.0000211032426823082,
          0.000020821385394990368,
          0.00002053562668148243,
          0.00002024367215603666,
          0.00001994344211704674,
          0.00001963308177571225,
          0.000019310970644569128,
          0.00001897573078871137,
          0.00001862623363606069,
          0.00001826160504974841,
          0.000017881228385177635,
          0.000017484745285769694,
          0.000017072054013496863,
          0.000016643305161432124,
          0.000016198894653790073,
          0.000015739454002178624,
          0.00001526583785278804,
          0.000014779108925737235,
          0.000014280520512550785,
          0.000013771496758634748,
          0.000013253611012741335,
          0.000012728562573077947,
          0.000012198152198553965,
          0.000011664256782612769,
          0.000011128803605477593,
          0.000010593744588116162,
          0.0000100610309678254,
          0.0000095325888014334,
          0.00000901029567839359,
          0.000008495958993481173,
          0.000007991296088598,
          0.000007497916526738107,
          0.000007017306709988155,
          0.000006550816999124551,
          0.00000609965143654418,
          0.0000056648601185002154,
          0.000005247334208413049,
          0.0000048478035317494935,
          0.000004466836645823509,
          0.000004104843235873662,
          0.000003762078652722305,
          0.0000034386503777863923,
          0.0000031345261785422422,
          0.0000028495437018627226,
          0.000002583421243860978,
          0.0000023357694327016014,
          0.0000021061035648286683,
          0.000001893856344608895,
          0.0000016983907917887101,
          0.0000015190130996217814,
          0.0000013549852481915508,
          0.0000012055372014673988,
          0.00000106987854213034,
          9.472094243586847e-7,
          8.367307508018731e-7,
          7.376535051897894e-7,
          6.492071958129006e-7,
          5.706473869464497e-7,
          5.012623147677402e-7,
          4.403786011199032e-7,
          3.873660924068227e-7,
          3.416418618607603e-7,
          3.026734214009615e-7,
          2.699811943812203e-7,
          2.4314030286712195e-7,
          2.2178172291912727e-7,
          2.055928589722687e-7,
          1.9431758413005143e-7,
          1.877557873984628e-7,
          1.8576246196946902e-7,
          1.8824636103128581e-7,
          1.9516823964895062e-7,
          2.0653869343347284e-7,
          2.224155973980484e-7,
          2.429011419612227e-7,
          2.681384578454906e-7,
          2.983078179445648e-7,
          3.3362240235714956e-7,
          3.7432361292173687e-7,
          4.2067592588845987e-7,
          4.7296127591901496e-7,
          5.314729714312668e-7,
          5.965091503448349e-7,
          6.683657964017503e-7,
          7.473293492180683e-7,
          8.336689557728987e-7,
          9.276284267906069e-7,
          0.0000010294179779758768,
          0.0000011392058528138065,
          0.0000012571099400868046,
          0.0000013831895147854333,
          0.0000015174372450767121,
          0.000001659771619807478,
          0.0000018100299600466345,
          0.0000019679621838253813,
          0.0000021332254949983784,
          0.000002305380164579644,
          0.000002483886565667774,
          0.000002668103610953487,
          0.000002857288724723789,
          0.000003050599459324823,
          0.000003247096839462231,
          0.0000034457504869168215,
          0.000003645445543807517,
          0.000003844991375177533,
          0.000004043131992282793,
          0.000004238558097517442,
          0.000004429920611505235,
          0.000004615845503661433,
          0.000004794949710662084,
          0.000004965857893900106,
          0.00000512721975826679,
          0.000005277727631479646,
          0.000005416133986562909,
          0.000005541268580681624,
          0.000005652054881847457,
          0.000005747525461343054,
          0.00000582683604410242,
          0.000005889277931543322,
          0.000005934288541031023,
          0.000005961459842583468
         ],
         "yaxis": "y"
        }
       ],
       "layout": {
        "height": 800,
        "template": {
         "data": {
          "bar": [
           {
            "error_x": {
             "color": "#2a3f5f"
            },
            "error_y": {
             "color": "#2a3f5f"
            },
            "marker": {
             "line": {
              "color": "#E5ECF6",
              "width": 0.5
             },
             "pattern": {
              "fillmode": "overlay",
              "size": 10,
              "solidity": 0.2
             }
            },
            "type": "bar"
           }
          ],
          "barpolar": [
           {
            "marker": {
             "line": {
              "color": "#E5ECF6",
              "width": 0.5
             },
             "pattern": {
              "fillmode": "overlay",
              "size": 10,
              "solidity": 0.2
             }
            },
            "type": "barpolar"
           }
          ],
          "carpet": [
           {
            "aaxis": {
             "endlinecolor": "#2a3f5f",
             "gridcolor": "white",
             "linecolor": "white",
             "minorgridcolor": "white",
             "startlinecolor": "#2a3f5f"
            },
            "baxis": {
             "endlinecolor": "#2a3f5f",
             "gridcolor": "white",
             "linecolor": "white",
             "minorgridcolor": "white",
             "startlinecolor": "#2a3f5f"
            },
            "type": "carpet"
           }
          ],
          "choropleth": [
           {
            "colorbar": {
             "outlinewidth": 0,
             "ticks": ""
            },
            "type": "choropleth"
           }
          ],
          "contour": [
           {
            "colorbar": {
             "outlinewidth": 0,
             "ticks": ""
            },
            "colorscale": [
             [
              0,
              "#0d0887"
             ],
             [
              0.1111111111111111,
              "#46039f"
             ],
             [
              0.2222222222222222,
              "#7201a8"
             ],
             [
              0.3333333333333333,
              "#9c179e"
             ],
             [
              0.4444444444444444,
              "#bd3786"
             ],
             [
              0.5555555555555556,
              "#d8576b"
             ],
             [
              0.6666666666666666,
              "#ed7953"
             ],
             [
              0.7777777777777778,
              "#fb9f3a"
             ],
             [
              0.8888888888888888,
              "#fdca26"
             ],
             [
              1,
              "#f0f921"
             ]
            ],
            "type": "contour"
           }
          ],
          "contourcarpet": [
           {
            "colorbar": {
             "outlinewidth": 0,
             "ticks": ""
            },
            "type": "contourcarpet"
           }
          ],
          "heatmap": [
           {
            "colorbar": {
             "outlinewidth": 0,
             "ticks": ""
            },
            "colorscale": [
             [
              0,
              "#0d0887"
             ],
             [
              0.1111111111111111,
              "#46039f"
             ],
             [
              0.2222222222222222,
              "#7201a8"
             ],
             [
              0.3333333333333333,
              "#9c179e"
             ],
             [
              0.4444444444444444,
              "#bd3786"
             ],
             [
              0.5555555555555556,
              "#d8576b"
             ],
             [
              0.6666666666666666,
              "#ed7953"
             ],
             [
              0.7777777777777778,
              "#fb9f3a"
             ],
             [
              0.8888888888888888,
              "#fdca26"
             ],
             [
              1,
              "#f0f921"
             ]
            ],
            "type": "heatmap"
           }
          ],
          "heatmapgl": [
           {
            "colorbar": {
             "outlinewidth": 0,
             "ticks": ""
            },
            "colorscale": [
             [
              0,
              "#0d0887"
             ],
             [
              0.1111111111111111,
              "#46039f"
             ],
             [
              0.2222222222222222,
              "#7201a8"
             ],
             [
              0.3333333333333333,
              "#9c179e"
             ],
             [
              0.4444444444444444,
              "#bd3786"
             ],
             [
              0.5555555555555556,
              "#d8576b"
             ],
             [
              0.6666666666666666,
              "#ed7953"
             ],
             [
              0.7777777777777778,
              "#fb9f3a"
             ],
             [
              0.8888888888888888,
              "#fdca26"
             ],
             [
              1,
              "#f0f921"
             ]
            ],
            "type": "heatmapgl"
           }
          ],
          "histogram": [
           {
            "marker": {
             "pattern": {
              "fillmode": "overlay",
              "size": 10,
              "solidity": 0.2
             }
            },
            "type": "histogram"
           }
          ],
          "histogram2d": [
           {
            "colorbar": {
             "outlinewidth": 0,
             "ticks": ""
            },
            "colorscale": [
             [
              0,
              "#0d0887"
             ],
             [
              0.1111111111111111,
              "#46039f"
             ],
             [
              0.2222222222222222,
              "#7201a8"
             ],
             [
              0.3333333333333333,
              "#9c179e"
             ],
             [
              0.4444444444444444,
              "#bd3786"
             ],
             [
              0.5555555555555556,
              "#d8576b"
             ],
             [
              0.6666666666666666,
              "#ed7953"
             ],
             [
              0.7777777777777778,
              "#fb9f3a"
             ],
             [
              0.8888888888888888,
              "#fdca26"
             ],
             [
              1,
              "#f0f921"
             ]
            ],
            "type": "histogram2d"
           }
          ],
          "histogram2dcontour": [
           {
            "colorbar": {
             "outlinewidth": 0,
             "ticks": ""
            },
            "colorscale": [
             [
              0,
              "#0d0887"
             ],
             [
              0.1111111111111111,
              "#46039f"
             ],
             [
              0.2222222222222222,
              "#7201a8"
             ],
             [
              0.3333333333333333,
              "#9c179e"
             ],
             [
              0.4444444444444444,
              "#bd3786"
             ],
             [
              0.5555555555555556,
              "#d8576b"
             ],
             [
              0.6666666666666666,
              "#ed7953"
             ],
             [
              0.7777777777777778,
              "#fb9f3a"
             ],
             [
              0.8888888888888888,
              "#fdca26"
             ],
             [
              1,
              "#f0f921"
             ]
            ],
            "type": "histogram2dcontour"
           }
          ],
          "mesh3d": [
           {
            "colorbar": {
             "outlinewidth": 0,
             "ticks": ""
            },
            "type": "mesh3d"
           }
          ],
          "parcoords": [
           {
            "line": {
             "colorbar": {
              "outlinewidth": 0,
              "ticks": ""
             }
            },
            "type": "parcoords"
           }
          ],
          "pie": [
           {
            "automargin": true,
            "type": "pie"
           }
          ],
          "scatter": [
           {
            "fillpattern": {
             "fillmode": "overlay",
             "size": 10,
             "solidity": 0.2
            },
            "type": "scatter"
           }
          ],
          "scatter3d": [
           {
            "line": {
             "colorbar": {
              "outlinewidth": 0,
              "ticks": ""
             }
            },
            "marker": {
             "colorbar": {
              "outlinewidth": 0,
              "ticks": ""
             }
            },
            "type": "scatter3d"
           }
          ],
          "scattercarpet": [
           {
            "marker": {
             "colorbar": {
              "outlinewidth": 0,
              "ticks": ""
             }
            },
            "type": "scattercarpet"
           }
          ],
          "scattergeo": [
           {
            "marker": {
             "colorbar": {
              "outlinewidth": 0,
              "ticks": ""
             }
            },
            "type": "scattergeo"
           }
          ],
          "scattergl": [
           {
            "marker": {
             "colorbar": {
              "outlinewidth": 0,
              "ticks": ""
             }
            },
            "type": "scattergl"
           }
          ],
          "scattermapbox": [
           {
            "marker": {
             "colorbar": {
              "outlinewidth": 0,
              "ticks": ""
             }
            },
            "type": "scattermapbox"
           }
          ],
          "scatterpolar": [
           {
            "marker": {
             "colorbar": {
              "outlinewidth": 0,
              "ticks": ""
             }
            },
            "type": "scatterpolar"
           }
          ],
          "scatterpolargl": [
           {
            "marker": {
             "colorbar": {
              "outlinewidth": 0,
              "ticks": ""
             }
            },
            "type": "scatterpolargl"
           }
          ],
          "scatterternary": [
           {
            "marker": {
             "colorbar": {
              "outlinewidth": 0,
              "ticks": ""
             }
            },
            "type": "scatterternary"
           }
          ],
          "surface": [
           {
            "colorbar": {
             "outlinewidth": 0,
             "ticks": ""
            },
            "colorscale": [
             [
              0,
              "#0d0887"
             ],
             [
              0.1111111111111111,
              "#46039f"
             ],
             [
              0.2222222222222222,
              "#7201a8"
             ],
             [
              0.3333333333333333,
              "#9c179e"
             ],
             [
              0.4444444444444444,
              "#bd3786"
             ],
             [
              0.5555555555555556,
              "#d8576b"
             ],
             [
              0.6666666666666666,
              "#ed7953"
             ],
             [
              0.7777777777777778,
              "#fb9f3a"
             ],
             [
              0.8888888888888888,
              "#fdca26"
             ],
             [
              1,
              "#f0f921"
             ]
            ],
            "type": "surface"
           }
          ],
          "table": [
           {
            "cells": {
             "fill": {
              "color": "#EBF0F8"
             },
             "line": {
              "color": "white"
             }
            },
            "header": {
             "fill": {
              "color": "#C8D4E3"
             },
             "line": {
              "color": "white"
             }
            },
            "type": "table"
           }
          ]
         },
         "layout": {
          "annotationdefaults": {
           "arrowcolor": "#2a3f5f",
           "arrowhead": 0,
           "arrowwidth": 1
          },
          "autotypenumbers": "strict",
          "coloraxis": {
           "colorbar": {
            "outlinewidth": 0,
            "ticks": ""
           }
          },
          "colorscale": {
           "diverging": [
            [
             0,
             "#8e0152"
            ],
            [
             0.1,
             "#c51b7d"
            ],
            [
             0.2,
             "#de77ae"
            ],
            [
             0.3,
             "#f1b6da"
            ],
            [
             0.4,
             "#fde0ef"
            ],
            [
             0.5,
             "#f7f7f7"
            ],
            [
             0.6,
             "#e6f5d0"
            ],
            [
             0.7,
             "#b8e186"
            ],
            [
             0.8,
             "#7fbc41"
            ],
            [
             0.9,
             "#4d9221"
            ],
            [
             1,
             "#276419"
            ]
           ],
           "sequential": [
            [
             0,
             "#0d0887"
            ],
            [
             0.1111111111111111,
             "#46039f"
            ],
            [
             0.2222222222222222,
             "#7201a8"
            ],
            [
             0.3333333333333333,
             "#9c179e"
            ],
            [
             0.4444444444444444,
             "#bd3786"
            ],
            [
             0.5555555555555556,
             "#d8576b"
            ],
            [
             0.6666666666666666,
             "#ed7953"
            ],
            [
             0.7777777777777778,
             "#fb9f3a"
            ],
            [
             0.8888888888888888,
             "#fdca26"
            ],
            [
             1,
             "#f0f921"
            ]
           ],
           "sequentialminus": [
            [
             0,
             "#0d0887"
            ],
            [
             0.1111111111111111,
             "#46039f"
            ],
            [
             0.2222222222222222,
             "#7201a8"
            ],
            [
             0.3333333333333333,
             "#9c179e"
            ],
            [
             0.4444444444444444,
             "#bd3786"
            ],
            [
             0.5555555555555556,
             "#d8576b"
            ],
            [
             0.6666666666666666,
             "#ed7953"
            ],
            [
             0.7777777777777778,
             "#fb9f3a"
            ],
            [
             0.8888888888888888,
             "#fdca26"
            ],
            [
             1,
             "#f0f921"
            ]
           ]
          },
          "colorway": [
           "#636efa",
           "#EF553B",
           "#00cc96",
           "#ab63fa",
           "#FFA15A",
           "#19d3f3",
           "#FF6692",
           "#B6E880",
           "#FF97FF",
           "#FECB52"
          ],
          "font": {
           "color": "#2a3f5f"
          },
          "geo": {
           "bgcolor": "white",
           "lakecolor": "white",
           "landcolor": "#E5ECF6",
           "showlakes": true,
           "showland": true,
           "subunitcolor": "white"
          },
          "hoverlabel": {
           "align": "left"
          },
          "hovermode": "closest",
          "mapbox": {
           "style": "light"
          },
          "paper_bgcolor": "white",
          "plot_bgcolor": "#E5ECF6",
          "polar": {
           "angularaxis": {
            "gridcolor": "white",
            "linecolor": "white",
            "ticks": ""
           },
           "bgcolor": "#E5ECF6",
           "radialaxis": {
            "gridcolor": "white",
            "linecolor": "white",
            "ticks": ""
           }
          },
          "scene": {
           "xaxis": {
            "backgroundcolor": "#E5ECF6",
            "gridcolor": "white",
            "gridwidth": 2,
            "linecolor": "white",
            "showbackground": true,
            "ticks": "",
            "zerolinecolor": "white"
           },
           "yaxis": {
            "backgroundcolor": "#E5ECF6",
            "gridcolor": "white",
            "gridwidth": 2,
            "linecolor": "white",
            "showbackground": true,
            "ticks": "",
            "zerolinecolor": "white"
           },
           "zaxis": {
            "backgroundcolor": "#E5ECF6",
            "gridcolor": "white",
            "gridwidth": 2,
            "linecolor": "white",
            "showbackground": true,
            "ticks": "",
            "zerolinecolor": "white"
           }
          },
          "shapedefaults": {
           "line": {
            "color": "#2a3f5f"
           }
          },
          "ternary": {
           "aaxis": {
            "gridcolor": "white",
            "linecolor": "white",
            "ticks": ""
           },
           "baxis": {
            "gridcolor": "white",
            "linecolor": "white",
            "ticks": ""
           },
           "bgcolor": "#E5ECF6",
           "caxis": {
            "gridcolor": "white",
            "linecolor": "white",
            "ticks": ""
           }
          },
          "title": {
           "x": 0.05
          },
          "xaxis": {
           "automargin": true,
           "gridcolor": "white",
           "linecolor": "white",
           "ticks": "",
           "title": {
            "standoff": 15
           },
           "zerolinecolor": "white",
           "zerolinewidth": 2
          },
          "yaxis": {
           "automargin": true,
           "gridcolor": "white",
           "linecolor": "white",
           "ticks": "",
           "title": {
            "standoff": 15
           },
           "zerolinecolor": "white",
           "zerolinewidth": 2
          }
         }
        },
        "title": {
         "font": {
          "size": 30
         },
         "text": "<b>Title</b>",
         "x": 0.5
        },
        "width": 800,
        "xaxis": {
         "anchor": "y",
         "domain": [
          0,
          1
         ],
         "tickangle": -90
        },
        "yaxis": {
         "anchor": "x",
         "domain": [
          0,
          1
         ]
        }
       }
      }
     },
     "metadata": {},
     "output_type": "display_data"
    }
   ],
   "source": [
    "model = XGBRegressor()\n",
    "model.fit(X_pca, y)\n",
    "\n",
    "\n",
    "fig = make_subplots(\n",
    "    rows=1, cols=1,\n",
    "    specs=[\n",
    "        [{'type': 'scatter'}]\n",
    "    ]\n",
    ")\n",
    "\n",
    "fx1 = ff.create_distplot([y], ['distplot'], curve_type='kde')\n",
    "fig.add_trace(\n",
    "    go.Scatter(x=fx1.data[1]['x'], y=fx1.data[1]['y'], name='target'),\n",
    "    row=1, col=1\n",
    ")\n",
    "\n",
    "fx1 = ff.create_distplot([model.predict(X_pca).squeeze()], ['distplot'], curve_type='kde')\n",
    "fig.add_trace(\n",
    "    go.Scatter(x=fx1.data[1]['x'], y=fx1.data[1]['y'], name='prediction'),\n",
    "    row=1, col=1\n",
    ")\n",
    "\n",
    "fig.update_layout(\n",
    "    height=800, \n",
    "    width=800,\n",
    "    title_text=\"<b>Title</b>\",\n",
    "    title_font_size=30,\n",
    "    xaxis_tickangle=-90,\n",
    "    title_x=0.5,\n",
    ")\n",
    "fig.show()"
   ]
  },
  {
   "cell_type": "markdown",
   "metadata": {},
   "source": [
    "### Inputs are no. dishes per type"
   ]
  },
  {
   "cell_type": "code",
   "execution_count": 20,
   "metadata": {},
   "outputs": [],
   "source": [
    "encoded = dishes.copy()"
   ]
  },
  {
   "cell_type": "code",
   "execution_count": 21,
   "metadata": {},
   "outputs": [
    {
     "data": {
      "text/html": [
       "<div>\n",
       "<style scoped>\n",
       "    .dataframe tbody tr th:only-of-type {\n",
       "        vertical-align: middle;\n",
       "    }\n",
       "\n",
       "    .dataframe tbody tr th {\n",
       "        vertical-align: top;\n",
       "    }\n",
       "\n",
       "    .dataframe thead th {\n",
       "        text-align: right;\n",
       "    }\n",
       "</style>\n",
       "<table border=\"1\" class=\"dataframe\">\n",
       "  <thead>\n",
       "    <tr style=\"text-align: right;\">\n",
       "      <th></th>\n",
       "      <th>restaurant</th>\n",
       "      <th>num_cat_chicken</th>\n",
       "      <th>num_cat_fish</th>\n",
       "      <th>num_cat_meat</th>\n",
       "      <th>num_cat_vegan</th>\n",
       "      <th>num_cat_vegetarian</th>\n",
       "      <th>pcs</th>\n",
       "    </tr>\n",
       "  </thead>\n",
       "  <tbody>\n",
       "    <tr>\n",
       "      <th>0</th>\n",
       "      <td>Chemicum</td>\n",
       "      <td>0.0</td>\n",
       "      <td>1.0</td>\n",
       "      <td>1.0</td>\n",
       "      <td>1.0</td>\n",
       "      <td>0.0</td>\n",
       "      <td>327.0</td>\n",
       "    </tr>\n",
       "    <tr>\n",
       "      <th>1</th>\n",
       "      <td>Chemicum</td>\n",
       "      <td>0.0</td>\n",
       "      <td>2.0</td>\n",
       "      <td>2.0</td>\n",
       "      <td>2.0</td>\n",
       "      <td>1.0</td>\n",
       "      <td>372.0</td>\n",
       "    </tr>\n",
       "    <tr>\n",
       "      <th>2</th>\n",
       "      <td>Chemicum</td>\n",
       "      <td>0.0</td>\n",
       "      <td>2.0</td>\n",
       "      <td>1.0</td>\n",
       "      <td>1.0</td>\n",
       "      <td>0.0</td>\n",
       "      <td>387.0</td>\n",
       "    </tr>\n",
       "    <tr>\n",
       "      <th>3</th>\n",
       "      <td>Chemicum</td>\n",
       "      <td>1.0</td>\n",
       "      <td>2.0</td>\n",
       "      <td>0.0</td>\n",
       "      <td>1.0</td>\n",
       "      <td>0.0</td>\n",
       "      <td>471.0</td>\n",
       "    </tr>\n",
       "    <tr>\n",
       "      <th>4</th>\n",
       "      <td>Chemicum</td>\n",
       "      <td>0.0</td>\n",
       "      <td>2.0</td>\n",
       "      <td>1.0</td>\n",
       "      <td>2.0</td>\n",
       "      <td>0.0</td>\n",
       "      <td>568.0</td>\n",
       "    </tr>\n",
       "  </tbody>\n",
       "</table>\n",
       "</div>"
      ],
      "text/plain": [
       "  restaurant  num_cat_chicken  num_cat_fish  num_cat_meat  num_cat_vegan  \\\n",
       "0   Chemicum              0.0           1.0           1.0            1.0   \n",
       "1   Chemicum              0.0           2.0           2.0            2.0   \n",
       "2   Chemicum              0.0           2.0           1.0            1.0   \n",
       "3   Chemicum              1.0           2.0           0.0            1.0   \n",
       "4   Chemicum              0.0           2.0           1.0            2.0   \n",
       "\n",
       "   num_cat_vegetarian    pcs  \n",
       "0                 0.0  327.0  \n",
       "1                 1.0  372.0  \n",
       "2                 0.0  387.0  \n",
       "3                 0.0  471.0  \n",
       "4                 0.0  568.0  "
      ]
     },
     "execution_count": 21,
     "metadata": {},
     "output_type": "execute_result"
    }
   ],
   "source": [
    "col_y = 'pcs'\n",
    "\n",
    "scaler_y = MinMaxScaler((0, 10))\n",
    "\n",
    "# encoded[col_y] = scaler_y.fit_transform(encoded[col_y].to_numpy().reshape(-1, 1))\n",
    "\n",
    "encoded.head()"
   ]
  },
  {
   "cell_type": "code",
   "execution_count": 48,
   "metadata": {},
   "outputs": [
    {
     "name": "stdout",
     "output_type": "stream",
     "text": [
      "[LightGBM] [Info] Auto-choosing col-wise multi-threading, the overhead of testing was 0.000791 seconds.\n",
      "You can set `force_col_wise=true` to remove the overhead.\n",
      "[LightGBM] [Info] Total Bins 21\n",
      "[LightGBM] [Info] Number of data points in the train set: 367, number of used features: 5\n",
      "[LightGBM] [Info] Start training from score 728.310627\n",
      "[LightGBM] [Warning] No further splits with positive gain, best gain: -inf\n",
      "[LightGBM] [Warning] No further splits with positive gain, best gain: -inf\n",
      "[LightGBM] [Warning] No further splits with positive gain, best gain: -inf\n",
      "[LightGBM] [Warning] No further splits with positive gain, best gain: -inf\n",
      "[LightGBM] [Warning] No further splits with positive gain, best gain: -inf\n",
      "[LightGBM] [Warning] No further splits with positive gain, best gain: -inf\n",
      "[LightGBM] [Warning] No further splits with positive gain, best gain: -inf\n",
      "[LightGBM] [Warning] No further splits with positive gain, best gain: -inf\n",
      "[LightGBM] [Warning] No further splits with positive gain, best gain: -inf\n",
      "[LightGBM] [Warning] No further splits with positive gain, best gain: -inf\n",
      "[LightGBM] [Warning] No further splits with positive gain, best gain: -inf\n",
      "[LightGBM] [Warning] No further splits with positive gain, best gain: -inf\n",
      "[LightGBM] [Warning] No further splits with positive gain, best gain: -inf\n",
      "[LightGBM] [Warning] No further splits with positive gain, best gain: -inf\n",
      "[LightGBM] [Warning] No further splits with positive gain, best gain: -inf\n",
      "[LightGBM] [Warning] No further splits with positive gain, best gain: -inf\n",
      "[LightGBM] [Warning] No further splits with positive gain, best gain: -inf\n",
      "[LightGBM] [Warning] No further splits with positive gain, best gain: -inf\n",
      "[LightGBM] [Warning] No further splits with positive gain, best gain: -inf\n",
      "[LightGBM] [Warning] No further splits with positive gain, best gain: -inf\n",
      "[LightGBM] [Warning] No further splits with positive gain, best gain: -inf\n",
      "[LightGBM] [Warning] No further splits with positive gain, best gain: -inf\n",
      "[LightGBM] [Warning] No further splits with positive gain, best gain: -inf\n",
      "[LightGBM] [Warning] No further splits with positive gain, best gain: -inf\n",
      "[LightGBM] [Warning] No further splits with positive gain, best gain: -inf\n",
      "[LightGBM] [Warning] No further splits with positive gain, best gain: -inf\n",
      "[LightGBM] [Warning] No further splits with positive gain, best gain: -inf\n",
      "[LightGBM] [Warning] No further splits with positive gain, best gain: -inf\n",
      "[LightGBM] [Warning] No further splits with positive gain, best gain: -inf\n",
      "[LightGBM] [Warning] No further splits with positive gain, best gain: -inf\n",
      "[LightGBM] [Warning] No further splits with positive gain, best gain: -inf\n",
      "[LightGBM] [Warning] No further splits with positive gain, best gain: -inf\n",
      "[LightGBM] [Warning] No further splits with positive gain, best gain: -inf\n",
      "[LightGBM] [Warning] No further splits with positive gain, best gain: -inf\n",
      "[LightGBM] [Warning] No further splits with positive gain, best gain: -inf\n",
      "[LightGBM] [Warning] No further splits with positive gain, best gain: -inf\n",
      "[LightGBM] [Warning] No further splits with positive gain, best gain: -inf\n",
      "[LightGBM] [Warning] No further splits with positive gain, best gain: -inf\n",
      "[LightGBM] [Warning] No further splits with positive gain, best gain: -inf\n",
      "[LightGBM] [Warning] No further splits with positive gain, best gain: -inf\n",
      "[LightGBM] [Warning] No further splits with positive gain, best gain: -inf\n",
      "[LightGBM] [Warning] No further splits with positive gain, best gain: -inf\n",
      "[LightGBM] [Warning] No further splits with positive gain, best gain: -inf\n",
      "[LightGBM] [Warning] No further splits with positive gain, best gain: -inf\n",
      "[LightGBM] [Warning] No further splits with positive gain, best gain: -inf\n",
      "[LightGBM] [Warning] No further splits with positive gain, best gain: -inf\n",
      "[LightGBM] [Warning] No further splits with positive gain, best gain: -inf\n",
      "[LightGBM] [Warning] No further splits with positive gain, best gain: -inf\n",
      "[LightGBM] [Warning] No further splits with positive gain, best gain: -inf\n",
      "[LightGBM] [Warning] No further splits with positive gain, best gain: -inf\n",
      "[LightGBM] [Warning] No further splits with positive gain, best gain: -inf\n",
      "[LightGBM] [Warning] No further splits with positive gain, best gain: -inf\n",
      "[LightGBM] [Warning] No further splits with positive gain, best gain: -inf\n",
      "[LightGBM] [Warning] No further splits with positive gain, best gain: -inf\n",
      "[LightGBM] [Warning] No further splits with positive gain, best gain: -inf\n",
      "[LightGBM] [Warning] No further splits with positive gain, best gain: -inf\n",
      "[LightGBM] [Warning] No further splits with positive gain, best gain: -inf\n",
      "[LightGBM] [Warning] No further splits with positive gain, best gain: -inf\n",
      "[LightGBM] [Warning] No further splits with positive gain, best gain: -inf\n",
      "[LightGBM] [Warning] No further splits with positive gain, best gain: -inf\n",
      "[LightGBM] [Warning] No further splits with positive gain, best gain: -inf\n",
      "[LightGBM] [Warning] No further splits with positive gain, best gain: -inf\n",
      "[LightGBM] [Warning] No further splits with positive gain, best gain: -inf\n",
      "[LightGBM] [Warning] No further splits with positive gain, best gain: -inf\n",
      "[LightGBM] [Warning] No further splits with positive gain, best gain: -inf\n",
      "[LightGBM] [Warning] No further splits with positive gain, best gain: -inf\n",
      "[LightGBM] [Warning] No further splits with positive gain, best gain: -inf\n",
      "[LightGBM] [Warning] No further splits with positive gain, best gain: -inf\n",
      "[LightGBM] [Warning] No further splits with positive gain, best gain: -inf\n",
      "[LightGBM] [Warning] No further splits with positive gain, best gain: -inf\n",
      "[LightGBM] [Warning] No further splits with positive gain, best gain: -inf\n",
      "[LightGBM] [Warning] No further splits with positive gain, best gain: -inf\n",
      "[LightGBM] [Warning] No further splits with positive gain, best gain: -inf\n",
      "[LightGBM] [Warning] No further splits with positive gain, best gain: -inf\n",
      "[LightGBM] [Warning] No further splits with positive gain, best gain: -inf\n",
      "[LightGBM] [Warning] No further splits with positive gain, best gain: -inf\n",
      "[LightGBM] [Warning] No further splits with positive gain, best gain: -inf\n",
      "[LightGBM] [Warning] No further splits with positive gain, best gain: -inf\n",
      "[LightGBM] [Warning] No further splits with positive gain, best gain: -inf\n",
      "[LightGBM] [Warning] No further splits with positive gain, best gain: -inf\n",
      "[LightGBM] [Warning] No further splits with positive gain, best gain: -inf\n",
      "[LightGBM] [Warning] No further splits with positive gain, best gain: -inf\n",
      "[LightGBM] [Warning] No further splits with positive gain, best gain: -inf\n",
      "[LightGBM] [Warning] No further splits with positive gain, best gain: -inf\n",
      "[LightGBM] [Warning] No further splits with positive gain, best gain: -inf\n",
      "[LightGBM] [Warning] No further splits with positive gain, best gain: -inf\n",
      "[LightGBM] [Warning] No further splits with positive gain, best gain: -inf\n",
      "[LightGBM] [Warning] No further splits with positive gain, best gain: -inf\n",
      "[LightGBM] [Warning] No further splits with positive gain, best gain: -inf\n",
      "[LightGBM] [Warning] No further splits with positive gain, best gain: -inf\n",
      "[LightGBM] [Warning] No further splits with positive gain, best gain: -inf\n",
      "[LightGBM] [Warning] No further splits with positive gain, best gain: -inf\n",
      "[LightGBM] [Warning] No further splits with positive gain, best gain: -inf\n",
      "[LightGBM] [Warning] No further splits with positive gain, best gain: -inf\n",
      "[LightGBM] [Warning] No further splits with positive gain, best gain: -inf\n",
      "[LightGBM] [Warning] No further splits with positive gain, best gain: -inf\n",
      "[LightGBM] [Warning] No further splits with positive gain, best gain: -inf\n",
      "[LightGBM] [Warning] No further splits with positive gain, best gain: -inf\n",
      "[LightGBM] [Warning] No further splits with positive gain, best gain: -inf\n",
      "[LightGBM] [Warning] No further splits with positive gain, best gain: -inf\n"
     ]
    }
   ],
   "source": [
    "cols_X = [\n",
    "    # 'restaurant',\n",
    "    'num_cat_chicken', \n",
    "    'num_cat_fish',\n",
    "    'num_cat_meat',\n",
    "    'num_cat_vegan',\n",
    "    'num_cat_vegetarian',\n",
    "]\n",
    "col_y = 'pcs'\n",
    "\n",
    "for restaurant in encoded['restaurant'].unique():\n",
    "    break\n",
    "\n",
    "df = encoded[encoded['restaurant'] == restaurant]\n",
    "\n",
    "models = {\n",
    "    'Ridge': {}, \n",
    "    'Lasso': {}, \n",
    "    'RandomForestRegressor': {},\n",
    "    'XGBRegressor': {},\n",
    "    'LGBMRegressor': {},\n",
    "    'GradientBoostingRegressor': {}\n",
    "}\n",
    "\n",
    "\n",
    "X = df[cols_X]\n",
    "y = df[col_y]\n",
    "for name in models.keys():\n",
    "    model = eval(name)()\n",
    "    model.fit(X, y)\n",
    "\n",
    "    if name in [\"Ridge\", 'Lasso',]:\n",
    "        feats = model.coef_.squeeze()\n",
    "    else:\n",
    "        feats = model.feature_importances_\n",
    "\n",
    "    models[name] = {feat: coef for (feat, coef) in zip(cols_X, feats)}\n",
    "\n",
    "    # rmse = root_mean_squared_error(\n",
    "    #     scaler_y.inverse_transform(y),\n",
    "    #     scaler_y.inverse_transform(model.predict(X).reshape(-1, 1))\n",
    "    # )\n",
    "    rmse = root_mean_squared_error(y, model.predict(X).reshape(-1, 1))\n",
    "    models[name]['rmse'] = rmse\n",
    "        "
   ]
  },
  {
   "cell_type": "code",
   "execution_count": 23,
   "metadata": {},
   "outputs": [
    {
     "data": {
      "application/vnd.plotly.v1+json": {
       "config": {
        "plotlyServerURL": "https://plot.ly"
       },
       "data": [
        {
         "name": "target",
         "type": "scatter",
         "x": [
          177,
          178.95,
          180.9,
          182.85,
          184.8,
          186.75,
          188.7,
          190.65,
          192.6,
          194.55,
          196.5,
          198.45,
          200.4,
          202.35,
          204.3,
          206.25,
          208.2,
          210.15,
          212.1,
          214.05,
          216,
          217.95,
          219.9,
          221.85,
          223.8,
          225.75,
          227.7,
          229.65,
          231.6,
          233.55,
          235.5,
          237.45,
          239.4,
          241.35,
          243.3,
          245.25,
          247.2,
          249.15,
          251.1,
          253.05,
          255,
          256.95,
          258.9,
          260.85,
          262.8,
          264.75,
          266.7,
          268.65,
          270.6,
          272.55,
          274.5,
          276.45,
          278.4,
          280.35,
          282.3,
          284.25,
          286.2,
          288.15,
          290.1,
          292.05,
          294,
          295.95,
          297.9,
          299.85,
          301.8,
          303.75,
          305.7,
          307.65,
          309.6,
          311.55,
          313.5,
          315.45,
          317.4,
          319.35,
          321.3,
          323.25,
          325.2,
          327.15,
          329.1,
          331.05,
          333,
          334.95,
          336.9,
          338.85,
          340.8,
          342.75,
          344.7,
          346.65,
          348.6,
          350.55,
          352.5,
          354.45,
          356.4,
          358.35,
          360.3,
          362.25,
          364.2,
          366.15,
          368.1,
          370.05,
          372,
          373.95,
          375.9,
          377.85,
          379.8,
          381.75,
          383.7,
          385.65,
          387.6,
          389.55,
          391.5,
          393.45,
          395.4,
          397.35,
          399.3,
          401.25,
          403.2,
          405.15,
          407.1,
          409.05,
          411,
          412.95,
          414.9,
          416.85,
          418.8,
          420.75,
          422.7,
          424.65,
          426.6,
          428.55,
          430.5,
          432.45,
          434.4,
          436.35,
          438.3,
          440.25,
          442.2,
          444.15,
          446.1,
          448.05,
          450,
          451.95,
          453.9,
          455.85,
          457.8,
          459.75,
          461.7,
          463.65,
          465.6,
          467.55,
          469.5,
          471.45,
          473.4,
          475.35,
          477.3,
          479.25,
          481.2,
          483.15,
          485.1,
          487.05,
          489,
          490.95,
          492.9,
          494.85,
          496.8,
          498.75,
          500.7,
          502.65,
          504.6,
          506.55,
          508.5,
          510.45,
          512.4,
          514.35,
          516.3,
          518.25,
          520.2,
          522.15,
          524.1,
          526.05,
          528,
          529.95,
          531.9,
          533.85,
          535.8,
          537.75,
          539.7,
          541.65,
          543.6,
          545.55,
          547.5,
          549.45,
          551.4,
          553.35,
          555.3,
          557.25,
          559.2,
          561.15,
          563.1,
          565.05,
          567,
          568.95,
          570.9,
          572.85,
          574.8,
          576.75,
          578.7,
          580.65,
          582.6,
          584.55,
          586.5,
          588.45,
          590.4,
          592.35,
          594.3,
          596.25,
          598.2,
          600.15,
          602.1,
          604.05,
          606,
          607.95,
          609.9,
          611.85,
          613.8,
          615.75,
          617.7,
          619.65,
          621.6,
          623.55,
          625.5,
          627.45,
          629.4,
          631.35,
          633.3,
          635.25,
          637.2,
          639.15,
          641.1,
          643.05,
          645,
          646.95,
          648.9,
          650.85,
          652.8,
          654.75,
          656.7,
          658.65,
          660.6,
          662.55,
          664.5,
          666.45,
          668.4,
          670.35,
          672.3,
          674.25,
          676.2,
          678.15,
          680.1,
          682.05,
          684,
          685.95,
          687.9,
          689.85,
          691.8,
          693.75,
          695.7,
          697.65,
          699.6,
          701.55,
          703.5,
          705.45,
          707.4,
          709.35,
          711.3,
          713.25,
          715.2,
          717.15,
          719.1,
          721.05,
          723,
          724.95,
          726.9,
          728.85,
          730.8,
          732.75,
          734.7,
          736.65,
          738.6,
          740.55,
          742.5,
          744.45,
          746.4,
          748.35,
          750.3,
          752.25,
          754.2,
          756.15,
          758.1,
          760.05,
          762,
          763.95,
          765.9,
          767.85,
          769.8,
          771.75,
          773.7,
          775.65,
          777.6,
          779.55,
          781.5,
          783.45,
          785.4,
          787.35,
          789.3,
          791.25,
          793.2,
          795.15,
          797.1,
          799.05,
          801,
          802.95,
          804.9,
          806.85,
          808.8,
          810.75,
          812.7,
          814.65,
          816.6,
          818.55,
          820.5,
          822.45,
          824.4,
          826.35,
          828.3,
          830.25,
          832.2,
          834.15,
          836.1,
          838.05,
          840,
          841.95,
          843.9,
          845.85,
          847.8,
          849.75,
          851.7,
          853.65,
          855.6,
          857.55,
          859.5,
          861.45,
          863.4,
          865.35,
          867.3,
          869.25,
          871.2,
          873.15,
          875.1,
          877.05,
          879,
          880.95,
          882.9,
          884.85,
          886.8,
          888.75,
          890.7,
          892.65,
          894.6,
          896.55,
          898.5,
          900.45,
          902.4,
          904.35,
          906.3,
          908.25,
          910.2,
          912.15,
          914.1,
          916.05,
          918,
          919.95,
          921.9,
          923.85,
          925.8,
          927.75,
          929.7,
          931.65,
          933.6,
          935.55,
          937.5,
          939.45,
          941.4,
          943.35,
          945.3,
          947.25,
          949.2,
          951.15,
          953.1,
          955.05,
          957,
          958.95,
          960.9,
          962.85,
          964.8,
          966.75,
          968.7,
          970.65,
          972.6,
          974.55,
          976.5,
          978.45,
          980.4,
          982.35,
          984.3,
          986.25,
          988.2,
          990.15,
          992.1,
          994.05,
          996,
          997.95,
          999.9,
          1001.85,
          1003.8,
          1005.75,
          1007.7,
          1009.65,
          1011.6,
          1013.55,
          1015.5,
          1017.45,
          1019.4,
          1021.35,
          1023.3,
          1025.25,
          1027.2,
          1029.15,
          1031.1,
          1033.05,
          1035,
          1036.95,
          1038.9,
          1040.85,
          1042.8,
          1044.75,
          1046.7,
          1048.65,
          1050.6,
          1052.55,
          1054.5,
          1056.45,
          1058.4,
          1060.35,
          1062.3,
          1064.25,
          1066.2,
          1068.15,
          1070.1,
          1072.05,
          1074,
          1075.95,
          1077.9,
          1079.85,
          1081.8,
          1083.75,
          1085.7,
          1087.65,
          1089.6,
          1091.55,
          1093.5,
          1095.45,
          1097.4,
          1099.35,
          1101.3,
          1103.25,
          1105.2,
          1107.15,
          1109.1,
          1111.05,
          1113,
          1114.95,
          1116.9,
          1118.85,
          1120.8,
          1122.75,
          1124.7,
          1126.65,
          1128.6,
          1130.55,
          1132.5,
          1134.45,
          1136.4,
          1138.35,
          1140.3,
          1142.25,
          1144.2,
          1146.15,
          1148.1,
          1150.05
         ],
         "xaxis": "x",
         "y": [
          0.00006822650429350346,
          0.00006919210312113694,
          0.00007012383706089371,
          0.00007102305839630705,
          0.0000718914889317683,
          0.00007273122205226588,
          0.0000735447225312233,
          0.00007433482407138338,
          0.00007510472458235219,
          0.00007585797921679146,
          0.00007659849120508609,
          0.00007733050054540434,
          0.00007805857062218282,
          0.00007878757284101998,
          0.00007952266938157206,
          0.0000802692941821513,
          0.0000810331322802154,
          0.00008182009764168651,
          0.00008263630961900012,
          0.00008348806818289704,
          0.00008438182807624046,
          0.00008532417203958211,
          0.00008632178325787273,
          0.00008738141717569389,
          0.00008850987282480404,
          0.00008971396380277034,
          0.00009100048903517685,
          0.00009237620344653726,
          0.00009384778865680712,
          0.00009542182381150537,
          0.00009710475664414373,
          0.00009890287486016686,
          0.00010082227792215365,
          0.00010286884930686676,
          0.00010504822929607123,
          0.00010736578835510502,
          0.00010982660114615636,
          0.0001124354212172628,
          0.00011519665640335333,
          0.00011811434497231729,
          0.00012119213254719992,
          0.00012443324983525366,
          0.00012784049119573277,
          0.00013141619408099813,
          0.000135162219389646,
          0.00013907993277589614,
          0.00014317018696626203,
          0.00014743330514240284,
          0.00015186906545783949,
          0.00015647668676569722,
          0.00016125481564454818,
          0.00016620151481951402,
          0.00017131425308576322,
          0.00017658989685110784,
          0.00018202470342324338,
          0.00018761431617501532,
          0.0001933537617275773,
          0.00019923744929621113,
          0.00020525917234655107,
          0.00021141211270980377,
          0.00021768884730402038,
          0.00022408135760435837,
          0.00023058104199845768,
          0.00023717873115335007,
          0.0002438647065077444,
          0.0002506287219879879,
          0.0002574600290275727,
          0.00026434740494877537,
          0.0002712791847410656,
          0.0002782432962444466,
          0.0002852272987171424,
          0.00029221842473632436,
          0.00029920362534818356,
          0.0003061696183500007,
          0.000313102939552331,
          0.00031998999683447045,
          0.000326817126771478,
          0.0003335706535766212,
          0.00034023695006981866,
          0.0003468025003507987,
          0.0003532539638259701,
          0.0003595782402107105,
          0.0003657625351045442,
          0.0003717944257158339,
          0.00037766192629559334,
          0.00038335355282720357,
          0.00038885838651048156,
          0.00039416613557492406,
          0.00039926719495831785,
          0.00040415270339323766,
          0.00040881459745547433,
          0.00041324566214497613,
          0.0004174395775914474,
          0.00042139096150312517,
          0.0004250954070082299,
          0.00042854951557380876,
          0.0004317509247258679,
          0.0004346983303372732,
          0.00043739150329552394,
          0.0004398313004105155,
          0.00044201966947230207,
          0.00044395964841998883,
          0.00044565535863462497,
          0.00044711199242062315,
          0.0004483357947912176,
          0.00044933403972306286,
          0.00045011500109267923,
          0.0004506879185524599,
          0.0004510629586457429,
          0.0004512511714985597,
          0.0004512644434595639,
          0.00045111544608892094,
          0.0004508175819212757,
          0.0004503849274469661,
          0.0004498321737693122,
          0.0004491745654038664,
          0.0004484278376880057,
          0.0004476081532661538,
          0.00044673203810744773,
          0.00044581631749897565,
          0.00044487805243907636,
          0.0004439344768320519,
          0.0004430029358583522,
          0.0004421008258633627,
          0.0004412455360739462,
          0.0004404543924153586,
          0.00043974460366280155,
          0.0004391332101222339,
          0.00043863703499489324,
          0.00043827263853986873,
          0.0004380562751096733,
          0.0004380038530958202,
          0.0004381308977853221,
          0.00043845251709559213,
          0.00043898337012477127,
          0.00043973763842754986,
          0.0004407289999035555,
          0.0004419706051664786,
          0.0004434750562477559,
          0.0004452543874788009,
          0.00044732004839063326,
          0.0004496828884692434,
          0.00045235314360905765,
          0.0004553404241152303,
          0.00045865370411788395,
          0.0004623013122775559,
          0.0004662909236804661,
          0.0004706295528443847,
          0.000475323547780242,
          0.00048037858508059275,
          0.0004857996660330018,
          0.0004915911137836615,
          0.0004977565716034051,
          0.0005042990023341008,
          0.0005112206891173953,
          0.0005185232375294833,
          0.0005262075792641281,
          0.0005342739775212007,
          0.0005427220342688711,
          0.0005515506995539292,
          0.0005607582830360918,
          0.0005703424679183129,
          0.0005803003274359041,
          0.0005906283440525338,
          0.0006013224314909708,
          0.0006123779597009237,
          0.0006237897828356276,
          0.0006355522702734236,
          0.0006476593406807835,
          0.0006601044990696743,
          0.000672880876755454,
          0.0006859812740722572,
          0.0006993982056520743,
          0.0007131239480220472,
          0.0007271505892229663,
          0.000741470080101468,
          0.0007560742868798218,
          0.000770955044561644,
          0.000786104210690066,
          0.0008015137189378879,
          0.0008171756319779548,
          0.0008330821930569413,
          0.0008492258756780385,
          0.0008655994307879193,
          0.000882195930861615,
          0.0008990088102858673,
          0.0009160319014572832,
          0.0009332594660366042,
          0.000950686220834249,
          0.0009683073578451822,
          0.0009861185580024665,
          0.0010041159982784062,
          0.001022296351829108,
          0.001040656780952066,
          0.0010591949227059117,
          0.001077908867126087,
          0.0010967971280583444,
          0.0011158586067230227,
          0.0011350925482152257,
          0.0011544984912383429,
          0.0011740762114594743,
          0.0011938256589635475,
          0.0012137468903675136,
          0.0012338399962349795,
          0.001254105024504342,
          0.0012745419007083286,
          0.0012951503458189812,
          0.0013159297925984753,
          0.001336879301371979,
          0.0013579974761632476,
          0.0013792823821464878,
          0.0014007314653685938,
          0.0014223414756843263,
          0.0014441083938230136,
          0.0014660273634694862,
          0.0014880926291943354,
          0.0015102974810098449,
          0.001532634206258999,
          0.0015550940494664378,
          0.0015776671806933711,
          0.0016003426728445549,
          0.0016231084882753107,
          0.0016459514749424568,
          0.0016688573722352853,
          0.0016918108265140716,
          0.0017147954162745349,
          0.0017377936867494146,
          0.0017607871936540474,
          0.0017837565556830845,
          0.0018066815152716533,
          0.001829541007047547,
          0.0018523132333227454,
          0.0018749757459034881,
          0.0018975055334394017,
          0.0019198791134841708,
          0.0019420726284039278,
          0.001964061944244651,
          0.0019858227516571262,
          0.0020073306679770438,
          0.002028561339568298,
          0.002049490543559606,
          0.0020700942881366705,
          0.0020903489105946853,
          0.0021102311724069643,
          0.0021297183506248287,
          0.0021487883249897643,
          0.0021674196602105137,
          0.0021855916829336772,
          0.002203284553015331,
          0.002220479328781779,
          0.0022371580260485487,
          0.0022533036707467653,
          0.002268900345083899,
          0.002283933227240396,
          0.00229838862467387,
          0.0023122540011671446,
          0.002325517997815144,
          0.0023381704481971084,
          0.0023502023880249104,
          0.0023616060595944856,
          0.002372374911395757,
          0.002382503593256453,
          0.0023919879474072307,
          0.0024008249958596814,
          0.0024090129244854217,
          0.0024165510641740683,
          0.0024234398694311554,
          0.002429680894754534,
          0.002435276769100487,
          0.002440231168719345,
          0.002444548788605841,
          0.0024482353127728207,
          0.002451297383518883,
          0.002453742569822302,
          0.0024555793349559907,
          0.0024568170033820603,
          0.0024574657269506375,
          0.002457536450396791,
          0.002457040876102149,
          0.0024559914280647844,
          0.0024544012150025606,
          0.0024522839925016455,
          0.002449654124113714,
          0.002446526541302224,
          0.002442916702140519,
          0.0024388405486716804,
          0.002434314462852402,
          0.0024293552210197483,
          0.002423979946840663,
          0.0024182060627283767,
          0.0024120512397375134,
          0.002405533345979533,
          0.0023986703936319143,
          0.0023914804846472265,
          0.0023839817553015312,
          0.002376192319754358,
          0.0023681302128245206,
          0.002359813332216439,
          0.002351259380459711,
          0.00234248580685003,
          0.002333509749701899,
          0.0023243479792417346,
          0.0023150168414846793,
          0.0023055322034483306,
          0.0022959094000623006,
          0.0022861631831334562,
          0.002276307672723011,
          0.0022663563112831383,
          0.002256321820888246,
          0.0022462161638784712,
          0.002236050507211973,
          0.0022258351907974224,
          0.0022155797000495995,
          0.002205292642879596,
          0.002194981731296951,
          0.002184653767764968,
          0.002174314636412462,
          0.002163969299166384,
          0.002153621796829948,
          0.0021432752550912325,
          0.002132931895407555,
          0.002122593050672318,
          0.0021122591855333504,
          0.00210192992119585,
          0.002091604064509146,
          0.002081279641104535,
          0.002070953932322739,
          0.0020606235156429525,
          0.002050284308302524,
          0.0020399316137763015,
          0.0020295601707681415,
          0.0020191642043540844,
          0.0020087374789070707,
          0.001998273352427141,
          0.001987764831898586,
          0.001977204629296377,
          0.0019665852178687247,
          0.0019558988883301067,
          0.0019451378046097853,
          0.001934294058814647,
          0.0019233597250814295,
          0.001912326912012361,
          0.0019011878134095773,
          0.001889934757046731,
          0.001878560251241456,
          0.001867057029018682,
          0.0018554180896826918,
          0.0018436367376443278,
          0.0018317066183790088,
          0.001819621751420742,
          0.0018073765603267445,
          0.00179496589957644,
          0.0017823850783969938,
          0.001769629881535098,
          0.00175669658702086,
          0.001743581980994337,
          0.0017302833696881046,
          0.0017167985886799514,
          0.001703126009548253,
          0.0016892645440785706,
          0.0016752136461831264,
          0.0016609733117053803,
          0.0016465440762893086,
          0.0016319270114974855,
          0.0016171237193636106,
          0.0016021363255633836,
          0.0015869674713833081,
          0.0015716203046595198,
          0.001556098469848684,
          0.0015404060973804928,
          0.0015245477924263292,
          0.0015085286232019246,
          0.001492354108903185,
          0.001476030207354528,
          0.001459563302428135,
          0.0014429601912710425,
          0.0014262280713553933,
          0.001409374527345643,
          0.0013924075177558098,
          0.0013753353613500901,
          0.0013581667232219858,
          0.001340910600470605,
          0.0013235763073787613,
          0.0013061734599856634,
          0.001288711959938396,
          0.001271201977500427,
          0.0012536539335929772,
          0.001236078480745916,
          0.0012184864828390896,
          0.001200888993522852,
          0.001183297233217624,
          0.0011657225646068442,
          0.001148176466555149,
          0.0011306705064041706,
          0.0011132163106213119,
          0.001095825533802069,
          0.001078509826053799,
          0.001061280798817097,
          0.001044149989210771,
          0.0010271288230161069,
          0.0010102285764463216,
          0.0009934603368763424,
          0.0009768349627365706,
          0.0009603630428009973,
          0.0009440548551249698,
          0.0009279203259101174,
          0.0009119689885934642,
          0.0008962099434738462,
          0.0008806518182013138,
          0.0008653027294639295,
          0.0008501702462108724,
          0.0008352613547511882,
          0.0008205824260634994,
          0.0008061391856437,
          0.000791936686205049,
          0.0007779792835282388,
          0.000764270615738243,
          0.0007508135862601328,
          0.0007376103506779738,
          0.0007246623076897127,
          0.0007119700943169141,
          0.0006995335854919243,
          0.0006873518981068054,
          0.0006754233995686895,
          0.0006637457208657047,
          0.0006523157741065848,
          0.0006411297744561823,
          0.0006301832663487479,
          0.0006194711538215575,
          0.0006089877347736566,
          0.0005987267389186728,
          0.0005886813691671109,
          0.0005788443461427703,
          0.0005692079555100812,
          0.0005597640977648093,
          0.0005505043401194707,
          0.0005414199700977465,
          0.0005325020504386902,
          0.000523741474902227,
          0.0005151290245618876,
          0.0005066554241693604,
          0.0004983113981778221,
          0.0004900877260173315,
          0.00048197529622552647,
          0.00047396515905029905,
          0.0004660485771579992,
          0.0004582170741004791,
          0.0004504624802170428,
          0.0004427769756725472,
          0.0004351531303603544,
          0.0004275839404282229,
          0.00042006286121620606,
          0.00041258383642788903,
          0.0004051413233895327,
          0.00039773031428551276,
          0.0003903463532926318,
          0.00038298554956997657,
          0.00037564458609484395,
          0.0003683207243684546,
          0.00036101180504746804,
          0.00035371624458851146,
          0.00034643302802260664,
          0.00033916169800454965,
          0.0003319023403085351,
          0.0003246555659655317,
          0.0003174224902599712,
          0.0003102047088229712,
          0.0003030042710765493,
          0.0002958236512979411,
          0.00028866571758514746,
          0.0002815336990142213,
          0.00027443115128536976,
          0.0002673619211589738,
          0.00026033010998378,
          0.000253340036618209,
          0.0002463962000417288,
          0.00023950324194682825,
          0.00023266590959334155,
          0.0002258890191958595,
          0.00021917742010187257,
          0.00021253596000331637,
          0.00020596945140745072,
          0.000199482639574804,
          0.00019308017211236084,
          0.000186766570389533,
          0.00018054620292301,
          0.00017442326085440713,
          0.00016840173562217143,
          0.00016248539890652318,
          0.0001566777849036045,
          0.00015098217496272942,
          0.00014540158459883313,
          0.00013993875287116853,
          0.00013459613409916405,
          0.00012937589186729718,
          0.00012427989525307123,
          0.00011930971719578124,
          0.00011446663490891033,
          0.00010975163222575584,
          0.0001051654037563584
         ],
         "yaxis": "y"
        },
        {
         "name": "prediction",
         "type": "scatter",
         "x": [
          198.80728744436547,
          200.56552275986976,
          202.32375807537406,
          204.08199339087835,
          205.84022870638267,
          207.59846402188697,
          209.35669933739126,
          211.11493465289556,
          212.87316996839985,
          214.63140528390414,
          216.38964059940844,
          218.14787591491273,
          219.90611123041705,
          221.66434654592135,
          223.42258186142564,
          225.18081717692993,
          226.93905249243423,
          228.69728780793852,
          230.45552312344284,
          232.21375843894714,
          233.97199375445143,
          235.73022906995573,
          237.48846438546002,
          239.2466997009643,
          241.0049350164686,
          242.7631703319729,
          244.52140564747722,
          246.27964096298152,
          248.0378762784858,
          249.7961115939901,
          251.5543469094944,
          253.3125822249987,
          255.070817540503,
          256.8290528560073,
          258.5872881715116,
          260.3455234870159,
          262.1037588025202,
          263.8619941180245,
          265.6202294335288,
          267.37846474903307,
          269.13670006453737,
          270.89493538004166,
          272.653170695546,
          274.4114060110503,
          276.1696413265546,
          277.9278766420589,
          279.6861119575632,
          281.4443472730675,
          283.2025825885718,
          284.96081790407607,
          286.71905321958036,
          288.47728853508465,
          290.23552385058895,
          291.99375916609324,
          293.75199448159754,
          295.51022979710183,
          297.2684651126061,
          299.0267004281104,
          300.7849357436147,
          302.543171059119,
          304.3014063746233,
          306.0596416901276,
          307.81787700563194,
          309.57611232113624,
          311.33434763664053,
          313.0925829521448,
          314.8508182676491,
          316.6090535831534,
          318.3672888986577,
          320.125524214162,
          321.8837595296663,
          323.6419948451706,
          325.40023016067494,
          327.15846547617923,
          328.9167007916835,
          330.6749361071878,
          332.4331714226921,
          334.1914067381964,
          335.9496420537007,
          337.707877369205,
          339.4661126847093,
          341.2243480002136,
          342.9825833157179,
          344.74081863122217,
          346.49905394672646,
          348.25728926223076,
          350.01552457773505,
          351.77375989323934,
          353.53199520874364,
          355.290230524248,
          357.0484658397522,
          358.8067011552566,
          360.5649364707608,
          362.32317178626516,
          364.08140710176946,
          365.83964241727375,
          367.59787773277804,
          369.35611304828234,
          371.11434836378663,
          372.872583679291,
          374.6308189947952,
          376.38905431029957,
          378.14728962580386,
          379.90552494130816,
          381.66376025681245,
          383.42199557231675,
          385.18023088782104,
          386.93846620332533,
          388.6967015188296,
          390.4549368343339,
          392.2131721498382,
          393.9714074653425,
          395.7296427808468,
          397.4878780963511,
          399.2461134118554,
          401.0043487273597,
          402.762584042864,
          404.52081935836827,
          406.27905467387257,
          408.0372899893769,
          409.79552530488115,
          411.5537606203855,
          413.31199593588974,
          415.0702312513941,
          416.8284665668984,
          418.5867018824027,
          420.344937197907,
          422.10317251341127,
          423.86140782891556,
          425.6196431444199,
          427.37787845992415,
          429.1361137754285,
          430.8943490909328,
          432.6525844064371,
          434.4108197219414,
          436.1690550374457,
          437.92729035294997,
          439.68552566845426,
          441.44376098395855,
          443.20199629946285,
          444.96023161496714,
          446.71846693047144,
          448.47670224597573,
          450.23493756148,
          451.9931728769843,
          453.7514081924886,
          455.5096435079929,
          457.2678788234972,
          459.0261141390015,
          460.7843494545058,
          462.5425847700101,
          464.3008200855144,
          466.0590554010188,
          467.8172907165231,
          469.57552603202726,
          471.33376134753155,
          473.09199666303596,
          474.85023197854025,
          476.60846729404454,
          478.3667026095487,
          480.12493792505313,
          481.8831732405574,
          483.6414085560617,
          485.399643871566,
          487.1578791870703,
          488.9161145025746,
          490.6743498180789,
          492.4325851335832,
          494.1908204490875,
          495.9490557645918,
          497.70729108009607,
          499.46552639560036,
          501.22376171110466,
          502.98199702660895,
          504.74023234211325,
          506.49846765761754,
          508.25670297312183,
          510.0149382886261,
          511.77317360413053,
          513.5314089196347,
          515.289644235139,
          517.0478795506433,
          518.8061148661477,
          520.564350181652,
          522.3225854971562,
          524.0808208126605,
          525.8390561281649,
          527.5972914436692,
          529.3555267591735,
          531.1137620746777,
          532.8719973901821,
          534.6302327056864,
          536.3884680211906,
          538.1467033366949,
          539.9049386521992,
          541.6631739677035,
          543.4214092832078,
          545.1796445987121,
          546.9378799142164,
          548.6961152297207,
          550.454350545225,
          552.2125858607293,
          553.9708211762336,
          555.7290564917379,
          557.4872918072422,
          559.2455271227465,
          561.0037624382508,
          562.761997753755,
          564.5202330692595,
          566.2784683847636,
          568.0367037002679,
          569.7949390157722,
          571.5531743312766,
          573.3114096467809,
          575.0696449622851,
          576.8278802777894,
          578.5861155932938,
          580.3443509087981,
          582.1025862243024,
          583.8608215398067,
          585.619056855311,
          587.3772921708153,
          589.1355274863196,
          590.8937628018239,
          592.6519981173282,
          594.4102334328325,
          596.1684687483367,
          597.926704063841,
          599.6849393793453,
          601.4431746948496,
          603.2014100103539,
          604.9596453258582,
          606.7178806413625,
          608.4761159568668,
          610.2343512723711,
          611.9925865878754,
          613.7508219033797,
          615.509057218884,
          617.2672925343884,
          619.0255278498926,
          620.7837631653969,
          622.5419984809012,
          624.3002337964056,
          626.0584691119099,
          627.816704427414,
          629.5749397429183,
          631.3331750584227,
          633.091410373927,
          634.8496456894313,
          636.6078810049356,
          638.3661163204399,
          640.1243516359442,
          641.8825869514485,
          643.6408222669528,
          645.3990575824571,
          647.1572928979614,
          648.9155282134657,
          650.67376352897,
          652.4319988444743,
          654.1902341599786,
          655.9484694754829,
          657.7067047909871,
          659.4649401064914,
          661.2231754219957,
          662.9814107375,
          664.7396460530043,
          666.4978813685086,
          668.2561166840129,
          670.0143519995173,
          671.7725873150215,
          673.5308226305258,
          675.2890579460301,
          677.0472932615345,
          678.8055285770388,
          680.563763892543,
          682.3219992080473,
          684.0802345235517,
          685.838469839056,
          687.5967051545603,
          689.3549404700645,
          691.1131757855688,
          692.8714111010731,
          694.6296464165774,
          696.3878817320817,
          698.146117047586,
          699.9043523630903,
          701.6625876785946,
          703.4208229940989,
          705.1790583096032,
          706.9372936251075,
          708.6955289406118,
          710.4537642561161,
          712.2119995716204,
          713.9702348871247,
          715.728470202629,
          717.4867055181332,
          719.2449408336375,
          721.0031761491418,
          722.7614114646461,
          724.5196467801504,
          726.2778820956547,
          728.0361174111591,
          729.7943527266633,
          731.5525880421676,
          733.310823357672,
          735.0690586731762,
          736.8272939886806,
          738.5855293041849,
          740.3437646196891,
          742.1019999351935,
          743.8602352506977,
          745.6184705662021,
          747.3767058817064,
          749.1349411972105,
          750.893176512715,
          752.6514118282192,
          754.4096471437235,
          756.1678824592278,
          757.926117774732,
          759.6843530902364,
          761.4425884057407,
          763.200823721245,
          764.9590590367493,
          766.7172943522536,
          768.4755296677579,
          770.2337649832622,
          771.9920002987666,
          773.7502356142708,
          775.5084709297751,
          777.2667062452794,
          779.0249415607836,
          780.783176876288,
          782.5414121917922,
          784.2996475072965,
          786.0578828228009,
          787.8161181383051,
          789.5743534538095,
          791.3325887693138,
          793.090824084818,
          794.8490594003224,
          796.6072947158266,
          798.365530031331,
          800.1237653468353,
          801.8820006623395,
          803.6402359778439,
          805.3984712933482,
          807.1567066088525,
          808.9149419243568,
          810.6731772398609,
          812.4314125553653,
          814.1896478708696,
          815.9478831863739,
          817.7061185018782,
          819.4643538173825,
          821.2225891328868,
          822.9808244483911,
          824.7390597638955,
          826.4972950793997,
          828.255530394904,
          830.0137657104083,
          831.7720010259126,
          833.530236341417,
          835.2884716569212,
          837.0467069724255,
          838.8049422879299,
          840.563177603434,
          842.3214129189384,
          844.0796482344427,
          845.8378835499469,
          847.5961188654513,
          849.3543541809555,
          851.1125894964599,
          852.8708248119642,
          854.6290601274684,
          856.3872954429728,
          858.1455307584771,
          859.9037660739814,
          861.6620013894857,
          863.4202367049899,
          865.1784720204943,
          866.9367073359986,
          868.6949426515029,
          870.4531779670072,
          872.2114132825114,
          873.9696485980157,
          875.72788391352,
          877.4861192290244,
          879.2443545445286,
          881.0025898600329,
          882.7608251755372,
          884.5190604910415,
          886.2772958065459,
          888.0355311220501,
          889.7937664375544,
          891.5520017530588,
          893.310237068563,
          895.0684723840674,
          896.8267076995717,
          898.5849430150759,
          900.3431783305803,
          902.1014136460844,
          903.8596489615888,
          905.6178842770931,
          907.3761195925973,
          909.1343549081017,
          910.892590223606,
          912.6508255391103,
          914.4090608546146,
          916.1672961701189,
          917.9255314856232,
          919.6837668011275,
          921.4420021166318,
          923.2002374321361,
          924.9584727476404,
          926.7167080631447,
          928.474943378649,
          930.2331786941534,
          931.9914140096575,
          933.7496493251618,
          935.5078846406661,
          937.2661199561704,
          939.0243552716748,
          940.782590587179,
          942.5408259026833,
          944.2990612181877,
          946.0572965336919,
          947.8155318491963,
          949.5737671647006,
          951.3320024802048,
          953.0902377957092,
          954.8484731112134,
          956.6067084267178,
          958.3649437422221,
          960.1231790577262,
          961.8814143732307,
          963.639649688735,
          965.3978850042392,
          967.1561203197435,
          968.9143556352478,
          970.6725909507521,
          972.4308262662564,
          974.1890615817607,
          975.947296897265,
          977.7055322127693,
          979.4637675282736,
          981.2220028437779,
          982.9802381592823,
          984.7384734747865,
          986.4967087902908,
          988.2549441057951,
          990.0131794212994,
          991.7714147368038,
          993.5296500523079,
          995.2878853678122,
          997.0461206833166,
          998.8043559988208,
          1000.5625913143252,
          1002.3208266298295,
          1004.0790619453337,
          1005.8372972608381,
          1007.5955325763423,
          1009.3537678918467,
          1011.112003207351,
          1012.8702385228552,
          1014.6284738383596,
          1016.3867091538639,
          1018.1449444693682,
          1019.9031797848725,
          1021.6614151003768,
          1023.419650415881,
          1025.1778857313855,
          1026.9361210468896,
          1028.694356362394,
          1030.4525916778982,
          1032.2108269934026,
          1033.9690623089068,
          1035.7272976244112,
          1037.4855329399154,
          1039.2437682554198,
          1041.0020035709242,
          1042.7602388864284,
          1044.5184742019328,
          1046.276709517437,
          1048.0349448329412,
          1049.7931801484456,
          1051.5514154639498,
          1053.3096507794542,
          1055.0678860949586,
          1056.8261214104627,
          1058.5843567259672,
          1060.3425920414713,
          1062.1008273569757,
          1063.85906267248,
          1065.617297987984,
          1067.3755333034885,
          1069.133768618993,
          1070.892003934497,
          1072.6502392500015,
          1074.4084745655057,
          1076.16670988101
         ],
         "xaxis": "x",
         "y": [
          0.00005779782454850515,
          0.00005754581213289152,
          0.00005679634875065804,
          0.000055568871020044,
          0.000053894840631207055,
          0.0000518164043556348,
          0.00004938463140907851,
          0.00004665743102463011,
          0.000043697268595794266,
          0.00004056880564209603,
          0.00003733658697441853,
          0.00003406288838073062,
          0.000030805821154498654,
          0.00002761776758765463,
          0.000024544196195261085,
          0.00002162287907630978,
          0.000018883508486808773,
          0.000016347687171142533,
          0.000014029248619829028,
          0.000011934850063471355,
          0.000010064773032660747,
          0.00000841386359226628,
          0.00000697254637060802,
          0.000005727852420118916,
          0.000004664409749454435,
          0.0000037653559704586287,
          0.000003013143855006134,
          0.0000023902217648916794,
          0.0000018795811506254815,
          0.0000014651720718592361,
          0.000001132194650895472,
          8.672794120270477e-7,
          6.585726362256312e-7,
          4.957443577757535e-7,
          3.6993671975205636e-7,
          2.7366940752554885e-7,
          2.0071712152184098e-7,
          1.4597183991222397e-7,
          1.0530022607341562e-7,
          7.540416967565332e-8,
          5.369027308769608e-8,
          3.815221097512337e-8,
          2.726835672439503e-8,
          1.991590094795562e-8,
          1.5301870470828394e-8,
          1.2910954751344225e-8,
          1.2469810391999373e-8,
          1.3927484782624696e-8,
          1.7451714412419215e-8,
          2.3441047759835405e-8,
          3.2552952209143544e-8,
          4.574822438370385e-8,
          6.435206908626038e-8,
          9.013208012961298e-8,
          1.2539298593187514e-7,
          1.7308735911148775e-7,
          2.3694048885835905e-7,
          3.21586251995625e-7,
          4.327090941767413e-7,
          5.771851829707689e-7,
          7.632135006529061e-7,
          0.0000010004252392785141,
          0.0000012999575330241377,
          0.0000016744755566689416,
          0.0000021381256252090448,
          0.0000027064014693940344,
          0.0000033959066625805223,
          0.000004223998535102114,
          0.000005208303064901075,
          0.00000636609629750294,
          0.000007713555790448716,
          0.000009264895172755835,
          0.000011031405721237697,
          0.00001302044022731874,
          0.00001523438550711859,
          0.000017669679689336643,
          0.00002031593781714192,
          0.00002315525325797175,
          0.000026161741996905974,
          0.000029301391413492207,
          0.00003253226428783127,
          0.000035805092677554914,
          0.00003906427558150991,
          0.00004224927009088848,
          0.0000452963396093095,
          0.00004814059663123904,
          0.000050718253624758664,
          0.000052968975890149695,
          0.00005483821676961387,
          0.00005627940976129242,
          0.00005725589485049778,
          0.000057742467910742464,
          0.00005772646178123005,
          0.00005720829429127518,
          0.00005620145013443842,
          0.00005473189769003497,
          0.00005283697599933191,
          0.000050563818488481205,
          0.00004796740630737092,
          0.00004510836341783857,
          0.00004205061655604558,
          0.00003885904539529259,
          0.00003559724189262569,
          0.000032325483864668154,
          0.000029099007832732486,
          0.000025966642033496312,
          0.00002296983433574491,
          0.000020142083750821343,
          0.00001750876018796385,
          0.000015087276644632093,
          0.000012887562237546319,
          0.00001091277396858169,
          0.000009160179978554782,
          0.0000076221469247724456,
          0.000006287168324029547,
          0.000005140878287662397,
          0.000004167004970955685,
          0.0000033482291851882377,
          0.000002666924979839843,
          0.0000021057697531147066,
          0.000001648220949088495,
          0.00000127886422552714,
          9.836439161442146e-7,
          7.49990641231488e-7,
          5.668631691288452e-7,
          4.2472233431591375e-7,
          3.154542773719504e-7,
          2.3225881414592417e-7,
          1.6951668485708894e-7,
          1.2264706483443002e-7,
          8.796427556037418e-8,
          6.254030054687907e-8,
          4.407761224598748e-8,
          3.079502908582014e-8,
          2.1327877599363582e-8,
          1.4642631172867735e-8,
          9.965407665485622e-9,
          6.72319145923132e-9,
          4.496352519791733e-9,
          2.9809157128344905e-9,
          1.959040983524727e-9,
          1.276267966757165e-9,
          8.242232444381288e-10,
          5.276583932545794e-10,
          3.348628242758036e-10,
          2.10664034375312e-10,
          1.3138117168467187e-10,
          8.123159141162878e-11,
          4.980302694244295e-11,
          3.0296736122807813e-11,
          1.832129767247303e-11,
          1.1075036034358098e-11,
          6.799965149067301e-12,
          4.424233751005208e-12,
          3.335698539346182e-12,
          3.248554137047671e-12,
          4.1397480022515126e-12,
          6.243809407748124e-12,
          1.0105158902345144e-11,
          1.669728027962153e-11,
          2.7629665057837244e-11,
          4.5477591297483e-11,
          7.428814268362423e-11,
          1.203402016052272e-10,
          1.9326851809229204e-10,
          3.0770469096800924e-10,
          4.856435415326119e-10,
          7.598145414632432e-10,
          1.1784271492591083e-9,
          1.8117680592894067e-9,
          2.761258357196683e-9,
          4.1717285119353894e-9,
          6.247835456724677e-9,
          9.27572144315778e-9,
          1.3651186767913316e-8,
          1.9915799774091588e-8,
          2.880247272135224e-8,
          4.1292058778262655e-8,
          5.868243383448763e-8,
          8.267127128524643e-8,
          1.1545324902683089e-7,
          1.5983169672003251e-7,
          2.1934365535824417e-7,
          2.983959516871633e-7,
          4.024081814771953e-7,
          5.379564755259373e-7,
          7.129096610989996e-7,
          9.365470515382706e-7,
          0.0000012196447776049425,
          0.0000015745155537392399,
          0.000002014985341505842,
          0.0000025562898608710506,
          0.000003214874654048688,
          0.000004008084758069141,
          0.00000495373426871417,
          0.00000606955235971385,
          0.000007372510693466551,
          0.000008878047474675853,
          0.000010599215291657155,
          0.00001254579276521945,
          0.00001472341305898318,
          0.000017132774478301676,
          0.00001976900853774087,
          0.00002262128778939297,
          0.000025672758195691995,
          0.000028900877870595303,
          0.00003227823483335558,
          0.000035773900613002575,
          0.000039355354142447543,
          0.00004299098190808302,
          0.000046653126786754186,
          0.00005032162088101095,
          0.000053987698821030716,
          0.00005765814959446858,
          0.00006135952932274683,
          0.00006514222689721699,
          0.00006908415131360073,
          0.00007329379599495522,
          0.00007791243317238477,
          0.00008311520191436022,
          0.00008911087760980398,
          0.00009614014902033291,
          0.00010447228119338052,
          0.00011440010761197375,
          0.00012623337116485906,
          0.00014029051815792474,
          0.00015688913900039904,
          0.00017633533879130906,
          0.00019891240538161205,
          0.00022486921559034553,
          0.0002544088759026243,
          0.0002876781262825482,
          0.0003247580397411574,
          0.0003656565226617715,
          0.0004103030604999459,
          0.00045854606199826763,
          0.0005101530371863566,
          0.0005648137078964667,
          0.0006221460046713332,
          0.0006817047629931629,
          0.000742992807685964,
          0.0008054740194732899,
          0.0008685879222212997,
          0.000931765320006295,
          0.0009944445516876506,
          0.0010560880134492649,
          0.001116198717307566,
          0.0011743367910010104,
          0.0012301359627960847,
          0.0012833201917646806,
          0.00133372067773464,
          0.0013812934950952623,
          0.001426138025141927,
          0.0014685162036670186,
          0.001508872353761059,
          0.0015478530479906946,
          0.001586326059478231,
          0.0016253970482347023,
          0.0016664222264744439,
          0.001711014900142346,
          0.0017610435424555574,
          0.0018186189673295296,
          0.0018860682796187616,
          0.0019658936189934726,
          0.002060714304479511,
          0.0021731918280553037,
          0.002305938217009695,
          0.002461409540643004,
          0.0026417877075168086,
          0.002848855092462626,
          0.003083867837411947,
          0.0033474347650134023,
          0.003639409605116057,
          0.003958804546672171,
          0.004303732897615743,
          0.004671387801894295,
          0.005058062508606936,
          0.005459215646874497,
          0.005869582420390048,
          0.006283329740144717,
          0.006694250252359387,
          0.007095987215991577,
          0.00748227948331205,
          0.00784721367864783,
          0.008185469270736547,
          0.008492541763332015,
          0.008764929791699473,
          0.009000273535086301,
          0.009197434475990836,
          0.009356510008353023,
          0.009478780492747332,
          0.009566590789240097,
          0.009623172740057808,
          0.00965241918406484,
          0.009658623538750324,
          0.009646201502615479,
          0.009619412800125344,
          0.009582100989400499,
          0.009537468155958363,
          0.009487898903286381,
          0.009434844599126389,
          0.009378774604340835,
          0.009319196520158475,
          0.009254742695847636,
          0.0091833157048288,
          0.00910228156158707,
          0.009008696401917225,
          0.008899550398294343,
          0.00877201195314349,
          0.008623655728958726,
          0.008452659759927185,
          0.008257959578642136,
          0.008039350742852468,
          0.007797535067933397,
          0.007534109941794405,
          0.007251504002916592,
          0.006952865910275362,
          0.006641915688945356,
          0.006322770029570894,
          0.0059997538661589,
          0.005677210550452851,
          0.005359322056389319,
          0.005049949025293216,
          0.00475249829139321,
          0.004469823026601534,
          0.004204158038970575,
          0.003957090262718316,
          0.0037295622696372657,
          0.003521904847882768,
          0.0033338934182071452,
          0.003164822319372133,
          0.003013590773288852,
          0.0028787945741254426,
          0.002758818141660828,
          0.0026519224279971587,
          0.002556325155079915,
          0.002470270883174443,
          0.002392089379860783,
          0.0023202416111356957,
          0.0022533533728018836,
          0.002190237108582208,
          0.0021299028298418015,
          0.0020715592846288627,
          0.002014606654046387,
          0.001958622116928123,
          0.0019033396507408882,
          0.0018486254506348335,
          0.001794450361954188,
          0.0017408607355177167,
          0.0016879491211673422,
          0.0016358261983912346,
          0.001584595285404923,
          0.0015343306534456296,
          0.0014850606898733707,
          0.001436756698674197,
          0.0013893278064294357,
          0.0013426220717765215,
          0.0012964335012635917,
          0.0012505142845483234,
          0.0012045912097909332,
          0.0011583849371327153,
          0.0011116306205480396,
          0.0010640982941237517,
          0.001015611485621142,
          0.0009660626843783392,
          0.0009154245576281508,
          0.0008637561551647646,
          0.00081120373620105,
          0.0007579962598426611,
          0.0007044359674287325,
          0.000650884819923204,
          0.0005977478116460215,
          0.0005454543462297007,
          0.0004944389244515298,
          0.0004451223586257601,
          0.00039789460515888853,
          0.00035310011311304217,
          0.00031102634420625866,
          0.0002718958527089451,
          0.0002358620459106428,
          0.00020300849843573796,
          0.00017335148368852126,
          0.00014684522485888755,
          0.000123389262307869,
          0.00010283728440399969,
          0.00008500677086792978,
          0.00006968884358775366,
          0.000056657799452012047,
          0.000045679901650289907,
          0.0000365211188256773,
          0.000028953615202517447,
          0.000022760900903503564,
          0.000017741643845496915,
          0.000013712218913556743,
          0.000010508124810458963,
          0.000007984434223201517,
          0.000006015460390071165,
          0.0000044938254721328556,
          0.0000033291065839664374,
          0.000002446217338200876,
          0.0000017836595627453484,
          0.0000012917543171362074,
          9.309357838232221e-7,
          6.701677618088133e-7,
          4.85521475230368e-7,
          3.589358298146167e-7,
          2.771672675984372e-7,
          2.309258117876652e-7,
          2.1418635661316692e-7,
          2.2365920695338522e-7,
          2.5840072579253344e-7,
          3.1954313821735656e-7,
          4.101215695351009e-7,
          5.349758639957418e-7,
          7.00704362493951e-7,
          9.156464655367899e-7,
          0.0000011898704538666287,
          0.0000015351427851908154,
          0.0000019648551352120166,
          0.0000024938860847465154,
          0.0000031383758956620738,
          0.000003915395593369054,
          0.000004842495866985898,
          0.000005937127303528214,
          0.000007215931244574536,
          0.000008693909967935223,
          0.000010383495618159181,
          0.000012293548781549753,
          0.000014428329055726772,
          0.000016786490458416906,
          0.000019360163003194202,
          0.000022134187169378356,
          0.000025085569325849978,
          0.0000281832226576119,
          0.00003138804933439068,
          0.00003465340551629004,
          0.00003792597176028499,
          0.00004114702842578743,
          0.000044254110202583855,
          0.00004718298770902751,
          0.00004986989928483431,
          0.00005225393474537013,
          0.00005427945694350541,
          0.00005589843812074976,
          0.000057072587305709394,
          0.00005777515284468446,
          0.0000579923001876423,
          0.00005772398821898428,
          0.000056984295971607976,
          0.000055801183247519504,
          0.00005421570095605405,
          0.000052280697305570884,
          0.00005005909200503034,
          0.00004762181046633997,
          0.000045045482408106917,
          0.0000424100137619135,
          0.00003979613766884891,
          0.00003728304063983994,
          0.00003494614522718751,
          0.00003285511277729609,
          0.00003107211109710108,
          0.000029650374141827616,
          0.000028633065746132095,
          0.00002805244807611835,
          0.00002792934834371525,
          0.000028272914202914705,
          0.000029080648339824792,
          0.000030338714804619107,
          0.000032022512066023955,
          0.0000340975090058906,
          0.000036520338715958984,
          0.000039240140028888973,
          0.00004220012781311224,
          0.000045339360470372424,
          0.0000485946577736236,
          0.000051902605761178325,
          0.00005520156989613071,
          0.000058433625352513934,
          0.00006154630627513097,
          0.00006449407599024275,
          0.00006723942860306466,
          0.00006975354955342885,
          0.00007201648790664637,
          0.00007401682486043499,
          0.00007575085871721233,
          0.00007722136332280798,
          0.0000784360112810786,
          0.00007940558170687623,
          0.00008014209185600405,
          0.00008065700038867116,
          0.00008095962602023341,
          0.00008105590882099233,
          0.00008094761361658915,
          0.00008063203813224526,
          0.00008010224596739103,
          0.00007934780003622765,
          0.00007835592982905708,
          0.0000771130295956513,
          0.00007560635757989658,
          0.00007382579106981502
         ],
         "yaxis": "y"
        }
       ],
       "layout": {
        "height": 800,
        "template": {
         "data": {
          "bar": [
           {
            "error_x": {
             "color": "#2a3f5f"
            },
            "error_y": {
             "color": "#2a3f5f"
            },
            "marker": {
             "line": {
              "color": "#E5ECF6",
              "width": 0.5
             },
             "pattern": {
              "fillmode": "overlay",
              "size": 10,
              "solidity": 0.2
             }
            },
            "type": "bar"
           }
          ],
          "barpolar": [
           {
            "marker": {
             "line": {
              "color": "#E5ECF6",
              "width": 0.5
             },
             "pattern": {
              "fillmode": "overlay",
              "size": 10,
              "solidity": 0.2
             }
            },
            "type": "barpolar"
           }
          ],
          "carpet": [
           {
            "aaxis": {
             "endlinecolor": "#2a3f5f",
             "gridcolor": "white",
             "linecolor": "white",
             "minorgridcolor": "white",
             "startlinecolor": "#2a3f5f"
            },
            "baxis": {
             "endlinecolor": "#2a3f5f",
             "gridcolor": "white",
             "linecolor": "white",
             "minorgridcolor": "white",
             "startlinecolor": "#2a3f5f"
            },
            "type": "carpet"
           }
          ],
          "choropleth": [
           {
            "colorbar": {
             "outlinewidth": 0,
             "ticks": ""
            },
            "type": "choropleth"
           }
          ],
          "contour": [
           {
            "colorbar": {
             "outlinewidth": 0,
             "ticks": ""
            },
            "colorscale": [
             [
              0,
              "#0d0887"
             ],
             [
              0.1111111111111111,
              "#46039f"
             ],
             [
              0.2222222222222222,
              "#7201a8"
             ],
             [
              0.3333333333333333,
              "#9c179e"
             ],
             [
              0.4444444444444444,
              "#bd3786"
             ],
             [
              0.5555555555555556,
              "#d8576b"
             ],
             [
              0.6666666666666666,
              "#ed7953"
             ],
             [
              0.7777777777777778,
              "#fb9f3a"
             ],
             [
              0.8888888888888888,
              "#fdca26"
             ],
             [
              1,
              "#f0f921"
             ]
            ],
            "type": "contour"
           }
          ],
          "contourcarpet": [
           {
            "colorbar": {
             "outlinewidth": 0,
             "ticks": ""
            },
            "type": "contourcarpet"
           }
          ],
          "heatmap": [
           {
            "colorbar": {
             "outlinewidth": 0,
             "ticks": ""
            },
            "colorscale": [
             [
              0,
              "#0d0887"
             ],
             [
              0.1111111111111111,
              "#46039f"
             ],
             [
              0.2222222222222222,
              "#7201a8"
             ],
             [
              0.3333333333333333,
              "#9c179e"
             ],
             [
              0.4444444444444444,
              "#bd3786"
             ],
             [
              0.5555555555555556,
              "#d8576b"
             ],
             [
              0.6666666666666666,
              "#ed7953"
             ],
             [
              0.7777777777777778,
              "#fb9f3a"
             ],
             [
              0.8888888888888888,
              "#fdca26"
             ],
             [
              1,
              "#f0f921"
             ]
            ],
            "type": "heatmap"
           }
          ],
          "heatmapgl": [
           {
            "colorbar": {
             "outlinewidth": 0,
             "ticks": ""
            },
            "colorscale": [
             [
              0,
              "#0d0887"
             ],
             [
              0.1111111111111111,
              "#46039f"
             ],
             [
              0.2222222222222222,
              "#7201a8"
             ],
             [
              0.3333333333333333,
              "#9c179e"
             ],
             [
              0.4444444444444444,
              "#bd3786"
             ],
             [
              0.5555555555555556,
              "#d8576b"
             ],
             [
              0.6666666666666666,
              "#ed7953"
             ],
             [
              0.7777777777777778,
              "#fb9f3a"
             ],
             [
              0.8888888888888888,
              "#fdca26"
             ],
             [
              1,
              "#f0f921"
             ]
            ],
            "type": "heatmapgl"
           }
          ],
          "histogram": [
           {
            "marker": {
             "pattern": {
              "fillmode": "overlay",
              "size": 10,
              "solidity": 0.2
             }
            },
            "type": "histogram"
           }
          ],
          "histogram2d": [
           {
            "colorbar": {
             "outlinewidth": 0,
             "ticks": ""
            },
            "colorscale": [
             [
              0,
              "#0d0887"
             ],
             [
              0.1111111111111111,
              "#46039f"
             ],
             [
              0.2222222222222222,
              "#7201a8"
             ],
             [
              0.3333333333333333,
              "#9c179e"
             ],
             [
              0.4444444444444444,
              "#bd3786"
             ],
             [
              0.5555555555555556,
              "#d8576b"
             ],
             [
              0.6666666666666666,
              "#ed7953"
             ],
             [
              0.7777777777777778,
              "#fb9f3a"
             ],
             [
              0.8888888888888888,
              "#fdca26"
             ],
             [
              1,
              "#f0f921"
             ]
            ],
            "type": "histogram2d"
           }
          ],
          "histogram2dcontour": [
           {
            "colorbar": {
             "outlinewidth": 0,
             "ticks": ""
            },
            "colorscale": [
             [
              0,
              "#0d0887"
             ],
             [
              0.1111111111111111,
              "#46039f"
             ],
             [
              0.2222222222222222,
              "#7201a8"
             ],
             [
              0.3333333333333333,
              "#9c179e"
             ],
             [
              0.4444444444444444,
              "#bd3786"
             ],
             [
              0.5555555555555556,
              "#d8576b"
             ],
             [
              0.6666666666666666,
              "#ed7953"
             ],
             [
              0.7777777777777778,
              "#fb9f3a"
             ],
             [
              0.8888888888888888,
              "#fdca26"
             ],
             [
              1,
              "#f0f921"
             ]
            ],
            "type": "histogram2dcontour"
           }
          ],
          "mesh3d": [
           {
            "colorbar": {
             "outlinewidth": 0,
             "ticks": ""
            },
            "type": "mesh3d"
           }
          ],
          "parcoords": [
           {
            "line": {
             "colorbar": {
              "outlinewidth": 0,
              "ticks": ""
             }
            },
            "type": "parcoords"
           }
          ],
          "pie": [
           {
            "automargin": true,
            "type": "pie"
           }
          ],
          "scatter": [
           {
            "fillpattern": {
             "fillmode": "overlay",
             "size": 10,
             "solidity": 0.2
            },
            "type": "scatter"
           }
          ],
          "scatter3d": [
           {
            "line": {
             "colorbar": {
              "outlinewidth": 0,
              "ticks": ""
             }
            },
            "marker": {
             "colorbar": {
              "outlinewidth": 0,
              "ticks": ""
             }
            },
            "type": "scatter3d"
           }
          ],
          "scattercarpet": [
           {
            "marker": {
             "colorbar": {
              "outlinewidth": 0,
              "ticks": ""
             }
            },
            "type": "scattercarpet"
           }
          ],
          "scattergeo": [
           {
            "marker": {
             "colorbar": {
              "outlinewidth": 0,
              "ticks": ""
             }
            },
            "type": "scattergeo"
           }
          ],
          "scattergl": [
           {
            "marker": {
             "colorbar": {
              "outlinewidth": 0,
              "ticks": ""
             }
            },
            "type": "scattergl"
           }
          ],
          "scattermapbox": [
           {
            "marker": {
             "colorbar": {
              "outlinewidth": 0,
              "ticks": ""
             }
            },
            "type": "scattermapbox"
           }
          ],
          "scatterpolar": [
           {
            "marker": {
             "colorbar": {
              "outlinewidth": 0,
              "ticks": ""
             }
            },
            "type": "scatterpolar"
           }
          ],
          "scatterpolargl": [
           {
            "marker": {
             "colorbar": {
              "outlinewidth": 0,
              "ticks": ""
             }
            },
            "type": "scatterpolargl"
           }
          ],
          "scatterternary": [
           {
            "marker": {
             "colorbar": {
              "outlinewidth": 0,
              "ticks": ""
             }
            },
            "type": "scatterternary"
           }
          ],
          "surface": [
           {
            "colorbar": {
             "outlinewidth": 0,
             "ticks": ""
            },
            "colorscale": [
             [
              0,
              "#0d0887"
             ],
             [
              0.1111111111111111,
              "#46039f"
             ],
             [
              0.2222222222222222,
              "#7201a8"
             ],
             [
              0.3333333333333333,
              "#9c179e"
             ],
             [
              0.4444444444444444,
              "#bd3786"
             ],
             [
              0.5555555555555556,
              "#d8576b"
             ],
             [
              0.6666666666666666,
              "#ed7953"
             ],
             [
              0.7777777777777778,
              "#fb9f3a"
             ],
             [
              0.8888888888888888,
              "#fdca26"
             ],
             [
              1,
              "#f0f921"
             ]
            ],
            "type": "surface"
           }
          ],
          "table": [
           {
            "cells": {
             "fill": {
              "color": "#EBF0F8"
             },
             "line": {
              "color": "white"
             }
            },
            "header": {
             "fill": {
              "color": "#C8D4E3"
             },
             "line": {
              "color": "white"
             }
            },
            "type": "table"
           }
          ]
         },
         "layout": {
          "annotationdefaults": {
           "arrowcolor": "#2a3f5f",
           "arrowhead": 0,
           "arrowwidth": 1
          },
          "autotypenumbers": "strict",
          "coloraxis": {
           "colorbar": {
            "outlinewidth": 0,
            "ticks": ""
           }
          },
          "colorscale": {
           "diverging": [
            [
             0,
             "#8e0152"
            ],
            [
             0.1,
             "#c51b7d"
            ],
            [
             0.2,
             "#de77ae"
            ],
            [
             0.3,
             "#f1b6da"
            ],
            [
             0.4,
             "#fde0ef"
            ],
            [
             0.5,
             "#f7f7f7"
            ],
            [
             0.6,
             "#e6f5d0"
            ],
            [
             0.7,
             "#b8e186"
            ],
            [
             0.8,
             "#7fbc41"
            ],
            [
             0.9,
             "#4d9221"
            ],
            [
             1,
             "#276419"
            ]
           ],
           "sequential": [
            [
             0,
             "#0d0887"
            ],
            [
             0.1111111111111111,
             "#46039f"
            ],
            [
             0.2222222222222222,
             "#7201a8"
            ],
            [
             0.3333333333333333,
             "#9c179e"
            ],
            [
             0.4444444444444444,
             "#bd3786"
            ],
            [
             0.5555555555555556,
             "#d8576b"
            ],
            [
             0.6666666666666666,
             "#ed7953"
            ],
            [
             0.7777777777777778,
             "#fb9f3a"
            ],
            [
             0.8888888888888888,
             "#fdca26"
            ],
            [
             1,
             "#f0f921"
            ]
           ],
           "sequentialminus": [
            [
             0,
             "#0d0887"
            ],
            [
             0.1111111111111111,
             "#46039f"
            ],
            [
             0.2222222222222222,
             "#7201a8"
            ],
            [
             0.3333333333333333,
             "#9c179e"
            ],
            [
             0.4444444444444444,
             "#bd3786"
            ],
            [
             0.5555555555555556,
             "#d8576b"
            ],
            [
             0.6666666666666666,
             "#ed7953"
            ],
            [
             0.7777777777777778,
             "#fb9f3a"
            ],
            [
             0.8888888888888888,
             "#fdca26"
            ],
            [
             1,
             "#f0f921"
            ]
           ]
          },
          "colorway": [
           "#636efa",
           "#EF553B",
           "#00cc96",
           "#ab63fa",
           "#FFA15A",
           "#19d3f3",
           "#FF6692",
           "#B6E880",
           "#FF97FF",
           "#FECB52"
          ],
          "font": {
           "color": "#2a3f5f"
          },
          "geo": {
           "bgcolor": "white",
           "lakecolor": "white",
           "landcolor": "#E5ECF6",
           "showlakes": true,
           "showland": true,
           "subunitcolor": "white"
          },
          "hoverlabel": {
           "align": "left"
          },
          "hovermode": "closest",
          "mapbox": {
           "style": "light"
          },
          "paper_bgcolor": "white",
          "plot_bgcolor": "#E5ECF6",
          "polar": {
           "angularaxis": {
            "gridcolor": "white",
            "linecolor": "white",
            "ticks": ""
           },
           "bgcolor": "#E5ECF6",
           "radialaxis": {
            "gridcolor": "white",
            "linecolor": "white",
            "ticks": ""
           }
          },
          "scene": {
           "xaxis": {
            "backgroundcolor": "#E5ECF6",
            "gridcolor": "white",
            "gridwidth": 2,
            "linecolor": "white",
            "showbackground": true,
            "ticks": "",
            "zerolinecolor": "white"
           },
           "yaxis": {
            "backgroundcolor": "#E5ECF6",
            "gridcolor": "white",
            "gridwidth": 2,
            "linecolor": "white",
            "showbackground": true,
            "ticks": "",
            "zerolinecolor": "white"
           },
           "zaxis": {
            "backgroundcolor": "#E5ECF6",
            "gridcolor": "white",
            "gridwidth": 2,
            "linecolor": "white",
            "showbackground": true,
            "ticks": "",
            "zerolinecolor": "white"
           }
          },
          "shapedefaults": {
           "line": {
            "color": "#2a3f5f"
           }
          },
          "ternary": {
           "aaxis": {
            "gridcolor": "white",
            "linecolor": "white",
            "ticks": ""
           },
           "baxis": {
            "gridcolor": "white",
            "linecolor": "white",
            "ticks": ""
           },
           "bgcolor": "#E5ECF6",
           "caxis": {
            "gridcolor": "white",
            "linecolor": "white",
            "ticks": ""
           }
          },
          "title": {
           "x": 0.05
          },
          "xaxis": {
           "automargin": true,
           "gridcolor": "white",
           "linecolor": "white",
           "ticks": "",
           "title": {
            "standoff": 15
           },
           "zerolinecolor": "white",
           "zerolinewidth": 2
          },
          "yaxis": {
           "automargin": true,
           "gridcolor": "white",
           "linecolor": "white",
           "ticks": "",
           "title": {
            "standoff": 15
           },
           "zerolinecolor": "white",
           "zerolinewidth": 2
          }
         }
        },
        "title": {
         "font": {
          "size": 30
         },
         "text": "<b>Title</b>",
         "x": 0.5
        },
        "width": 800,
        "xaxis": {
         "anchor": "y",
         "domain": [
          0,
          1
         ],
         "tickangle": -90
        },
        "yaxis": {
         "anchor": "x",
         "domain": [
          0,
          1
         ]
        }
       }
      }
     },
     "metadata": {},
     "output_type": "display_data"
    }
   ],
   "source": [
    "fig = make_subplots(\n",
    "    rows=1, cols=1,\n",
    "    specs=[\n",
    "        [{'type': 'scatter'}]\n",
    "    ]\n",
    ")\n",
    "\n",
    "fx1 = ff.create_distplot([y], ['distplot'], curve_type='kde')\n",
    "fig.add_trace(\n",
    "    go.Scatter(x=fx1.data[1]['x'], y=fx1.data[1]['y'], name='target'),\n",
    "    row=1, col=1\n",
    ")\n",
    "\n",
    "fx1 = ff.create_distplot([model.predict(X).squeeze()], ['distplot'], curve_type='kde')\n",
    "fig.add_trace(\n",
    "    go.Scatter(x=fx1.data[1]['x'], y=fx1.data[1]['y'], name='prediction'),\n",
    "    row=1, col=1\n",
    ")\n",
    "\n",
    "fig.update_layout(\n",
    "    height=800, \n",
    "    width=800,\n",
    "    title_text=\"<b>Title</b>\",\n",
    "    title_font_size=30,\n",
    "    xaxis_tickangle=-90,\n",
    "    title_x=0.5,\n",
    ")\n",
    "fig.show()"
   ]
  },
  {
   "cell_type": "markdown",
   "metadata": {},
   "source": [
    "### Visualize the MSE"
   ]
  },
  {
   "cell_type": "code",
   "execution_count": 61,
   "metadata": {},
   "outputs": [
    {
     "data": {
      "text/html": [
       "<div>\n",
       "<style scoped>\n",
       "    .dataframe tbody tr th:only-of-type {\n",
       "        vertical-align: middle;\n",
       "    }\n",
       "\n",
       "    .dataframe tbody tr th {\n",
       "        vertical-align: top;\n",
       "    }\n",
       "\n",
       "    .dataframe thead th {\n",
       "        text-align: right;\n",
       "    }\n",
       "</style>\n",
       "<table border=\"1\" class=\"dataframe\">\n",
       "  <thead>\n",
       "    <tr style=\"text-align: right;\">\n",
       "      <th></th>\n",
       "      <th>model</th>\n",
       "      <th>rmse</th>\n",
       "    </tr>\n",
       "  </thead>\n",
       "  <tbody>\n",
       "    <tr>\n",
       "      <th>0</th>\n",
       "      <td>Ridge</td>\n",
       "      <td>119.959384</td>\n",
       "    </tr>\n",
       "    <tr>\n",
       "      <th>1</th>\n",
       "      <td>Lasso</td>\n",
       "      <td>120.008929</td>\n",
       "    </tr>\n",
       "    <tr>\n",
       "      <th>2</th>\n",
       "      <td>RandomForestRegressor</td>\n",
       "      <td>51.124218</td>\n",
       "    </tr>\n",
       "    <tr>\n",
       "      <th>3</th>\n",
       "      <td>XGBRegressor</td>\n",
       "      <td>28.402548</td>\n",
       "    </tr>\n",
       "    <tr>\n",
       "      <th>4</th>\n",
       "      <td>LGBMRegressor</td>\n",
       "      <td>35.042682</td>\n",
       "    </tr>\n",
       "    <tr>\n",
       "      <th>5</th>\n",
       "      <td>GradientBoostingRegressor</td>\n",
       "      <td>81.722603</td>\n",
       "    </tr>\n",
       "  </tbody>\n",
       "</table>\n",
       "</div>"
      ],
      "text/plain": [
       "                       model        rmse\n",
       "0                      Ridge  119.959384\n",
       "1                      Lasso  120.008929\n",
       "2      RandomForestRegressor   51.124218\n",
       "3               XGBRegressor   28.402548\n",
       "4              LGBMRegressor   35.042682\n",
       "5  GradientBoostingRegressor   81.722603"
      ]
     },
     "execution_count": 61,
     "metadata": {},
     "output_type": "execute_result"
    }
   ],
   "source": [
    "rmse_nodish_per_type = pd.DataFrame.from_records([\n",
    "    {'model': 'Ridge', 'rmse': 170.33021265443364},\n",
    "    {'model': 'Lasso', 'rmse': 170.40908480245872},\n",
    "    {'model': 'RandomForestRegressor', 'rmse': 150.18939825979098},\n",
    "    {'model': 'XGBRegressor', 'rmse': 146.5323867897732},\n",
    "    {'model': 'LGBMRegressor', 'rmse': 164.63485166495823},\n",
    "    {'model': 'GradientBoostingRegressor', 'rmse': 156.78630967346677},\n",
    "])\n",
    "rmse_dishname = pd.DataFrame.from_records([\n",
    "    {'model': 'Ridge', 'rmse': 119.95938412183764},\n",
    "    {'model': 'Lasso', 'rmse': 120.00892872466535},\n",
    "    {'model': 'RandomForestRegressor', 'rmse': 51.124217877058435},\n",
    "    {'model': 'XGBRegressor', 'rmse': 28.40254835394544},\n",
    "    {'model': 'LGBMRegressor', 'rmse': 35.04268165926529},\n",
    "    {'model': 'GradientBoostingRegressor', 'rmse': 81.7226033861491},\n",
    "])\n",
    "\n",
    "rmse_dishname"
   ]
  },
  {
   "cell_type": "code",
   "execution_count": 70,
   "metadata": {},
   "outputs": [
    {
     "data": {
      "application/vnd.plotly.v1+json": {
       "config": {
        "plotlyServerURL": "https://plot.ly"
       },
       "data": [
        {
         "name": "No. dishes per type",
         "type": "bar",
         "x": [
          "Ridge",
          "Lasso",
          "RandomForestRegressor",
          "XGBRegressor",
          "LGBMRegressor",
          "GradientBoostingRegressor"
         ],
         "xaxis": "x",
         "y": [
          170.33021265443364,
          170.40908480245872,
          150.18939825979098,
          146.5323867897732,
          164.63485166495823,
          156.78630967346677
         ],
         "yaxis": "y"
        },
        {
         "name": "Dish name",
         "type": "bar",
         "x": [
          "Ridge",
          "Lasso",
          "RandomForestRegressor",
          "XGBRegressor",
          "LGBMRegressor",
          "GradientBoostingRegressor"
         ],
         "xaxis": "x",
         "y": [
          119.95938412183764,
          120.00892872466535,
          51.124217877058435,
          28.40254835394544,
          35.04268165926529,
          81.7226033861491
         ],
         "yaxis": "y"
        }
       ],
       "layout": {
        "height": 600,
        "template": {
         "data": {
          "bar": [
           {
            "error_x": {
             "color": "#2a3f5f"
            },
            "error_y": {
             "color": "#2a3f5f"
            },
            "marker": {
             "line": {
              "color": "#E5ECF6",
              "width": 0.5
             },
             "pattern": {
              "fillmode": "overlay",
              "size": 10,
              "solidity": 0.2
             }
            },
            "type": "bar"
           }
          ],
          "barpolar": [
           {
            "marker": {
             "line": {
              "color": "#E5ECF6",
              "width": 0.5
             },
             "pattern": {
              "fillmode": "overlay",
              "size": 10,
              "solidity": 0.2
             }
            },
            "type": "barpolar"
           }
          ],
          "carpet": [
           {
            "aaxis": {
             "endlinecolor": "#2a3f5f",
             "gridcolor": "white",
             "linecolor": "white",
             "minorgridcolor": "white",
             "startlinecolor": "#2a3f5f"
            },
            "baxis": {
             "endlinecolor": "#2a3f5f",
             "gridcolor": "white",
             "linecolor": "white",
             "minorgridcolor": "white",
             "startlinecolor": "#2a3f5f"
            },
            "type": "carpet"
           }
          ],
          "choropleth": [
           {
            "colorbar": {
             "outlinewidth": 0,
             "ticks": ""
            },
            "type": "choropleth"
           }
          ],
          "contour": [
           {
            "colorbar": {
             "outlinewidth": 0,
             "ticks": ""
            },
            "colorscale": [
             [
              0,
              "#0d0887"
             ],
             [
              0.1111111111111111,
              "#46039f"
             ],
             [
              0.2222222222222222,
              "#7201a8"
             ],
             [
              0.3333333333333333,
              "#9c179e"
             ],
             [
              0.4444444444444444,
              "#bd3786"
             ],
             [
              0.5555555555555556,
              "#d8576b"
             ],
             [
              0.6666666666666666,
              "#ed7953"
             ],
             [
              0.7777777777777778,
              "#fb9f3a"
             ],
             [
              0.8888888888888888,
              "#fdca26"
             ],
             [
              1,
              "#f0f921"
             ]
            ],
            "type": "contour"
           }
          ],
          "contourcarpet": [
           {
            "colorbar": {
             "outlinewidth": 0,
             "ticks": ""
            },
            "type": "contourcarpet"
           }
          ],
          "heatmap": [
           {
            "colorbar": {
             "outlinewidth": 0,
             "ticks": ""
            },
            "colorscale": [
             [
              0,
              "#0d0887"
             ],
             [
              0.1111111111111111,
              "#46039f"
             ],
             [
              0.2222222222222222,
              "#7201a8"
             ],
             [
              0.3333333333333333,
              "#9c179e"
             ],
             [
              0.4444444444444444,
              "#bd3786"
             ],
             [
              0.5555555555555556,
              "#d8576b"
             ],
             [
              0.6666666666666666,
              "#ed7953"
             ],
             [
              0.7777777777777778,
              "#fb9f3a"
             ],
             [
              0.8888888888888888,
              "#fdca26"
             ],
             [
              1,
              "#f0f921"
             ]
            ],
            "type": "heatmap"
           }
          ],
          "heatmapgl": [
           {
            "colorbar": {
             "outlinewidth": 0,
             "ticks": ""
            },
            "colorscale": [
             [
              0,
              "#0d0887"
             ],
             [
              0.1111111111111111,
              "#46039f"
             ],
             [
              0.2222222222222222,
              "#7201a8"
             ],
             [
              0.3333333333333333,
              "#9c179e"
             ],
             [
              0.4444444444444444,
              "#bd3786"
             ],
             [
              0.5555555555555556,
              "#d8576b"
             ],
             [
              0.6666666666666666,
              "#ed7953"
             ],
             [
              0.7777777777777778,
              "#fb9f3a"
             ],
             [
              0.8888888888888888,
              "#fdca26"
             ],
             [
              1,
              "#f0f921"
             ]
            ],
            "type": "heatmapgl"
           }
          ],
          "histogram": [
           {
            "marker": {
             "pattern": {
              "fillmode": "overlay",
              "size": 10,
              "solidity": 0.2
             }
            },
            "type": "histogram"
           }
          ],
          "histogram2d": [
           {
            "colorbar": {
             "outlinewidth": 0,
             "ticks": ""
            },
            "colorscale": [
             [
              0,
              "#0d0887"
             ],
             [
              0.1111111111111111,
              "#46039f"
             ],
             [
              0.2222222222222222,
              "#7201a8"
             ],
             [
              0.3333333333333333,
              "#9c179e"
             ],
             [
              0.4444444444444444,
              "#bd3786"
             ],
             [
              0.5555555555555556,
              "#d8576b"
             ],
             [
              0.6666666666666666,
              "#ed7953"
             ],
             [
              0.7777777777777778,
              "#fb9f3a"
             ],
             [
              0.8888888888888888,
              "#fdca26"
             ],
             [
              1,
              "#f0f921"
             ]
            ],
            "type": "histogram2d"
           }
          ],
          "histogram2dcontour": [
           {
            "colorbar": {
             "outlinewidth": 0,
             "ticks": ""
            },
            "colorscale": [
             [
              0,
              "#0d0887"
             ],
             [
              0.1111111111111111,
              "#46039f"
             ],
             [
              0.2222222222222222,
              "#7201a8"
             ],
             [
              0.3333333333333333,
              "#9c179e"
             ],
             [
              0.4444444444444444,
              "#bd3786"
             ],
             [
              0.5555555555555556,
              "#d8576b"
             ],
             [
              0.6666666666666666,
              "#ed7953"
             ],
             [
              0.7777777777777778,
              "#fb9f3a"
             ],
             [
              0.8888888888888888,
              "#fdca26"
             ],
             [
              1,
              "#f0f921"
             ]
            ],
            "type": "histogram2dcontour"
           }
          ],
          "mesh3d": [
           {
            "colorbar": {
             "outlinewidth": 0,
             "ticks": ""
            },
            "type": "mesh3d"
           }
          ],
          "parcoords": [
           {
            "line": {
             "colorbar": {
              "outlinewidth": 0,
              "ticks": ""
             }
            },
            "type": "parcoords"
           }
          ],
          "pie": [
           {
            "automargin": true,
            "type": "pie"
           }
          ],
          "scatter": [
           {
            "fillpattern": {
             "fillmode": "overlay",
             "size": 10,
             "solidity": 0.2
            },
            "type": "scatter"
           }
          ],
          "scatter3d": [
           {
            "line": {
             "colorbar": {
              "outlinewidth": 0,
              "ticks": ""
             }
            },
            "marker": {
             "colorbar": {
              "outlinewidth": 0,
              "ticks": ""
             }
            },
            "type": "scatter3d"
           }
          ],
          "scattercarpet": [
           {
            "marker": {
             "colorbar": {
              "outlinewidth": 0,
              "ticks": ""
             }
            },
            "type": "scattercarpet"
           }
          ],
          "scattergeo": [
           {
            "marker": {
             "colorbar": {
              "outlinewidth": 0,
              "ticks": ""
             }
            },
            "type": "scattergeo"
           }
          ],
          "scattergl": [
           {
            "marker": {
             "colorbar": {
              "outlinewidth": 0,
              "ticks": ""
             }
            },
            "type": "scattergl"
           }
          ],
          "scattermapbox": [
           {
            "marker": {
             "colorbar": {
              "outlinewidth": 0,
              "ticks": ""
             }
            },
            "type": "scattermapbox"
           }
          ],
          "scatterpolar": [
           {
            "marker": {
             "colorbar": {
              "outlinewidth": 0,
              "ticks": ""
             }
            },
            "type": "scatterpolar"
           }
          ],
          "scatterpolargl": [
           {
            "marker": {
             "colorbar": {
              "outlinewidth": 0,
              "ticks": ""
             }
            },
            "type": "scatterpolargl"
           }
          ],
          "scatterternary": [
           {
            "marker": {
             "colorbar": {
              "outlinewidth": 0,
              "ticks": ""
             }
            },
            "type": "scatterternary"
           }
          ],
          "surface": [
           {
            "colorbar": {
             "outlinewidth": 0,
             "ticks": ""
            },
            "colorscale": [
             [
              0,
              "#0d0887"
             ],
             [
              0.1111111111111111,
              "#46039f"
             ],
             [
              0.2222222222222222,
              "#7201a8"
             ],
             [
              0.3333333333333333,
              "#9c179e"
             ],
             [
              0.4444444444444444,
              "#bd3786"
             ],
             [
              0.5555555555555556,
              "#d8576b"
             ],
             [
              0.6666666666666666,
              "#ed7953"
             ],
             [
              0.7777777777777778,
              "#fb9f3a"
             ],
             [
              0.8888888888888888,
              "#fdca26"
             ],
             [
              1,
              "#f0f921"
             ]
            ],
            "type": "surface"
           }
          ],
          "table": [
           {
            "cells": {
             "fill": {
              "color": "#EBF0F8"
             },
             "line": {
              "color": "white"
             }
            },
            "header": {
             "fill": {
              "color": "#C8D4E3"
             },
             "line": {
              "color": "white"
             }
            },
            "type": "table"
           }
          ]
         },
         "layout": {
          "annotationdefaults": {
           "arrowcolor": "#2a3f5f",
           "arrowhead": 0,
           "arrowwidth": 1
          },
          "autotypenumbers": "strict",
          "coloraxis": {
           "colorbar": {
            "outlinewidth": 0,
            "ticks": ""
           }
          },
          "colorscale": {
           "diverging": [
            [
             0,
             "#8e0152"
            ],
            [
             0.1,
             "#c51b7d"
            ],
            [
             0.2,
             "#de77ae"
            ],
            [
             0.3,
             "#f1b6da"
            ],
            [
             0.4,
             "#fde0ef"
            ],
            [
             0.5,
             "#f7f7f7"
            ],
            [
             0.6,
             "#e6f5d0"
            ],
            [
             0.7,
             "#b8e186"
            ],
            [
             0.8,
             "#7fbc41"
            ],
            [
             0.9,
             "#4d9221"
            ],
            [
             1,
             "#276419"
            ]
           ],
           "sequential": [
            [
             0,
             "#0d0887"
            ],
            [
             0.1111111111111111,
             "#46039f"
            ],
            [
             0.2222222222222222,
             "#7201a8"
            ],
            [
             0.3333333333333333,
             "#9c179e"
            ],
            [
             0.4444444444444444,
             "#bd3786"
            ],
            [
             0.5555555555555556,
             "#d8576b"
            ],
            [
             0.6666666666666666,
             "#ed7953"
            ],
            [
             0.7777777777777778,
             "#fb9f3a"
            ],
            [
             0.8888888888888888,
             "#fdca26"
            ],
            [
             1,
             "#f0f921"
            ]
           ],
           "sequentialminus": [
            [
             0,
             "#0d0887"
            ],
            [
             0.1111111111111111,
             "#46039f"
            ],
            [
             0.2222222222222222,
             "#7201a8"
            ],
            [
             0.3333333333333333,
             "#9c179e"
            ],
            [
             0.4444444444444444,
             "#bd3786"
            ],
            [
             0.5555555555555556,
             "#d8576b"
            ],
            [
             0.6666666666666666,
             "#ed7953"
            ],
            [
             0.7777777777777778,
             "#fb9f3a"
            ],
            [
             0.8888888888888888,
             "#fdca26"
            ],
            [
             1,
             "#f0f921"
            ]
           ]
          },
          "colorway": [
           "#636efa",
           "#EF553B",
           "#00cc96",
           "#ab63fa",
           "#FFA15A",
           "#19d3f3",
           "#FF6692",
           "#B6E880",
           "#FF97FF",
           "#FECB52"
          ],
          "font": {
           "color": "#2a3f5f"
          },
          "geo": {
           "bgcolor": "white",
           "lakecolor": "white",
           "landcolor": "#E5ECF6",
           "showlakes": true,
           "showland": true,
           "subunitcolor": "white"
          },
          "hoverlabel": {
           "align": "left"
          },
          "hovermode": "closest",
          "mapbox": {
           "style": "light"
          },
          "paper_bgcolor": "white",
          "plot_bgcolor": "#E5ECF6",
          "polar": {
           "angularaxis": {
            "gridcolor": "white",
            "linecolor": "white",
            "ticks": ""
           },
           "bgcolor": "#E5ECF6",
           "radialaxis": {
            "gridcolor": "white",
            "linecolor": "white",
            "ticks": ""
           }
          },
          "scene": {
           "xaxis": {
            "backgroundcolor": "#E5ECF6",
            "gridcolor": "white",
            "gridwidth": 2,
            "linecolor": "white",
            "showbackground": true,
            "ticks": "",
            "zerolinecolor": "white"
           },
           "yaxis": {
            "backgroundcolor": "#E5ECF6",
            "gridcolor": "white",
            "gridwidth": 2,
            "linecolor": "white",
            "showbackground": true,
            "ticks": "",
            "zerolinecolor": "white"
           },
           "zaxis": {
            "backgroundcolor": "#E5ECF6",
            "gridcolor": "white",
            "gridwidth": 2,
            "linecolor": "white",
            "showbackground": true,
            "ticks": "",
            "zerolinecolor": "white"
           }
          },
          "shapedefaults": {
           "line": {
            "color": "#2a3f5f"
           }
          },
          "ternary": {
           "aaxis": {
            "gridcolor": "white",
            "linecolor": "white",
            "ticks": ""
           },
           "baxis": {
            "gridcolor": "white",
            "linecolor": "white",
            "ticks": ""
           },
           "bgcolor": "#E5ECF6",
           "caxis": {
            "gridcolor": "white",
            "linecolor": "white",
            "ticks": ""
           }
          },
          "title": {
           "x": 0.05
          },
          "xaxis": {
           "automargin": true,
           "gridcolor": "white",
           "linecolor": "white",
           "ticks": "",
           "title": {
            "standoff": 15
           },
           "zerolinecolor": "white",
           "zerolinewidth": 2
          },
          "yaxis": {
           "automargin": true,
           "gridcolor": "white",
           "linecolor": "white",
           "ticks": "",
           "title": {
            "standoff": 15
           },
           "zerolinecolor": "white",
           "zerolinewidth": 2
          }
         }
        },
        "title": {
         "font": {
          "size": 18
         },
         "text": "<b>How powerful using dish name over no. dishes per type to predict the piece quantity</b>",
         "x": 0.5
        },
        "width": 800,
        "xaxis": {
         "anchor": "y",
         "domain": [
          0,
          1
         ],
         "tickangle": -90
        },
        "yaxis": {
         "anchor": "x",
         "domain": [
          0,
          1
         ]
        }
       }
      }
     },
     "metadata": {},
     "output_type": "display_data"
    }
   ],
   "source": [
    "fig = make_subplots(\n",
    "    rows=1, cols=1,\n",
    "    specs=[\n",
    "        [{'type': 'bar'}]\n",
    "    ]\n",
    ")\n",
    "\n",
    "fig.add_trace(\n",
    "    go.Bar(x=rmse_nodish_per_type['model'], y=rmse_nodish_per_type['rmse'], name='No. dishes per type'),\n",
    "    row=1, col=1\n",
    ")\n",
    "fig.add_trace(\n",
    "    go.Bar(x=rmse_dishname['model'], y=rmse_dishname['rmse'], name='Dish name'),\n",
    "    row=1, col=1\n",
    ")\n",
    "\n",
    "fig.update_layout(\n",
    "    height=600, \n",
    "    width=800,\n",
    "    title_text=\"<b>How powerful using dish name over no. dishes per type to predict the piece quantity</b>\",\n",
    "    title_font_size=18,\n",
    "    xaxis_tickangle=-90,\n",
    "    title_x=0.5,\n",
    ")\n",
    "fig.show()"
   ]
  }
 ],
 "metadata": {
  "kernelspec": {
   "display_name": "fw",
   "language": "python",
   "name": "python3"
  },
  "language_info": {
   "codemirror_mode": {
    "name": "ipython",
    "version": 3
   },
   "file_extension": ".py",
   "mimetype": "text/x-python",
   "name": "python",
   "nbconvert_exporter": "python",
   "pygments_lexer": "ipython3",
   "version": "3.9.19"
  }
 },
 "nbformat": 4,
 "nbformat_minor": 2
}
