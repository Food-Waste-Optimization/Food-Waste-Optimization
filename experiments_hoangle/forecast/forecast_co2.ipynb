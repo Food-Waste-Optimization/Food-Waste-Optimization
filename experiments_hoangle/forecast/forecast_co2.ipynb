{
 "cells": [
  {
   "cell_type": "code",
   "execution_count": 1,
   "metadata": {},
   "outputs": [
    {
     "name": "stdout",
     "output_type": "stream",
     "text": [
      "/home/hoanghu/projects/Food-Waste-Optimization\n"
     ]
    }
   ],
   "source": [
    "%cd ../"
   ]
  },
  {
   "cell_type": "code",
   "execution_count": 2,
   "metadata": {},
   "outputs": [],
   "source": [
    "from pathlib import Path\n",
    "\n",
    "import numpy as np\n",
    "import pandas as pd\n",
    "import plotly.graph_objects as go\n",
    "from plotly.subplots import make_subplots\n",
    "from xgboost import XGBRegressor\n",
    "from skl2onnx import to_onnx\n",
    "import onnxruntime as rt"
   ]
  },
  {
   "cell_type": "code",
   "execution_count": 3,
   "metadata": {},
   "outputs": [],
   "source": [
    "path_root_trained_model = Path(\"trained_models\")\n",
    "path_fact = \"rq co2 prediction/grouped_co2_df.csv\""
   ]
  },
  {
   "cell_type": "markdown",
   "metadata": {},
   "source": [
    "# Read data"
   ]
  },
  {
   "cell_type": "code",
   "execution_count": 4,
   "metadata": {},
   "outputs": [
    {
     "data": {
      "text/html": [
       "<div>\n",
       "<style scoped>\n",
       "    .dataframe tbody tr th:only-of-type {\n",
       "        vertical-align: middle;\n",
       "    }\n",
       "\n",
       "    .dataframe tbody tr th {\n",
       "        vertical-align: top;\n",
       "    }\n",
       "\n",
       "    .dataframe thead th {\n",
       "        text-align: right;\n",
       "    }\n",
       "</style>\n",
       "<table border=\"1\" class=\"dataframe\">\n",
       "  <thead>\n",
       "    <tr style=\"text-align: right;\">\n",
       "      <th></th>\n",
       "      <th>Date</th>\n",
       "      <th>Restaurant</th>\n",
       "      <th>num_fish</th>\n",
       "      <th>num_chicken</th>\n",
       "      <th>num_vegetarian</th>\n",
       "      <th>num_meat</th>\n",
       "      <th>pcs_Not Mapped</th>\n",
       "      <th>num_vegan</th>\n",
       "      <th>carbon_emissions_sum</th>\n",
       "    </tr>\n",
       "  </thead>\n",
       "  <tbody>\n",
       "    <tr>\n",
       "      <th>0</th>\n",
       "      <td>2023-01-02</td>\n",
       "      <td>600 Chemicum</td>\n",
       "      <td>85.0</td>\n",
       "      <td>0.0</td>\n",
       "      <td>0.0</td>\n",
       "      <td>171.0</td>\n",
       "      <td>0.0</td>\n",
       "      <td>91.0</td>\n",
       "      <td>273.82</td>\n",
       "    </tr>\n",
       "    <tr>\n",
       "      <th>1</th>\n",
       "      <td>2023-01-03</td>\n",
       "      <td>600 Chemicum</td>\n",
       "      <td>163.0</td>\n",
       "      <td>0.0</td>\n",
       "      <td>32.0</td>\n",
       "      <td>78.0</td>\n",
       "      <td>0.0</td>\n",
       "      <td>120.0</td>\n",
       "      <td>275.97</td>\n",
       "    </tr>\n",
       "    <tr>\n",
       "      <th>2</th>\n",
       "      <td>2023-01-04</td>\n",
       "      <td>600 Chemicum</td>\n",
       "      <td>70.0</td>\n",
       "      <td>0.0</td>\n",
       "      <td>0.0</td>\n",
       "      <td>218.0</td>\n",
       "      <td>0.0</td>\n",
       "      <td>137.0</td>\n",
       "      <td>246.55</td>\n",
       "    </tr>\n",
       "    <tr>\n",
       "      <th>3</th>\n",
       "      <td>2023-01-05</td>\n",
       "      <td>600 Chemicum</td>\n",
       "      <td>232.0</td>\n",
       "      <td>85.0</td>\n",
       "      <td>0.0</td>\n",
       "      <td>2.0</td>\n",
       "      <td>0.0</td>\n",
       "      <td>178.0</td>\n",
       "      <td>298.02</td>\n",
       "    </tr>\n",
       "    <tr>\n",
       "      <th>4</th>\n",
       "      <td>2023-01-09</td>\n",
       "      <td>600 Chemicum</td>\n",
       "      <td>107.0</td>\n",
       "      <td>0.0</td>\n",
       "      <td>0.0</td>\n",
       "      <td>283.0</td>\n",
       "      <td>0.0</td>\n",
       "      <td>216.0</td>\n",
       "      <td>402.71</td>\n",
       "    </tr>\n",
       "  </tbody>\n",
       "</table>\n",
       "</div>"
      ],
      "text/plain": [
       "         Date    Restaurant  num_fish  num_chicken  num_vegetarian  num_meat  \\\n",
       "0  2023-01-02  600 Chemicum      85.0          0.0             0.0     171.0   \n",
       "1  2023-01-03  600 Chemicum     163.0          0.0            32.0      78.0   \n",
       "2  2023-01-04  600 Chemicum      70.0          0.0             0.0     218.0   \n",
       "3  2023-01-05  600 Chemicum     232.0         85.0             0.0       2.0   \n",
       "4  2023-01-09  600 Chemicum     107.0          0.0             0.0     283.0   \n",
       "\n",
       "   pcs_Not Mapped  num_vegan  carbon_emissions_sum  \n",
       "0             0.0       91.0                273.82  \n",
       "1             0.0      120.0                275.97  \n",
       "2             0.0      137.0                246.55  \n",
       "3             0.0      178.0                298.02  \n",
       "4             0.0      216.0                402.71  "
      ]
     },
     "execution_count": 4,
     "metadata": {},
     "output_type": "execute_result"
    }
   ],
   "source": [
    "raw = pd.read_csv(path_fact)\n",
    "\n",
    "raw.head()"
   ]
  },
  {
   "cell_type": "markdown",
   "metadata": {},
   "source": [
    "# Data processing"
   ]
  },
  {
   "cell_type": "code",
   "execution_count": 5,
   "metadata": {},
   "outputs": [
    {
     "data": {
      "text/html": [
       "<div>\n",
       "<style scoped>\n",
       "    .dataframe tbody tr th:only-of-type {\n",
       "        vertical-align: middle;\n",
       "    }\n",
       "\n",
       "    .dataframe tbody tr th {\n",
       "        vertical-align: top;\n",
       "    }\n",
       "\n",
       "    .dataframe thead th {\n",
       "        text-align: right;\n",
       "    }\n",
       "</style>\n",
       "<table border=\"1\" class=\"dataframe\">\n",
       "  <thead>\n",
       "    <tr style=\"text-align: right;\">\n",
       "      <th></th>\n",
       "      <th>Date</th>\n",
       "      <th>Restaurant</th>\n",
       "      <th>num_fish</th>\n",
       "      <th>num_chicken</th>\n",
       "      <th>num_vegetarian</th>\n",
       "      <th>num_meat</th>\n",
       "      <th>pcs_Not Mapped</th>\n",
       "      <th>num_vegan</th>\n",
       "      <th>carbon_emissions_sum</th>\n",
       "    </tr>\n",
       "  </thead>\n",
       "  <tbody>\n",
       "    <tr>\n",
       "      <th>0</th>\n",
       "      <td>2023-01-02</td>\n",
       "      <td>Chemicum</td>\n",
       "      <td>85.0</td>\n",
       "      <td>0.0</td>\n",
       "      <td>0.0</td>\n",
       "      <td>171.0</td>\n",
       "      <td>0.0</td>\n",
       "      <td>91.0</td>\n",
       "      <td>273.82</td>\n",
       "    </tr>\n",
       "    <tr>\n",
       "      <th>1</th>\n",
       "      <td>2023-01-03</td>\n",
       "      <td>Chemicum</td>\n",
       "      <td>163.0</td>\n",
       "      <td>0.0</td>\n",
       "      <td>32.0</td>\n",
       "      <td>78.0</td>\n",
       "      <td>0.0</td>\n",
       "      <td>120.0</td>\n",
       "      <td>275.97</td>\n",
       "    </tr>\n",
       "    <tr>\n",
       "      <th>2</th>\n",
       "      <td>2023-01-04</td>\n",
       "      <td>Chemicum</td>\n",
       "      <td>70.0</td>\n",
       "      <td>0.0</td>\n",
       "      <td>0.0</td>\n",
       "      <td>218.0</td>\n",
       "      <td>0.0</td>\n",
       "      <td>137.0</td>\n",
       "      <td>246.55</td>\n",
       "    </tr>\n",
       "    <tr>\n",
       "      <th>3</th>\n",
       "      <td>2023-01-05</td>\n",
       "      <td>Chemicum</td>\n",
       "      <td>232.0</td>\n",
       "      <td>85.0</td>\n",
       "      <td>0.0</td>\n",
       "      <td>2.0</td>\n",
       "      <td>0.0</td>\n",
       "      <td>178.0</td>\n",
       "      <td>298.02</td>\n",
       "    </tr>\n",
       "    <tr>\n",
       "      <th>4</th>\n",
       "      <td>2023-01-09</td>\n",
       "      <td>Chemicum</td>\n",
       "      <td>107.0</td>\n",
       "      <td>0.0</td>\n",
       "      <td>0.0</td>\n",
       "      <td>283.0</td>\n",
       "      <td>0.0</td>\n",
       "      <td>216.0</td>\n",
       "      <td>402.71</td>\n",
       "    </tr>\n",
       "  </tbody>\n",
       "</table>\n",
       "</div>"
      ],
      "text/plain": [
       "         Date Restaurant  num_fish  num_chicken  num_vegetarian  num_meat  \\\n",
       "0  2023-01-02   Chemicum      85.0          0.0             0.0     171.0   \n",
       "1  2023-01-03   Chemicum     163.0          0.0            32.0      78.0   \n",
       "2  2023-01-04   Chemicum      70.0          0.0             0.0     218.0   \n",
       "3  2023-01-05   Chemicum     232.0         85.0             0.0       2.0   \n",
       "4  2023-01-09   Chemicum     107.0          0.0             0.0     283.0   \n",
       "\n",
       "   pcs_Not Mapped  num_vegan  carbon_emissions_sum  \n",
       "0             0.0       91.0                273.82  \n",
       "1             0.0      120.0                275.97  \n",
       "2             0.0      137.0                246.55  \n",
       "3             0.0      178.0                298.02  \n",
       "4             0.0      216.0                402.71  "
      ]
     },
     "execution_count": 5,
     "metadata": {},
     "output_type": "execute_result"
    }
   ],
   "source": [
    "data = raw.copy()\n",
    "\n",
    "data['Restaurant'] = data['Restaurant'].replace({\n",
    "    '600 Chemicum': 'Chemicum',\n",
    "    '610 Physicum': 'Physicum',\n",
    "    '620 Exactum': 'Exactum'\n",
    "})\n",
    "\n",
    "data.head()"
   ]
  },
  {
   "cell_type": "markdown",
   "metadata": {},
   "source": [
    "# Create regression model for each restaurant"
   ]
  },
  {
   "cell_type": "code",
   "execution_count": 6,
   "metadata": {},
   "outputs": [],
   "source": [
    "RESTAURANTS = data['Restaurant'].unique()\n",
    "cols_X = [\n",
    "    'num_fish',\n",
    "    'num_chicken',\n",
    "    'num_vegetarian',\n",
    "    'num_meat',\n",
    "    'num_vegan'\n",
    "]\n",
    "col_y = 'carbon_emissions_sum'"
   ]
  },
  {
   "cell_type": "code",
   "execution_count": 7,
   "metadata": {},
   "outputs": [],
   "source": [
    "for restaurant in RESTAURANTS:\n",
    "    # Get data for training\n",
    "    df = data[data['Restaurant'] == restaurant]\n",
    "    X, y = df[cols_X], df[col_y]\n",
    "\n",
    "    # Define and train model\n",
    "    regressor = XGBRegressor()\n",
    "    regressor.fit(X, y)\n",
    "\n",
    "    # Save model\n",
    "    path_model = path_root_trained_model / \"co2\" / f\"Aug21_XGBoost_{restaurant}.json\"\n",
    "    path_model.parent.mkdir(exist_ok=True, parents=True)\n",
    "\n",
    "    regressor.save_model(path_model)"
   ]
  },
  {
   "cell_type": "markdown",
   "metadata": {},
   "source": [
    "# Load model"
   ]
  },
  {
   "cell_type": "code",
   "execution_count": 9,
   "metadata": {},
   "outputs": [
    {
     "data": {
      "text/plain": [
       "array([299.29333], dtype=float32)"
      ]
     },
     "execution_count": 9,
     "metadata": {},
     "output_type": "execute_result"
    }
   ],
   "source": [
    "X = np.array([[\n",
    "    123, 123, 123, 123, 123\n",
    "]])\n",
    "\n",
    "regressor = XGBRegressor()\n",
    "regressor.load_model(path_model)\n",
    "\n",
    "regressor.predict(X)"
   ]
  },
  {
   "cell_type": "markdown",
   "metadata": {},
   "source": [
    "## Choose best model"
   ]
  },
  {
   "cell_type": "code",
   "execution_count": null,
   "metadata": {},
   "outputs": [],
   "source": [
    "models = {\n",
    "    'LinearRegression': 0.0,\n",
    "    'Ridge': 0.0,\n",
    "    'Lasso': 0.0,\n",
    "    'RandomForestRegressor': 0.0,\n",
    "    'GradientBoostingRegressor': 0.0,\n",
    "    'XGBRegressor': 0.0,\n",
    "    'LGBMRegressor': 0.0,\n",
    "    'CatBoostRegressor': 0.0,\n",
    "}\n",
    "\n",
    "\n",
    "# for restaurant in RESTAURANTS:\n",
    "#     break\n",
    "\n",
    "restaurant = \"Exactum\"\n",
    "\n",
    "restaurant = data[data['Restaurant'] == restaurant]\n",
    "\n",
    "X, y = restaurant[cols_X], restaurant[col_y]\n",
    "\n",
    "for model in models.keys():\n",
    "    regressor = eval(model)()\n",
    "    scores = cross_val_score(regressor, X, y, cv=5, scoring='neg_root_mean_squared_error')\n",
    "\n",
    "    models[model]= scores.mean().item()\n",
    "\n",
    "\n",
    "models"
   ]
  },
  {
   "cell_type": "markdown",
   "metadata": {},
   "source": [
    "## Prediction visualization"
   ]
  },
  {
   "cell_type": "code",
   "execution_count": null,
   "metadata": {},
   "outputs": [],
   "source": [
    "fig = make_subplots(\n",
    "    rows=1, cols=1,\n",
    "    specs=[\n",
    "        [{'type': 'scatter'}]\n",
    "    ]\n",
    ")\n",
    "\n",
    "fig.add_trace(\n",
    "    go.Scatter(y=regressor.predict(X), mode='lines', name='Prediction'),\n",
    "    row=1, col=1\n",
    ")\n",
    "fig.add_trace(\n",
    "    go.Scatter(y=y, mode='lines', name='Groundtruth'),\n",
    "    row=1, col=1\n",
    ")\n",
    "\n",
    "fig.update_layout(\n",
    "    height=800, \n",
    "    width=800,\n",
    "    title_text=f\"<b>{restaurant}</b>\",\n",
    "    title_font_size=30,\n",
    "    xaxis_tickangle=-90,\n",
    "    title_x=0.5,\n",
    ")\n",
    "fig.show()"
   ]
  }
 ],
 "metadata": {
  "kernelspec": {
   "display_name": "fw",
   "language": "python",
   "name": "python3"
  },
  "language_info": {
   "codemirror_mode": {
    "name": "ipython",
    "version": 3
   },
   "file_extension": ".py",
   "mimetype": "text/x-python",
   "name": "python",
   "nbconvert_exporter": "python",
   "pygments_lexer": "ipython3",
   "version": "3.9.19"
  }
 },
 "nbformat": 4,
 "nbformat_minor": 2
}
