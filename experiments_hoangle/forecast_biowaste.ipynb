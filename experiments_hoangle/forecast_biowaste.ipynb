{
 "cells": [
  {
   "cell_type": "code",
   "execution_count": 1,
   "metadata": {},
   "outputs": [
    {
     "name": "stdout",
     "output_type": "stream",
     "text": [
      "/home/hoanghu/projects/Food-Waste-Optimization\n"
     ]
    }
   ],
   "source": [
    "%cd ../"
   ]
  },
  {
   "cell_type": "code",
   "execution_count": 2,
   "metadata": {},
   "outputs": [],
   "source": [
    "from pathlib import Path\n",
    "import json\n",
    "\n",
    "import matplotlib.pyplot as plt\n",
    "import numpy as np\n",
    "import pandas as pd\n",
    "import seaborn as sns\n",
    "from sklearn.linear_model import LinearRegression, Lasso, Ridge\n",
    "from sklearn.ensemble import RandomForestRegressor, GradientBoostingRegressor\n",
    "from sklearn.neighbors import KNeighborsRegressor\n",
    "from xgboost import XGBRegressor\n",
    "from sklearn.multioutput import MultiOutputRegressor\n",
    "from sklearn.svm import SVR\n",
    "from sklearn.model_selection import KFold, GridSearchCV\n",
    "from sklearn import metrics\n",
    "from skl2onnx import to_onnx\n",
    "import onnxruntime as rt"
   ]
  },
  {
   "cell_type": "code",
   "execution_count": 3,
   "metadata": {},
   "outputs": [],
   "source": [
    "plt.style.use('seaborn-v0_8')\n",
    "plt.rcParams.update({'font.size': 8})"
   ]
  },
  {
   "cell_type": "code",
   "execution_count": 4,
   "metadata": {},
   "outputs": [],
   "source": [
    "path_root_trained_model = Path(\"trained_models\")\n",
    "path_dir_processed = Path(\"experiments_hoangle/processed\")\n",
    "\n",
    "path_fact = path_dir_processed / \"fact.csv\"\n",
    "path_metrics = path_dir_processed / \"metrics.csv\""
   ]
  },
  {
   "cell_type": "markdown",
   "metadata": {},
   "source": [
    "# Read dataset"
   ]
  },
  {
   "cell_type": "code",
   "execution_count": 5,
   "metadata": {},
   "outputs": [
    {
     "data": {
      "text/html": [
       "<div>\n",
       "<style scoped>\n",
       "    .dataframe tbody tr th:only-of-type {\n",
       "        vertical-align: middle;\n",
       "    }\n",
       "\n",
       "    .dataframe tbody tr th {\n",
       "        vertical-align: top;\n",
       "    }\n",
       "\n",
       "    .dataframe thead th {\n",
       "        text-align: right;\n",
       "    }\n",
       "</style>\n",
       "<table border=\"1\" class=\"dataframe\">\n",
       "  <thead>\n",
       "    <tr style=\"text-align: right;\">\n",
       "      <th></th>\n",
       "      <th>date</th>\n",
       "      <th>restaurant</th>\n",
       "      <th>num_fish</th>\n",
       "      <th>num_chicken</th>\n",
       "      <th>num_vegetarian</th>\n",
       "      <th>num_meat</th>\n",
       "      <th>num_NotMapped</th>\n",
       "      <th>num_vegan</th>\n",
       "      <th>num_customer_in</th>\n",
       "      <th>num_customer_out</th>\n",
       "      <th>num_rcpts</th>\n",
       "      <th>amnt_waste_customer</th>\n",
       "      <th>amnt_waste_coffee</th>\n",
       "      <th>amnt_waste_kitchen</th>\n",
       "      <th>amnt_waste_hall</th>\n",
       "    </tr>\n",
       "  </thead>\n",
       "  <tbody>\n",
       "    <tr>\n",
       "      <th>0</th>\n",
       "      <td>2023-01-02</td>\n",
       "      <td>Chemicum</td>\n",
       "      <td>85.0</td>\n",
       "      <td>0.0</td>\n",
       "      <td>0.0</td>\n",
       "      <td>171.0</td>\n",
       "      <td>1.0</td>\n",
       "      <td>91.0</td>\n",
       "      <td>NaN</td>\n",
       "      <td>NaN</td>\n",
       "      <td>272.0</td>\n",
       "      <td>4.70</td>\n",
       "      <td>1.2</td>\n",
       "      <td>12.0</td>\n",
       "      <td>0.0</td>\n",
       "    </tr>\n",
       "    <tr>\n",
       "      <th>1</th>\n",
       "      <td>2023-01-03</td>\n",
       "      <td>Chemicum</td>\n",
       "      <td>163.0</td>\n",
       "      <td>0.0</td>\n",
       "      <td>32.0</td>\n",
       "      <td>78.0</td>\n",
       "      <td>1.0</td>\n",
       "      <td>120.0</td>\n",
       "      <td>NaN</td>\n",
       "      <td>NaN</td>\n",
       "      <td>327.0</td>\n",
       "      <td>5.00</td>\n",
       "      <td>1.4</td>\n",
       "      <td>14.8</td>\n",
       "      <td>0.0</td>\n",
       "    </tr>\n",
       "    <tr>\n",
       "      <th>2</th>\n",
       "      <td>2023-01-04</td>\n",
       "      <td>Chemicum</td>\n",
       "      <td>70.0</td>\n",
       "      <td>0.0</td>\n",
       "      <td>0.0</td>\n",
       "      <td>218.0</td>\n",
       "      <td>3.0</td>\n",
       "      <td>137.0</td>\n",
       "      <td>NaN</td>\n",
       "      <td>NaN</td>\n",
       "      <td>351.0</td>\n",
       "      <td>4.15</td>\n",
       "      <td>4.0</td>\n",
       "      <td>7.1</td>\n",
       "      <td>0.0</td>\n",
       "    </tr>\n",
       "    <tr>\n",
       "      <th>3</th>\n",
       "      <td>2023-01-05</td>\n",
       "      <td>Chemicum</td>\n",
       "      <td>232.0</td>\n",
       "      <td>85.0</td>\n",
       "      <td>0.0</td>\n",
       "      <td>2.0</td>\n",
       "      <td>4.0</td>\n",
       "      <td>178.0</td>\n",
       "      <td>NaN</td>\n",
       "      <td>NaN</td>\n",
       "      <td>437.0</td>\n",
       "      <td>10.00</td>\n",
       "      <td>3.3</td>\n",
       "      <td>8.5</td>\n",
       "      <td>0.0</td>\n",
       "    </tr>\n",
       "    <tr>\n",
       "      <th>4</th>\n",
       "      <td>2023-01-06</td>\n",
       "      <td>Chemicum</td>\n",
       "      <td>NaN</td>\n",
       "      <td>NaN</td>\n",
       "      <td>NaN</td>\n",
       "      <td>NaN</td>\n",
       "      <td>NaN</td>\n",
       "      <td>NaN</td>\n",
       "      <td>NaN</td>\n",
       "      <td>NaN</td>\n",
       "      <td>NaN</td>\n",
       "      <td>NaN</td>\n",
       "      <td>NaN</td>\n",
       "      <td>NaN</td>\n",
       "      <td>NaN</td>\n",
       "    </tr>\n",
       "  </tbody>\n",
       "</table>\n",
       "</div>"
      ],
      "text/plain": [
       "        date restaurant  num_fish  num_chicken  num_vegetarian  num_meat  \\\n",
       "0 2023-01-02   Chemicum      85.0          0.0             0.0     171.0   \n",
       "1 2023-01-03   Chemicum     163.0          0.0            32.0      78.0   \n",
       "2 2023-01-04   Chemicum      70.0          0.0             0.0     218.0   \n",
       "3 2023-01-05   Chemicum     232.0         85.0             0.0       2.0   \n",
       "4 2023-01-06   Chemicum       NaN          NaN             NaN       NaN   \n",
       "\n",
       "   num_NotMapped  num_vegan  num_customer_in  num_customer_out  num_rcpts  \\\n",
       "0            1.0       91.0              NaN               NaN      272.0   \n",
       "1            1.0      120.0              NaN               NaN      327.0   \n",
       "2            3.0      137.0              NaN               NaN      351.0   \n",
       "3            4.0      178.0              NaN               NaN      437.0   \n",
       "4            NaN        NaN              NaN               NaN        NaN   \n",
       "\n",
       "   amnt_waste_customer  amnt_waste_coffee  amnt_waste_kitchen  amnt_waste_hall  \n",
       "0                 4.70                1.2                12.0              0.0  \n",
       "1                 5.00                1.4                14.8              0.0  \n",
       "2                 4.15                4.0                 7.1              0.0  \n",
       "3                10.00                3.3                 8.5              0.0  \n",
       "4                  NaN                NaN                 NaN              NaN  "
      ]
     },
     "execution_count": 5,
     "metadata": {},
     "output_type": "execute_result"
    }
   ],
   "source": [
    "raw = pd.read_csv(path_fact, header=0, parse_dates=['date'])\n",
    "\n",
    "raw.head(5)"
   ]
  },
  {
   "cell_type": "markdown",
   "metadata": {},
   "source": [
    "# Start experiments"
   ]
  },
  {
   "cell_type": "code",
   "execution_count": 6,
   "metadata": {},
   "outputs": [],
   "source": [
    "RESTAURANTS = raw['restaurant'].unique()\n",
    "cols_X = [\n",
    "    'num_fish',\n",
    "    'num_chicken',\n",
    "    'num_vegetarian',\n",
    "    'num_meat',\n",
    "    # 'num_NotMapped',\n",
    "    'num_vegan',\n",
    "]\n",
    "cols_y = [\n",
    "    'amnt_waste_customer',\n",
    "    # 'amnt_waste_coffee',\n",
    "    'amnt_waste_kitchen',\n",
    "    # 'amnt_waste_hall'\n",
    "]"
   ]
  },
  {
   "cell_type": "markdown",
   "metadata": {},
   "source": [
    "## 1. Select best model using KFold"
   ]
  },
  {
   "cell_type": "code",
   "execution_count": 7,
   "metadata": {},
   "outputs": [],
   "source": [
    "is_run_selection = False"
   ]
  },
  {
   "cell_type": "code",
   "execution_count": 8,
   "metadata": {},
   "outputs": [],
   "source": [
    "if is_run_selection is True:\n",
    "    results = []\n",
    "    for restaurant in RESTAURANTS:\n",
    "        # Prepare data\n",
    "        ## Extract X and y\n",
    "        data = raw[raw['restaurant'] == restaurant][['date', *cols_X, *cols_y]].set_index('date')\n",
    "\n",
    "        ## Remove rows full NaN\n",
    "        data = data[~data.isna().any(axis=1)]\n",
    "\n",
    "        X, y = data[cols_X], data[cols_y]\n",
    "\n",
    "        # Start cross-validation\n",
    "        kf = KFold(n_splits=8, shuffle=True)\n",
    "        models = {\n",
    "            'linear': LinearRegression(),\n",
    "            'lasso': Lasso(),\n",
    "            'ridge': Ridge(),\n",
    "            'rf': RandomForestRegressor(),\n",
    "            'gb': MultiOutputRegressor(GradientBoostingRegressor()),\n",
    "            'svm': MultiOutputRegressor(SVR()),\n",
    "            'xgb': XGBRegressor(),\n",
    "            'knn': KNeighborsRegressor(),\n",
    "            # 'voting': MultiOutputRegressor(VotingRegressor([\n",
    "            #     ('ridge', Ridge()),\n",
    "            #     ('svm', MultiOutputRegressor(SVR())),\n",
    "            #     ('knn', KNeighborsRegressor()),\n",
    "            #     ('rf', RandomForestRegressor()),\n",
    "            # ])),\n",
    "        }\n",
    "\n",
    "    \n",
    "        for name, regressor in models.items():\n",
    "            mse_vals = []\n",
    "            for train_idx, test_idx in kf.split(X, y):\n",
    "                regressor.fit(X.iloc[train_idx], y.iloc[train_idx])\n",
    "                y_test_pred = regressor.predict(X.iloc[test_idx])\n",
    "\n",
    "                mse = metrics.mean_squared_error(y.iloc[test_idx], y_test_pred, multioutput='raw_values')\n",
    "                mse_vals.append(mse)\n",
    "\n",
    "            result = np.vstack(mse_vals).mean(axis=0)\n",
    "            results.append({\n",
    "                'restaurant': restaurant,\n",
    "                'model': name,\n",
    "                'type': 'waste_customer',\n",
    "                'value': result[0]\n",
    "            })\n",
    "            results.append({\n",
    "                'restaurant': restaurant,\n",
    "                'model': name,\n",
    "                'type': 'waste_kitchen',\n",
    "                'value': result[1]\n",
    "            })\n",
    "\n",
    "    df_results = pd.DataFrame.from_records(results)\n",
    "    fig = plt.figure(figsize=(8, 12))\n",
    "    fig.subplots_adjust(wspace=0.3, hspace=0.3)\n",
    "\n",
    "    for i, restaurant in enumerate(RESTAURANTS):\n",
    "        df = df_results[df_results['restaurant'] == restaurant]\n",
    "\n",
    "        ax = fig.add_subplot(3, 1, i+1)\n",
    "        sns.barplot(df, hue='model', y='value', x='type', ax=ax)\n",
    "        ax.set_title(restaurant)\n"
   ]
  },
  {
   "cell_type": "markdown",
   "metadata": {},
   "source": [
    "## 2. Build model"
   ]
  },
  {
   "cell_type": "code",
   "execution_count": 9,
   "metadata": {},
   "outputs": [],
   "source": [
    "def tuning(X: pd.DataFrame, y: pd.DataFrame):\n",
    "    params_grid = {\n",
    "        'alpha': [1, 1e-2, 1e-3, 1e-4],\n",
    "        'max_iter': [100, 500, 1000, 1500, 2000],\n",
    "        'selection': ['cyclic', 'random']\n",
    "    }\n",
    "\n",
    "\n",
    "    grid_search = GridSearchCV(estimator=regressor, param_grid=params_grid, cv=5, scoring='neg_mean_squared_error')\n",
    "\n",
    "    # Fit the grid search to the data\n",
    "    grid_search.fit(X, y)\n",
    "\n",
    "    # Get the best model\n",
    "    best_model = grid_search.best_estimator_\n",
    "\n",
    "    return best_model\n",
    "\n",
    "is_fine_tune = True"
   ]
  },
  {
   "cell_type": "code",
   "execution_count": 10,
   "metadata": {},
   "outputs": [],
   "source": [
    "models = {}\n",
    "for restaurant in RESTAURANTS:\n",
    "    # Prepare data\n",
    "    ## Extract X and y\n",
    "    data = raw[raw['restaurant'] == restaurant][['date', *cols_X, *cols_y]].set_index('date')\n",
    "\n",
    "    ## Remove rows full NaN\n",
    "    data = data[~data.isna().any(axis=1)]\n",
    "\n",
    "    X, y = data[cols_X], data[cols_y]\n",
    "\n",
    "    # Build model\n",
    "    regressor = Lasso()\n",
    "    if is_fine_tune is True:\n",
    "        regressor = tuning(X, y)\n",
    "\n",
    "    regressor.fit(X, y)\n",
    "\n",
    "    # Store\n",
    "    models[restaurant] = regressor"
   ]
  },
  {
   "cell_type": "markdown",
   "metadata": {},
   "source": [
    "## 5. Predict"
   ]
  },
  {
   "cell_type": "code",
   "execution_count": 11,
   "metadata": {},
   "outputs": [],
   "source": [
    "Chemicum_fish = 85.0000\n",
    "Chemicum_chicken = 0.0000\n",
    "Chemicum_vegetarian = 0.0000\n",
    "Chemicum_meat = 17.0000\n",
    "Chemicum_vegan = 91.0000\n",
    "\n",
    "Physicum_fish = 1000.0001\n",
    "Physicum_chicken = 0.0001\n",
    "Physicum_vegetarian = 31.6001\n",
    "Physicum_meat = 1.2001\n",
    "Physicum_vegan = 0.0001\n",
    "\n",
    "Exactum_fish = 0.5001\n",
    "Exactum_chicken = 0.0001\n",
    "Exactum_vegetarian = 0.0001\n",
    "Exactum_meat = 0.0001\n",
    "Exactum_vegan = 0.0001"
   ]
  },
  {
   "cell_type": "code",
   "execution_count": 12,
   "metadata": {},
   "outputs": [
    {
     "data": {
      "text/plain": [
       "array([[4.09503505, 9.96202844]])"
      ]
     },
     "execution_count": 12,
     "metadata": {},
     "output_type": "execute_result"
    }
   ],
   "source": [
    "restaurant = 'Chemicum'\n",
    "regressor = models[restaurant]\n",
    "\n",
    "X_predict = pd.DataFrame({\n",
    "    'num_fish': [Chemicum_fish],\n",
    "    'num_chicken': [Chemicum_chicken],\n",
    "    'num_vegetarian': [Chemicum_vegetarian],\n",
    "    'num_meat': [Chemicum_meat],\n",
    "    'num_vegan': [Chemicum_vegan]\n",
    "})\n",
    "\n",
    "y_predict = regressor.predict(X_predict)\n",
    "y_predict"
   ]
  },
  {
   "cell_type": "markdown",
   "metadata": {},
   "source": [
    "## 6. Save model"
   ]
  },
  {
   "cell_type": "code",
   "execution_count": 20,
   "metadata": {},
   "outputs": [],
   "source": [
    "for restaurant in RESTAURANTS:\n",
    "    onx = to_onnx(models[restaurant], X[:1].to_numpy())\n",
    "\n",
    "    path_model = Path(f\"trained_models/biowaste/Jul24_Lasso_{restaurant}.onnx\")\n",
    "    with open(path_model, \"wb+\") as f:\n",
    "        f.write(onx.SerializeToString())"
   ]
  },
  {
   "cell_type": "markdown",
   "metadata": {},
   "source": [
    "# Load models"
   ]
  },
  {
   "cell_type": "code",
   "execution_count": 22,
   "metadata": {},
   "outputs": [],
   "source": [
    "model_sessions = {}\n",
    "\n",
    "for restaurant in RESTAURANTS:\n",
    "    path_model = Path(f\"trained_models/biowaste/Jul24_Lasso_{restaurant}.onnx\")\n",
    "\n",
    "    model_sessions[restaurant] = rt.InferenceSession(path_model, providers=[\"CPUExecutionProvider\"])"
   ]
  },
  {
   "cell_type": "code",
   "execution_count": 23,
   "metadata": {},
   "outputs": [
    {
     "data": {
      "text/plain": [
       "array([[4.09503505, 9.96202844]])"
      ]
     },
     "execution_count": 23,
     "metadata": {},
     "output_type": "execute_result"
    }
   ],
   "source": [
    "restaurant = \"Chemicum\"\n",
    "\n",
    "# Load model\n",
    "sess = model_sessions[restaurant]\n",
    "input_name = sess.get_inputs()[0].name\n",
    "label_name = sess.get_outputs()[0].name\n",
    "\n",
    "# Make prediction\n",
    "pred_onx = sess.run([label_name], {input_name: X_predict.to_numpy()})[0]\n",
    "\n",
    "pred_onx"
   ]
  },
  {
   "cell_type": "code",
   "execution_count": 26,
   "metadata": {},
   "outputs": [
    {
     "name": "stdout",
     "output_type": "stream",
     "text": [
      "{\n",
      "  \"2024-05-09\": {\n",
      "    \"date\": \"2024-05-09\",\n",
      "    \"Chemicum\": {\n",
      "      \"amnt_waste_customer\": 15.335807096971186,\n",
      "      \"amnt_waste_coffee\": 6.749373675160983,\n",
      "      \"amnt_waste_kitchen\": 13.120679698841172,\n",
      "      \"amnt_waste_hall\": 12.76089686219699\n",
      "    },\n",
      "    \"Physicum\": {\n",
      "      \"amnt_waste_customer\": -0.09098052978515625,\n",
      "      \"amnt_waste_coffee\": 11.28973388671875,\n",
      "      \"amnt_waste_kitchen\": 12.328250885009766,\n",
      "      \"amnt_waste_hall\": 0.17769622802734375\n",
      "    },\n",
      "    \"Exactum\": {\n",
      "      \"amnt_waste_customer\": 5.2109375,\n",
      "      \"amnt_waste_coffee\": 1.4091796875,\n",
      "      \"amnt_waste_kitchen\": 8.2734375,\n",
      "      \"amnt_waste_hall\": -1.39208984375\n",
      "    }\n",
      "  },\n",
      "  \"2024-05-10\": {\n",
      "    \"date\": \"2024-05-10\",\n",
      "    \"Chemicum\": {\n",
      "      \"amnt_waste_customer\": 14.879137084963158,\n",
      "      \"amnt_waste_coffee\": 8.28143831276184,\n",
      "      \"amnt_waste_kitchen\": 16.26109595145685,\n",
      "      \"amnt_waste_hall\": 14.719872271067954\n",
      "    },\n",
      "    \"Physicum\": {\n",
      "      \"amnt_waste_customer\": -0.07980728149414062,\n",
      "      \"amnt_waste_coffee\": 5.415985107421875,\n",
      "      \"amnt_waste_kitchen\": 8.903366088867188,\n",
      "      \"amnt_waste_hall\": -0.0002536773681640625\n",
      "    },\n",
      "    \"Exactum\": {\n",
      "      \"amnt_waste_customer\": 6.16015625,\n",
      "      \"amnt_waste_coffee\": 1.662109375,\n",
      "      \"amnt_waste_kitchen\": 8.9912109375,\n",
      "      \"amnt_waste_hall\": 0.842529296875\n",
      "    }\n",
      "  },\n",
      "  \"2024-05-13\": {\n",
      "    \"date\": \"2024-05-13\",\n",
      "    \"Chemicum\": {\n",
      "      \"amnt_waste_customer\": 14.45180416725687,\n",
      "      \"amnt_waste_coffee\": 4.500684489334251,\n",
      "      \"amnt_waste_kitchen\": 16.024479238556133,\n",
      "      \"amnt_waste_hall\": 11.181765612813841\n",
      "    },\n",
      "    \"Physicum\": {\n",
      "      \"amnt_waste_customer\": 0.04548168182373047,\n",
      "      \"amnt_waste_coffee\": 6.629095077514648,\n",
      "      \"amnt_waste_kitchen\": 6.589752197265625,\n",
      "      \"amnt_waste_hall\": 0.6573934555053711\n",
      "    },\n",
      "    \"Exactum\": {\n",
      "      \"amnt_waste_customer\": 4.419921875,\n",
      "      \"amnt_waste_coffee\": 1.17578125,\n",
      "      \"amnt_waste_kitchen\": 6.19921875,\n",
      "      \"amnt_waste_hall\": -0.1064453125\n",
      "    }\n",
      "  }\n",
      "}\n"
     ]
    }
   ],
   "source": [
    "num_of_days = 3\n",
    "\n",
    "predictions = {}\n",
    "\n",
    "# Forecast the future\n",
    "for restaurant in RESTAURANTS:\n",
    "    pred = models['biowaste'][restaurant].predict(num_of_days)\n",
    "\n",
    "    df_pred = pred.pd_dataframe().reset_index()\n",
    "    df_pred['date'] = df_pred['date'].dt.strftime(r\"%Y-%m-%d\")\n",
    "\n",
    "    for row in df_pred.itertuples():\n",
    "        if row.date not in predictions:\n",
    "            predictions[row.date] = {'date': row.date}\n",
    "\n",
    "        predictions[row.date][restaurant] = {\n",
    "            'amnt_waste_customer': row.amnt_waste_customer,\n",
    "            'amnt_waste_coffee': row.amnt_waste_coffee,\n",
    "            'amnt_waste_kitchen': row.amnt_waste_kitchen,\n",
    "            'amnt_waste_hall': row.amnt_waste_hall,\n",
    "        }\n",
    "\n",
    "print(json.dumps(predictions, indent=2))"
   ]
  }
 ],
 "metadata": {
  "kernelspec": {
   "display_name": "foodwaste",
   "language": "python",
   "name": "python3"
  },
  "language_info": {
   "codemirror_mode": {
    "name": "ipython",
    "version": 3
   },
   "file_extension": ".py",
   "mimetype": "text/x-python",
   "name": "python",
   "nbconvert_exporter": "python",
   "pygments_lexer": "ipython3",
   "version": "3.9.19"
  }
 },
 "nbformat": 4,
 "nbformat_minor": 2
}
